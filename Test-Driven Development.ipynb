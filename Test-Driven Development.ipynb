{
 "cells": [
  {
   "cell_type": "markdown",
   "metadata": {
    "slideshow": {
     "slide_type": "slide"
    }
   },
   "source": [
    "# Test-Driven Development"
   ]
  },
  {
   "cell_type": "markdown",
   "metadata": {
    "slideshow": {
     "slide_type": "subslide"
    }
   },
   "source": [
    "# Unit Testing\n",
    "* the smallest testable parts of an application, called _units_, are individually and independently scrutinized to ensure they work\n",
    "* your functions/methods/procedures should do ONE thing (and do it well)–testing that thing should be relatively easy to explain\n",
    "* exercise the __!#@%@!$#__ out of the unit to be sure it works, especially with corner cases, not just the expected cases\n",
    "* sometimes called \"white box testing\""
   ]
  },
  {
   "cell_type": "markdown",
   "metadata": {
    "slideshow": {
     "slide_type": "subslide"
    }
   },
   "source": [
    "# Test-Driven Development\n",
    "* TDD is a way of developing software that looks like this..."
   ]
  },
  {
   "cell_type": "markdown",
   "metadata": {
    "slideshow": {
     "slide_type": "subslide"
    }
   },
   "source": [
    "![TDD](TDDflowchart.png)"
   ]
  },
  {
   "cell_type": "markdown",
   "metadata": {
    "slideshow": {
     "slide_type": "subslide"
    }
   },
   "source": [
    "# TDD is NOT REALLY ABOUT TESTING!\n",
    "* traditionally, unit testing is about writing tests to verify the code works…\n",
    "* …whereas main focus of TDD is not about testing\n",
    "* writing a test before the code is implemented changes the way we think when we implement functionality\n",
    " * resulting code is more testable\n",
    " * usually simple, elegant design\n",
    " * easier to read and maintain\n",
    " * why?\n",
    "* so really about writing better code, and we get an automated test suite as a nice side effect"
   ]
  },
  {
   "cell_type": "markdown",
   "metadata": {
    "slideshow": {
     "slide_type": "slide"
    }
   },
   "source": [
    "# Before we jump into TDD, let's see how to instrument our untested modules to include testing for free..."
   ]
  },
  {
   "cell_type": "code",
   "execution_count": 9,
   "metadata": {},
   "outputs": [
    {
     "name": "stdout",
     "output_type": "stream",
     "text": [
      "Running unit tests...\n",
      "All tests passed!\n"
     ]
    }
   ],
   "source": [
    "# %load module.py\n",
    "# Simple example of a Python module that exports functions\n",
    "# to be used by other modules.\n",
    "# \n",
    "# A possible use case is to package up a bunch of functions\n",
    "# which are often used by your scripts.\n",
    "#\n",
    "# Inside your scripts you presumably have written\n",
    "#\n",
    "# import module\n",
    "#\n",
    "# or\n",
    "#\n",
    "# from module import func\n",
    "\n",
    "def doubler(x):\n",
    "    return x * 2\n",
    "\n",
    "# What follows is a straightforward testing capability for this\n",
    "# function (or functions). We notice that __name__ is set to\n",
    "# __main__ when we *run* this script, but it's set to the name\n",
    "# of this module when we import this module.\n",
    "\n",
    "if __name__ == '__main__':\n",
    "    # We ran this script, rather than importing it\n",
    "    print('Running unit tests...')\n",
    "    assert doubler(2) == 4\n",
    "    assert doubler(2.5) == 5.0\n",
    "    assert doubler('two') == 'twotwo'\n",
    "    print('All tests passed!')\n"
   ]
  },
  {
   "cell_type": "markdown",
   "metadata": {
    "slideshow": {
     "slide_type": "subslide"
    }
   },
   "source": [
    "# Contrast the above behavior with importing the module..."
   ]
  },
  {
   "cell_type": "code",
   "execution_count": 1,
   "metadata": {},
   "outputs": [],
   "source": [
    "# importing does not cause the tests to be run\n",
    "import module"
   ]
  },
  {
   "cell_type": "code",
   "execution_count": 5,
   "metadata": {},
   "outputs": [
    {
     "data": {
      "text/plain": [
       "['In',\n",
       " 'Out',\n",
       " '_',\n",
       " '__',\n",
       " '___',\n",
       " '__builtin__',\n",
       " '__builtins__',\n",
       " '__doc__',\n",
       " '__loader__',\n",
       " '__name__',\n",
       " '__package__',\n",
       " '__spec__',\n",
       " '_dh',\n",
       " '_i',\n",
       " '_i1',\n",
       " '_i2',\n",
       " '_i3',\n",
       " '_i4',\n",
       " '_i5',\n",
       " '_ih',\n",
       " '_ii',\n",
       " '_iii',\n",
       " '_oh',\n",
       " 'exit',\n",
       " 'func',\n",
       " 'get_ipython',\n",
       " 'module',\n",
       " 'quit']"
      ]
     },
     "execution_count": 5,
     "metadata": {},
     "output_type": "execute_result"
    }
   ],
   "source": [
    "dir()"
   ]
  },
  {
   "cell_type": "code",
   "execution_count": 2,
   "metadata": {},
   "outputs": [
    {
     "data": {
      "text/plain": [
       "26"
      ]
     },
     "execution_count": 2,
     "metadata": {},
     "output_type": "execute_result"
    }
   ],
   "source": [
    "# ...but of course we can access function within the module\n",
    "module.doubler(13)"
   ]
  },
  {
   "cell_type": "code",
   "execution_count": 3,
   "metadata": {},
   "outputs": [
    {
     "name": "stdout",
     "output_type": "stream",
     "text": [
      "Running unit tests...\n",
      "All tests passed!\n"
     ]
    }
   ],
   "source": [
    "%run module.py"
   ]
  },
  {
   "cell_type": "markdown",
   "metadata": {
    "slideshow": {
     "slide_type": "slide"
    }
   },
   "source": [
    "# __`PyTest`__\n",
    "* simple testing framework for Python code\n",
    "* no boilerplate code needed\n",
    "* we use Python's __`assert`__ statement to indicate success (or lack thereof)\n",
    "* if we name our file __`test_*.py`__, __`pytest`__ will discover it automatically, and run any tests inside which begin with the name __`test_`__"
   ]
  },
  {
   "cell_type": "code",
   "execution_count": 4,
   "metadata": {},
   "outputs": [],
   "source": [
    "# %load test_silly.py\n",
    "def inc(x):\n",
    "    \"\"\"Return the argument plus one.\"\"\"\n",
    "    return x + 1\n",
    "\n",
    "def test_inc():\n",
    "    assert inc(3) == 4\n"
   ]
  },
  {
   "cell_type": "code",
   "execution_count": 6,
   "metadata": {},
   "outputs": [
    {
     "name": "stdout",
     "output_type": "stream",
     "text": [
      "\u001b[1m============================= test session starts ==============================\u001b[0m\n",
      "platform darwin -- Python 3.9.12, pytest-7.1.2, pluggy-1.0.0\n",
      "rootdir: /Users/dave-wadestein/Downloads/Starbucks-Python-TDD\n",
      "plugins: anyio-3.5.0, cov-3.0.0\n",
      "collected 1 item                                                               \u001b[0m\n",
      "\n",
      "test_silly.py \u001b[32m.\u001b[0m\u001b[32m                                                          [100%]\u001b[0m\n",
      "\n",
      "\u001b[32m============================== \u001b[32m\u001b[1m1 passed\u001b[0m\u001b[32m in 0.01s\u001b[0m\u001b[32m ===============================\u001b[0m\n"
     ]
    }
   ],
   "source": [
    "!pytest test_silly.py"
   ]
  },
  {
   "cell_type": "markdown",
   "metadata": {},
   "source": [
    "## A more likely scenario would be to have our code in a separate module, and we will import the module in the test file..."
   ]
  },
  {
   "cell_type": "code",
   "execution_count": 5,
   "metadata": {},
   "outputs": [],
   "source": [
    "# %load mean.py\n",
    "def mean(num_list):\n",
    "    if len(num_list) == 0:\n",
    "        raise Exception(\"The algebraic mean of an empty list is undefined.\\\n",
    "                         Please provide a list of numbers\")\n",
    "    else:\n",
    "        return sum(num_list)/len(num_list)\n",
    "\n"
   ]
  },
  {
   "cell_type": "code",
   "execution_count": 6,
   "metadata": {},
   "outputs": [],
   "source": [
    "# %load t_mean.py\n",
    "# test code for function mean\n",
    "\n",
    "from mean import mean\n",
    "\n",
    "def test_ints():\n",
    "    num_list = [1, 2, 3, 4, 5]\n",
    "    assert mean(num_list) == 3\n",
    "\n",
    "def test_zero():\n",
    "    num_list = [0, 2, 4, 6]\n",
    "    obs = mean(num_list)\n",
    "    exp = 3\n",
    "    assert obs == exp\n",
    "\n",
    "def test_double():\n",
    "    num_list = [1, 2, 3, 4]\n",
    "    obs = mean(num_list)\n",
    "    exp = 2.6\n",
    "    assert obs == exp\n",
    "\n",
    "def test_long():\n",
    "    big = 100_000_000\n",
    "    obs = mean(range(1, big))\n",
    "    exp = big/2.0\n",
    "    assert obs == exp\n",
    "\n",
    "def test_complex():\n",
    "    # given that complex numbers are an unordered field\n",
    "    # the arithmetic mean of complex numbers is meaningless\n",
    "    num_list = [2 + 3j,  3 + 4j,  -32 - 2j]\n",
    "    obs = mean(num_list)\n",
    "    exp = -9+1.6666666666666667j\n",
    "    assert obs == exp\n",
    "\n"
   ]
  }
 ],
 "metadata": {
  "celltoolbar": "Slideshow",
  "kernelspec": {
   "display_name": "Python 3 (ipykernel)",
   "language": "python",
   "name": "python3"
  },
  "language_info": {
   "codemirror_mode": {
    "name": "ipython",
    "version": 3
   },
   "file_extension": ".py",
   "mimetype": "text/x-python",
   "name": "python",
   "nbconvert_exporter": "python",
   "pygments_lexer": "ipython3",
   "version": "3.9.12"
  }
 },
 "nbformat": 4,
 "nbformat_minor": 4
}
