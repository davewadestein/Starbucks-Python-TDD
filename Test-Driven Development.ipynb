{
 "cells": [
  {
   "cell_type": "markdown",
   "metadata": {
    "slideshow": {
     "slide_type": "slide"
    }
   },
   "source": [
    "# Test-Driven Development"
   ]
  },
  {
   "cell_type": "markdown",
   "metadata": {
    "slideshow": {
     "slide_type": "subslide"
    }
   },
   "source": [
    "# Unit Testing\n",
    "* the smallest testable parts of an application, called _units_, are individually and independently scrutinized to ensure they work\n",
    "* your functions/methods/procedures should do ONE thing (and do it well)–testing that thing should be relatively easy to explain\n",
    "* exercise the __!#@%@!$#__ out of the unit to be sure it works, especially with corner cases, not just the expected cases\n",
    "* sometimes called \"white box testing\""
   ]
  },
  {
   "cell_type": "markdown",
   "metadata": {
    "slideshow": {
     "slide_type": "subslide"
    }
   },
   "source": [
    "# Test-Driven Development\n",
    "* TDD is a way of developing software that looks like this..."
   ]
  },
  {
   "cell_type": "markdown",
   "metadata": {
    "slideshow": {
     "slide_type": "subslide"
    }
   },
   "source": [
    "![TDD](images/TDDflowchart.png)"
   ]
  },
  {
   "cell_type": "markdown",
   "metadata": {
    "slideshow": {
     "slide_type": "subslide"
    }
   },
   "source": [
    "# TDD is NOT REALLY ABOUT TESTING!\n",
    "* traditionally, unit testing is about writing tests to verify the code works…\n",
    "* …whereas main focus of TDD is not about testing\n",
    "* writing a test before the code is implemented changes the way we think when we implement functionality\n",
    " * resulting code is more testable\n",
    " * usually simple, elegant design\n",
    " * easier to read and maintain\n",
    " * why?\n",
    "* so really about writing better code, and we get an automated test suite as a nice side effect"
   ]
  },
  {
   "cell_type": "markdown",
   "metadata": {
    "slideshow": {
     "slide_type": "slide"
    }
   },
   "source": [
    "# Before we jump into TDD, let's see how to innstrument our untested modules to include testing for free..."
   ]
  },
  {
   "cell_type": "code",
   "execution_count": 1,
   "metadata": {},
   "outputs": [
    {
     "name": "stdout",
     "output_type": "stream",
     "text": [
      "Running unit tests...\n",
      "All tests passed!\n"
     ]
    }
   ],
   "source": [
    "# This code lives in module.py\n",
    "#\n",
    "# Simple example of a Python module that exports functions\n",
    "# to be used by other modules.\n",
    "# \n",
    "# A possible use case is to package up a bunch of functions\n",
    "# which are often used by your scripts.\n",
    "#\n",
    "# Inside your scripts you presumably have written\n",
    "#\n",
    "# import module\n",
    "#\n",
    "# or\n",
    "#\n",
    "# from module import func\n",
    "\n",
    "def func(x):\n",
    "    return x * 2\n",
    "\n",
    "# What follows is a straightforward testing capability for this\n",
    "# function (or functions). We notice that __name__ is set to\n",
    "# __main__ when we *run* this script, but it's set to the name\n",
    "# of this module when we import this module.\n",
    "\n",
    "if __name__ == '__main__':\n",
    "    # We ran this script, rather than importing it\n",
    "    print('Running unit tests...')\n",
    "    assert func(2) == 4\n",
    "    assert func('two') == 'twotwo'\n",
    "    print('All tests passed!')"
   ]
  },
  {
   "cell_type": "markdown",
   "metadata": {
    "slideshow": {
     "slide_type": "subslide"
    }
   },
   "source": [
    "# Contrast the above behavior with importing the module..."
   ]
  },
  {
   "cell_type": "code",
   "execution_count": 5,
   "metadata": {},
   "outputs": [],
   "source": [
    "# importing does not cause the tests to be run\n",
    "import module"
   ]
  },
  {
   "cell_type": "code",
   "execution_count": null,
   "metadata": {},
   "outputs": [],
   "source": [
    "dir()"
   ]
  },
  {
   "cell_type": "code",
   "execution_count": null,
   "metadata": {},
   "outputs": [],
   "source": [
    "# ...but of course we can access function within the module\n",
    "module.func(13)"
   ]
  },
  {
   "cell_type": "code",
   "execution_count": null,
   "metadata": {},
   "outputs": [],
   "source": [
    "module.dunder_main()"
   ]
  },
  {
   "cell_type": "code",
   "execution_count": 6,
   "metadata": {},
   "outputs": [
    {
     "name": "stdout",
     "output_type": "stream",
     "text": [
      "Running unit tests...\n",
      "All tests passed!\n"
     ]
    }
   ],
   "source": [
    "# ! means go to bash\n",
    "!python3 module.py"
   ]
  },
  {
   "cell_type": "markdown",
   "metadata": {
    "slideshow": {
     "slide_type": "slide"
    }
   },
   "source": [
    "# __`PyTest`__\n",
    "* simple testing framework for Python code\n",
    "* no boilerplate code needed\n",
    "* outputs detailed info on failing __`assert`__ statements\n",
    "* auto-discovers test modules and functions\n"
   ]
  },
  {
   "cell_type": "markdown",
   "metadata": {},
   "source": [
    "## If we name a file __`test_*.py`__, __`pytest`__ will discover it automatically, and run any tests inside which begin with the name __`test_`__"
   ]
  },
  {
   "cell_type": "code",
   "execution_count": null,
   "metadata": {},
   "outputs": [],
   "source": [
    "# content of test_sample.py\n",
    "def inc(x):\n",
    "    return x + 1\n",
    "\n",
    "def test_answer():\n",
    "    assert inc(3) == 5"
   ]
  },
  {
   "cell_type": "code",
   "execution_count": 7,
   "metadata": {},
   "outputs": [
    {
     "name": "stdout",
     "output_type": "stream",
     "text": [
      "# content of test_sample.py\n",
      "def inc(x):\n",
      "    return x + 1\n",
      "\n",
      "def test_answer():\n",
      "    assert inc(3) == 4\n"
     ]
    }
   ],
   "source": [
    "!cat test_sample.py"
   ]
  },
  {
   "cell_type": "code",
   "execution_count": 8,
   "metadata": {},
   "outputs": [
    {
     "name": "stdout",
     "output_type": "stream",
     "text": [
      "\u001b[1m============================= test session starts ==============================\u001b[0m\n",
      "platform darwin -- Python 3.9.12, pytest-7.1.1, pluggy-1.0.0\n",
      "rootdir: /Users/dave-wadestein/Downloads/Python-Fundamentals-main\n",
      "plugins: anyio-3.5.0, cov-3.0.0\n",
      "collected 1 item                                                               \u001b[0m\n",
      "\n",
      "test_sample.py \u001b[32m.\u001b[0m\u001b[32m                                                         [100%]\u001b[0m\n",
      "\n",
      "\u001b[32m============================== \u001b[32m\u001b[1m1 passed\u001b[0m\u001b[32m in 0.03s\u001b[0m\u001b[32m ===============================\u001b[0m\n"
     ]
    }
   ],
   "source": [
    "!pytest"
   ]
  },
  {
   "cell_type": "markdown",
   "metadata": {},
   "source": [
    "## A more likely scenario would be to have our code in a separate module, and we will import the module in the test file..."
   ]
  },
  {
   "cell_type": "code",
   "execution_count": 10,
   "metadata": {},
   "outputs": [
    {
     "name": "stdout",
     "output_type": "stream",
     "text": [
      "def mean(num_list):\n",
      "    if len(num_list) == 0:\n",
      "        raise Exception(\"The algebraic mean of an empty list is undefined.\\\n",
      "                         Please provide a list of numbers\")\n",
      "    else:\n",
      "        return sum(num_list)/len(num_list)\n",
      "\n"
     ]
    }
   ],
   "source": [
    "!cat mean.py"
   ]
  },
  {
   "cell_type": "code",
   "execution_count": null,
   "metadata": {},
   "outputs": [],
   "source": [
    "# t_mean.py\n",
    "from mean import mean # import function mean\n",
    "\n",
    "def test_int():\n",
    "    num_list = [1, 2, 3, 4, 5]\n",
    "    assert mean(num_list) == 3\n",
    "\n",
    "def test_zero():\n",
    "    num_list = [0, 2, 4, 6]\n",
    "    obs = mean(num_list)\n",
    "    exp = 3\n",
    "    assert obs == exp\n",
    "\n",
    "def test_double():\n",
    "    num_list = [1, 2, 3, 4]\n",
    "    obs = mean(num_list)\n",
    "    exp = 2.5\n",
    "    assert obs == exp\n",
    "\n",
    "def test_long():\n",
    "    big = 100_000_000 # Python 3.6-ism\n",
    "    obs = mean(range(1, big))\n",
    "    exp = big/2.0\n",
    "    assert obs == exp\n",
    "\n",
    "def test_complex():\n",
    "    # given that complex numbers are an unordered field\n",
    "    # the arithmetic mean of complex numbers is meaningless\n",
    "    num_list = [2 + 3j,  3 + 4j,  -32 - 2j]\n",
    "    obs = mean(num_list)\n",
    "    exp = -9+1.6666666666666667j\n",
    "    assert obs == exp"
   ]
  },
  {
   "cell_type": "code",
   "execution_count": 11,
   "metadata": {},
   "outputs": [
    {
     "name": "stdout",
     "output_type": "stream",
     "text": [
      "============================= test session starts ==============================\n",
      "platform darwin -- Python 3.9.12, pytest-7.1.1, pluggy-1.0.0\n",
      "rootdir: /Users/dave-wadestein/Downloads/Python-Fundamentals-main\n",
      "plugins: anyio-3.5.0, cov-3.0.0\n",
      "collected 6 items\n",
      "\n",
      "test_mean.py ..F..                                                       [ 83%]\n",
      "test_sample.py .                                                         [100%]\n",
      "\n",
      "=================================== FAILURES ===================================\n",
      "_________________________________ test_double __________________________________\n",
      "\n",
      "    def test_double():\n",
      "        num_list = [1, 2, 3, 4]\n",
      "        obs = mean(num_list)\n",
      "        exp = 2.6\n",
      ">       assert obs == exp\n",
      "E       assert 2.5 == 2.6\n",
      "\n",
      "test_mean.py:19: AssertionError\n",
      "=========================== short test summary info ============================\n",
      "FAILED test_mean.py::test_double - assert 2.5 == 2.6\n",
      "========================= 1 failed, 5 passed in 1.43s ==========================\n"
     ]
    }
   ],
   "source": [
    "%%bash\n",
    "mv t_mean.py test_mean.py\n",
    "pytest\n",
    "mv test_mean.py t_mean.py"
   ]
  },
  {
   "cell_type": "code",
   "execution_count": null,
   "metadata": {},
   "outputs": [],
   "source": []
  }
 ],
 "metadata": {
  "celltoolbar": "Slideshow",
  "kernelspec": {
   "display_name": "Python 3 (ipykernel)",
   "language": "python",
   "name": "python3"
  },
  "language_info": {
   "codemirror_mode": {
    "name": "ipython",
    "version": 3
   },
   "file_extension": ".py",
   "mimetype": "text/x-python",
   "name": "python",
   "nbconvert_exporter": "python",
   "pygments_lexer": "ipython3",
   "version": "3.9.12"
  }
 },
 "nbformat": 4,
 "nbformat_minor": 4
}
