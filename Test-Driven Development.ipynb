{
 "cells": [
  {
   "cell_type": "markdown",
   "metadata": {
    "slideshow": {
     "slide_type": "slide"
    }
   },
   "source": [
    "# Test-Driven Development"
   ]
  },
  {
   "cell_type": "markdown",
   "metadata": {
    "slideshow": {
     "slide_type": "subslide"
    }
   },
   "source": [
    "# Unit Testing\n",
    "* the smallest testable parts of an application, called _units_, are individually and independently scrutinized to ensure they work\n",
    "* your functions/methods/procedures should do ONE thing (and do it well)–testing that thing should be relatively easy to explain\n",
    "* exercise the __!#@%@!$#__ out of the unit to be sure it works, especially with corner cases, not just the expected cases\n",
    "* sometimes called \"white box testing\""
   ]
  },
  {
   "cell_type": "markdown",
   "metadata": {
    "slideshow": {
     "slide_type": "subslide"
    }
   },
   "source": [
    "# Test-Driven Development\n",
    "* TDD is a way of developing software that looks like this..."
   ]
  },
  {
   "cell_type": "markdown",
   "metadata": {
    "slideshow": {
     "slide_type": "subslide"
    }
   },
   "source": [
    "![TDD](TDDflowchart.png)"
   ]
  },
  {
   "cell_type": "markdown",
   "metadata": {
    "slideshow": {
     "slide_type": "subslide"
    }
   },
   "source": [
    "# TDD is NOT REALLY ABOUT TESTING!\n",
    "* traditionally, unit testing is about writing tests to verify the code works…\n",
    "* …whereas main focus of TDD is not about testing\n",
    "* writing a test before the code is implemented changes the way we think when we implement functionality\n",
    " * resulting code is more testable\n",
    " * usually simple, elegant design\n",
    " * easier to read and maintain\n",
    " * why?\n",
    "* so really about writing better code, and we get an automated test suite as a nice side effect"
   ]
  },
  {
   "cell_type": "markdown",
   "metadata": {
    "slideshow": {
     "slide_type": "slide"
    }
   },
   "source": [
    "### Before we jump into TDD, let's see how to instrument our untested modules to include testing for free..."
   ]
  },
  {
   "cell_type": "code",
   "execution_count": null,
   "metadata": {},
   "outputs": [],
   "source": [
    "# %load module.py\n",
    "# Simple example of a Python module that exports functions\n",
    "# to be used by other modules.\n",
    "# \n",
    "# A possible use case is to package up a bunch of functions\n",
    "# which are often used by your scripts.\n",
    "#\n",
    "# Inside your scripts you presumably have written\n",
    "#\n",
    "# import module\n",
    "#\n",
    "# or\n",
    "#\n",
    "# from module import func\n",
    "\n",
    "def doubler(x):\n",
    "    return x * 2\n",
    "\n",
    "# What follows is a straightforward testing capability for this\n",
    "# function (or functions). We notice that __name__ is set to\n",
    "# __main__ when we *run* this script, but it's set to the name\n",
    "# of this module when we import this module.\n",
    "\n",
    "if __name__ == '__main__':\n",
    "    # We ran this script, rather than importing it\n",
    "    print('Running unit tests...')\n",
    "    assert doubler(2) == 4\n",
    "    assert doubler(2.5) == 5.0\n",
    "    assert doubler('two') == 'twotwo'\n",
    "    print('All tests passed!')\n"
   ]
  },
  {
   "cell_type": "markdown",
   "metadata": {
    "slideshow": {
     "slide_type": "subslide"
    }
   },
   "source": [
    "### Contrast the above behavior with importing the module..."
   ]
  },
  {
   "cell_type": "code",
   "execution_count": null,
   "metadata": {},
   "outputs": [],
   "source": [
    "# importing does not cause the tests to be run\n",
    "import module"
   ]
  },
  {
   "cell_type": "code",
   "execution_count": null,
   "metadata": {},
   "outputs": [],
   "source": [
    "dir()"
   ]
  },
  {
   "cell_type": "code",
   "execution_count": null,
   "metadata": {},
   "outputs": [],
   "source": [
    "# ...but of course we can access function within the module\n",
    "module.doubler(13)"
   ]
  },
  {
   "cell_type": "code",
   "execution_count": null,
   "metadata": {},
   "outputs": [],
   "source": [
    "%run module.py"
   ]
  },
  {
   "cell_type": "markdown",
   "metadata": {
    "slideshow": {
     "slide_type": "slide"
    }
   },
   "source": [
    "# __`PyTest`__\n",
    "* simple testing framework for Python code\n",
    "* no boilerplate code needed\n",
    "* we use Python's __`assert`__ statement to indicate success (or lack thereof)\n",
    "* if we name our file __`test_*.py`__, __`pytest`__ will discover it automatically, and run any tests inside which begin with the name __`test_`__"
   ]
  },
  {
   "cell_type": "code",
   "execution_count": null,
   "metadata": {},
   "outputs": [],
   "source": [
    "%load test_silly.py"
   ]
  },
  {
   "cell_type": "code",
   "execution_count": null,
   "metadata": {},
   "outputs": [],
   "source": [
    "!pytest test_silly.py"
   ]
  },
  {
   "cell_type": "markdown",
   "metadata": {},
   "source": [
    "### A more likely scenario would be to have our code in a separate module, and we will import the module in the test file..."
   ]
  },
  {
   "cell_type": "code",
   "execution_count": 1,
   "metadata": {},
   "outputs": [],
   "source": [
    "# %load roman.py\n",
    "converter = {\n",
    "    'M': 1000,\n",
    "    'D': 500,\n",
    "    'C': 100,\n",
    "    'L': 50,\n",
    "    'X': 10, \n",
    "    'V': 5,\n",
    "    'I': 1,\n",
    "}\n",
    "\n",
    "def roman_to_arabic(numeral):\n",
    "    total = 0\n",
    "    for digit in numeral:\n",
    "        if digit not in converter:\n",
    "            raise ValueError('Bad Roman digit!')\n",
    "        total += converter[digit]\n",
    "\n",
    "    return total"
   ]
  },
  {
   "cell_type": "code",
   "execution_count": null,
   "metadata": {},
   "outputs": [],
   "source": [
    "# %load test_roman.py\n",
    "import pytest\n",
    "from roman import roman_to_arabic\n",
    "\n",
    "def test_empty():\n",
    "    assert roman_to_arabic('') == 0\n",
    "\n",
    "\n",
    "def test_one_digit():\n",
    "    assert roman_to_arabic('X') == 10\n",
    "\n",
    "\n",
    "def test_descend():\n",
    "    assert roman_to_arabic('MCLX') == 1160\n",
    "\n",
    "\n",
    "def test_ascend():\n",
    "    assert roman_to_arabic('MCMXCIX') == 1999\n",
    "\n",
    "\n",
    "def test_lower_case():\n",
    "    assert roman_to_arabic('x') == 10\n",
    "\n",
    "\n",
    "def test_bad_digit():\n",
    "    with pytest.raises(ValueError):\n",
    "        assert roman_to_arabic('A')\n",
    "\n"
   ]
  },
  {
   "cell_type": "code",
   "execution_count": null,
   "metadata": {},
   "outputs": [],
   "source": [
    "!pytest test_roman.py"
   ]
  },
  {
   "cell_type": "code",
   "execution_count": null,
   "metadata": {},
   "outputs": [],
   "source": []
  }
 ],
 "metadata": {
  "celltoolbar": "Slideshow",
  "kernelspec": {
   "display_name": "Python 3 (ipykernel)",
   "language": "python",
   "name": "python3"
  },
  "language_info": {
   "codemirror_mode": {
    "name": "ipython",
    "version": 3
   },
   "file_extension": ".py",
   "mimetype": "text/x-python",
   "name": "python",
   "nbconvert_exporter": "python",
   "pygments_lexer": "ipython3",
   "version": "3.9.12"
  }
 },
 "nbformat": 4,
 "nbformat_minor": 4
}
