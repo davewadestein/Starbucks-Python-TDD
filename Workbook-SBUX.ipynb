{
 "cells": [
  {
   "cell_type": "markdown",
   "id": "1a5a3933-78af-4d53-8702-53d36e4a56f5",
   "metadata": {},
   "source": [
    "# Programming Principles\n",
    "* Readability counts!\n",
    "* \"Programs are written for other people to read, and only incidentally for computers to execute\" –Hal Abelson\n",
    "* \"Testing does not prove the absence of bugs, only their existence\" –Edsger Dijkstra\n",
    "* Eagleson's Law: Any code written more than 6 months ago might as well have been written by someone else\n",
    "* Prefer clear code to comments –DWS\n",
    "* I don't recommend doing these things:\n",
    "  * changing the type of a variable mid-program\n",
    "* The three banes of existence for programmers are:\n",
    "  * uninitialized variables\n",
    "  * off by one errors\n",
    "* DRY = Don't Repeat Yourself\n",
    "* You read code 10x more than you write it!\n",
    "* beginner important stuff:\n",
    "  * write down all steps\n",
    "  * convert each step to Python\n",
    "  * you \"can't go wrong\"\n",
    "  * break down problems into subproblems\n",
    "* \"Premature optimization is the root of all evil (or at least most it)\" –Donald Knuth\n",
    "* Efficiency does't matter until it matters, and it rarely matters. –DWS\n",
    "  * programmers are notoriously bad about determining what is slowing down their program\n",
    "* \"Mechanical Sympathy\"\n",
    "  * knowing how things work under the hood means you can use them better\n",
    "* Software would be easy if it weren't for the user!"
   ]
  },
  {
   "cell_type": "markdown",
   "id": "996a41b4-2a00-4963-940d-4acefeea5d86",
   "metadata": {},
   "source": [
    "# Qualities of a good programmer\n",
    "* not math!\n",
    "* critical thinking\n",
    "* attention to detail\n",
    "* tenacity\n",
    "* opinionated\n",
    "  * be open to changing your mind"
   ]
  },
  {
   "cell_type": "markdown",
   "id": "b9cdb1b4-f5a5-4c0a-8851-f808e18d2525",
   "metadata": {},
   "source": [
    "# Important things about Python\n",
    "* raison d'être of Python was text/file manipulation, reaction to Perl\n",
    "* everything is an object\n",
    "  * everything is in memory and we can inspect it\n",
    "  * objects have attributes (data inside them) and can have methods (functions)\n",
    "* basic types vs. containers\n",
    "  * basic types (scalars): int, float, str, bool\n",
    "  * containers: str, list, tuple, dict, set\n",
    "* mutable vs. immutable types\n",
    "  * mutable: list, dict, set\n",
    "  * immutable: str, tuple\n",
    "* Python practices \"truthiness\"\n",
    "  * 0 and 0.0 are considered False; non-zero are considered True\n",
    "  * empty containers are considered False; non-empty containers are considered True\n",
    "  * None is considered False\n",
    "* built-in functions don't change the objects that are passed to them\n",
    "  * if you want to change an object, you must invoke a method on it\n",
    "    * not all methods change the objects they are invoked on\n",
    "* Python is \"duck typed\"\n",
    "  * if it walks like a duck and it quacks like a duck, I'm going to call it a duck\n",
    "  * any type will suffice as long as it has some property/feature I'm interested in"
   ]
  },
  {
   "cell_type": "markdown",
   "id": "4470c6d6-98d3-4b74-b7a5-02baf96f9143",
   "metadata": {},
   "source": [
    "## \"Pythonic\"\n",
    "* use negative indexing to get at the end of a container\n",
    "  * last 3 items in a container: container[-3:]\n",
    "  * first 3 items in a container: container[:3]\n",
    "* chaining function calls w/in reason\n",
    "* truthiness in Boolean expressions\n",
    "* don't use indexing in for loops (unless you need it)\n",
    "* when making a list of string, prefer to .split() it\n",
    "* use the __`for _ in range(n)`__ construct when you want to just do something n times"
   ]
  },
  {
   "cell_type": "markdown",
   "id": "c996cd10-8ba9-4021-b549-83c47b74e942",
   "metadata": {},
   "source": [
    "# Importants things about teaching/learning\n",
    "* know when to zoom in / zoom out\n",
    "  * i.e., when to go down a rabbit hole (or not)"
   ]
  },
  {
   "cell_type": "markdown",
   "id": "496e75d2-6b8e-4a09-8d46-ac15c44baac1",
   "metadata": {},
   "source": [
    "# Parking Lot\n",
    "* case statements"
   ]
  },
  {
   "cell_type": "code",
   "execution_count": 3,
   "id": "a156280c-e7dc-4574-aa75-638705ee5ebf",
   "metadata": {},
   "outputs": [],
   "source": [
    "num = 5"
   ]
  },
  {
   "cell_type": "code",
   "execution_count": 4,
   "id": "154d9be6-0d29-4748-9d88-fdafc733db13",
   "metadata": {},
   "outputs": [
    {
     "data": {
      "text/plain": [
       "int"
      ]
     },
     "execution_count": 4,
     "metadata": {},
     "output_type": "execute_result"
    }
   ],
   "source": [
    "type(num)"
   ]
  },
  {
   "cell_type": "code",
   "execution_count": 5,
   "id": "bb9ea24b-b2e0-401f-a5b4-6bc33a6103ea",
   "metadata": {},
   "outputs": [],
   "source": [
    "num = 5.5"
   ]
  },
  {
   "cell_type": "code",
   "execution_count": 6,
   "id": "930335e0-ac2b-433a-a6a7-ab8e8f7b3a48",
   "metadata": {},
   "outputs": [
    {
     "data": {
      "text/plain": [
       "float"
      ]
     },
     "execution_count": 6,
     "metadata": {},
     "output_type": "execute_result"
    }
   ],
   "source": [
    "type(num)"
   ]
  },
  {
   "cell_type": "code",
   "execution_count": 7,
   "id": "d4c63916-b6e8-4a03-b74d-567e8d633b1b",
   "metadata": {},
   "outputs": [],
   "source": [
    "num = 'hello'"
   ]
  },
  {
   "cell_type": "code",
   "execution_count": 9,
   "id": "03786940-b106-4ce7-b67e-38126f2b2888",
   "metadata": {},
   "outputs": [
    {
     "data": {
      "text/plain": [
       "140400609759920"
      ]
     },
     "execution_count": 9,
     "metadata": {},
     "output_type": "execute_result"
    }
   ],
   "source": [
    "id(num)"
   ]
  },
  {
   "cell_type": "code",
   "execution_count": 10,
   "id": "cc157da6-719b-4d23-bec8-951946bbd8b8",
   "metadata": {},
   "outputs": [],
   "source": [
    "name = 'Dave'"
   ]
  },
  {
   "cell_type": "code",
   "execution_count": 11,
   "id": "12256785-e1c3-46bb-b09a-96d00af73e83",
   "metadata": {},
   "outputs": [
    {
     "data": {
      "text/plain": [
       "140400874978736"
      ]
     },
     "execution_count": 11,
     "metadata": {},
     "output_type": "execute_result"
    }
   ],
   "source": [
    "id(name)"
   ]
  },
  {
   "cell_type": "code",
   "execution_count": 12,
   "id": "91a01f3c-73af-4880-9c01-3fd70b750e29",
   "metadata": {},
   "outputs": [],
   "source": [
    "import math"
   ]
  },
  {
   "cell_type": "code",
   "execution_count": 13,
   "id": "0d02078a-4365-4401-8000-759387bd6e89",
   "metadata": {},
   "outputs": [
    {
     "data": {
      "text/plain": [
       "1.0"
      ]
     },
     "execution_count": 13,
     "metadata": {},
     "output_type": "execute_result"
    }
   ],
   "source": [
    "math.sin(math.pi / 2.0)"
   ]
  },
  {
   "cell_type": "code",
   "execution_count": 14,
   "id": "1085aae7-9cef-41d0-9614-e17cecdddea4",
   "metadata": {},
   "outputs": [
    {
     "data": {
      "text/plain": [
       "140401142398464"
      ]
     },
     "execution_count": 14,
     "metadata": {},
     "output_type": "execute_result"
    }
   ],
   "source": [
    "id(math)"
   ]
  },
  {
   "cell_type": "code",
   "execution_count": 15,
   "id": "d110f278-fa8c-407c-b7e4-c596a2ba134d",
   "metadata": {},
   "outputs": [
    {
     "name": "stdout",
     "output_type": "stream",
     "text": [
      "The Zen of Python, by Tim Peters\n",
      "\n",
      "Beautiful is better than ugly.\n",
      "Explicit is better than implicit.\n",
      "Simple is better than complex.\n",
      "Complex is better than complicated.\n",
      "Flat is better than nested.\n",
      "Sparse is better than dense.\n",
      "Readability counts.\n",
      "Special cases aren't special enough to break the rules.\n",
      "Although practicality beats purity.\n",
      "Errors should never pass silently.\n",
      "Unless explicitly silenced.\n",
      "In the face of ambiguity, refuse the temptation to guess.\n",
      "There should be one-- and preferably only one --obvious way to do it.\n",
      "Although that way may not be obvious at first unless you're Dutch.\n",
      "Now is better than never.\n",
      "Although never is often better than *right* now.\n",
      "If the implementation is hard to explain, it's a bad idea.\n",
      "If the implementation is easy to explain, it may be a good idea.\n",
      "Namespaces are one honking great idea -- let's do more of those!\n"
     ]
    }
   ],
   "source": [
    "import this"
   ]
  },
  {
   "cell_type": "code",
   "execution_count": 16,
   "id": "5d137f7b-ae95-407e-9251-b4f860d35809",
   "metadata": {},
   "outputs": [
    {
     "data": {
      "text/plain": [
       "140401141877952"
      ]
     },
     "execution_count": 16,
     "metadata": {},
     "output_type": "execute_result"
    }
   ],
   "source": [
    "id(this)"
   ]
  },
  {
   "cell_type": "code",
   "execution_count": 18,
   "id": "e80c9a3d-be7b-47fc-8f66-9c60f678acd4",
   "metadata": {},
   "outputs": [
    {
     "data": {
      "text/plain": [
       "'/Users/dave-wadestein/opt/anaconda3/lib/python3.9/this.py'"
      ]
     },
     "execution_count": 18,
     "metadata": {},
     "output_type": "execute_result"
    }
   ],
   "source": [
    "this.__file__"
   ]
  },
  {
   "cell_type": "code",
   "execution_count": 19,
   "id": "84345896-5985-4d65-9ece-6323d51e1035",
   "metadata": {},
   "outputs": [],
   "source": [
    "x: int = 1"
   ]
  },
  {
   "cell_type": "code",
   "execution_count": 23,
   "id": "dc6be1f9-c299-4172-bef6-517914011158",
   "metadata": {},
   "outputs": [],
   "source": [
    "%%python\n",
    "x: int = 1"
   ]
  },
  {
   "cell_type": "code",
   "execution_count": 24,
   "id": "df715759-1957-4021-a7fa-5fd8810934c3",
   "metadata": {},
   "outputs": [
    {
     "data": {
      "text/plain": [
       "1"
      ]
     },
     "execution_count": 24,
     "metadata": {},
     "output_type": "execute_result"
    }
   ],
   "source": [
    "x"
   ]
  },
  {
   "cell_type": "code",
   "execution_count": 25,
   "id": "48bfe01c-3597-4f3b-bde6-3509bc1cd5f5",
   "metadata": {},
   "outputs": [],
   "source": [
    "x = 1.5"
   ]
  },
  {
   "cell_type": "code",
   "execution_count": 27,
   "id": "072f57f6-7fa0-4413-aa39-5091dc76e3bb",
   "metadata": {},
   "outputs": [
    {
     "data": {
      "text/plain": [
       "['False',\n",
       " 'None',\n",
       " 'True',\n",
       " '__peg_parser__',\n",
       " 'and',\n",
       " 'as',\n",
       " 'assert',\n",
       " 'async',\n",
       " 'await',\n",
       " 'break',\n",
       " 'class',\n",
       " 'continue',\n",
       " 'def',\n",
       " 'del',\n",
       " 'elif',\n",
       " 'else',\n",
       " 'except',\n",
       " 'finally',\n",
       " 'for',\n",
       " 'from',\n",
       " 'global',\n",
       " 'if',\n",
       " 'import',\n",
       " 'in',\n",
       " 'is',\n",
       " 'lambda',\n",
       " 'nonlocal',\n",
       " 'not',\n",
       " 'or',\n",
       " 'pass',\n",
       " 'raise',\n",
       " 'return',\n",
       " 'try',\n",
       " 'while',\n",
       " 'with',\n",
       " 'yield']"
      ]
     },
     "execution_count": 27,
     "metadata": {},
     "output_type": "execute_result"
    }
   ],
   "source": [
    "import keyword\n",
    "keyword.kwlist"
   ]
  },
  {
   "cell_type": "code",
   "execution_count": 28,
   "id": "f1fe3d24-0e71-423b-8f78-4a8afaf2f8a4",
   "metadata": {},
   "outputs": [
    {
     "data": {
      "text/plain": [
       "'Dave'"
      ]
     },
     "execution_count": 28,
     "metadata": {},
     "output_type": "execute_result"
    }
   ],
   "source": [
    "name # evaluating an expression"
   ]
  },
  {
   "cell_type": "code",
   "execution_count": 30,
   "id": "b08cf4ff-7835-499b-bc44-bedd1b37732c",
   "metadata": {},
   "outputs": [
    {
     "name": "stdout",
     "output_type": "stream",
     "text": [
      "Dave\n"
     ]
    }
   ],
   "source": [
    "print(name) # printing something"
   ]
  },
  {
   "cell_type": "code",
   "execution_count": 31,
   "id": "8e7b7651-a483-4ae7-a4bf-535c4d4853bd",
   "metadata": {},
   "outputs": [
    {
     "data": {
      "text/plain": [
       "'Dave'"
      ]
     },
     "execution_count": 31,
     "metadata": {},
     "output_type": "execute_result"
    }
   ],
   "source": [
    "name"
   ]
  },
  {
   "cell_type": "code",
   "execution_count": 34,
   "id": "6d53e219-d5dc-4ada-9e1d-7a428381e06c",
   "metadata": {},
   "outputs": [
    {
     "name": "stdout",
     "output_type": "stream",
     "text": [
      "Dave\n",
      "hi\n"
     ]
    }
   ],
   "source": [
    "# when we are in a cell...\n",
    "# Python treats all lines in the cell as a \"program\"\n",
    "# except for the last line which is evalauated in \"interactive mode\"\n",
    "print(name)\n",
    "print('hi')"
   ]
  },
  {
   "cell_type": "code",
   "execution_count": 35,
   "id": "3fa96389-ed6e-443d-827f-e7ba33a6d445",
   "metadata": {},
   "outputs": [
    {
     "name": "stdout",
     "output_type": "stream",
     "text": [
      "2\n"
     ]
    }
   ],
   "source": [
    "x = 2 # in program mode, we will create a var called x and give it a value of 2\n",
    "2 * x + 5 # computer 4 + 5 = 9, but we're in program mode, so nothing is shown\n",
    "print(x)"
   ]
  },
  {
   "cell_type": "code",
   "execution_count": 36,
   "id": "643819d1-b638-423a-815f-cfa8748f1429",
   "metadata": {},
   "outputs": [
    {
     "name": "stdout",
     "output_type": "stream",
     "text": [
      "9\n",
      "2\n"
     ]
    }
   ],
   "source": [
    "x = 2 # in program mode, we will create a var called x and give it a value of 2\n",
    "print(2 * x + 5)\n",
    "print(x)"
   ]
  },
  {
   "cell_type": "code",
   "execution_count": 37,
   "id": "649e4c17-e188-49b1-93fb-822cd4a411f1",
   "metadata": {},
   "outputs": [
    {
     "data": {
      "text/plain": [
       "'Dave'"
      ]
     },
     "execution_count": 37,
     "metadata": {},
     "output_type": "execute_result"
    }
   ],
   "source": [
    "name"
   ]
  },
  {
   "cell_type": "code",
   "execution_count": 38,
   "id": "2670ca1b-c2bb-46af-a898-2ade29f3fd68",
   "metadata": {},
   "outputs": [
    {
     "name": "stdout",
     "output_type": "stream",
     "text": [
      "Dave\n"
     ]
    }
   ],
   "source": [
    "print(name)"
   ]
  },
  {
   "cell_type": "code",
   "execution_count": 41,
   "id": "12442e01-bdbd-4cd3-bbda-a80ae3e2f554",
   "metadata": {},
   "outputs": [
    {
     "data": {
      "text/plain": [
       "str"
      ]
     },
     "execution_count": 41,
     "metadata": {},
     "output_type": "execute_result"
    }
   ],
   "source": [
    "type(name) # Jupyter is doing us a favor and saving us from something that's potentially confusing"
   ]
  },
  {
   "cell_type": "code",
   "execution_count": 40,
   "id": "6ee6699e-fd67-4903-8ebf-fe257dffb8b7",
   "metadata": {},
   "outputs": [
    {
     "name": "stdout",
     "output_type": "stream",
     "text": [
      "<class 'str'>\n"
     ]
    }
   ],
   "source": [
    "print(type(name))"
   ]
  },
  {
   "cell_type": "code",
   "execution_count": 43,
   "id": "d00206cc-f0db-4bb7-822d-49bbd5845b7e",
   "metadata": {},
   "outputs": [
    {
     "name": "stdout",
     "output_type": "stream",
     "text": [
      "Couldn't find program: 'python2'\n"
     ]
    }
   ],
   "source": [
    "%%python2\n",
    "print 'Hello there', 1, 2, 3"
   ]
  },
  {
   "cell_type": "code",
   "execution_count": 44,
   "id": "e1f2f569-5258-4ad8-907b-c8bea6dbf200",
   "metadata": {},
   "outputs": [
    {
     "ename": "SyntaxError",
     "evalue": "Missing parentheses in call to 'print'. Did you mean print('hi')? (971685732.py, line 1)",
     "output_type": "error",
     "traceback": [
      "\u001b[0;36m  Input \u001b[0;32mIn [44]\u001b[0;36m\u001b[0m\n\u001b[0;31m    print 'hi'\u001b[0m\n\u001b[0m          ^\u001b[0m\n\u001b[0;31mSyntaxError\u001b[0m\u001b[0;31m:\u001b[0m Missing parentheses in call to 'print'. Did you mean print('hi')?\n"
     ]
    }
   ],
   "source": [
    "print 'hi'"
   ]
  },
  {
   "cell_type": "code",
   "execution_count": 45,
   "id": "3233cc71-ecfc-4a9d-a87c-59a7f06bb589",
   "metadata": {},
   "outputs": [
    {
     "name": "stdout",
     "output_type": "stream",
     "text": [
      "1 2 3 4 5 6\n"
     ]
    }
   ],
   "source": [
    "print(1, 2, 3, end=' ')\n",
    "print(4, 5, 6)"
   ]
  },
  {
   "cell_type": "code",
   "execution_count": 46,
   "id": "af6b6b90-cf79-4cba-8a80-9c4ec845bf5e",
   "metadata": {},
   "outputs": [],
   "source": [
    "x = 4"
   ]
  },
  {
   "cell_type": "code",
   "execution_count": 47,
   "id": "c971660a-93e2-48d3-81ef-46e10f9bb034",
   "metadata": {},
   "outputs": [
    {
     "name": "stdout",
     "output_type": "stream",
     "text": [
      "x is 4\n"
     ]
    }
   ],
   "source": [
    "if x == 4:\n",
    "    print('x is 4')"
   ]
  },
  {
   "cell_type": "code",
   "execution_count": 48,
   "id": "2e249e9a-96a5-446a-bee5-80b89f041f0a",
   "metadata": {},
   "outputs": [
    {
     "name": "stdout",
     "output_type": "stream",
     "text": [
      "yes\n"
     ]
    }
   ],
   "source": [
    "if x: # != 0 or 0.0\n",
    "    print('yes')"
   ]
  },
  {
   "cell_type": "code",
   "execution_count": 49,
   "id": "1944d19a-1468-41cb-be2e-3089067693b1",
   "metadata": {},
   "outputs": [
    {
     "data": {
      "text/plain": [
       "True"
      ]
     },
     "execution_count": 49,
     "metadata": {},
     "output_type": "execute_result"
    }
   ],
   "source": [
    "bool(x)"
   ]
  },
  {
   "cell_type": "code",
   "execution_count": 50,
   "id": "98a1ff1d-cd47-45cf-a2f4-945e60d185a5",
   "metadata": {},
   "outputs": [
    {
     "data": {
      "text/plain": [
       "False"
      ]
     },
     "execution_count": 50,
     "metadata": {},
     "output_type": "execute_result"
    }
   ],
   "source": [
    "bool(0.0)"
   ]
  },
  {
   "cell_type": "code",
   "execution_count": 51,
   "id": "08febbf5-277c-4b84-a9d8-7e08d8d020b0",
   "metadata": {},
   "outputs": [
    {
     "name": "stdin",
     "output_type": "stream",
     "text": [
      "Enter a number:  45\n"
     ]
    }
   ],
   "source": [
    "num = input('Enter a number: ')"
   ]
  },
  {
   "cell_type": "code",
   "execution_count": 52,
   "id": "aaebdb49-3981-4fe3-8547-f47c7e99795c",
   "metadata": {},
   "outputs": [
    {
     "data": {
      "text/plain": [
       "'45'"
      ]
     },
     "execution_count": 52,
     "metadata": {},
     "output_type": "execute_result"
    }
   ],
   "source": [
    "num"
   ]
  },
  {
   "cell_type": "code",
   "execution_count": 53,
   "id": "4688b648-e705-40b6-b642-5609f9182ab9",
   "metadata": {},
   "outputs": [
    {
     "data": {
      "text/plain": [
       "45"
      ]
     },
     "execution_count": 53,
     "metadata": {},
     "output_type": "execute_result"
    }
   ],
   "source": [
    "int(num)"
   ]
  },
  {
   "cell_type": "code",
   "execution_count": 54,
   "id": "874c17f4-3c7f-4107-9633-704794621597",
   "metadata": {},
   "outputs": [
    {
     "data": {
      "text/plain": [
       "True"
      ]
     },
     "execution_count": 54,
     "metadata": {},
     "output_type": "execute_result"
    }
   ],
   "source": [
    "'b' in 'Starbucks'"
   ]
  },
  {
   "cell_type": "code",
   "execution_count": 55,
   "id": "480dbb51-d879-4dc5-bf5a-7749d8231ada",
   "metadata": {},
   "outputs": [
    {
     "data": {
      "text/plain": [
       "True"
      ]
     },
     "execution_count": 55,
     "metadata": {},
     "output_type": "execute_result"
    }
   ],
   "source": [
    "'buck' in 'Starbucks'"
   ]
  },
  {
   "cell_type": "code",
   "execution_count": 56,
   "id": "592b1899-384c-4fd2-a2fc-dceedb18fd38",
   "metadata": {},
   "outputs": [],
   "source": [
    "import random"
   ]
  },
  {
   "cell_type": "code",
   "execution_count": 57,
   "id": "d33ac054-fcb2-4021-b3f1-f0a0202b2e41",
   "metadata": {},
   "outputs": [
    {
     "data": {
      "text/plain": [
       "140400736289072"
      ]
     },
     "execution_count": 57,
     "metadata": {},
     "output_type": "execute_result"
    }
   ],
   "source": [
    "id(random)"
   ]
  },
  {
   "cell_type": "code",
   "execution_count": 58,
   "id": "fac7575e-b213-4d17-8176-2d5242da231a",
   "metadata": {},
   "outputs": [
    {
     "data": {
      "text/plain": [
       "['BPF',\n",
       " 'LOG4',\n",
       " 'NV_MAGICCONST',\n",
       " 'RECIP_BPF',\n",
       " 'Random',\n",
       " 'SG_MAGICCONST',\n",
       " 'SystemRandom',\n",
       " 'TWOPI',\n",
       " '_Sequence',\n",
       " '_Set',\n",
       " '__all__',\n",
       " '__builtins__',\n",
       " '__cached__',\n",
       " '__doc__',\n",
       " '__file__',\n",
       " '__loader__',\n",
       " '__name__',\n",
       " '__package__',\n",
       " '__spec__',\n",
       " '_accumulate',\n",
       " '_acos',\n",
       " '_bisect',\n",
       " '_ceil',\n",
       " '_cos',\n",
       " '_e',\n",
       " '_exp',\n",
       " '_floor',\n",
       " '_inst',\n",
       " '_log',\n",
       " '_os',\n",
       " '_pi',\n",
       " '_random',\n",
       " '_repeat',\n",
       " '_sha512',\n",
       " '_sin',\n",
       " '_sqrt',\n",
       " '_test',\n",
       " '_test_generator',\n",
       " '_urandom',\n",
       " '_warn',\n",
       " 'betavariate',\n",
       " 'choice',\n",
       " 'choices',\n",
       " 'expovariate',\n",
       " 'gammavariate',\n",
       " 'gauss',\n",
       " 'getrandbits',\n",
       " 'getstate',\n",
       " 'lognormvariate',\n",
       " 'normalvariate',\n",
       " 'paretovariate',\n",
       " 'randbytes',\n",
       " 'randint',\n",
       " 'random',\n",
       " 'randrange',\n",
       " 'sample',\n",
       " 'seed',\n",
       " 'setstate',\n",
       " 'shuffle',\n",
       " 'triangular',\n",
       " 'uniform',\n",
       " 'vonmisesvariate',\n",
       " 'weibullvariate']"
      ]
     },
     "execution_count": 58,
     "metadata": {},
     "output_type": "execute_result"
    }
   ],
   "source": [
    "dir(random)"
   ]
  },
  {
   "cell_type": "code",
   "execution_count": 59,
   "id": "8c941b67-d9b3-4ffb-9ecc-e5d1051b48ea",
   "metadata": {},
   "outputs": [
    {
     "name": "stdout",
     "output_type": "stream",
     "text": [
      "Help on built-in function len in module builtins:\n",
      "\n",
      "len(obj, /)\n",
      "    Return the number of items in a container.\n",
      "\n"
     ]
    }
   ],
   "source": [
    "help(len)"
   ]
  },
  {
   "cell_type": "code",
   "execution_count": 60,
   "id": "70dea7b1-64cf-469f-b8e3-bef3e92878d4",
   "metadata": {},
   "outputs": [
    {
     "name": "stdout",
     "output_type": "stream",
     "text": [
      "Help on method randint in module random:\n",
      "\n",
      "randint(a, b) method of random.Random instance\n",
      "    Return random integer in range [a, b], including both end points.\n",
      "\n"
     ]
    }
   ],
   "source": [
    "help(random.randint)"
   ]
  },
  {
   "cell_type": "code",
   "execution_count": 62,
   "id": "40328bb7-c1da-4975-8a4d-c712c0d72f39",
   "metadata": {},
   "outputs": [
    {
     "data": {
      "text/plain": [
       "21"
      ]
     },
     "execution_count": 62,
     "metadata": {},
     "output_type": "execute_result"
    }
   ],
   "source": [
    "random.randint(1, 100)"
   ]
  },
  {
   "cell_type": "code",
   "execution_count": 63,
   "id": "c4559a46-13f4-4c34-b659-134da06b23ed",
   "metadata": {},
   "outputs": [
    {
     "data": {
      "text/plain": [
       "['__doc__',\n",
       " '__file__',\n",
       " '__loader__',\n",
       " '__name__',\n",
       " '__package__',\n",
       " '__spec__',\n",
       " 'acos',\n",
       " 'acosh',\n",
       " 'asin',\n",
       " 'asinh',\n",
       " 'atan',\n",
       " 'atan2',\n",
       " 'atanh',\n",
       " 'ceil',\n",
       " 'comb',\n",
       " 'copysign',\n",
       " 'cos',\n",
       " 'cosh',\n",
       " 'degrees',\n",
       " 'dist',\n",
       " 'e',\n",
       " 'erf',\n",
       " 'erfc',\n",
       " 'exp',\n",
       " 'expm1',\n",
       " 'fabs',\n",
       " 'factorial',\n",
       " 'floor',\n",
       " 'fmod',\n",
       " 'frexp',\n",
       " 'fsum',\n",
       " 'gamma',\n",
       " 'gcd',\n",
       " 'hypot',\n",
       " 'inf',\n",
       " 'isclose',\n",
       " 'isfinite',\n",
       " 'isinf',\n",
       " 'isnan',\n",
       " 'isqrt',\n",
       " 'lcm',\n",
       " 'ldexp',\n",
       " 'lgamma',\n",
       " 'log',\n",
       " 'log10',\n",
       " 'log1p',\n",
       " 'log2',\n",
       " 'modf',\n",
       " 'nan',\n",
       " 'nextafter',\n",
       " 'perm',\n",
       " 'pi',\n",
       " 'pow',\n",
       " 'prod',\n",
       " 'radians',\n",
       " 'remainder',\n",
       " 'sin',\n",
       " 'sinh',\n",
       " 'sqrt',\n",
       " 'tan',\n",
       " 'tanh',\n",
       " 'tau',\n",
       " 'trunc',\n",
       " 'ulp']"
      ]
     },
     "execution_count": 63,
     "metadata": {},
     "output_type": "execute_result"
    }
   ],
   "source": [
    "import math\n",
    "dir(math)"
   ]
  },
  {
   "cell_type": "code",
   "execution_count": 64,
   "id": "7a862dd3-2363-4a4b-b7d4-419f1f3cfe80",
   "metadata": {},
   "outputs": [
    {
     "name": "stdout",
     "output_type": "stream",
     "text": [
      "Help on built-in function sin in module math:\n",
      "\n",
      "sin(x, /)\n",
      "    Return the sine of x (measured in radians).\n",
      "\n"
     ]
    }
   ],
   "source": [
    "help(math.sin)"
   ]
  },
  {
   "cell_type": "code",
   "execution_count": 65,
   "id": "3de842c2-b2ae-47a2-89cc-145d23619226",
   "metadata": {},
   "outputs": [
    {
     "name": "stdout",
     "output_type": "stream",
     "text": [
      "Help on module math:\n",
      "\n",
      "NAME\n",
      "    math\n",
      "\n",
      "MODULE REFERENCE\n",
      "    https://docs.python.org/3.9/library/math\n",
      "    \n",
      "    The following documentation is automatically generated from the Python\n",
      "    source files.  It may be incomplete, incorrect or include features that\n",
      "    are considered implementation detail and may vary between Python\n",
      "    implementations.  When in doubt, consult the module reference at the\n",
      "    location listed above.\n",
      "\n",
      "DESCRIPTION\n",
      "    This module provides access to the mathematical functions\n",
      "    defined by the C standard.\n",
      "\n",
      "FUNCTIONS\n",
      "    acos(x, /)\n",
      "        Return the arc cosine (measured in radians) of x.\n",
      "        \n",
      "        The result is between 0 and pi.\n",
      "    \n",
      "    acosh(x, /)\n",
      "        Return the inverse hyperbolic cosine of x.\n",
      "    \n",
      "    asin(x, /)\n",
      "        Return the arc sine (measured in radians) of x.\n",
      "        \n",
      "        The result is between -pi/2 and pi/2.\n",
      "    \n",
      "    asinh(x, /)\n",
      "        Return the inverse hyperbolic sine of x.\n",
      "    \n",
      "    atan(x, /)\n",
      "        Return the arc tangent (measured in radians) of x.\n",
      "        \n",
      "        The result is between -pi/2 and pi/2.\n",
      "    \n",
      "    atan2(y, x, /)\n",
      "        Return the arc tangent (measured in radians) of y/x.\n",
      "        \n",
      "        Unlike atan(y/x), the signs of both x and y are considered.\n",
      "    \n",
      "    atanh(x, /)\n",
      "        Return the inverse hyperbolic tangent of x.\n",
      "    \n",
      "    ceil(x, /)\n",
      "        Return the ceiling of x as an Integral.\n",
      "        \n",
      "        This is the smallest integer >= x.\n",
      "    \n",
      "    comb(n, k, /)\n",
      "        Number of ways to choose k items from n items without repetition and without order.\n",
      "        \n",
      "        Evaluates to n! / (k! * (n - k)!) when k <= n and evaluates\n",
      "        to zero when k > n.\n",
      "        \n",
      "        Also called the binomial coefficient because it is equivalent\n",
      "        to the coefficient of k-th term in polynomial expansion of the\n",
      "        expression (1 + x)**n.\n",
      "        \n",
      "        Raises TypeError if either of the arguments are not integers.\n",
      "        Raises ValueError if either of the arguments are negative.\n",
      "    \n",
      "    copysign(x, y, /)\n",
      "        Return a float with the magnitude (absolute value) of x but the sign of y.\n",
      "        \n",
      "        On platforms that support signed zeros, copysign(1.0, -0.0)\n",
      "        returns -1.0.\n",
      "    \n",
      "    cos(x, /)\n",
      "        Return the cosine of x (measured in radians).\n",
      "    \n",
      "    cosh(x, /)\n",
      "        Return the hyperbolic cosine of x.\n",
      "    \n",
      "    degrees(x, /)\n",
      "        Convert angle x from radians to degrees.\n",
      "    \n",
      "    dist(p, q, /)\n",
      "        Return the Euclidean distance between two points p and q.\n",
      "        \n",
      "        The points should be specified as sequences (or iterables) of\n",
      "        coordinates.  Both inputs must have the same dimension.\n",
      "        \n",
      "        Roughly equivalent to:\n",
      "            sqrt(sum((px - qx) ** 2.0 for px, qx in zip(p, q)))\n",
      "    \n",
      "    erf(x, /)\n",
      "        Error function at x.\n",
      "    \n",
      "    erfc(x, /)\n",
      "        Complementary error function at x.\n",
      "    \n",
      "    exp(x, /)\n",
      "        Return e raised to the power of x.\n",
      "    \n",
      "    expm1(x, /)\n",
      "        Return exp(x)-1.\n",
      "        \n",
      "        This function avoids the loss of precision involved in the direct evaluation of exp(x)-1 for small x.\n",
      "    \n",
      "    fabs(x, /)\n",
      "        Return the absolute value of the float x.\n",
      "    \n",
      "    factorial(x, /)\n",
      "        Find x!.\n",
      "        \n",
      "        Raise a ValueError if x is negative or non-integral.\n",
      "    \n",
      "    floor(x, /)\n",
      "        Return the floor of x as an Integral.\n",
      "        \n",
      "        This is the largest integer <= x.\n",
      "    \n",
      "    fmod(x, y, /)\n",
      "        Return fmod(x, y), according to platform C.\n",
      "        \n",
      "        x % y may differ.\n",
      "    \n",
      "    frexp(x, /)\n",
      "        Return the mantissa and exponent of x, as pair (m, e).\n",
      "        \n",
      "        m is a float and e is an int, such that x = m * 2.**e.\n",
      "        If x is 0, m and e are both 0.  Else 0.5 <= abs(m) < 1.0.\n",
      "    \n",
      "    fsum(seq, /)\n",
      "        Return an accurate floating point sum of values in the iterable seq.\n",
      "        \n",
      "        Assumes IEEE-754 floating point arithmetic.\n",
      "    \n",
      "    gamma(x, /)\n",
      "        Gamma function at x.\n",
      "    \n",
      "    gcd(*integers)\n",
      "        Greatest Common Divisor.\n",
      "    \n",
      "    hypot(...)\n",
      "        hypot(*coordinates) -> value\n",
      "        \n",
      "        Multidimensional Euclidean distance from the origin to a point.\n",
      "        \n",
      "        Roughly equivalent to:\n",
      "            sqrt(sum(x**2 for x in coordinates))\n",
      "        \n",
      "        For a two dimensional point (x, y), gives the hypotenuse\n",
      "        using the Pythagorean theorem:  sqrt(x*x + y*y).\n",
      "        \n",
      "        For example, the hypotenuse of a 3/4/5 right triangle is:\n",
      "        \n",
      "            >>> hypot(3.0, 4.0)\n",
      "            5.0\n",
      "    \n",
      "    isclose(a, b, *, rel_tol=1e-09, abs_tol=0.0)\n",
      "        Determine whether two floating point numbers are close in value.\n",
      "        \n",
      "          rel_tol\n",
      "            maximum difference for being considered \"close\", relative to the\n",
      "            magnitude of the input values\n",
      "          abs_tol\n",
      "            maximum difference for being considered \"close\", regardless of the\n",
      "            magnitude of the input values\n",
      "        \n",
      "        Return True if a is close in value to b, and False otherwise.\n",
      "        \n",
      "        For the values to be considered close, the difference between them\n",
      "        must be smaller than at least one of the tolerances.\n",
      "        \n",
      "        -inf, inf and NaN behave similarly to the IEEE 754 Standard.  That\n",
      "        is, NaN is not close to anything, even itself.  inf and -inf are\n",
      "        only close to themselves.\n",
      "    \n",
      "    isfinite(x, /)\n",
      "        Return True if x is neither an infinity nor a NaN, and False otherwise.\n",
      "    \n",
      "    isinf(x, /)\n",
      "        Return True if x is a positive or negative infinity, and False otherwise.\n",
      "    \n",
      "    isnan(x, /)\n",
      "        Return True if x is a NaN (not a number), and False otherwise.\n",
      "    \n",
      "    isqrt(n, /)\n",
      "        Return the integer part of the square root of the input.\n",
      "    \n",
      "    lcm(*integers)\n",
      "        Least Common Multiple.\n",
      "    \n",
      "    ldexp(x, i, /)\n",
      "        Return x * (2**i).\n",
      "        \n",
      "        This is essentially the inverse of frexp().\n",
      "    \n",
      "    lgamma(x, /)\n",
      "        Natural logarithm of absolute value of Gamma function at x.\n",
      "    \n",
      "    log(...)\n",
      "        log(x, [base=math.e])\n",
      "        Return the logarithm of x to the given base.\n",
      "        \n",
      "        If the base not specified, returns the natural logarithm (base e) of x.\n",
      "    \n",
      "    log10(x, /)\n",
      "        Return the base 10 logarithm of x.\n",
      "    \n",
      "    log1p(x, /)\n",
      "        Return the natural logarithm of 1+x (base e).\n",
      "        \n",
      "        The result is computed in a way which is accurate for x near zero.\n",
      "    \n",
      "    log2(x, /)\n",
      "        Return the base 2 logarithm of x.\n",
      "    \n",
      "    modf(x, /)\n",
      "        Return the fractional and integer parts of x.\n",
      "        \n",
      "        Both results carry the sign of x and are floats.\n",
      "    \n",
      "    nextafter(x, y, /)\n",
      "        Return the next floating-point value after x towards y.\n",
      "    \n",
      "    perm(n, k=None, /)\n",
      "        Number of ways to choose k items from n items without repetition and with order.\n",
      "        \n",
      "        Evaluates to n! / (n - k)! when k <= n and evaluates\n",
      "        to zero when k > n.\n",
      "        \n",
      "        If k is not specified or is None, then k defaults to n\n",
      "        and the function returns n!.\n",
      "        \n",
      "        Raises TypeError if either of the arguments are not integers.\n",
      "        Raises ValueError if either of the arguments are negative.\n",
      "    \n",
      "    pow(x, y, /)\n",
      "        Return x**y (x to the power of y).\n",
      "    \n",
      "    prod(iterable, /, *, start=1)\n",
      "        Calculate the product of all the elements in the input iterable.\n",
      "        \n",
      "        The default start value for the product is 1.\n",
      "        \n",
      "        When the iterable is empty, return the start value.  This function is\n",
      "        intended specifically for use with numeric values and may reject\n",
      "        non-numeric types.\n",
      "    \n",
      "    radians(x, /)\n",
      "        Convert angle x from degrees to radians.\n",
      "    \n",
      "    remainder(x, y, /)\n",
      "        Difference between x and the closest integer multiple of y.\n",
      "        \n",
      "        Return x - n*y where n*y is the closest integer multiple of y.\n",
      "        In the case where x is exactly halfway between two multiples of\n",
      "        y, the nearest even value of n is used. The result is always exact.\n",
      "    \n",
      "    sin(x, /)\n",
      "        Return the sine of x (measured in radians).\n",
      "    \n",
      "    sinh(x, /)\n",
      "        Return the hyperbolic sine of x.\n",
      "    \n",
      "    sqrt(x, /)\n",
      "        Return the square root of x.\n",
      "    \n",
      "    tan(x, /)\n",
      "        Return the tangent of x (measured in radians).\n",
      "    \n",
      "    tanh(x, /)\n",
      "        Return the hyperbolic tangent of x.\n",
      "    \n",
      "    trunc(x, /)\n",
      "        Truncates the Real x to the nearest Integral toward 0.\n",
      "        \n",
      "        Uses the __trunc__ magic method.\n",
      "    \n",
      "    ulp(x, /)\n",
      "        Return the value of the least significant bit of the float x.\n",
      "\n",
      "DATA\n",
      "    e = 2.718281828459045\n",
      "    inf = inf\n",
      "    nan = nan\n",
      "    pi = 3.141592653589793\n",
      "    tau = 6.283185307179586\n",
      "\n",
      "FILE\n",
      "    /Users/dave-wadestein/opt/anaconda3/lib/python3.9/lib-dynload/math.cpython-39-darwin.so\n",
      "\n",
      "\n"
     ]
    }
   ],
   "source": [
    "help(math)"
   ]
  },
  {
   "cell_type": "code",
   "execution_count": 67,
   "id": "9fe87ed8-7bf6-45af-9c88-e83e0961c351",
   "metadata": {},
   "outputs": [
    {
     "name": "stdout",
     "output_type": "stream",
     "text": [
      "1\n",
      "2\n",
      "3\n",
      "4\n",
      "5\n",
      "done\n"
     ]
    }
   ],
   "source": [
    "i = 1\n",
    "while i <= 5:\n",
    "    print(i)\n",
    "    i += 1\n",
    "print('done')"
   ]
  },
  {
   "cell_type": "code",
   "execution_count": 68,
   "id": "af28d9e3-fb1e-4bea-9025-6b1cf8f941f3",
   "metadata": {},
   "outputs": [
    {
     "name": "stdout",
     "output_type": "stream",
     "text": [
      "yep 0\n",
      "yep 1\n",
      "yep 2\n",
      "yep 3\n",
      "yep 4\n",
      "yep 5\n",
      "yep 6\n",
      "yep 7\n",
      "yep 8\n",
      "yep 9\n"
     ]
    }
   ],
   "source": [
    "for times in range(10):\n",
    "    print('yep', times)"
   ]
  },
  {
   "cell_type": "markdown",
   "id": "3c2e64e9-af38-4e69-961b-09f05ee38044",
   "metadata": {
    "tags": []
   },
   "source": [
    "## Quick Lab: Loops/Strings\n",
    "* have the user enter a string, then loop through the string to generate (or print) a new string in which every character is duplicated, e.g., \"Python\" => \"PPyytthhoonn\""
   ]
  },
  {
   "cell_type": "code",
   "execution_count": 72,
   "id": "b7b32411-5a2c-4f70-8287-7e078c558a4e",
   "metadata": {},
   "outputs": [
    {
     "name": "stdin",
     "output_type": "stream",
     "text": [
      "Enter:  oleander\n"
     ]
    },
    {
     "name": "stdout",
     "output_type": "stream",
     "text": [
      "oolleeaannddeerr"
     ]
    }
   ],
   "source": [
    "string = input('Enter: ')\n",
    "for letter in string:# for thing in container\n",
    "    print(letter * 2, end='')"
   ]
  },
  {
   "cell_type": "code",
   "execution_count": 73,
   "id": "42f8063e-452c-409e-9c8d-0c4178ae07e5",
   "metadata": {},
   "outputs": [
    {
     "name": "stdout",
     "output_type": "stream",
     "text": [
      "oolleeaannddeerr"
     ]
    }
   ],
   "source": [
    "# or...\n",
    "for letter in string:\n",
    "    print(letter + letter, end='')"
   ]
  },
  {
   "cell_type": "code",
   "execution_count": 74,
   "id": "dda915aa-8391-4d15-8b84-bed1dcc30eea",
   "metadata": {},
   "outputs": [
    {
     "name": "stdout",
     "output_type": "stream",
     "text": [
      "oolleeaannddeerr"
     ]
    }
   ],
   "source": [
    "# or ...\n",
    "for letter in string:\n",
    "    print(letter, letter, sep='', end='') "
   ]
  },
  {
   "cell_type": "code",
   "execution_count": 75,
   "id": "0446dc0a-339d-4628-9fb1-2857805f65bc",
   "metadata": {},
   "outputs": [
    {
     "name": "stdout",
     "output_type": "stream",
     "text": [
      "oolleeaannddeerr\n"
     ]
    }
   ],
   "source": [
    "new_string = ''\n",
    "for letter in string:\n",
    "    new_string += letter * 2\n",
    "    \n",
    "print(new_string)"
   ]
  },
  {
   "cell_type": "markdown",
   "id": "47da5513-8e69-4158-8f17-51ee0a7d0943",
   "metadata": {},
   "source": [
    "## Lab: Loops\n",
    "* Loop through the numbers from 2 to 25 and print out which numbers are prime, and for those numbers which are not prime numbers, you should print them as a product of two factors\n",
    "* Remember that prime = no divisors other than 1 and itself\n",
    "* Don't worry about efficiency, but if you're interested, check out math.sqrt()\n",
    "* example output:\n",
    "<pre>\n",
    "2 is a prime number\n",
    "3 is a prime number\n",
    "4 equals 2 * 2\n",
    "5 is a prime number\n",
    "6 equals 2 * 3\n",
    "7 is a prime number\n",
    "8 equals 2 * 4\n",
    "9 equals 3 * 3\n",
    "10 equals 2 * 5\n",
    "11 is a prime number\n",
    "12 equals 2 * 6\n",
    "13 is a prime number\n",
    "14 equals 2 * 7\n",
    "15 equals 3 * 5\n",
    "16 equals 2 * 8\n",
    "17 is a prime number\n",
    "18 equals 2 * 9\n",
    "19 is a prime number\n",
    "20 equals 2 * 10\n",
    "21 equals 3 * 7\n",
    "22 equals 2 * 11\n",
    "23 is a prime number\n",
    "24 equals 2 * 12\n",
    "25 equals 5 * 5\n",
    "</pre>"
   ]
  },
  {
   "cell_type": "code",
   "execution_count": 69,
   "id": "5fccf632-020f-4378-8a6d-ea3d707e7a9a",
   "metadata": {},
   "outputs": [],
   "source": [
    "# for each number from 2 .. 25\n",
    "#    for each possible divisor from 2 up to number - 1\n",
    "#.      does it divide in ?\n",
    "#.        if yes, then not prime..."
   ]
  },
  {
   "cell_type": "code",
   "execution_count": 79,
   "id": "00c2f97f-95a3-4cef-bec4-6f936a171f78",
   "metadata": {},
   "outputs": [
    {
     "name": "stdout",
     "output_type": "stream",
     "text": [
      "2: \n",
      "3: 2 \n",
      "4: 2 3 \n",
      "5: 2 3 4 \n",
      "6: 2 3 4 5 \n",
      "7: 2 3 4 5 6 \n",
      "8: 2 3 4 5 6 7 \n",
      "9: 2 3 4 5 6 7 8 \n",
      "10: 2 3 4 5 6 7 8 9 \n",
      "11: 2 3 4 5 6 7 8 9 10 \n",
      "12: 2 3 4 5 6 7 8 9 10 11 \n",
      "13: 2 3 4 5 6 7 8 9 10 11 12 \n",
      "14: 2 3 4 5 6 7 8 9 10 11 12 13 \n",
      "15: 2 3 4 5 6 7 8 9 10 11 12 13 14 \n",
      "16: 2 3 4 5 6 7 8 9 10 11 12 13 14 15 \n",
      "17: 2 3 4 5 6 7 8 9 10 11 12 13 14 15 16 \n",
      "18: 2 3 4 5 6 7 8 9 10 11 12 13 14 15 16 17 \n",
      "19: 2 3 4 5 6 7 8 9 10 11 12 13 14 15 16 17 18 \n",
      "20: 2 3 4 5 6 7 8 9 10 11 12 13 14 15 16 17 18 19 \n",
      "21: 2 3 4 5 6 7 8 9 10 11 12 13 14 15 16 17 18 19 20 \n",
      "22: 2 3 4 5 6 7 8 9 10 11 12 13 14 15 16 17 18 19 20 21 \n",
      "23: 2 3 4 5 6 7 8 9 10 11 12 13 14 15 16 17 18 19 20 21 22 \n",
      "24: 2 3 4 5 6 7 8 9 10 11 12 13 14 15 16 17 18 19 20 21 22 23 \n",
      "25: 2 3 4 5 6 7 8 9 10 11 12 13 14 15 16 17 18 19 20 21 22 23 24 \n"
     ]
    }
   ],
   "source": [
    "# One other strategy for those who are not daily programmers...\n",
    "# Build up your solution incrementally\n",
    "# Sometimes it's a good starting point to validate your assumptions\n",
    "for num in range(2, 26): # 2..25\n",
    "    # let's print each number and then list all possible divisors\n",
    "    print(num, end=': ') # don't go to next line\n",
    "    for divisor in range(2, num): # note that this means 2..num-1 (what we want), as per Dijkstra\n",
    "        print(divisor, end=' ') # print each potential divisor, followed by space\n",
    "    print() # now go to next line     "
   ]
  },
  {
   "cell_type": "code",
   "execution_count": 82,
   "id": "1b467ec8-dbb7-4def-b704-a1e1de0150ad",
   "metadata": {},
   "outputs": [
    {
     "name": "stdout",
     "output_type": "stream",
     "text": [
      "2 is a prime number\n",
      "3 is a prime number\n",
      "4 equals 2 * 2\n",
      "5 is a prime number\n",
      "6 equals 2 * 3\n",
      "7 is a prime number\n",
      "8 equals 2 * 4\n",
      "9 equals 3 * 3\n",
      "10 equals 2 * 5\n",
      "11 is a prime number\n",
      "12 equals 2 * 6\n",
      "13 is a prime number\n",
      "14 equals 2 * 7\n",
      "15 equals 3 * 5\n",
      "16 equals 2 * 8\n",
      "17 is a prime number\n",
      "18 equals 2 * 9\n",
      "19 is a prime number\n",
      "20 equals 2 * 10\n",
      "21 equals 3 * 7\n",
      "22 equals 2 * 11\n",
      "23 is a prime number\n",
      "24 equals 2 * 12\n"
     ]
    }
   ],
   "source": [
    "# looks good, so we can proceed\n",
    "# now we can actually do the problem\n",
    "# if the above didn't work, there would be point in going\n",
    "# further until we fixed it\n",
    "for num in range(2, 25):\n",
    "    for divisor in range(2, num):\n",
    "        if num % divisor == 0: # divides evenly\n",
    "            print(num, 'equals', divisor, '*', num // divisor)\n",
    "            break # no need to keep checking\n",
    "    else: # here's a good use for an else\n",
    "        # we're only here if no break, i.e., no divisors\n",
    "        print(num, 'is a prime number')"
   ]
  },
  {
   "cell_type": "code",
   "execution_count": 85,
   "id": "8ac8af26-a475-44da-b416-151884b30954",
   "metadata": {},
   "outputs": [
    {
     "name": "stdout",
     "output_type": "stream",
     "text": [
      "2 is a prime number\n",
      "3 is a prime number\n",
      "4 equals 2 * 2\n",
      "5 is a prime number\n",
      "6 equals 2 * 3\n",
      "7 is a prime number\n",
      "8 equals 2 * 4\n",
      "9 equals 3 * 3\n",
      "10 equals 2 * 5\n",
      "11 is a prime number\n",
      "12 equals 2 * 6\n",
      "13 is a prime number\n",
      "14 equals 2 * 7\n",
      "15 equals 3 * 5\n",
      "16 equals 2 * 8\n",
      "17 is a prime number\n",
      "18 equals 2 * 9\n",
      "19 is a prime number\n",
      "20 equals 2 * 10\n",
      "21 equals 3 * 7\n",
      "22 equals 2 * 11\n",
      "23 is a prime number\n",
      "24 equals 2 * 12\n",
      "25 equals 5 * 5\n",
      "26 equals 2 * 13\n",
      "27 equals 3 * 9\n",
      "28 equals 2 * 14\n",
      "29 is a prime number\n",
      "30 equals 2 * 15\n",
      "31 is a prime number\n",
      "32 equals 2 * 16\n",
      "33 equals 3 * 11\n",
      "34 equals 2 * 17\n",
      "35 equals 5 * 7\n",
      "36 equals 2 * 18\n",
      "37 is a prime number\n",
      "38 equals 2 * 19\n",
      "39 equals 3 * 13\n",
      "40 equals 2 * 20\n",
      "41 is a prime number\n",
      "42 equals 2 * 21\n",
      "43 is a prime number\n",
      "44 equals 2 * 22\n",
      "45 equals 3 * 15\n",
      "46 equals 2 * 23\n",
      "47 is a prime number\n",
      "48 equals 2 * 24\n",
      "49 equals 7 * 7\n",
      "50 equals 2 * 25\n",
      "51 equals 3 * 17\n",
      "52 equals 2 * 26\n",
      "53 is a prime number\n",
      "54 equals 2 * 27\n",
      "55 equals 5 * 11\n",
      "56 equals 2 * 28\n",
      "57 equals 3 * 19\n",
      "58 equals 2 * 29\n",
      "59 is a prime number\n",
      "60 equals 2 * 30\n",
      "61 is a prime number\n",
      "62 equals 2 * 31\n",
      "63 equals 3 * 21\n",
      "64 equals 2 * 32\n",
      "65 equals 5 * 13\n",
      "66 equals 2 * 33\n",
      "67 is a prime number\n",
      "68 equals 2 * 34\n",
      "69 equals 3 * 23\n",
      "70 equals 2 * 35\n",
      "71 is a prime number\n",
      "72 equals 2 * 36\n",
      "73 is a prime number\n",
      "74 equals 2 * 37\n",
      "75 equals 3 * 25\n",
      "76 equals 2 * 38\n",
      "77 equals 7 * 11\n",
      "78 equals 2 * 39\n",
      "79 is a prime number\n",
      "80 equals 2 * 40\n",
      "81 equals 3 * 27\n",
      "82 equals 2 * 41\n",
      "83 is a prime number\n",
      "84 equals 2 * 42\n",
      "85 equals 5 * 17\n",
      "86 equals 2 * 43\n",
      "87 equals 3 * 29\n",
      "88 equals 2 * 44\n",
      "89 is a prime number\n",
      "90 equals 2 * 45\n",
      "91 equals 7 * 13\n",
      "92 equals 2 * 46\n",
      "93 equals 3 * 31\n",
      "94 equals 2 * 47\n",
      "95 equals 5 * 19\n",
      "96 equals 2 * 48\n",
      "97 is a prime number\n",
      "98 equals 2 * 49\n",
      "99 equals 3 * 33\n",
      "100 equals 2 * 50\n",
      "101 is a prime number\n",
      "102 equals 2 * 51\n",
      "103 is a prime number\n",
      "104 equals 2 * 52\n",
      "105 equals 3 * 35\n",
      "106 equals 2 * 53\n",
      "107 is a prime number\n",
      "108 equals 2 * 54\n",
      "109 is a prime number\n",
      "110 equals 2 * 55\n",
      "111 equals 3 * 37\n",
      "112 equals 2 * 56\n",
      "113 is a prime number\n",
      "114 equals 2 * 57\n",
      "115 equals 5 * 23\n",
      "116 equals 2 * 58\n",
      "117 equals 3 * 39\n",
      "118 equals 2 * 59\n",
      "119 equals 7 * 17\n",
      "120 equals 2 * 60\n",
      "121 equals 11 * 11\n",
      "122 equals 2 * 61\n",
      "123 equals 3 * 41\n",
      "124 equals 2 * 62\n",
      "125 equals 5 * 25\n",
      "126 equals 2 * 63\n",
      "127 is a prime number\n",
      "128 equals 2 * 64\n",
      "129 equals 3 * 43\n",
      "130 equals 2 * 65\n",
      "131 is a prime number\n",
      "132 equals 2 * 66\n",
      "133 equals 7 * 19\n",
      "134 equals 2 * 67\n",
      "135 equals 3 * 45\n",
      "136 equals 2 * 68\n",
      "137 is a prime number\n",
      "138 equals 2 * 69\n",
      "139 is a prime number\n",
      "140 equals 2 * 70\n",
      "141 equals 3 * 47\n",
      "142 equals 2 * 71\n",
      "143 equals 11 * 13\n",
      "144 equals 2 * 72\n",
      "145 equals 5 * 29\n",
      "146 equals 2 * 73\n",
      "147 equals 3 * 49\n",
      "148 equals 2 * 74\n",
      "149 is a prime number\n",
      "150 equals 2 * 75\n",
      "151 is a prime number\n",
      "152 equals 2 * 76\n",
      "153 equals 3 * 51\n",
      "154 equals 2 * 77\n",
      "155 equals 5 * 31\n",
      "156 equals 2 * 78\n",
      "157 is a prime number\n",
      "158 equals 2 * 79\n",
      "159 equals 3 * 53\n",
      "160 equals 2 * 80\n",
      "161 equals 7 * 23\n",
      "162 equals 2 * 81\n",
      "163 is a prime number\n",
      "164 equals 2 * 82\n",
      "165 equals 3 * 55\n",
      "166 equals 2 * 83\n",
      "167 is a prime number\n",
      "168 equals 2 * 84\n",
      "169 equals 13 * 13\n",
      "170 equals 2 * 85\n",
      "171 equals 3 * 57\n",
      "172 equals 2 * 86\n",
      "173 is a prime number\n",
      "174 equals 2 * 87\n",
      "175 equals 5 * 35\n",
      "176 equals 2 * 88\n",
      "177 equals 3 * 59\n",
      "178 equals 2 * 89\n",
      "179 is a prime number\n",
      "180 equals 2 * 90\n",
      "181 is a prime number\n",
      "182 equals 2 * 91\n",
      "183 equals 3 * 61\n",
      "184 equals 2 * 92\n",
      "185 equals 5 * 37\n",
      "186 equals 2 * 93\n",
      "187 equals 11 * 17\n",
      "188 equals 2 * 94\n",
      "189 equals 3 * 63\n",
      "190 equals 2 * 95\n",
      "191 is a prime number\n",
      "192 equals 2 * 96\n",
      "193 is a prime number\n",
      "194 equals 2 * 97\n",
      "195 equals 3 * 65\n",
      "196 equals 2 * 98\n",
      "197 is a prime number\n",
      "198 equals 2 * 99\n",
      "199 is a prime number\n",
      "200 equals 2 * 100\n",
      "201 equals 3 * 67\n",
      "202 equals 2 * 101\n",
      "203 equals 7 * 29\n",
      "204 equals 2 * 102\n",
      "205 equals 5 * 41\n",
      "206 equals 2 * 103\n",
      "207 equals 3 * 69\n",
      "208 equals 2 * 104\n",
      "209 equals 11 * 19\n",
      "210 equals 2 * 105\n",
      "211 is a prime number\n",
      "212 equals 2 * 106\n",
      "213 equals 3 * 71\n",
      "214 equals 2 * 107\n",
      "215 equals 5 * 43\n",
      "216 equals 2 * 108\n",
      "217 equals 7 * 31\n",
      "218 equals 2 * 109\n",
      "219 equals 3 * 73\n",
      "220 equals 2 * 110\n",
      "221 equals 13 * 17\n",
      "222 equals 2 * 111\n",
      "223 is a prime number\n",
      "224 equals 2 * 112\n",
      "225 equals 3 * 75\n",
      "226 equals 2 * 113\n",
      "227 is a prime number\n",
      "228 equals 2 * 114\n",
      "229 is a prime number\n",
      "230 equals 2 * 115\n",
      "231 equals 3 * 77\n",
      "232 equals 2 * 116\n",
      "233 is a prime number\n",
      "234 equals 2 * 117\n",
      "235 equals 5 * 47\n",
      "236 equals 2 * 118\n",
      "237 equals 3 * 79\n",
      "238 equals 2 * 119\n",
      "239 is a prime number\n",
      "240 equals 2 * 120\n",
      "241 is a prime number\n",
      "242 equals 2 * 121\n",
      "243 equals 3 * 81\n",
      "244 equals 2 * 122\n",
      "245 equals 5 * 49\n",
      "246 equals 2 * 123\n",
      "247 equals 13 * 19\n",
      "248 equals 2 * 124\n",
      "249 equals 3 * 83\n",
      "250 equals 2 * 125\n",
      "251 is a prime number\n",
      "252 equals 2 * 126\n",
      "253 equals 11 * 23\n",
      "254 equals 2 * 127\n",
      "255 equals 3 * 85\n",
      "256 equals 2 * 128\n",
      "257 is a prime number\n",
      "258 equals 2 * 129\n",
      "259 equals 7 * 37\n",
      "260 equals 2 * 130\n",
      "261 equals 3 * 87\n",
      "262 equals 2 * 131\n",
      "263 is a prime number\n",
      "264 equals 2 * 132\n",
      "265 equals 5 * 53\n",
      "266 equals 2 * 133\n",
      "267 equals 3 * 89\n",
      "268 equals 2 * 134\n",
      "269 is a prime number\n",
      "270 equals 2 * 135\n",
      "271 is a prime number\n",
      "272 equals 2 * 136\n",
      "273 equals 3 * 91\n",
      "274 equals 2 * 137\n",
      "275 equals 5 * 55\n",
      "276 equals 2 * 138\n",
      "277 is a prime number\n",
      "278 equals 2 * 139\n",
      "279 equals 3 * 93\n",
      "280 equals 2 * 140\n",
      "281 is a prime number\n",
      "282 equals 2 * 141\n",
      "283 is a prime number\n",
      "284 equals 2 * 142\n",
      "285 equals 3 * 95\n",
      "286 equals 2 * 143\n",
      "287 equals 7 * 41\n",
      "288 equals 2 * 144\n",
      "289 equals 17 * 17\n",
      "290 equals 2 * 145\n",
      "291 equals 3 * 97\n",
      "292 equals 2 * 146\n",
      "293 is a prime number\n",
      "294 equals 2 * 147\n",
      "295 equals 5 * 59\n",
      "296 equals 2 * 148\n",
      "297 equals 3 * 99\n",
      "298 equals 2 * 149\n",
      "299 equals 13 * 23\n",
      "300 equals 2 * 150\n",
      "301 equals 7 * 43\n",
      "302 equals 2 * 151\n",
      "303 equals 3 * 101\n",
      "304 equals 2 * 152\n",
      "305 equals 5 * 61\n",
      "306 equals 2 * 153\n",
      "307 is a prime number\n",
      "308 equals 2 * 154\n",
      "309 equals 3 * 103\n",
      "310 equals 2 * 155\n",
      "311 is a prime number\n",
      "312 equals 2 * 156\n",
      "313 is a prime number\n",
      "314 equals 2 * 157\n",
      "315 equals 3 * 105\n",
      "316 equals 2 * 158\n",
      "317 is a prime number\n",
      "318 equals 2 * 159\n",
      "319 equals 11 * 29\n",
      "320 equals 2 * 160\n",
      "321 equals 3 * 107\n",
      "322 equals 2 * 161\n",
      "323 equals 17 * 19\n",
      "324 equals 2 * 162\n",
      "325 equals 5 * 65\n",
      "326 equals 2 * 163\n",
      "327 equals 3 * 109\n",
      "328 equals 2 * 164\n",
      "329 equals 7 * 47\n",
      "330 equals 2 * 165\n",
      "331 is a prime number\n",
      "332 equals 2 * 166\n",
      "333 equals 3 * 111\n",
      "334 equals 2 * 167\n",
      "335 equals 5 * 67\n",
      "336 equals 2 * 168\n",
      "337 is a prime number\n",
      "338 equals 2 * 169\n",
      "339 equals 3 * 113\n",
      "340 equals 2 * 170\n",
      "341 equals 11 * 31\n",
      "342 equals 2 * 171\n",
      "343 equals 7 * 49\n",
      "344 equals 2 * 172\n",
      "345 equals 3 * 115\n",
      "346 equals 2 * 173\n",
      "347 is a prime number\n",
      "348 equals 2 * 174\n",
      "349 is a prime number\n",
      "350 equals 2 * 175\n",
      "351 equals 3 * 117\n",
      "352 equals 2 * 176\n",
      "353 is a prime number\n",
      "354 equals 2 * 177\n",
      "355 equals 5 * 71\n",
      "356 equals 2 * 178\n",
      "357 equals 3 * 119\n",
      "358 equals 2 * 179\n",
      "359 is a prime number\n",
      "360 equals 2 * 180\n",
      "361 equals 19 * 19\n",
      "362 equals 2 * 181\n",
      "363 equals 3 * 121\n",
      "364 equals 2 * 182\n",
      "365 equals 5 * 73\n",
      "366 equals 2 * 183\n",
      "367 is a prime number\n",
      "368 equals 2 * 184\n",
      "369 equals 3 * 123\n",
      "370 equals 2 * 185\n",
      "371 equals 7 * 53\n",
      "372 equals 2 * 186\n",
      "373 is a prime number\n",
      "374 equals 2 * 187\n",
      "375 equals 3 * 125\n",
      "376 equals 2 * 188\n",
      "377 equals 13 * 29\n",
      "378 equals 2 * 189\n",
      "379 is a prime number\n",
      "380 equals 2 * 190\n",
      "381 equals 3 * 127\n",
      "382 equals 2 * 191\n",
      "383 is a prime number\n",
      "384 equals 2 * 192\n",
      "385 equals 5 * 77\n",
      "386 equals 2 * 193\n",
      "387 equals 3 * 129\n",
      "388 equals 2 * 194\n",
      "389 is a prime number\n",
      "390 equals 2 * 195\n",
      "391 equals 17 * 23\n",
      "392 equals 2 * 196\n",
      "393 equals 3 * 131\n",
      "394 equals 2 * 197\n",
      "395 equals 5 * 79\n",
      "396 equals 2 * 198\n",
      "397 is a prime number\n",
      "398 equals 2 * 199\n",
      "399 equals 3 * 133\n",
      "400 equals 2 * 200\n",
      "401 is a prime number\n",
      "402 equals 2 * 201\n",
      "403 equals 13 * 31\n",
      "404 equals 2 * 202\n",
      "405 equals 3 * 135\n",
      "406 equals 2 * 203\n",
      "407 equals 11 * 37\n",
      "408 equals 2 * 204\n",
      "409 is a prime number\n",
      "410 equals 2 * 205\n",
      "411 equals 3 * 137\n",
      "412 equals 2 * 206\n",
      "413 equals 7 * 59\n",
      "414 equals 2 * 207\n",
      "415 equals 5 * 83\n",
      "416 equals 2 * 208\n",
      "417 equals 3 * 139\n",
      "418 equals 2 * 209\n",
      "419 is a prime number\n",
      "420 equals 2 * 210\n",
      "421 is a prime number\n",
      "422 equals 2 * 211\n",
      "423 equals 3 * 141\n",
      "424 equals 2 * 212\n",
      "425 equals 5 * 85\n",
      "426 equals 2 * 213\n",
      "427 equals 7 * 61\n",
      "428 equals 2 * 214\n",
      "429 equals 3 * 143\n",
      "430 equals 2 * 215\n",
      "431 is a prime number\n",
      "432 equals 2 * 216\n",
      "433 is a prime number\n",
      "434 equals 2 * 217\n",
      "435 equals 3 * 145\n",
      "436 equals 2 * 218\n",
      "437 equals 19 * 23\n",
      "438 equals 2 * 219\n",
      "439 is a prime number\n",
      "440 equals 2 * 220\n",
      "441 equals 3 * 147\n",
      "442 equals 2 * 221\n",
      "443 is a prime number\n",
      "444 equals 2 * 222\n",
      "445 equals 5 * 89\n",
      "446 equals 2 * 223\n",
      "447 equals 3 * 149\n",
      "448 equals 2 * 224\n",
      "449 is a prime number\n",
      "450 equals 2 * 225\n",
      "451 equals 11 * 41\n",
      "452 equals 2 * 226\n",
      "453 equals 3 * 151\n",
      "454 equals 2 * 227\n",
      "455 equals 5 * 91\n",
      "456 equals 2 * 228\n",
      "457 is a prime number\n",
      "458 equals 2 * 229\n",
      "459 equals 3 * 153\n",
      "460 equals 2 * 230\n",
      "461 is a prime number\n",
      "462 equals 2 * 231\n",
      "463 is a prime number\n",
      "464 equals 2 * 232\n",
      "465 equals 3 * 155\n",
      "466 equals 2 * 233\n",
      "467 is a prime number\n",
      "468 equals 2 * 234\n",
      "469 equals 7 * 67\n",
      "470 equals 2 * 235\n",
      "471 equals 3 * 157\n",
      "472 equals 2 * 236\n",
      "473 equals 11 * 43\n",
      "474 equals 2 * 237\n",
      "475 equals 5 * 95\n",
      "476 equals 2 * 238\n",
      "477 equals 3 * 159\n",
      "478 equals 2 * 239\n",
      "479 is a prime number\n",
      "480 equals 2 * 240\n",
      "481 equals 13 * 37\n",
      "482 equals 2 * 241\n",
      "483 equals 3 * 161\n",
      "484 equals 2 * 242\n",
      "485 equals 5 * 97\n",
      "486 equals 2 * 243\n",
      "487 is a prime number\n",
      "488 equals 2 * 244\n",
      "489 equals 3 * 163\n",
      "490 equals 2 * 245\n",
      "491 is a prime number\n",
      "492 equals 2 * 246\n",
      "493 equals 17 * 29\n",
      "494 equals 2 * 247\n",
      "495 equals 3 * 165\n",
      "496 equals 2 * 248\n",
      "497 equals 7 * 71\n",
      "498 equals 2 * 249\n",
      "499 is a prime number\n",
      "500 equals 2 * 250\n",
      "501 equals 3 * 167\n",
      "502 equals 2 * 251\n",
      "503 is a prime number\n",
      "504 equals 2 * 252\n",
      "505 equals 5 * 101\n",
      "506 equals 2 * 253\n",
      "507 equals 3 * 169\n",
      "508 equals 2 * 254\n",
      "509 is a prime number\n",
      "510 equals 2 * 255\n",
      "511 equals 7 * 73\n",
      "512 equals 2 * 256\n",
      "513 equals 3 * 171\n",
      "514 equals 2 * 257\n",
      "515 equals 5 * 103\n",
      "516 equals 2 * 258\n",
      "517 equals 11 * 47\n",
      "518 equals 2 * 259\n",
      "519 equals 3 * 173\n",
      "520 equals 2 * 260\n",
      "521 is a prime number\n",
      "522 equals 2 * 261\n",
      "523 is a prime number\n",
      "524 equals 2 * 262\n",
      "525 equals 3 * 175\n",
      "526 equals 2 * 263\n",
      "527 equals 17 * 31\n",
      "528 equals 2 * 264\n",
      "529 equals 23 * 23\n",
      "530 equals 2 * 265\n",
      "531 equals 3 * 177\n",
      "532 equals 2 * 266\n",
      "533 equals 13 * 41\n",
      "534 equals 2 * 267\n",
      "535 equals 5 * 107\n",
      "536 equals 2 * 268\n",
      "537 equals 3 * 179\n",
      "538 equals 2 * 269\n",
      "539 equals 7 * 77\n",
      "540 equals 2 * 270\n",
      "541 is a prime number\n",
      "542 equals 2 * 271\n",
      "543 equals 3 * 181\n",
      "544 equals 2 * 272\n",
      "545 equals 5 * 109\n",
      "546 equals 2 * 273\n",
      "547 is a prime number\n",
      "548 equals 2 * 274\n",
      "549 equals 3 * 183\n",
      "550 equals 2 * 275\n",
      "551 equals 19 * 29\n",
      "552 equals 2 * 276\n",
      "553 equals 7 * 79\n",
      "554 equals 2 * 277\n",
      "555 equals 3 * 185\n",
      "556 equals 2 * 278\n",
      "557 is a prime number\n",
      "558 equals 2 * 279\n",
      "559 equals 13 * 43\n",
      "560 equals 2 * 280\n",
      "561 equals 3 * 187\n",
      "562 equals 2 * 281\n",
      "563 is a prime number\n",
      "564 equals 2 * 282\n",
      "565 equals 5 * 113\n",
      "566 equals 2 * 283\n",
      "567 equals 3 * 189\n",
      "568 equals 2 * 284\n",
      "569 is a prime number\n",
      "570 equals 2 * 285\n",
      "571 is a prime number\n",
      "572 equals 2 * 286\n",
      "573 equals 3 * 191\n",
      "574 equals 2 * 287\n",
      "575 equals 5 * 115\n",
      "576 equals 2 * 288\n",
      "577 is a prime number\n",
      "578 equals 2 * 289\n",
      "579 equals 3 * 193\n",
      "580 equals 2 * 290\n",
      "581 equals 7 * 83\n",
      "582 equals 2 * 291\n",
      "583 equals 11 * 53\n",
      "584 equals 2 * 292\n",
      "585 equals 3 * 195\n",
      "586 equals 2 * 293\n",
      "587 is a prime number\n",
      "588 equals 2 * 294\n",
      "589 equals 19 * 31\n",
      "590 equals 2 * 295\n",
      "591 equals 3 * 197\n",
      "592 equals 2 * 296\n",
      "593 is a prime number\n",
      "594 equals 2 * 297\n",
      "595 equals 5 * 119\n",
      "596 equals 2 * 298\n",
      "597 equals 3 * 199\n",
      "598 equals 2 * 299\n",
      "599 is a prime number\n",
      "600 equals 2 * 300\n",
      "601 is a prime number\n",
      "602 equals 2 * 301\n",
      "603 equals 3 * 201\n",
      "604 equals 2 * 302\n",
      "605 equals 5 * 121\n",
      "606 equals 2 * 303\n",
      "607 is a prime number\n",
      "608 equals 2 * 304\n",
      "609 equals 3 * 203\n",
      "610 equals 2 * 305\n",
      "611 equals 13 * 47\n",
      "612 equals 2 * 306\n",
      "613 is a prime number\n",
      "614 equals 2 * 307\n",
      "615 equals 3 * 205\n",
      "616 equals 2 * 308\n",
      "617 is a prime number\n",
      "618 equals 2 * 309\n",
      "619 is a prime number\n",
      "620 equals 2 * 310\n",
      "621 equals 3 * 207\n",
      "622 equals 2 * 311\n",
      "623 equals 7 * 89\n",
      "624 equals 2 * 312\n",
      "625 equals 5 * 125\n",
      "626 equals 2 * 313\n",
      "627 equals 3 * 209\n",
      "628 equals 2 * 314\n",
      "629 equals 17 * 37\n",
      "630 equals 2 * 315\n",
      "631 is a prime number\n",
      "632 equals 2 * 316\n",
      "633 equals 3 * 211\n",
      "634 equals 2 * 317\n",
      "635 equals 5 * 127\n",
      "636 equals 2 * 318\n",
      "637 equals 7 * 91\n",
      "638 equals 2 * 319\n",
      "639 equals 3 * 213\n",
      "640 equals 2 * 320\n",
      "641 is a prime number\n",
      "642 equals 2 * 321\n",
      "643 is a prime number\n",
      "644 equals 2 * 322\n",
      "645 equals 3 * 215\n",
      "646 equals 2 * 323\n",
      "647 is a prime number\n",
      "648 equals 2 * 324\n",
      "649 equals 11 * 59\n",
      "650 equals 2 * 325\n",
      "651 equals 3 * 217\n",
      "652 equals 2 * 326\n",
      "653 is a prime number\n",
      "654 equals 2 * 327\n",
      "655 equals 5 * 131\n",
      "656 equals 2 * 328\n",
      "657 equals 3 * 219\n",
      "658 equals 2 * 329\n",
      "659 is a prime number\n",
      "660 equals 2 * 330\n",
      "661 is a prime number\n",
      "662 equals 2 * 331\n",
      "663 equals 3 * 221\n",
      "664 equals 2 * 332\n",
      "665 equals 5 * 133\n",
      "666 equals 2 * 333\n",
      "667 equals 23 * 29\n",
      "668 equals 2 * 334\n",
      "669 equals 3 * 223\n",
      "670 equals 2 * 335\n",
      "671 equals 11 * 61\n",
      "672 equals 2 * 336\n",
      "673 is a prime number\n",
      "674 equals 2 * 337\n",
      "675 equals 3 * 225\n",
      "676 equals 2 * 338\n",
      "677 is a prime number\n",
      "678 equals 2 * 339\n",
      "679 equals 7 * 97\n",
      "680 equals 2 * 340\n",
      "681 equals 3 * 227\n",
      "682 equals 2 * 341\n",
      "683 is a prime number\n",
      "684 equals 2 * 342\n",
      "685 equals 5 * 137\n",
      "686 equals 2 * 343\n",
      "687 equals 3 * 229\n",
      "688 equals 2 * 344\n",
      "689 equals 13 * 53\n",
      "690 equals 2 * 345\n",
      "691 is a prime number\n",
      "692 equals 2 * 346\n",
      "693 equals 3 * 231\n",
      "694 equals 2 * 347\n",
      "695 equals 5 * 139\n",
      "696 equals 2 * 348\n",
      "697 equals 17 * 41\n",
      "698 equals 2 * 349\n",
      "699 equals 3 * 233\n",
      "700 equals 2 * 350\n",
      "701 is a prime number\n",
      "702 equals 2 * 351\n",
      "703 equals 19 * 37\n",
      "704 equals 2 * 352\n",
      "705 equals 3 * 235\n",
      "706 equals 2 * 353\n",
      "707 equals 7 * 101\n",
      "708 equals 2 * 354\n",
      "709 is a prime number\n",
      "710 equals 2 * 355\n",
      "711 equals 3 * 237\n",
      "712 equals 2 * 356\n",
      "713 equals 23 * 31\n",
      "714 equals 2 * 357\n",
      "715 equals 5 * 143\n",
      "716 equals 2 * 358\n",
      "717 equals 3 * 239\n",
      "718 equals 2 * 359\n",
      "719 is a prime number\n",
      "720 equals 2 * 360\n",
      "721 equals 7 * 103\n",
      "722 equals 2 * 361\n",
      "723 equals 3 * 241\n",
      "724 equals 2 * 362\n",
      "725 equals 5 * 145\n",
      "726 equals 2 * 363\n",
      "727 is a prime number\n",
      "728 equals 2 * 364\n",
      "729 equals 3 * 243\n",
      "730 equals 2 * 365\n",
      "731 equals 17 * 43\n",
      "732 equals 2 * 366\n",
      "733 is a prime number\n",
      "734 equals 2 * 367\n",
      "735 equals 3 * 245\n",
      "736 equals 2 * 368\n",
      "737 equals 11 * 67\n",
      "738 equals 2 * 369\n",
      "739 is a prime number\n",
      "740 equals 2 * 370\n",
      "741 equals 3 * 247\n",
      "742 equals 2 * 371\n",
      "743 is a prime number\n",
      "744 equals 2 * 372\n",
      "745 equals 5 * 149\n",
      "746 equals 2 * 373\n",
      "747 equals 3 * 249\n",
      "748 equals 2 * 374\n",
      "749 equals 7 * 107\n",
      "750 equals 2 * 375\n",
      "751 is a prime number\n",
      "752 equals 2 * 376\n",
      "753 equals 3 * 251\n",
      "754 equals 2 * 377\n",
      "755 equals 5 * 151\n",
      "756 equals 2 * 378\n",
      "757 is a prime number\n",
      "758 equals 2 * 379\n",
      "759 equals 3 * 253\n",
      "760 equals 2 * 380\n",
      "761 is a prime number\n",
      "762 equals 2 * 381\n",
      "763 equals 7 * 109\n",
      "764 equals 2 * 382\n",
      "765 equals 3 * 255\n",
      "766 equals 2 * 383\n",
      "767 equals 13 * 59\n",
      "768 equals 2 * 384\n",
      "769 is a prime number\n",
      "770 equals 2 * 385\n",
      "771 equals 3 * 257\n",
      "772 equals 2 * 386\n",
      "773 is a prime number\n",
      "774 equals 2 * 387\n",
      "775 equals 5 * 155\n",
      "776 equals 2 * 388\n",
      "777 equals 3 * 259\n",
      "778 equals 2 * 389\n",
      "779 equals 19 * 41\n",
      "780 equals 2 * 390\n",
      "781 equals 11 * 71\n",
      "782 equals 2 * 391\n",
      "783 equals 3 * 261\n",
      "784 equals 2 * 392\n",
      "785 equals 5 * 157\n",
      "786 equals 2 * 393\n",
      "787 is a prime number\n",
      "788 equals 2 * 394\n",
      "789 equals 3 * 263\n",
      "790 equals 2 * 395\n",
      "791 equals 7 * 113\n",
      "792 equals 2 * 396\n",
      "793 equals 13 * 61\n",
      "794 equals 2 * 397\n",
      "795 equals 3 * 265\n",
      "796 equals 2 * 398\n",
      "797 is a prime number\n",
      "798 equals 2 * 399\n",
      "799 equals 17 * 47\n",
      "800 equals 2 * 400\n",
      "801 equals 3 * 267\n",
      "802 equals 2 * 401\n",
      "803 equals 11 * 73\n",
      "804 equals 2 * 402\n",
      "805 equals 5 * 161\n",
      "806 equals 2 * 403\n",
      "807 equals 3 * 269\n",
      "808 equals 2 * 404\n",
      "809 is a prime number\n",
      "810 equals 2 * 405\n",
      "811 is a prime number\n",
      "812 equals 2 * 406\n",
      "813 equals 3 * 271\n",
      "814 equals 2 * 407\n",
      "815 equals 5 * 163\n",
      "816 equals 2 * 408\n",
      "817 equals 19 * 43\n",
      "818 equals 2 * 409\n",
      "819 equals 3 * 273\n",
      "820 equals 2 * 410\n",
      "821 is a prime number\n",
      "822 equals 2 * 411\n",
      "823 is a prime number\n",
      "824 equals 2 * 412\n",
      "825 equals 3 * 275\n",
      "826 equals 2 * 413\n",
      "827 is a prime number\n",
      "828 equals 2 * 414\n",
      "829 is a prime number\n",
      "830 equals 2 * 415\n",
      "831 equals 3 * 277\n",
      "832 equals 2 * 416\n",
      "833 equals 7 * 119\n",
      "834 equals 2 * 417\n",
      "835 equals 5 * 167\n",
      "836 equals 2 * 418\n",
      "837 equals 3 * 279\n",
      "838 equals 2 * 419\n",
      "839 is a prime number\n",
      "840 equals 2 * 420\n",
      "841 equals 29 * 29\n",
      "842 equals 2 * 421\n",
      "843 equals 3 * 281\n",
      "844 equals 2 * 422\n",
      "845 equals 5 * 169\n",
      "846 equals 2 * 423\n",
      "847 equals 7 * 121\n",
      "848 equals 2 * 424\n",
      "849 equals 3 * 283\n",
      "850 equals 2 * 425\n",
      "851 equals 23 * 37\n",
      "852 equals 2 * 426\n",
      "853 is a prime number\n",
      "854 equals 2 * 427\n",
      "855 equals 3 * 285\n",
      "856 equals 2 * 428\n",
      "857 is a prime number\n",
      "858 equals 2 * 429\n",
      "859 is a prime number\n",
      "860 equals 2 * 430\n",
      "861 equals 3 * 287\n",
      "862 equals 2 * 431\n",
      "863 is a prime number\n",
      "864 equals 2 * 432\n",
      "865 equals 5 * 173\n",
      "866 equals 2 * 433\n",
      "867 equals 3 * 289\n",
      "868 equals 2 * 434\n",
      "869 equals 11 * 79\n",
      "870 equals 2 * 435\n",
      "871 equals 13 * 67\n",
      "872 equals 2 * 436\n",
      "873 equals 3 * 291\n",
      "874 equals 2 * 437\n",
      "875 equals 5 * 175\n",
      "876 equals 2 * 438\n",
      "877 is a prime number\n",
      "878 equals 2 * 439\n",
      "879 equals 3 * 293\n",
      "880 equals 2 * 440\n",
      "881 is a prime number\n",
      "882 equals 2 * 441\n",
      "883 is a prime number\n",
      "884 equals 2 * 442\n",
      "885 equals 3 * 295\n",
      "886 equals 2 * 443\n",
      "887 is a prime number\n",
      "888 equals 2 * 444\n",
      "889 equals 7 * 127\n",
      "890 equals 2 * 445\n",
      "891 equals 3 * 297\n",
      "892 equals 2 * 446\n",
      "893 equals 19 * 47\n",
      "894 equals 2 * 447\n",
      "895 equals 5 * 179\n",
      "896 equals 2 * 448\n",
      "897 equals 3 * 299\n",
      "898 equals 2 * 449\n",
      "899 equals 29 * 31\n",
      "900 equals 2 * 450\n",
      "901 equals 17 * 53\n",
      "902 equals 2 * 451\n",
      "903 equals 3 * 301\n",
      "904 equals 2 * 452\n",
      "905 equals 5 * 181\n",
      "906 equals 2 * 453\n",
      "907 is a prime number\n",
      "908 equals 2 * 454\n",
      "909 equals 3 * 303\n",
      "910 equals 2 * 455\n",
      "911 is a prime number\n",
      "912 equals 2 * 456\n",
      "913 equals 11 * 83\n",
      "914 equals 2 * 457\n",
      "915 equals 3 * 305\n",
      "916 equals 2 * 458\n",
      "917 equals 7 * 131\n",
      "918 equals 2 * 459\n",
      "919 is a prime number\n",
      "920 equals 2 * 460\n",
      "921 equals 3 * 307\n",
      "922 equals 2 * 461\n",
      "923 equals 13 * 71\n",
      "924 equals 2 * 462\n",
      "925 equals 5 * 185\n",
      "926 equals 2 * 463\n",
      "927 equals 3 * 309\n",
      "928 equals 2 * 464\n",
      "929 is a prime number\n",
      "930 equals 2 * 465\n",
      "931 equals 7 * 133\n",
      "932 equals 2 * 466\n",
      "933 equals 3 * 311\n",
      "934 equals 2 * 467\n",
      "935 equals 5 * 187\n",
      "936 equals 2 * 468\n",
      "937 is a prime number\n",
      "938 equals 2 * 469\n",
      "939 equals 3 * 313\n",
      "940 equals 2 * 470\n",
      "941 is a prime number\n",
      "942 equals 2 * 471\n",
      "943 equals 23 * 41\n",
      "944 equals 2 * 472\n",
      "945 equals 3 * 315\n",
      "946 equals 2 * 473\n",
      "947 is a prime number\n",
      "948 equals 2 * 474\n",
      "949 equals 13 * 73\n",
      "950 equals 2 * 475\n",
      "951 equals 3 * 317\n",
      "952 equals 2 * 476\n",
      "953 is a prime number\n",
      "954 equals 2 * 477\n",
      "955 equals 5 * 191\n",
      "956 equals 2 * 478\n",
      "957 equals 3 * 319\n",
      "958 equals 2 * 479\n",
      "959 equals 7 * 137\n",
      "960 equals 2 * 480\n",
      "961 equals 31 * 31\n",
      "962 equals 2 * 481\n",
      "963 equals 3 * 321\n",
      "964 equals 2 * 482\n",
      "965 equals 5 * 193\n",
      "966 equals 2 * 483\n",
      "967 is a prime number\n",
      "968 equals 2 * 484\n",
      "969 equals 3 * 323\n",
      "970 equals 2 * 485\n",
      "971 is a prime number\n",
      "972 equals 2 * 486\n",
      "973 equals 7 * 139\n",
      "974 equals 2 * 487\n",
      "975 equals 3 * 325\n",
      "976 equals 2 * 488\n",
      "977 is a prime number\n",
      "978 equals 2 * 489\n",
      "979 equals 11 * 89\n",
      "980 equals 2 * 490\n",
      "981 equals 3 * 327\n",
      "982 equals 2 * 491\n",
      "983 is a prime number\n",
      "984 equals 2 * 492\n",
      "985 equals 5 * 197\n",
      "986 equals 2 * 493\n",
      "987 equals 3 * 329\n",
      "988 equals 2 * 494\n",
      "989 equals 23 * 43\n",
      "990 equals 2 * 495\n",
      "991 is a prime number\n",
      "992 equals 2 * 496\n",
      "993 equals 3 * 331\n",
      "994 equals 2 * 497\n",
      "995 equals 5 * 199\n",
      "996 equals 2 * 498\n",
      "997 is a prime number\n",
      "998 equals 2 * 499\n",
      "999 equals 3 * 333\n",
      "1000 equals 2 * 500\n",
      "1001 equals 7 * 143\n",
      "1002 equals 2 * 501\n",
      "1003 equals 17 * 59\n",
      "1004 equals 2 * 502\n",
      "1005 equals 3 * 335\n",
      "1006 equals 2 * 503\n",
      "1007 equals 19 * 53\n",
      "1008 equals 2 * 504\n",
      "1009 is a prime number\n",
      "1010 equals 2 * 505\n",
      "1011 equals 3 * 337\n",
      "1012 equals 2 * 506\n",
      "1013 is a prime number\n",
      "1014 equals 2 * 507\n",
      "1015 equals 5 * 203\n",
      "1016 equals 2 * 508\n",
      "1017 equals 3 * 339\n",
      "1018 equals 2 * 509\n",
      "1019 is a prime number\n",
      "1020 equals 2 * 510\n",
      "1021 is a prime number\n",
      "1022 equals 2 * 511\n",
      "1023 equals 3 * 341\n",
      "1024 equals 2 * 512\n",
      "1025 equals 5 * 205\n",
      "1026 equals 2 * 513\n",
      "1027 equals 13 * 79\n",
      "1028 equals 2 * 514\n",
      "1029 equals 3 * 343\n",
      "1030 equals 2 * 515\n",
      "1031 is a prime number\n",
      "1032 equals 2 * 516\n",
      "1033 is a prime number\n",
      "1034 equals 2 * 517\n",
      "1035 equals 3 * 345\n",
      "1036 equals 2 * 518\n",
      "1037 equals 17 * 61\n",
      "1038 equals 2 * 519\n",
      "1039 is a prime number\n",
      "1040 equals 2 * 520\n",
      "1041 equals 3 * 347\n",
      "1042 equals 2 * 521\n",
      "1043 equals 7 * 149\n",
      "1044 equals 2 * 522\n",
      "1045 equals 5 * 209\n",
      "1046 equals 2 * 523\n",
      "1047 equals 3 * 349\n",
      "1048 equals 2 * 524\n",
      "1049 is a prime number\n",
      "1050 equals 2 * 525\n",
      "1051 is a prime number\n",
      "1052 equals 2 * 526\n",
      "1053 equals 3 * 351\n",
      "1054 equals 2 * 527\n",
      "1055 equals 5 * 211\n",
      "1056 equals 2 * 528\n",
      "1057 equals 7 * 151\n",
      "1058 equals 2 * 529\n",
      "1059 equals 3 * 353\n",
      "1060 equals 2 * 530\n",
      "1061 is a prime number\n",
      "1062 equals 2 * 531\n",
      "1063 is a prime number\n",
      "1064 equals 2 * 532\n",
      "1065 equals 3 * 355\n",
      "1066 equals 2 * 533\n",
      "1067 equals 11 * 97\n",
      "1068 equals 2 * 534\n",
      "1069 is a prime number\n",
      "1070 equals 2 * 535\n",
      "1071 equals 3 * 357\n",
      "1072 equals 2 * 536\n",
      "1073 equals 29 * 37\n",
      "1074 equals 2 * 537\n",
      "1075 equals 5 * 215\n",
      "1076 equals 2 * 538\n",
      "1077 equals 3 * 359\n",
      "1078 equals 2 * 539\n",
      "1079 equals 13 * 83\n",
      "1080 equals 2 * 540\n",
      "1081 equals 23 * 47\n",
      "1082 equals 2 * 541\n",
      "1083 equals 3 * 361\n",
      "1084 equals 2 * 542\n",
      "1085 equals 5 * 217\n",
      "1086 equals 2 * 543\n",
      "1087 is a prime number\n",
      "1088 equals 2 * 544\n",
      "1089 equals 3 * 363\n",
      "1090 equals 2 * 545\n",
      "1091 is a prime number\n",
      "1092 equals 2 * 546\n",
      "1093 is a prime number\n",
      "1094 equals 2 * 547\n",
      "1095 equals 3 * 365\n",
      "1096 equals 2 * 548\n",
      "1097 is a prime number\n",
      "1098 equals 2 * 549\n",
      "1099 equals 7 * 157\n",
      "1100 equals 2 * 550\n",
      "1101 equals 3 * 367\n",
      "1102 equals 2 * 551\n",
      "1103 is a prime number\n",
      "1104 equals 2 * 552\n",
      "1105 equals 5 * 221\n",
      "1106 equals 2 * 553\n",
      "1107 equals 3 * 369\n",
      "1108 equals 2 * 554\n",
      "1109 is a prime number\n",
      "1110 equals 2 * 555\n",
      "1111 equals 11 * 101\n",
      "1112 equals 2 * 556\n",
      "1113 equals 3 * 371\n",
      "1114 equals 2 * 557\n",
      "1115 equals 5 * 223\n",
      "1116 equals 2 * 558\n",
      "1117 is a prime number\n",
      "1118 equals 2 * 559\n",
      "1119 equals 3 * 373\n",
      "1120 equals 2 * 560\n",
      "1121 equals 19 * 59\n",
      "1122 equals 2 * 561\n",
      "1123 is a prime number\n",
      "1124 equals 2 * 562\n",
      "1125 equals 3 * 375\n",
      "1126 equals 2 * 563\n",
      "1127 equals 7 * 161\n",
      "1128 equals 2 * 564\n",
      "1129 is a prime number\n",
      "1130 equals 2 * 565\n",
      "1131 equals 3 * 377\n",
      "1132 equals 2 * 566\n",
      "1133 equals 11 * 103\n",
      "1134 equals 2 * 567\n",
      "1135 equals 5 * 227\n",
      "1136 equals 2 * 568\n",
      "1137 equals 3 * 379\n",
      "1138 equals 2 * 569\n",
      "1139 equals 17 * 67\n",
      "1140 equals 2 * 570\n",
      "1141 equals 7 * 163\n",
      "1142 equals 2 * 571\n",
      "1143 equals 3 * 381\n",
      "1144 equals 2 * 572\n",
      "1145 equals 5 * 229\n",
      "1146 equals 2 * 573\n",
      "1147 equals 31 * 37\n",
      "1148 equals 2 * 574\n",
      "1149 equals 3 * 383\n",
      "1150 equals 2 * 575\n",
      "1151 is a prime number\n",
      "1152 equals 2 * 576\n",
      "1153 is a prime number\n",
      "1154 equals 2 * 577\n",
      "1155 equals 3 * 385\n",
      "1156 equals 2 * 578\n",
      "1157 equals 13 * 89\n",
      "1158 equals 2 * 579\n",
      "1159 equals 19 * 61\n",
      "1160 equals 2 * 580\n",
      "1161 equals 3 * 387\n",
      "1162 equals 2 * 581\n",
      "1163 is a prime number\n",
      "1164 equals 2 * 582\n",
      "1165 equals 5 * 233\n",
      "1166 equals 2 * 583\n",
      "1167 equals 3 * 389\n",
      "1168 equals 2 * 584\n",
      "1169 equals 7 * 167\n",
      "1170 equals 2 * 585\n",
      "1171 is a prime number\n",
      "1172 equals 2 * 586\n",
      "1173 equals 3 * 391\n",
      "1174 equals 2 * 587\n",
      "1175 equals 5 * 235\n",
      "1176 equals 2 * 588\n",
      "1177 equals 11 * 107\n",
      "1178 equals 2 * 589\n",
      "1179 equals 3 * 393\n",
      "1180 equals 2 * 590\n",
      "1181 is a prime number\n",
      "1182 equals 2 * 591\n",
      "1183 equals 7 * 169\n",
      "1184 equals 2 * 592\n",
      "1185 equals 3 * 395\n",
      "1186 equals 2 * 593\n",
      "1187 is a prime number\n",
      "1188 equals 2 * 594\n",
      "1189 equals 29 * 41\n",
      "1190 equals 2 * 595\n",
      "1191 equals 3 * 397\n",
      "1192 equals 2 * 596\n",
      "1193 is a prime number\n",
      "1194 equals 2 * 597\n",
      "1195 equals 5 * 239\n",
      "1196 equals 2 * 598\n",
      "1197 equals 3 * 399\n",
      "1198 equals 2 * 599\n",
      "1199 equals 11 * 109\n",
      "1200 equals 2 * 600\n",
      "1201 is a prime number\n",
      "1202 equals 2 * 601\n",
      "1203 equals 3 * 401\n",
      "1204 equals 2 * 602\n",
      "1205 equals 5 * 241\n",
      "1206 equals 2 * 603\n",
      "1207 equals 17 * 71\n",
      "1208 equals 2 * 604\n",
      "1209 equals 3 * 403\n",
      "1210 equals 2 * 605\n",
      "1211 equals 7 * 173\n",
      "1212 equals 2 * 606\n",
      "1213 is a prime number\n",
      "1214 equals 2 * 607\n",
      "1215 equals 3 * 405\n",
      "1216 equals 2 * 608\n",
      "1217 is a prime number\n",
      "1218 equals 2 * 609\n",
      "1219 equals 23 * 53\n",
      "1220 equals 2 * 610\n",
      "1221 equals 3 * 407\n",
      "1222 equals 2 * 611\n",
      "1223 is a prime number\n",
      "1224 equals 2 * 612\n",
      "1225 equals 5 * 245\n",
      "1226 equals 2 * 613\n",
      "1227 equals 3 * 409\n",
      "1228 equals 2 * 614\n",
      "1229 is a prime number\n",
      "1230 equals 2 * 615\n",
      "1231 is a prime number\n",
      "1232 equals 2 * 616\n",
      "1233 equals 3 * 411\n",
      "1234 equals 2 * 617\n",
      "1235 equals 5 * 247\n",
      "1236 equals 2 * 618\n",
      "1237 is a prime number\n",
      "1238 equals 2 * 619\n",
      "1239 equals 3 * 413\n",
      "1240 equals 2 * 620\n",
      "1241 equals 17 * 73\n",
      "1242 equals 2 * 621\n",
      "1243 equals 11 * 113\n",
      "1244 equals 2 * 622\n",
      "1245 equals 3 * 415\n",
      "1246 equals 2 * 623\n",
      "1247 equals 29 * 43\n",
      "1248 equals 2 * 624\n",
      "1249 is a prime number\n",
      "1250 equals 2 * 625\n",
      "1251 equals 3 * 417\n",
      "1252 equals 2 * 626\n",
      "1253 equals 7 * 179\n",
      "1254 equals 2 * 627\n",
      "1255 equals 5 * 251\n",
      "1256 equals 2 * 628\n",
      "1257 equals 3 * 419\n",
      "1258 equals 2 * 629\n",
      "1259 is a prime number\n",
      "1260 equals 2 * 630\n",
      "1261 equals 13 * 97\n",
      "1262 equals 2 * 631\n",
      "1263 equals 3 * 421\n",
      "1264 equals 2 * 632\n",
      "1265 equals 5 * 253\n",
      "1266 equals 2 * 633\n",
      "1267 equals 7 * 181\n",
      "1268 equals 2 * 634\n",
      "1269 equals 3 * 423\n",
      "1270 equals 2 * 635\n",
      "1271 equals 31 * 41\n",
      "1272 equals 2 * 636\n",
      "1273 equals 19 * 67\n",
      "1274 equals 2 * 637\n",
      "1275 equals 3 * 425\n",
      "1276 equals 2 * 638\n",
      "1277 is a prime number\n",
      "1278 equals 2 * 639\n",
      "1279 is a prime number\n",
      "1280 equals 2 * 640\n",
      "1281 equals 3 * 427\n",
      "1282 equals 2 * 641\n",
      "1283 is a prime number\n",
      "1284 equals 2 * 642\n",
      "1285 equals 5 * 257\n",
      "1286 equals 2 * 643\n",
      "1287 equals 3 * 429\n",
      "1288 equals 2 * 644\n",
      "1289 is a prime number\n",
      "1290 equals 2 * 645\n",
      "1291 is a prime number\n",
      "1292 equals 2 * 646\n",
      "1293 equals 3 * 431\n",
      "1294 equals 2 * 647\n",
      "1295 equals 5 * 259\n",
      "1296 equals 2 * 648\n",
      "1297 is a prime number\n",
      "1298 equals 2 * 649\n",
      "1299 equals 3 * 433\n",
      "1300 equals 2 * 650\n",
      "1301 is a prime number\n",
      "1302 equals 2 * 651\n",
      "1303 is a prime number\n",
      "1304 equals 2 * 652\n",
      "1305 equals 3 * 435\n",
      "1306 equals 2 * 653\n",
      "1307 is a prime number\n",
      "1308 equals 2 * 654\n",
      "1309 equals 7 * 187\n",
      "1310 equals 2 * 655\n",
      "1311 equals 3 * 437\n",
      "1312 equals 2 * 656\n",
      "1313 equals 13 * 101\n",
      "1314 equals 2 * 657\n",
      "1315 equals 5 * 263\n",
      "1316 equals 2 * 658\n",
      "1317 equals 3 * 439\n",
      "1318 equals 2 * 659\n",
      "1319 is a prime number\n",
      "1320 equals 2 * 660\n",
      "1321 is a prime number\n",
      "1322 equals 2 * 661\n",
      "1323 equals 3 * 441\n",
      "1324 equals 2 * 662\n",
      "1325 equals 5 * 265\n",
      "1326 equals 2 * 663\n",
      "1327 is a prime number\n",
      "1328 equals 2 * 664\n",
      "1329 equals 3 * 443\n",
      "1330 equals 2 * 665\n",
      "1331 equals 11 * 121\n",
      "1332 equals 2 * 666\n",
      "1333 equals 31 * 43\n",
      "1334 equals 2 * 667\n",
      "1335 equals 3 * 445\n",
      "1336 equals 2 * 668\n",
      "1337 equals 7 * 191\n",
      "1338 equals 2 * 669\n",
      "1339 equals 13 * 103\n",
      "1340 equals 2 * 670\n",
      "1341 equals 3 * 447\n",
      "1342 equals 2 * 671\n",
      "1343 equals 17 * 79\n",
      "1344 equals 2 * 672\n",
      "1345 equals 5 * 269\n",
      "1346 equals 2 * 673\n",
      "1347 equals 3 * 449\n",
      "1348 equals 2 * 674\n",
      "1349 equals 19 * 71\n",
      "1350 equals 2 * 675\n",
      "1351 equals 7 * 193\n",
      "1352 equals 2 * 676\n",
      "1353 equals 3 * 451\n",
      "1354 equals 2 * 677\n",
      "1355 equals 5 * 271\n",
      "1356 equals 2 * 678\n",
      "1357 equals 23 * 59\n",
      "1358 equals 2 * 679\n",
      "1359 equals 3 * 453\n",
      "1360 equals 2 * 680\n",
      "1361 is a prime number\n",
      "1362 equals 2 * 681\n",
      "1363 equals 29 * 47\n",
      "1364 equals 2 * 682\n",
      "1365 equals 3 * 455\n",
      "1366 equals 2 * 683\n",
      "1367 is a prime number\n",
      "1368 equals 2 * 684\n",
      "1369 equals 37 * 37\n",
      "1370 equals 2 * 685\n",
      "1371 equals 3 * 457\n",
      "1372 equals 2 * 686\n",
      "1373 is a prime number\n",
      "1374 equals 2 * 687\n",
      "1375 equals 5 * 275\n",
      "1376 equals 2 * 688\n",
      "1377 equals 3 * 459\n",
      "1378 equals 2 * 689\n",
      "1379 equals 7 * 197\n",
      "1380 equals 2 * 690\n",
      "1381 is a prime number\n",
      "1382 equals 2 * 691\n",
      "1383 equals 3 * 461\n",
      "1384 equals 2 * 692\n",
      "1385 equals 5 * 277\n",
      "1386 equals 2 * 693\n",
      "1387 equals 19 * 73\n",
      "1388 equals 2 * 694\n",
      "1389 equals 3 * 463\n",
      "1390 equals 2 * 695\n",
      "1391 equals 13 * 107\n",
      "1392 equals 2 * 696\n",
      "1393 equals 7 * 199\n",
      "1394 equals 2 * 697\n",
      "1395 equals 3 * 465\n",
      "1396 equals 2 * 698\n",
      "1397 equals 11 * 127\n",
      "1398 equals 2 * 699\n",
      "1399 is a prime number\n",
      "1400 equals 2 * 700\n",
      "1401 equals 3 * 467\n",
      "1402 equals 2 * 701\n",
      "1403 equals 23 * 61\n",
      "1404 equals 2 * 702\n",
      "1405 equals 5 * 281\n",
      "1406 equals 2 * 703\n",
      "1407 equals 3 * 469\n",
      "1408 equals 2 * 704\n",
      "1409 is a prime number\n",
      "1410 equals 2 * 705\n",
      "1411 equals 17 * 83\n",
      "1412 equals 2 * 706\n",
      "1413 equals 3 * 471\n",
      "1414 equals 2 * 707\n",
      "1415 equals 5 * 283\n",
      "1416 equals 2 * 708\n",
      "1417 equals 13 * 109\n",
      "1418 equals 2 * 709\n",
      "1419 equals 3 * 473\n",
      "1420 equals 2 * 710\n",
      "1421 equals 7 * 203\n",
      "1422 equals 2 * 711\n",
      "1423 is a prime number\n",
      "1424 equals 2 * 712\n",
      "1425 equals 3 * 475\n",
      "1426 equals 2 * 713\n",
      "1427 is a prime number\n",
      "1428 equals 2 * 714\n",
      "1429 is a prime number\n",
      "1430 equals 2 * 715\n",
      "1431 equals 3 * 477\n",
      "1432 equals 2 * 716\n",
      "1433 is a prime number\n",
      "1434 equals 2 * 717\n",
      "1435 equals 5 * 287\n",
      "1436 equals 2 * 718\n",
      "1437 equals 3 * 479\n",
      "1438 equals 2 * 719\n",
      "1439 is a prime number\n",
      "1440 equals 2 * 720\n",
      "1441 equals 11 * 131\n",
      "1442 equals 2 * 721\n",
      "1443 equals 3 * 481\n",
      "1444 equals 2 * 722\n",
      "1445 equals 5 * 289\n",
      "1446 equals 2 * 723\n",
      "1447 is a prime number\n",
      "1448 equals 2 * 724\n",
      "1449 equals 3 * 483\n",
      "1450 equals 2 * 725\n",
      "1451 is a prime number\n",
      "1452 equals 2 * 726\n",
      "1453 is a prime number\n",
      "1454 equals 2 * 727\n",
      "1455 equals 3 * 485\n",
      "1456 equals 2 * 728\n",
      "1457 equals 31 * 47\n",
      "1458 equals 2 * 729\n",
      "1459 is a prime number\n",
      "1460 equals 2 * 730\n",
      "1461 equals 3 * 487\n",
      "1462 equals 2 * 731\n",
      "1463 equals 7 * 209\n",
      "1464 equals 2 * 732\n",
      "1465 equals 5 * 293\n",
      "1466 equals 2 * 733\n",
      "1467 equals 3 * 489\n",
      "1468 equals 2 * 734\n",
      "1469 equals 13 * 113\n",
      "1470 equals 2 * 735\n",
      "1471 is a prime number\n",
      "1472 equals 2 * 736\n",
      "1473 equals 3 * 491\n",
      "1474 equals 2 * 737\n",
      "1475 equals 5 * 295\n",
      "1476 equals 2 * 738\n",
      "1477 equals 7 * 211\n",
      "1478 equals 2 * 739\n",
      "1479 equals 3 * 493\n",
      "1480 equals 2 * 740\n",
      "1481 is a prime number\n",
      "1482 equals 2 * 741\n",
      "1483 is a prime number\n",
      "1484 equals 2 * 742\n",
      "1485 equals 3 * 495\n",
      "1486 equals 2 * 743\n",
      "1487 is a prime number\n",
      "1488 equals 2 * 744\n",
      "1489 is a prime number\n",
      "1490 equals 2 * 745\n",
      "1491 equals 3 * 497\n",
      "1492 equals 2 * 746\n",
      "1493 is a prime number\n",
      "1494 equals 2 * 747\n",
      "1495 equals 5 * 299\n",
      "1496 equals 2 * 748\n",
      "1497 equals 3 * 499\n",
      "1498 equals 2 * 749\n",
      "1499 is a prime number\n",
      "1500 equals 2 * 750\n",
      "1501 equals 19 * 79\n",
      "1502 equals 2 * 751\n",
      "1503 equals 3 * 501\n",
      "1504 equals 2 * 752\n",
      "1505 equals 5 * 301\n",
      "1506 equals 2 * 753\n",
      "1507 equals 11 * 137\n",
      "1508 equals 2 * 754\n",
      "1509 equals 3 * 503\n",
      "1510 equals 2 * 755\n",
      "1511 is a prime number\n",
      "1512 equals 2 * 756\n",
      "1513 equals 17 * 89\n",
      "1514 equals 2 * 757\n",
      "1515 equals 3 * 505\n",
      "1516 equals 2 * 758\n",
      "1517 equals 37 * 41\n",
      "1518 equals 2 * 759\n",
      "1519 equals 7 * 217\n",
      "1520 equals 2 * 760\n",
      "1521 equals 3 * 507\n",
      "1522 equals 2 * 761\n",
      "1523 is a prime number\n",
      "1524 equals 2 * 762\n",
      "1525 equals 5 * 305\n",
      "1526 equals 2 * 763\n",
      "1527 equals 3 * 509\n",
      "1528 equals 2 * 764\n",
      "1529 equals 11 * 139\n",
      "1530 equals 2 * 765\n",
      "1531 is a prime number\n",
      "1532 equals 2 * 766\n",
      "1533 equals 3 * 511\n",
      "1534 equals 2 * 767\n",
      "1535 equals 5 * 307\n",
      "1536 equals 2 * 768\n",
      "1537 equals 29 * 53\n",
      "1538 equals 2 * 769\n",
      "1539 equals 3 * 513\n",
      "1540 equals 2 * 770\n",
      "1541 equals 23 * 67\n",
      "1542 equals 2 * 771\n",
      "1543 is a prime number\n",
      "1544 equals 2 * 772\n",
      "1545 equals 3 * 515\n",
      "1546 equals 2 * 773\n",
      "1547 equals 7 * 221\n",
      "1548 equals 2 * 774\n",
      "1549 is a prime number\n",
      "1550 equals 2 * 775\n",
      "1551 equals 3 * 517\n",
      "1552 equals 2 * 776\n",
      "1553 is a prime number\n",
      "1554 equals 2 * 777\n",
      "1555 equals 5 * 311\n",
      "1556 equals 2 * 778\n",
      "1557 equals 3 * 519\n",
      "1558 equals 2 * 779\n",
      "1559 is a prime number\n",
      "1560 equals 2 * 780\n",
      "1561 equals 7 * 223\n",
      "1562 equals 2 * 781\n",
      "1563 equals 3 * 521\n",
      "1564 equals 2 * 782\n",
      "1565 equals 5 * 313\n",
      "1566 equals 2 * 783\n",
      "1567 is a prime number\n",
      "1568 equals 2 * 784\n",
      "1569 equals 3 * 523\n",
      "1570 equals 2 * 785\n",
      "1571 is a prime number\n",
      "1572 equals 2 * 786\n",
      "1573 equals 11 * 143\n",
      "1574 equals 2 * 787\n",
      "1575 equals 3 * 525\n",
      "1576 equals 2 * 788\n",
      "1577 equals 19 * 83\n",
      "1578 equals 2 * 789\n",
      "1579 is a prime number\n",
      "1580 equals 2 * 790\n",
      "1581 equals 3 * 527\n",
      "1582 equals 2 * 791\n",
      "1583 is a prime number\n",
      "1584 equals 2 * 792\n",
      "1585 equals 5 * 317\n",
      "1586 equals 2 * 793\n",
      "1587 equals 3 * 529\n",
      "1588 equals 2 * 794\n",
      "1589 equals 7 * 227\n",
      "1590 equals 2 * 795\n",
      "1591 equals 37 * 43\n",
      "1592 equals 2 * 796\n",
      "1593 equals 3 * 531\n",
      "1594 equals 2 * 797\n",
      "1595 equals 5 * 319\n",
      "1596 equals 2 * 798\n",
      "1597 is a prime number\n",
      "1598 equals 2 * 799\n",
      "1599 equals 3 * 533\n",
      "1600 equals 2 * 800\n",
      "1601 is a prime number\n",
      "1602 equals 2 * 801\n",
      "1603 equals 7 * 229\n",
      "1604 equals 2 * 802\n",
      "1605 equals 3 * 535\n",
      "1606 equals 2 * 803\n",
      "1607 is a prime number\n",
      "1608 equals 2 * 804\n",
      "1609 is a prime number\n",
      "1610 equals 2 * 805\n",
      "1611 equals 3 * 537\n",
      "1612 equals 2 * 806\n",
      "1613 is a prime number\n",
      "1614 equals 2 * 807\n",
      "1615 equals 5 * 323\n",
      "1616 equals 2 * 808\n",
      "1617 equals 3 * 539\n",
      "1618 equals 2 * 809\n",
      "1619 is a prime number\n",
      "1620 equals 2 * 810\n",
      "1621 is a prime number\n",
      "1622 equals 2 * 811\n",
      "1623 equals 3 * 541\n",
      "1624 equals 2 * 812\n",
      "1625 equals 5 * 325\n",
      "1626 equals 2 * 813\n",
      "1627 is a prime number\n",
      "1628 equals 2 * 814\n",
      "1629 equals 3 * 543\n",
      "1630 equals 2 * 815\n",
      "1631 equals 7 * 233\n",
      "1632 equals 2 * 816\n",
      "1633 equals 23 * 71\n",
      "1634 equals 2 * 817\n",
      "1635 equals 3 * 545\n",
      "1636 equals 2 * 818\n",
      "1637 is a prime number\n",
      "1638 equals 2 * 819\n",
      "1639 equals 11 * 149\n",
      "1640 equals 2 * 820\n",
      "1641 equals 3 * 547\n",
      "1642 equals 2 * 821\n",
      "1643 equals 31 * 53\n",
      "1644 equals 2 * 822\n",
      "1645 equals 5 * 329\n",
      "1646 equals 2 * 823\n",
      "1647 equals 3 * 549\n",
      "1648 equals 2 * 824\n",
      "1649 equals 17 * 97\n",
      "1650 equals 2 * 825\n",
      "1651 equals 13 * 127\n",
      "1652 equals 2 * 826\n",
      "1653 equals 3 * 551\n",
      "1654 equals 2 * 827\n",
      "1655 equals 5 * 331\n",
      "1656 equals 2 * 828\n",
      "1657 is a prime number\n",
      "1658 equals 2 * 829\n",
      "1659 equals 3 * 553\n",
      "1660 equals 2 * 830\n",
      "1661 equals 11 * 151\n",
      "1662 equals 2 * 831\n",
      "1663 is a prime number\n",
      "1664 equals 2 * 832\n",
      "1665 equals 3 * 555\n",
      "1666 equals 2 * 833\n",
      "1667 is a prime number\n",
      "1668 equals 2 * 834\n",
      "1669 is a prime number\n",
      "1670 equals 2 * 835\n",
      "1671 equals 3 * 557\n",
      "1672 equals 2 * 836\n",
      "1673 equals 7 * 239\n",
      "1674 equals 2 * 837\n",
      "1675 equals 5 * 335\n",
      "1676 equals 2 * 838\n",
      "1677 equals 3 * 559\n",
      "1678 equals 2 * 839\n",
      "1679 equals 23 * 73\n",
      "1680 equals 2 * 840\n",
      "1681 equals 41 * 41\n",
      "1682 equals 2 * 841\n",
      "1683 equals 3 * 561\n",
      "1684 equals 2 * 842\n",
      "1685 equals 5 * 337\n",
      "1686 equals 2 * 843\n",
      "1687 equals 7 * 241\n",
      "1688 equals 2 * 844\n",
      "1689 equals 3 * 563\n",
      "1690 equals 2 * 845\n",
      "1691 equals 19 * 89\n",
      "1692 equals 2 * 846\n",
      "1693 is a prime number\n",
      "1694 equals 2 * 847\n",
      "1695 equals 3 * 565\n",
      "1696 equals 2 * 848\n",
      "1697 is a prime number\n",
      "1698 equals 2 * 849\n",
      "1699 is a prime number\n",
      "1700 equals 2 * 850\n",
      "1701 equals 3 * 567\n",
      "1702 equals 2 * 851\n",
      "1703 equals 13 * 131\n",
      "1704 equals 2 * 852\n",
      "1705 equals 5 * 341\n",
      "1706 equals 2 * 853\n",
      "1707 equals 3 * 569\n",
      "1708 equals 2 * 854\n",
      "1709 is a prime number\n",
      "1710 equals 2 * 855\n",
      "1711 equals 29 * 59\n",
      "1712 equals 2 * 856\n",
      "1713 equals 3 * 571\n",
      "1714 equals 2 * 857\n",
      "1715 equals 5 * 343\n",
      "1716 equals 2 * 858\n",
      "1717 equals 17 * 101\n",
      "1718 equals 2 * 859\n",
      "1719 equals 3 * 573\n",
      "1720 equals 2 * 860\n",
      "1721 is a prime number\n",
      "1722 equals 2 * 861\n",
      "1723 is a prime number\n",
      "1724 equals 2 * 862\n",
      "1725 equals 3 * 575\n",
      "1726 equals 2 * 863\n",
      "1727 equals 11 * 157\n",
      "1728 equals 2 * 864\n",
      "1729 equals 7 * 247\n",
      "1730 equals 2 * 865\n",
      "1731 equals 3 * 577\n",
      "1732 equals 2 * 866\n",
      "1733 is a prime number\n",
      "1734 equals 2 * 867\n",
      "1735 equals 5 * 347\n",
      "1736 equals 2 * 868\n",
      "1737 equals 3 * 579\n",
      "1738 equals 2 * 869\n",
      "1739 equals 37 * 47\n",
      "1740 equals 2 * 870\n",
      "1741 is a prime number\n",
      "1742 equals 2 * 871\n",
      "1743 equals 3 * 581\n",
      "1744 equals 2 * 872\n",
      "1745 equals 5 * 349\n",
      "1746 equals 2 * 873\n",
      "1747 is a prime number\n",
      "1748 equals 2 * 874\n",
      "1749 equals 3 * 583\n",
      "1750 equals 2 * 875\n",
      "1751 equals 17 * 103\n",
      "1752 equals 2 * 876\n",
      "1753 is a prime number\n",
      "1754 equals 2 * 877\n",
      "1755 equals 3 * 585\n",
      "1756 equals 2 * 878\n",
      "1757 equals 7 * 251\n",
      "1758 equals 2 * 879\n",
      "1759 is a prime number\n",
      "1760 equals 2 * 880\n",
      "1761 equals 3 * 587\n",
      "1762 equals 2 * 881\n",
      "1763 equals 41 * 43\n",
      "1764 equals 2 * 882\n",
      "1765 equals 5 * 353\n",
      "1766 equals 2 * 883\n",
      "1767 equals 3 * 589\n",
      "1768 equals 2 * 884\n",
      "1769 equals 29 * 61\n",
      "1770 equals 2 * 885\n",
      "1771 equals 7 * 253\n",
      "1772 equals 2 * 886\n",
      "1773 equals 3 * 591\n",
      "1774 equals 2 * 887\n",
      "1775 equals 5 * 355\n",
      "1776 equals 2 * 888\n",
      "1777 is a prime number\n",
      "1778 equals 2 * 889\n",
      "1779 equals 3 * 593\n",
      "1780 equals 2 * 890\n",
      "1781 equals 13 * 137\n",
      "1782 equals 2 * 891\n",
      "1783 is a prime number\n",
      "1784 equals 2 * 892\n",
      "1785 equals 3 * 595\n",
      "1786 equals 2 * 893\n",
      "1787 is a prime number\n",
      "1788 equals 2 * 894\n",
      "1789 is a prime number\n",
      "1790 equals 2 * 895\n",
      "1791 equals 3 * 597\n",
      "1792 equals 2 * 896\n",
      "1793 equals 11 * 163\n",
      "1794 equals 2 * 897\n",
      "1795 equals 5 * 359\n",
      "1796 equals 2 * 898\n",
      "1797 equals 3 * 599\n",
      "1798 equals 2 * 899\n",
      "1799 equals 7 * 257\n",
      "1800 equals 2 * 900\n",
      "1801 is a prime number\n",
      "1802 equals 2 * 901\n",
      "1803 equals 3 * 601\n",
      "1804 equals 2 * 902\n",
      "1805 equals 5 * 361\n",
      "1806 equals 2 * 903\n",
      "1807 equals 13 * 139\n",
      "1808 equals 2 * 904\n",
      "1809 equals 3 * 603\n",
      "1810 equals 2 * 905\n",
      "1811 is a prime number\n",
      "1812 equals 2 * 906\n",
      "1813 equals 7 * 259\n",
      "1814 equals 2 * 907\n",
      "1815 equals 3 * 605\n",
      "1816 equals 2 * 908\n",
      "1817 equals 23 * 79\n",
      "1818 equals 2 * 909\n",
      "1819 equals 17 * 107\n",
      "1820 equals 2 * 910\n",
      "1821 equals 3 * 607\n",
      "1822 equals 2 * 911\n",
      "1823 is a prime number\n",
      "1824 equals 2 * 912\n",
      "1825 equals 5 * 365\n",
      "1826 equals 2 * 913\n",
      "1827 equals 3 * 609\n",
      "1828 equals 2 * 914\n",
      "1829 equals 31 * 59\n",
      "1830 equals 2 * 915\n",
      "1831 is a prime number\n",
      "1832 equals 2 * 916\n",
      "1833 equals 3 * 611\n",
      "1834 equals 2 * 917\n",
      "1835 equals 5 * 367\n",
      "1836 equals 2 * 918\n",
      "1837 equals 11 * 167\n",
      "1838 equals 2 * 919\n",
      "1839 equals 3 * 613\n",
      "1840 equals 2 * 920\n",
      "1841 equals 7 * 263\n",
      "1842 equals 2 * 921\n",
      "1843 equals 19 * 97\n",
      "1844 equals 2 * 922\n",
      "1845 equals 3 * 615\n",
      "1846 equals 2 * 923\n",
      "1847 is a prime number\n",
      "1848 equals 2 * 924\n",
      "1849 equals 43 * 43\n",
      "1850 equals 2 * 925\n",
      "1851 equals 3 * 617\n",
      "1852 equals 2 * 926\n",
      "1853 equals 17 * 109\n",
      "1854 equals 2 * 927\n",
      "1855 equals 5 * 371\n",
      "1856 equals 2 * 928\n",
      "1857 equals 3 * 619\n",
      "1858 equals 2 * 929\n",
      "1859 equals 11 * 169\n",
      "1860 equals 2 * 930\n",
      "1861 is a prime number\n",
      "1862 equals 2 * 931\n",
      "1863 equals 3 * 621\n",
      "1864 equals 2 * 932\n",
      "1865 equals 5 * 373\n",
      "1866 equals 2 * 933\n",
      "1867 is a prime number\n",
      "1868 equals 2 * 934\n",
      "1869 equals 3 * 623\n",
      "1870 equals 2 * 935\n",
      "1871 is a prime number\n",
      "1872 equals 2 * 936\n",
      "1873 is a prime number\n",
      "1874 equals 2 * 937\n",
      "1875 equals 3 * 625\n",
      "1876 equals 2 * 938\n",
      "1877 is a prime number\n",
      "1878 equals 2 * 939\n",
      "1879 is a prime number\n",
      "1880 equals 2 * 940\n",
      "1881 equals 3 * 627\n",
      "1882 equals 2 * 941\n",
      "1883 equals 7 * 269\n",
      "1884 equals 2 * 942\n",
      "1885 equals 5 * 377\n",
      "1886 equals 2 * 943\n",
      "1887 equals 3 * 629\n",
      "1888 equals 2 * 944\n",
      "1889 is a prime number\n",
      "1890 equals 2 * 945\n",
      "1891 equals 31 * 61\n",
      "1892 equals 2 * 946\n",
      "1893 equals 3 * 631\n",
      "1894 equals 2 * 947\n",
      "1895 equals 5 * 379\n",
      "1896 equals 2 * 948\n",
      "1897 equals 7 * 271\n",
      "1898 equals 2 * 949\n",
      "1899 equals 3 * 633\n",
      "1900 equals 2 * 950\n",
      "1901 is a prime number\n",
      "1902 equals 2 * 951\n",
      "1903 equals 11 * 173\n",
      "1904 equals 2 * 952\n",
      "1905 equals 3 * 635\n",
      "1906 equals 2 * 953\n",
      "1907 is a prime number\n",
      "1908 equals 2 * 954\n",
      "1909 equals 23 * 83\n",
      "1910 equals 2 * 955\n",
      "1911 equals 3 * 637\n",
      "1912 equals 2 * 956\n",
      "1913 is a prime number\n",
      "1914 equals 2 * 957\n",
      "1915 equals 5 * 383\n",
      "1916 equals 2 * 958\n",
      "1917 equals 3 * 639\n",
      "1918 equals 2 * 959\n",
      "1919 equals 19 * 101\n",
      "1920 equals 2 * 960\n",
      "1921 equals 17 * 113\n",
      "1922 equals 2 * 961\n",
      "1923 equals 3 * 641\n",
      "1924 equals 2 * 962\n",
      "1925 equals 5 * 385\n",
      "1926 equals 2 * 963\n",
      "1927 equals 41 * 47\n",
      "1928 equals 2 * 964\n",
      "1929 equals 3 * 643\n",
      "1930 equals 2 * 965\n",
      "1931 is a prime number\n",
      "1932 equals 2 * 966\n",
      "1933 is a prime number\n",
      "1934 equals 2 * 967\n",
      "1935 equals 3 * 645\n",
      "1936 equals 2 * 968\n",
      "1937 equals 13 * 149\n",
      "1938 equals 2 * 969\n",
      "1939 equals 7 * 277\n",
      "1940 equals 2 * 970\n",
      "1941 equals 3 * 647\n",
      "1942 equals 2 * 971\n",
      "1943 equals 29 * 67\n",
      "1944 equals 2 * 972\n",
      "1945 equals 5 * 389\n",
      "1946 equals 2 * 973\n",
      "1947 equals 3 * 649\n",
      "1948 equals 2 * 974\n",
      "1949 is a prime number\n",
      "1950 equals 2 * 975\n",
      "1951 is a prime number\n",
      "1952 equals 2 * 976\n",
      "1953 equals 3 * 651\n",
      "1954 equals 2 * 977\n",
      "1955 equals 5 * 391\n",
      "1956 equals 2 * 978\n",
      "1957 equals 19 * 103\n",
      "1958 equals 2 * 979\n",
      "1959 equals 3 * 653\n",
      "1960 equals 2 * 980\n",
      "1961 equals 37 * 53\n",
      "1962 equals 2 * 981\n",
      "1963 equals 13 * 151\n",
      "1964 equals 2 * 982\n",
      "1965 equals 3 * 655\n",
      "1966 equals 2 * 983\n",
      "1967 equals 7 * 281\n",
      "1968 equals 2 * 984\n",
      "1969 equals 11 * 179\n",
      "1970 equals 2 * 985\n",
      "1971 equals 3 * 657\n",
      "1972 equals 2 * 986\n",
      "1973 is a prime number\n",
      "1974 equals 2 * 987\n",
      "1975 equals 5 * 395\n",
      "1976 equals 2 * 988\n",
      "1977 equals 3 * 659\n",
      "1978 equals 2 * 989\n",
      "1979 is a prime number\n",
      "1980 equals 2 * 990\n",
      "1981 equals 7 * 283\n",
      "1982 equals 2 * 991\n",
      "1983 equals 3 * 661\n",
      "1984 equals 2 * 992\n",
      "1985 equals 5 * 397\n",
      "1986 equals 2 * 993\n",
      "1987 is a prime number\n",
      "1988 equals 2 * 994\n",
      "1989 equals 3 * 663\n",
      "1990 equals 2 * 995\n",
      "1991 equals 11 * 181\n",
      "1992 equals 2 * 996\n",
      "1993 is a prime number\n",
      "1994 equals 2 * 997\n",
      "1995 equals 3 * 665\n",
      "1996 equals 2 * 998\n",
      "1997 is a prime number\n",
      "1998 equals 2 * 999\n",
      "1999 is a prime number\n",
      "2000 equals 2 * 1000\n",
      "2001 equals 3 * 667\n",
      "2002 equals 2 * 1001\n",
      "2003 is a prime number\n",
      "2004 equals 2 * 1002\n",
      "2005 equals 5 * 401\n",
      "2006 equals 2 * 1003\n",
      "2007 equals 3 * 669\n",
      "2008 equals 2 * 1004\n",
      "2009 equals 7 * 287\n",
      "2010 equals 2 * 1005\n",
      "2011 is a prime number\n",
      "2012 equals 2 * 1006\n",
      "2013 equals 3 * 671\n",
      "2014 equals 2 * 1007\n",
      "2015 equals 5 * 403\n",
      "2016 equals 2 * 1008\n",
      "2017 is a prime number\n",
      "2018 equals 2 * 1009\n",
      "2019 equals 3 * 673\n",
      "2020 equals 2 * 1010\n",
      "2021 equals 43 * 47\n",
      "2022 equals 2 * 1011\n",
      "2023 equals 7 * 289\n",
      "2024 equals 2 * 1012\n",
      "2025 equals 3 * 675\n",
      "2026 equals 2 * 1013\n",
      "2027 is a prime number\n",
      "2028 equals 2 * 1014\n",
      "2029 is a prime number\n",
      "2030 equals 2 * 1015\n",
      "2031 equals 3 * 677\n",
      "2032 equals 2 * 1016\n",
      "2033 equals 19 * 107\n",
      "2034 equals 2 * 1017\n",
      "2035 equals 5 * 407\n",
      "2036 equals 2 * 1018\n",
      "2037 equals 3 * 679\n",
      "2038 equals 2 * 1019\n",
      "2039 is a prime number\n",
      "2040 equals 2 * 1020\n",
      "2041 equals 13 * 157\n",
      "2042 equals 2 * 1021\n",
      "2043 equals 3 * 681\n",
      "2044 equals 2 * 1022\n",
      "2045 equals 5 * 409\n",
      "2046 equals 2 * 1023\n",
      "2047 equals 23 * 89\n",
      "2048 equals 2 * 1024\n",
      "2049 equals 3 * 683\n",
      "2050 equals 2 * 1025\n",
      "2051 equals 7 * 293\n",
      "2052 equals 2 * 1026\n",
      "2053 is a prime number\n",
      "2054 equals 2 * 1027\n",
      "2055 equals 3 * 685\n",
      "2056 equals 2 * 1028\n",
      "2057 equals 11 * 187\n",
      "2058 equals 2 * 1029\n",
      "2059 equals 29 * 71\n",
      "2060 equals 2 * 1030\n",
      "2061 equals 3 * 687\n",
      "2062 equals 2 * 1031\n",
      "2063 is a prime number\n",
      "2064 equals 2 * 1032\n",
      "2065 equals 5 * 413\n",
      "2066 equals 2 * 1033\n",
      "2067 equals 3 * 689\n",
      "2068 equals 2 * 1034\n",
      "2069 is a prime number\n",
      "2070 equals 2 * 1035\n",
      "2071 equals 19 * 109\n",
      "2072 equals 2 * 1036\n",
      "2073 equals 3 * 691\n",
      "2074 equals 2 * 1037\n",
      "2075 equals 5 * 415\n",
      "2076 equals 2 * 1038\n",
      "2077 equals 31 * 67\n",
      "2078 equals 2 * 1039\n",
      "2079 equals 3 * 693\n",
      "2080 equals 2 * 1040\n",
      "2081 is a prime number\n",
      "2082 equals 2 * 1041\n",
      "2083 is a prime number\n",
      "2084 equals 2 * 1042\n",
      "2085 equals 3 * 695\n",
      "2086 equals 2 * 1043\n",
      "2087 is a prime number\n",
      "2088 equals 2 * 1044\n",
      "2089 is a prime number\n",
      "2090 equals 2 * 1045\n",
      "2091 equals 3 * 697\n",
      "2092 equals 2 * 1046\n",
      "2093 equals 7 * 299\n",
      "2094 equals 2 * 1047\n",
      "2095 equals 5 * 419\n",
      "2096 equals 2 * 1048\n",
      "2097 equals 3 * 699\n",
      "2098 equals 2 * 1049\n",
      "2099 is a prime number\n",
      "2100 equals 2 * 1050\n",
      "2101 equals 11 * 191\n",
      "2102 equals 2 * 1051\n",
      "2103 equals 3 * 701\n",
      "2104 equals 2 * 1052\n",
      "2105 equals 5 * 421\n",
      "2106 equals 2 * 1053\n",
      "2107 equals 7 * 301\n",
      "2108 equals 2 * 1054\n",
      "2109 equals 3 * 703\n",
      "2110 equals 2 * 1055\n",
      "2111 is a prime number\n",
      "2112 equals 2 * 1056\n",
      "2113 is a prime number\n",
      "2114 equals 2 * 1057\n",
      "2115 equals 3 * 705\n",
      "2116 equals 2 * 1058\n",
      "2117 equals 29 * 73\n",
      "2118 equals 2 * 1059\n",
      "2119 equals 13 * 163\n",
      "2120 equals 2 * 1060\n",
      "2121 equals 3 * 707\n",
      "2122 equals 2 * 1061\n",
      "2123 equals 11 * 193\n",
      "2124 equals 2 * 1062\n",
      "2125 equals 5 * 425\n",
      "2126 equals 2 * 1063\n",
      "2127 equals 3 * 709\n",
      "2128 equals 2 * 1064\n",
      "2129 is a prime number\n",
      "2130 equals 2 * 1065\n",
      "2131 is a prime number\n",
      "2132 equals 2 * 1066\n",
      "2133 equals 3 * 711\n",
      "2134 equals 2 * 1067\n",
      "2135 equals 5 * 427\n",
      "2136 equals 2 * 1068\n",
      "2137 is a prime number\n",
      "2138 equals 2 * 1069\n",
      "2139 equals 3 * 713\n",
      "2140 equals 2 * 1070\n",
      "2141 is a prime number\n",
      "2142 equals 2 * 1071\n",
      "2143 is a prime number\n",
      "2144 equals 2 * 1072\n",
      "2145 equals 3 * 715\n",
      "2146 equals 2 * 1073\n",
      "2147 equals 19 * 113\n",
      "2148 equals 2 * 1074\n",
      "2149 equals 7 * 307\n",
      "2150 equals 2 * 1075\n",
      "2151 equals 3 * 717\n",
      "2152 equals 2 * 1076\n",
      "2153 is a prime number\n",
      "2154 equals 2 * 1077\n",
      "2155 equals 5 * 431\n",
      "2156 equals 2 * 1078\n",
      "2157 equals 3 * 719\n",
      "2158 equals 2 * 1079\n",
      "2159 equals 17 * 127\n",
      "2160 equals 2 * 1080\n",
      "2161 is a prime number\n",
      "2162 equals 2 * 1081\n",
      "2163 equals 3 * 721\n",
      "2164 equals 2 * 1082\n",
      "2165 equals 5 * 433\n",
      "2166 equals 2 * 1083\n",
      "2167 equals 11 * 197\n",
      "2168 equals 2 * 1084\n",
      "2169 equals 3 * 723\n",
      "2170 equals 2 * 1085\n",
      "2171 equals 13 * 167\n",
      "2172 equals 2 * 1086\n",
      "2173 equals 41 * 53\n",
      "2174 equals 2 * 1087\n",
      "2175 equals 3 * 725\n",
      "2176 equals 2 * 1088\n",
      "2177 equals 7 * 311\n",
      "2178 equals 2 * 1089\n",
      "2179 is a prime number\n",
      "2180 equals 2 * 1090\n",
      "2181 equals 3 * 727\n",
      "2182 equals 2 * 1091\n",
      "2183 equals 37 * 59\n",
      "2184 equals 2 * 1092\n",
      "2185 equals 5 * 437\n",
      "2186 equals 2 * 1093\n",
      "2187 equals 3 * 729\n",
      "2188 equals 2 * 1094\n",
      "2189 equals 11 * 199\n",
      "2190 equals 2 * 1095\n",
      "2191 equals 7 * 313\n",
      "2192 equals 2 * 1096\n",
      "2193 equals 3 * 731\n",
      "2194 equals 2 * 1097\n",
      "2195 equals 5 * 439\n",
      "2196 equals 2 * 1098\n",
      "2197 equals 13 * 169\n",
      "2198 equals 2 * 1099\n",
      "2199 equals 3 * 733\n",
      "2200 equals 2 * 1100\n",
      "2201 equals 31 * 71\n",
      "2202 equals 2 * 1101\n",
      "2203 is a prime number\n",
      "2204 equals 2 * 1102\n",
      "2205 equals 3 * 735\n",
      "2206 equals 2 * 1103\n",
      "2207 is a prime number\n",
      "2208 equals 2 * 1104\n",
      "2209 equals 47 * 47\n",
      "2210 equals 2 * 1105\n",
      "2211 equals 3 * 737\n",
      "2212 equals 2 * 1106\n",
      "2213 is a prime number\n",
      "2214 equals 2 * 1107\n",
      "2215 equals 5 * 443\n",
      "2216 equals 2 * 1108\n",
      "2217 equals 3 * 739\n",
      "2218 equals 2 * 1109\n",
      "2219 equals 7 * 317\n",
      "2220 equals 2 * 1110\n",
      "2221 is a prime number\n",
      "2222 equals 2 * 1111\n",
      "2223 equals 3 * 741\n",
      "2224 equals 2 * 1112\n",
      "2225 equals 5 * 445\n",
      "2226 equals 2 * 1113\n",
      "2227 equals 17 * 131\n",
      "2228 equals 2 * 1114\n",
      "2229 equals 3 * 743\n",
      "2230 equals 2 * 1115\n",
      "2231 equals 23 * 97\n",
      "2232 equals 2 * 1116\n",
      "2233 equals 7 * 319\n",
      "2234 equals 2 * 1117\n",
      "2235 equals 3 * 745\n",
      "2236 equals 2 * 1118\n",
      "2237 is a prime number\n",
      "2238 equals 2 * 1119\n",
      "2239 is a prime number\n",
      "2240 equals 2 * 1120\n",
      "2241 equals 3 * 747\n",
      "2242 equals 2 * 1121\n",
      "2243 is a prime number\n",
      "2244 equals 2 * 1122\n",
      "2245 equals 5 * 449\n",
      "2246 equals 2 * 1123\n",
      "2247 equals 3 * 749\n",
      "2248 equals 2 * 1124\n",
      "2249 equals 13 * 173\n",
      "2250 equals 2 * 1125\n",
      "2251 is a prime number\n",
      "2252 equals 2 * 1126\n",
      "2253 equals 3 * 751\n",
      "2254 equals 2 * 1127\n",
      "2255 equals 5 * 451\n",
      "2256 equals 2 * 1128\n",
      "2257 equals 37 * 61\n",
      "2258 equals 2 * 1129\n",
      "2259 equals 3 * 753\n",
      "2260 equals 2 * 1130\n",
      "2261 equals 7 * 323\n",
      "2262 equals 2 * 1131\n",
      "2263 equals 31 * 73\n",
      "2264 equals 2 * 1132\n",
      "2265 equals 3 * 755\n",
      "2266 equals 2 * 1133\n",
      "2267 is a prime number\n",
      "2268 equals 2 * 1134\n",
      "2269 is a prime number\n",
      "2270 equals 2 * 1135\n",
      "2271 equals 3 * 757\n",
      "2272 equals 2 * 1136\n",
      "2273 is a prime number\n",
      "2274 equals 2 * 1137\n",
      "2275 equals 5 * 455\n",
      "2276 equals 2 * 1138\n",
      "2277 equals 3 * 759\n",
      "2278 equals 2 * 1139\n",
      "2279 equals 43 * 53\n",
      "2280 equals 2 * 1140\n",
      "2281 is a prime number\n",
      "2282 equals 2 * 1141\n",
      "2283 equals 3 * 761\n",
      "2284 equals 2 * 1142\n",
      "2285 equals 5 * 457\n",
      "2286 equals 2 * 1143\n",
      "2287 is a prime number\n",
      "2288 equals 2 * 1144\n",
      "2289 equals 3 * 763\n",
      "2290 equals 2 * 1145\n",
      "2291 equals 29 * 79\n",
      "2292 equals 2 * 1146\n",
      "2293 is a prime number\n",
      "2294 equals 2 * 1147\n",
      "2295 equals 3 * 765\n",
      "2296 equals 2 * 1148\n",
      "2297 is a prime number\n",
      "2298 equals 2 * 1149\n",
      "2299 equals 11 * 209\n",
      "2300 equals 2 * 1150\n",
      "2301 equals 3 * 767\n",
      "2302 equals 2 * 1151\n",
      "2303 equals 7 * 329\n",
      "2304 equals 2 * 1152\n",
      "2305 equals 5 * 461\n",
      "2306 equals 2 * 1153\n",
      "2307 equals 3 * 769\n",
      "2308 equals 2 * 1154\n",
      "2309 is a prime number\n",
      "2310 equals 2 * 1155\n",
      "2311 is a prime number\n",
      "2312 equals 2 * 1156\n",
      "2313 equals 3 * 771\n",
      "2314 equals 2 * 1157\n",
      "2315 equals 5 * 463\n",
      "2316 equals 2 * 1158\n",
      "2317 equals 7 * 331\n",
      "2318 equals 2 * 1159\n",
      "2319 equals 3 * 773\n",
      "2320 equals 2 * 1160\n",
      "2321 equals 11 * 211\n",
      "2322 equals 2 * 1161\n",
      "2323 equals 23 * 101\n",
      "2324 equals 2 * 1162\n",
      "2325 equals 3 * 775\n",
      "2326 equals 2 * 1163\n",
      "2327 equals 13 * 179\n",
      "2328 equals 2 * 1164\n",
      "2329 equals 17 * 137\n",
      "2330 equals 2 * 1165\n",
      "2331 equals 3 * 777\n",
      "2332 equals 2 * 1166\n",
      "2333 is a prime number\n",
      "2334 equals 2 * 1167\n",
      "2335 equals 5 * 467\n",
      "2336 equals 2 * 1168\n",
      "2337 equals 3 * 779\n",
      "2338 equals 2 * 1169\n",
      "2339 is a prime number\n",
      "2340 equals 2 * 1170\n",
      "2341 is a prime number\n",
      "2342 equals 2 * 1171\n",
      "2343 equals 3 * 781\n",
      "2344 equals 2 * 1172\n",
      "2345 equals 5 * 469\n",
      "2346 equals 2 * 1173\n",
      "2347 is a prime number\n",
      "2348 equals 2 * 1174\n",
      "2349 equals 3 * 783\n",
      "2350 equals 2 * 1175\n",
      "2351 is a prime number\n",
      "2352 equals 2 * 1176\n",
      "2353 equals 13 * 181\n",
      "2354 equals 2 * 1177\n",
      "2355 equals 3 * 785\n",
      "2356 equals 2 * 1178\n",
      "2357 is a prime number\n",
      "2358 equals 2 * 1179\n",
      "2359 equals 7 * 337\n",
      "2360 equals 2 * 1180\n",
      "2361 equals 3 * 787\n",
      "2362 equals 2 * 1181\n",
      "2363 equals 17 * 139\n",
      "2364 equals 2 * 1182\n",
      "2365 equals 5 * 473\n",
      "2366 equals 2 * 1183\n",
      "2367 equals 3 * 789\n",
      "2368 equals 2 * 1184\n",
      "2369 equals 23 * 103\n",
      "2370 equals 2 * 1185\n",
      "2371 is a prime number\n",
      "2372 equals 2 * 1186\n",
      "2373 equals 3 * 791\n",
      "2374 equals 2 * 1187\n",
      "2375 equals 5 * 475\n",
      "2376 equals 2 * 1188\n",
      "2377 is a prime number\n",
      "2378 equals 2 * 1189\n",
      "2379 equals 3 * 793\n",
      "2380 equals 2 * 1190\n",
      "2381 is a prime number\n",
      "2382 equals 2 * 1191\n",
      "2383 is a prime number\n",
      "2384 equals 2 * 1192\n",
      "2385 equals 3 * 795\n",
      "2386 equals 2 * 1193\n",
      "2387 equals 7 * 341\n",
      "2388 equals 2 * 1194\n",
      "2389 is a prime number\n",
      "2390 equals 2 * 1195\n",
      "2391 equals 3 * 797\n",
      "2392 equals 2 * 1196\n",
      "2393 is a prime number\n",
      "2394 equals 2 * 1197\n",
      "2395 equals 5 * 479\n",
      "2396 equals 2 * 1198\n",
      "2397 equals 3 * 799\n",
      "2398 equals 2 * 1199\n",
      "2399 is a prime number\n",
      "2400 equals 2 * 1200\n",
      "2401 equals 7 * 343\n",
      "2402 equals 2 * 1201\n",
      "2403 equals 3 * 801\n",
      "2404 equals 2 * 1202\n",
      "2405 equals 5 * 481\n",
      "2406 equals 2 * 1203\n",
      "2407 equals 29 * 83\n",
      "2408 equals 2 * 1204\n",
      "2409 equals 3 * 803\n",
      "2410 equals 2 * 1205\n",
      "2411 is a prime number\n",
      "2412 equals 2 * 1206\n",
      "2413 equals 19 * 127\n",
      "2414 equals 2 * 1207\n",
      "2415 equals 3 * 805\n",
      "2416 equals 2 * 1208\n",
      "2417 is a prime number\n",
      "2418 equals 2 * 1209\n",
      "2419 equals 41 * 59\n",
      "2420 equals 2 * 1210\n",
      "2421 equals 3 * 807\n",
      "2422 equals 2 * 1211\n",
      "2423 is a prime number\n",
      "2424 equals 2 * 1212\n",
      "2425 equals 5 * 485\n",
      "2426 equals 2 * 1213\n",
      "2427 equals 3 * 809\n",
      "2428 equals 2 * 1214\n",
      "2429 equals 7 * 347\n",
      "2430 equals 2 * 1215\n",
      "2431 equals 11 * 221\n",
      "2432 equals 2 * 1216\n",
      "2433 equals 3 * 811\n",
      "2434 equals 2 * 1217\n",
      "2435 equals 5 * 487\n",
      "2436 equals 2 * 1218\n",
      "2437 is a prime number\n",
      "2438 equals 2 * 1219\n",
      "2439 equals 3 * 813\n",
      "2440 equals 2 * 1220\n",
      "2441 is a prime number\n",
      "2442 equals 2 * 1221\n",
      "2443 equals 7 * 349\n",
      "2444 equals 2 * 1222\n",
      "2445 equals 3 * 815\n",
      "2446 equals 2 * 1223\n",
      "2447 is a prime number\n",
      "2448 equals 2 * 1224\n",
      "2449 equals 31 * 79\n",
      "2450 equals 2 * 1225\n",
      "2451 equals 3 * 817\n",
      "2452 equals 2 * 1226\n",
      "2453 equals 11 * 223\n",
      "2454 equals 2 * 1227\n",
      "2455 equals 5 * 491\n",
      "2456 equals 2 * 1228\n",
      "2457 equals 3 * 819\n",
      "2458 equals 2 * 1229\n",
      "2459 is a prime number\n",
      "2460 equals 2 * 1230\n",
      "2461 equals 23 * 107\n",
      "2462 equals 2 * 1231\n",
      "2463 equals 3 * 821\n",
      "2464 equals 2 * 1232\n",
      "2465 equals 5 * 493\n",
      "2466 equals 2 * 1233\n",
      "2467 is a prime number\n",
      "2468 equals 2 * 1234\n",
      "2469 equals 3 * 823\n",
      "2470 equals 2 * 1235\n",
      "2471 equals 7 * 353\n",
      "2472 equals 2 * 1236\n",
      "2473 is a prime number\n",
      "2474 equals 2 * 1237\n",
      "2475 equals 3 * 825\n",
      "2476 equals 2 * 1238\n",
      "2477 is a prime number\n",
      "2478 equals 2 * 1239\n",
      "2479 equals 37 * 67\n",
      "2480 equals 2 * 1240\n",
      "2481 equals 3 * 827\n",
      "2482 equals 2 * 1241\n",
      "2483 equals 13 * 191\n",
      "2484 equals 2 * 1242\n",
      "2485 equals 5 * 497\n",
      "2486 equals 2 * 1243\n",
      "2487 equals 3 * 829\n",
      "2488 equals 2 * 1244\n",
      "2489 equals 19 * 131\n",
      "2490 equals 2 * 1245\n",
      "2491 equals 47 * 53\n",
      "2492 equals 2 * 1246\n",
      "2493 equals 3 * 831\n",
      "2494 equals 2 * 1247\n",
      "2495 equals 5 * 499\n",
      "2496 equals 2 * 1248\n",
      "2497 equals 11 * 227\n",
      "2498 equals 2 * 1249\n",
      "2499 equals 3 * 833\n"
     ]
    }
   ],
   "source": [
    "# consider efficiency\n",
    "import math\n",
    "\n",
    "for num in range(2, 2500):\n",
    "    for divisor in range(2, int(math.sqrt(num) + 1)):\n",
    "        if num % divisor == 0: # divides evenly\n",
    "            print(num, 'equals', divisor, '*', num // divisor)\n",
    "            break # no need to keep checking\n",
    "    else: # here's a good use for an else\n",
    "        # we're only here if no break, i.e., no divisors\n",
    "        print(num, 'is a prime number')"
   ]
  },
  {
   "cell_type": "code",
   "execution_count": 83,
   "id": "dc34311d-ed6a-43b2-8fb0-8f4693f7a864",
   "metadata": {},
   "outputs": [
    {
     "data": {
      "text/plain": [
       "2"
      ]
     },
     "execution_count": 83,
     "metadata": {},
     "output_type": "execute_result"
    }
   ],
   "source": [
    "round(2.5)"
   ]
  },
  {
   "cell_type": "code",
   "execution_count": 84,
   "id": "4e9e0d05-5750-4da6-b06b-b6f5c4344c97",
   "metadata": {},
   "outputs": [
    {
     "data": {
      "text/plain": [
       "4"
      ]
     },
     "execution_count": 84,
     "metadata": {},
     "output_type": "execute_result"
    }
   ],
   "source": [
    "round(3.5)"
   ]
  },
  {
   "cell_type": "code",
   "execution_count": 86,
   "id": "895a2f4a-4147-4306-98e4-9a786a36c665",
   "metadata": {},
   "outputs": [
    {
     "data": {
      "text/plain": [
       "'1'"
      ]
     },
     "execution_count": 86,
     "metadata": {},
     "output_type": "execute_result"
    }
   ],
   "source": [
    "str(1)"
   ]
  },
  {
   "cell_type": "code",
   "execution_count": 87,
   "id": "ac4ac501-9e59-4256-ba21-ca621d17ae47",
   "metadata": {},
   "outputs": [
    {
     "data": {
      "text/plain": [
       "'1.1'"
      ]
     },
     "execution_count": 87,
     "metadata": {},
     "output_type": "execute_result"
    }
   ],
   "source": [
    "str(1.1)"
   ]
  },
  {
   "cell_type": "code",
   "execution_count": 88,
   "id": "d1c501fc-829d-41ca-bf5f-389896bc09d9",
   "metadata": {},
   "outputs": [
    {
     "data": {
      "text/plain": [
       "'string'"
      ]
     },
     "execution_count": 88,
     "metadata": {},
     "output_type": "execute_result"
    }
   ],
   "source": [
    "str('string')"
   ]
  },
  {
   "cell_type": "code",
   "execution_count": 89,
   "id": "f32924a6-5124-473f-8916-c52813e96283",
   "metadata": {},
   "outputs": [
    {
     "ename": "ValueError",
     "evalue": "invalid literal for int() with base 10: 'x'",
     "output_type": "error",
     "traceback": [
      "\u001b[0;31m---------------------------------------------------------------------------\u001b[0m",
      "\u001b[0;31mValueError\u001b[0m                                Traceback (most recent call last)",
      "Input \u001b[0;32mIn [89]\u001b[0m, in \u001b[0;36m<cell line: 1>\u001b[0;34m()\u001b[0m\n\u001b[0;32m----> 1\u001b[0m \u001b[38;5;28;43mint\u001b[39;49m\u001b[43m(\u001b[49m\u001b[38;5;124;43m'\u001b[39;49m\u001b[38;5;124;43mx\u001b[39;49m\u001b[38;5;124;43m'\u001b[39;49m\u001b[43m)\u001b[49m\n",
      "\u001b[0;31mValueError\u001b[0m: invalid literal for int() with base 10: 'x'"
     ]
    }
   ],
   "source": [
    "int('x')"
   ]
  },
  {
   "cell_type": "code",
   "execution_count": 90,
   "id": "3b10f8e6-6ce6-46b7-859a-d73c376fee5d",
   "metadata": {},
   "outputs": [
    {
     "data": {
      "text/plain": [
       "1234"
      ]
     },
     "execution_count": 90,
     "metadata": {},
     "output_type": "execute_result"
    }
   ],
   "source": [
    "int('1234')"
   ]
  },
  {
   "cell_type": "code",
   "execution_count": 1,
   "id": "8750050d-1609-4eb3-bdde-2579754d587e",
   "metadata": {},
   "outputs": [
    {
     "name": "stdout",
     "output_type": "stream",
     "text": [
      "Help on built-in function len in module builtins:\n",
      "\n",
      "len(obj, /)\n",
      "    Return the number of items in a container.\n",
      "\n"
     ]
    }
   ],
   "source": [
    "help(len)"
   ]
  },
  {
   "cell_type": "code",
   "execution_count": 2,
   "id": "6a0a0cf5-779c-4353-840e-71d576765bfd",
   "metadata": {},
   "outputs": [
    {
     "data": {
      "text/plain": [
       "9"
      ]
     },
     "execution_count": 2,
     "metadata": {},
     "output_type": "execute_result"
    }
   ],
   "source": [
    "len('something')"
   ]
  },
  {
   "cell_type": "code",
   "execution_count": 3,
   "id": "b990a2e8-664e-4fc9-bd7a-59fd94377bc5",
   "metadata": {},
   "outputs": [],
   "source": [
    "string = 'something'"
   ]
  },
  {
   "cell_type": "code",
   "execution_count": 4,
   "id": "acb5d8d0-14ce-4d3d-9d26-c26306f910ae",
   "metadata": {},
   "outputs": [
    {
     "name": "stdout",
     "output_type": "stream",
     "text": [
      "Help on class str in module builtins:\n",
      "\n",
      "class str(object)\n",
      " |  str(object='') -> str\n",
      " |  str(bytes_or_buffer[, encoding[, errors]]) -> str\n",
      " |  \n",
      " |  Create a new string object from the given object. If encoding or\n",
      " |  errors is specified, then the object must expose a data buffer\n",
      " |  that will be decoded using the given encoding and error handler.\n",
      " |  Otherwise, returns the result of object.__str__() (if defined)\n",
      " |  or repr(object).\n",
      " |  encoding defaults to sys.getdefaultencoding().\n",
      " |  errors defaults to 'strict'.\n",
      " |  \n",
      " |  Methods defined here:\n",
      " |  \n",
      " |  __add__(self, value, /)\n",
      " |      Return self+value.\n",
      " |  \n",
      " |  __contains__(self, key, /)\n",
      " |      Return key in self.\n",
      " |  \n",
      " |  __eq__(self, value, /)\n",
      " |      Return self==value.\n",
      " |  \n",
      " |  __format__(self, format_spec, /)\n",
      " |      Return a formatted version of the string as described by format_spec.\n",
      " |  \n",
      " |  __ge__(self, value, /)\n",
      " |      Return self>=value.\n",
      " |  \n",
      " |  __getattribute__(self, name, /)\n",
      " |      Return getattr(self, name).\n",
      " |  \n",
      " |  __getitem__(self, key, /)\n",
      " |      Return self[key].\n",
      " |  \n",
      " |  __getnewargs__(...)\n",
      " |  \n",
      " |  __gt__(self, value, /)\n",
      " |      Return self>value.\n",
      " |  \n",
      " |  __hash__(self, /)\n",
      " |      Return hash(self).\n",
      " |  \n",
      " |  __iter__(self, /)\n",
      " |      Implement iter(self).\n",
      " |  \n",
      " |  __le__(self, value, /)\n",
      " |      Return self<=value.\n",
      " |  \n",
      " |  __len__(self, /)\n",
      " |      Return len(self).\n",
      " |  \n",
      " |  __lt__(self, value, /)\n",
      " |      Return self<value.\n",
      " |  \n",
      " |  __mod__(self, value, /)\n",
      " |      Return self%value.\n",
      " |  \n",
      " |  __mul__(self, value, /)\n",
      " |      Return self*value.\n",
      " |  \n",
      " |  __ne__(self, value, /)\n",
      " |      Return self!=value.\n",
      " |  \n",
      " |  __repr__(self, /)\n",
      " |      Return repr(self).\n",
      " |  \n",
      " |  __rmod__(self, value, /)\n",
      " |      Return value%self.\n",
      " |  \n",
      " |  __rmul__(self, value, /)\n",
      " |      Return value*self.\n",
      " |  \n",
      " |  __sizeof__(self, /)\n",
      " |      Return the size of the string in memory, in bytes.\n",
      " |  \n",
      " |  __str__(self, /)\n",
      " |      Return str(self).\n",
      " |  \n",
      " |  capitalize(self, /)\n",
      " |      Return a capitalized version of the string.\n",
      " |      \n",
      " |      More specifically, make the first character have upper case and the rest lower\n",
      " |      case.\n",
      " |  \n",
      " |  casefold(self, /)\n",
      " |      Return a version of the string suitable for caseless comparisons.\n",
      " |  \n",
      " |  center(self, width, fillchar=' ', /)\n",
      " |      Return a centered string of length width.\n",
      " |      \n",
      " |      Padding is done using the specified fill character (default is a space).\n",
      " |  \n",
      " |  count(...)\n",
      " |      S.count(sub[, start[, end]]) -> int\n",
      " |      \n",
      " |      Return the number of non-overlapping occurrences of substring sub in\n",
      " |      string S[start:end].  Optional arguments start and end are\n",
      " |      interpreted as in slice notation.\n",
      " |  \n",
      " |  encode(self, /, encoding='utf-8', errors='strict')\n",
      " |      Encode the string using the codec registered for encoding.\n",
      " |      \n",
      " |      encoding\n",
      " |        The encoding in which to encode the string.\n",
      " |      errors\n",
      " |        The error handling scheme to use for encoding errors.\n",
      " |        The default is 'strict' meaning that encoding errors raise a\n",
      " |        UnicodeEncodeError.  Other possible values are 'ignore', 'replace' and\n",
      " |        'xmlcharrefreplace' as well as any other name registered with\n",
      " |        codecs.register_error that can handle UnicodeEncodeErrors.\n",
      " |  \n",
      " |  endswith(...)\n",
      " |      S.endswith(suffix[, start[, end]]) -> bool\n",
      " |      \n",
      " |      Return True if S ends with the specified suffix, False otherwise.\n",
      " |      With optional start, test S beginning at that position.\n",
      " |      With optional end, stop comparing S at that position.\n",
      " |      suffix can also be a tuple of strings to try.\n",
      " |  \n",
      " |  expandtabs(self, /, tabsize=8)\n",
      " |      Return a copy where all tab characters are expanded using spaces.\n",
      " |      \n",
      " |      If tabsize is not given, a tab size of 8 characters is assumed.\n",
      " |  \n",
      " |  find(...)\n",
      " |      S.find(sub[, start[, end]]) -> int\n",
      " |      \n",
      " |      Return the lowest index in S where substring sub is found,\n",
      " |      such that sub is contained within S[start:end].  Optional\n",
      " |      arguments start and end are interpreted as in slice notation.\n",
      " |      \n",
      " |      Return -1 on failure.\n",
      " |  \n",
      " |  format(...)\n",
      " |      S.format(*args, **kwargs) -> str\n",
      " |      \n",
      " |      Return a formatted version of S, using substitutions from args and kwargs.\n",
      " |      The substitutions are identified by braces ('{' and '}').\n",
      " |  \n",
      " |  format_map(...)\n",
      " |      S.format_map(mapping) -> str\n",
      " |      \n",
      " |      Return a formatted version of S, using substitutions from mapping.\n",
      " |      The substitutions are identified by braces ('{' and '}').\n",
      " |  \n",
      " |  index(...)\n",
      " |      S.index(sub[, start[, end]]) -> int\n",
      " |      \n",
      " |      Return the lowest index in S where substring sub is found,\n",
      " |      such that sub is contained within S[start:end].  Optional\n",
      " |      arguments start and end are interpreted as in slice notation.\n",
      " |      \n",
      " |      Raises ValueError when the substring is not found.\n",
      " |  \n",
      " |  isalnum(self, /)\n",
      " |      Return True if the string is an alpha-numeric string, False otherwise.\n",
      " |      \n",
      " |      A string is alpha-numeric if all characters in the string are alpha-numeric and\n",
      " |      there is at least one character in the string.\n",
      " |  \n",
      " |  isalpha(self, /)\n",
      " |      Return True if the string is an alphabetic string, False otherwise.\n",
      " |      \n",
      " |      A string is alphabetic if all characters in the string are alphabetic and there\n",
      " |      is at least one character in the string.\n",
      " |  \n",
      " |  isascii(self, /)\n",
      " |      Return True if all characters in the string are ASCII, False otherwise.\n",
      " |      \n",
      " |      ASCII characters have code points in the range U+0000-U+007F.\n",
      " |      Empty string is ASCII too.\n",
      " |  \n",
      " |  isdecimal(self, /)\n",
      " |      Return True if the string is a decimal string, False otherwise.\n",
      " |      \n",
      " |      A string is a decimal string if all characters in the string are decimal and\n",
      " |      there is at least one character in the string.\n",
      " |  \n",
      " |  isdigit(self, /)\n",
      " |      Return True if the string is a digit string, False otherwise.\n",
      " |      \n",
      " |      A string is a digit string if all characters in the string are digits and there\n",
      " |      is at least one character in the string.\n",
      " |  \n",
      " |  isidentifier(self, /)\n",
      " |      Return True if the string is a valid Python identifier, False otherwise.\n",
      " |      \n",
      " |      Call keyword.iskeyword(s) to test whether string s is a reserved identifier,\n",
      " |      such as \"def\" or \"class\".\n",
      " |  \n",
      " |  islower(self, /)\n",
      " |      Return True if the string is a lowercase string, False otherwise.\n",
      " |      \n",
      " |      A string is lowercase if all cased characters in the string are lowercase and\n",
      " |      there is at least one cased character in the string.\n",
      " |  \n",
      " |  isnumeric(self, /)\n",
      " |      Return True if the string is a numeric string, False otherwise.\n",
      " |      \n",
      " |      A string is numeric if all characters in the string are numeric and there is at\n",
      " |      least one character in the string.\n",
      " |  \n",
      " |  isprintable(self, /)\n",
      " |      Return True if the string is printable, False otherwise.\n",
      " |      \n",
      " |      A string is printable if all of its characters are considered printable in\n",
      " |      repr() or if it is empty.\n",
      " |  \n",
      " |  isspace(self, /)\n",
      " |      Return True if the string is a whitespace string, False otherwise.\n",
      " |      \n",
      " |      A string is whitespace if all characters in the string are whitespace and there\n",
      " |      is at least one character in the string.\n",
      " |  \n",
      " |  istitle(self, /)\n",
      " |      Return True if the string is a title-cased string, False otherwise.\n",
      " |      \n",
      " |      In a title-cased string, upper- and title-case characters may only\n",
      " |      follow uncased characters and lowercase characters only cased ones.\n",
      " |  \n",
      " |  isupper(self, /)\n",
      " |      Return True if the string is an uppercase string, False otherwise.\n",
      " |      \n",
      " |      A string is uppercase if all cased characters in the string are uppercase and\n",
      " |      there is at least one cased character in the string.\n",
      " |  \n",
      " |  join(self, iterable, /)\n",
      " |      Concatenate any number of strings.\n",
      " |      \n",
      " |      The string whose method is called is inserted in between each given string.\n",
      " |      The result is returned as a new string.\n",
      " |      \n",
      " |      Example: '.'.join(['ab', 'pq', 'rs']) -> 'ab.pq.rs'\n",
      " |  \n",
      " |  ljust(self, width, fillchar=' ', /)\n",
      " |      Return a left-justified string of length width.\n",
      " |      \n",
      " |      Padding is done using the specified fill character (default is a space).\n",
      " |  \n",
      " |  lower(self, /)\n",
      " |      Return a copy of the string converted to lowercase.\n",
      " |  \n",
      " |  lstrip(self, chars=None, /)\n",
      " |      Return a copy of the string with leading whitespace removed.\n",
      " |      \n",
      " |      If chars is given and not None, remove characters in chars instead.\n",
      " |  \n",
      " |  partition(self, sep, /)\n",
      " |      Partition the string into three parts using the given separator.\n",
      " |      \n",
      " |      This will search for the separator in the string.  If the separator is found,\n",
      " |      returns a 3-tuple containing the part before the separator, the separator\n",
      " |      itself, and the part after it.\n",
      " |      \n",
      " |      If the separator is not found, returns a 3-tuple containing the original string\n",
      " |      and two empty strings.\n",
      " |  \n",
      " |  removeprefix(self, prefix, /)\n",
      " |      Return a str with the given prefix string removed if present.\n",
      " |      \n",
      " |      If the string starts with the prefix string, return string[len(prefix):].\n",
      " |      Otherwise, return a copy of the original string.\n",
      " |  \n",
      " |  removesuffix(self, suffix, /)\n",
      " |      Return a str with the given suffix string removed if present.\n",
      " |      \n",
      " |      If the string ends with the suffix string and that suffix is not empty,\n",
      " |      return string[:-len(suffix)]. Otherwise, return a copy of the original\n",
      " |      string.\n",
      " |  \n",
      " |  replace(self, old, new, count=-1, /)\n",
      " |      Return a copy with all occurrences of substring old replaced by new.\n",
      " |      \n",
      " |        count\n",
      " |          Maximum number of occurrences to replace.\n",
      " |          -1 (the default value) means replace all occurrences.\n",
      " |      \n",
      " |      If the optional argument count is given, only the first count occurrences are\n",
      " |      replaced.\n",
      " |  \n",
      " |  rfind(...)\n",
      " |      S.rfind(sub[, start[, end]]) -> int\n",
      " |      \n",
      " |      Return the highest index in S where substring sub is found,\n",
      " |      such that sub is contained within S[start:end].  Optional\n",
      " |      arguments start and end are interpreted as in slice notation.\n",
      " |      \n",
      " |      Return -1 on failure.\n",
      " |  \n",
      " |  rindex(...)\n",
      " |      S.rindex(sub[, start[, end]]) -> int\n",
      " |      \n",
      " |      Return the highest index in S where substring sub is found,\n",
      " |      such that sub is contained within S[start:end].  Optional\n",
      " |      arguments start and end are interpreted as in slice notation.\n",
      " |      \n",
      " |      Raises ValueError when the substring is not found.\n",
      " |  \n",
      " |  rjust(self, width, fillchar=' ', /)\n",
      " |      Return a right-justified string of length width.\n",
      " |      \n",
      " |      Padding is done using the specified fill character (default is a space).\n",
      " |  \n",
      " |  rpartition(self, sep, /)\n",
      " |      Partition the string into three parts using the given separator.\n",
      " |      \n",
      " |      This will search for the separator in the string, starting at the end. If\n",
      " |      the separator is found, returns a 3-tuple containing the part before the\n",
      " |      separator, the separator itself, and the part after it.\n",
      " |      \n",
      " |      If the separator is not found, returns a 3-tuple containing two empty strings\n",
      " |      and the original string.\n",
      " |  \n",
      " |  rsplit(self, /, sep=None, maxsplit=-1)\n",
      " |      Return a list of the words in the string, using sep as the delimiter string.\n",
      " |      \n",
      " |        sep\n",
      " |          The delimiter according which to split the string.\n",
      " |          None (the default value) means split according to any whitespace,\n",
      " |          and discard empty strings from the result.\n",
      " |        maxsplit\n",
      " |          Maximum number of splits to do.\n",
      " |          -1 (the default value) means no limit.\n",
      " |      \n",
      " |      Splits are done starting at the end of the string and working to the front.\n",
      " |  \n",
      " |  rstrip(self, chars=None, /)\n",
      " |      Return a copy of the string with trailing whitespace removed.\n",
      " |      \n",
      " |      If chars is given and not None, remove characters in chars instead.\n",
      " |  \n",
      " |  split(self, /, sep=None, maxsplit=-1)\n",
      " |      Return a list of the words in the string, using sep as the delimiter string.\n",
      " |      \n",
      " |      sep\n",
      " |        The delimiter according which to split the string.\n",
      " |        None (the default value) means split according to any whitespace,\n",
      " |        and discard empty strings from the result.\n",
      " |      maxsplit\n",
      " |        Maximum number of splits to do.\n",
      " |        -1 (the default value) means no limit.\n",
      " |  \n",
      " |  splitlines(self, /, keepends=False)\n",
      " |      Return a list of the lines in the string, breaking at line boundaries.\n",
      " |      \n",
      " |      Line breaks are not included in the resulting list unless keepends is given and\n",
      " |      true.\n",
      " |  \n",
      " |  startswith(...)\n",
      " |      S.startswith(prefix[, start[, end]]) -> bool\n",
      " |      \n",
      " |      Return True if S starts with the specified prefix, False otherwise.\n",
      " |      With optional start, test S beginning at that position.\n",
      " |      With optional end, stop comparing S at that position.\n",
      " |      prefix can also be a tuple of strings to try.\n",
      " |  \n",
      " |  strip(self, chars=None, /)\n",
      " |      Return a copy of the string with leading and trailing whitespace removed.\n",
      " |      \n",
      " |      If chars is given and not None, remove characters in chars instead.\n",
      " |  \n",
      " |  swapcase(self, /)\n",
      " |      Convert uppercase characters to lowercase and lowercase characters to uppercase.\n",
      " |  \n",
      " |  title(self, /)\n",
      " |      Return a version of the string where each word is titlecased.\n",
      " |      \n",
      " |      More specifically, words start with uppercased characters and all remaining\n",
      " |      cased characters have lower case.\n",
      " |  \n",
      " |  translate(self, table, /)\n",
      " |      Replace each character in the string using the given translation table.\n",
      " |      \n",
      " |        table\n",
      " |          Translation table, which must be a mapping of Unicode ordinals to\n",
      " |          Unicode ordinals, strings, or None.\n",
      " |      \n",
      " |      The table must implement lookup/indexing via __getitem__, for instance a\n",
      " |      dictionary or list.  If this operation raises LookupError, the character is\n",
      " |      left untouched.  Characters mapped to None are deleted.\n",
      " |  \n",
      " |  upper(self, /)\n",
      " |      Return a copy of the string converted to uppercase.\n",
      " |  \n",
      " |  zfill(self, width, /)\n",
      " |      Pad a numeric string with zeros on the left, to fill a field of the given width.\n",
      " |      \n",
      " |      The string is never truncated.\n",
      " |  \n",
      " |  ----------------------------------------------------------------------\n",
      " |  Static methods defined here:\n",
      " |  \n",
      " |  __new__(*args, **kwargs) from builtins.type\n",
      " |      Create and return a new object.  See help(type) for accurate signature.\n",
      " |  \n",
      " |  maketrans(...)\n",
      " |      Return a translation table usable for str.translate().\n",
      " |      \n",
      " |      If there is only one argument, it must be a dictionary mapping Unicode\n",
      " |      ordinals (integers) or characters to Unicode ordinals, strings or None.\n",
      " |      Character keys will be then converted to ordinals.\n",
      " |      If there are two arguments, they must be strings of equal length, and\n",
      " |      in the resulting dictionary, each character in x will be mapped to the\n",
      " |      character at the same position in y. If there is a third argument, it\n",
      " |      must be a string, whose characters will be mapped to None in the result.\n",
      "\n"
     ]
    }
   ],
   "source": [
    "help(str)"
   ]
  },
  {
   "cell_type": "code",
   "execution_count": 5,
   "id": "757a9d36-216f-48e1-ae7d-a8876eab4e22",
   "metadata": {},
   "outputs": [],
   "source": [
    "x = 4"
   ]
  },
  {
   "cell_type": "code",
   "execution_count": 6,
   "id": "af2d42cd-c954-40e9-802f-e58ec5bf1c27",
   "metadata": {},
   "outputs": [
    {
     "data": {
      "text/plain": [
       "int"
      ]
     },
     "execution_count": 6,
     "metadata": {},
     "output_type": "execute_result"
    }
   ],
   "source": [
    "type(x)"
   ]
  },
  {
   "cell_type": "code",
   "execution_count": 7,
   "id": "a84f8227-7f1e-4542-ade0-5336eb9f4e67",
   "metadata": {},
   "outputs": [
    {
     "data": {
      "text/plain": [
       "type"
      ]
     },
     "execution_count": 7,
     "metadata": {},
     "output_type": "execute_result"
    }
   ],
   "source": [
    "type(int)"
   ]
  },
  {
   "cell_type": "code",
   "execution_count": 8,
   "id": "dd8d4e01-073e-4940-bdef-1405b303115a",
   "metadata": {},
   "outputs": [],
   "source": [
    "string = 'starbucks'"
   ]
  },
  {
   "cell_type": "code",
   "execution_count": 9,
   "id": "46b27b2e-d7c7-48dc-860e-4722c9d2ad85",
   "metadata": {},
   "outputs": [
    {
     "ename": "TypeError",
     "evalue": "'str' object does not support item assignment",
     "output_type": "error",
     "traceback": [
      "\u001b[0;31m---------------------------------------------------------------------------\u001b[0m",
      "\u001b[0;31mTypeError\u001b[0m                                 Traceback (most recent call last)",
      "Input \u001b[0;32mIn [9]\u001b[0m, in \u001b[0;36m<cell line: 1>\u001b[0;34m()\u001b[0m\n\u001b[0;32m----> 1\u001b[0m string[\u001b[38;5;241m0\u001b[39m] \u001b[38;5;241m=\u001b[39m \u001b[38;5;124m'\u001b[39m\u001b[38;5;124mS\u001b[39m\u001b[38;5;124m'\u001b[39m\n",
      "\u001b[0;31mTypeError\u001b[0m: 'str' object does not support item assignment"
     ]
    }
   ],
   "source": [
    "string[0] = 'S'"
   ]
  },
  {
   "cell_type": "code",
   "execution_count": 10,
   "id": "7357c93a-3672-4004-97fc-a553c832155e",
   "metadata": {},
   "outputs": [],
   "source": [
    "string = 'Starbucks'"
   ]
  },
  {
   "cell_type": "code",
   "execution_count": 11,
   "id": "b85f24d5-b5be-459f-82c2-72db438d24fe",
   "metadata": {},
   "outputs": [
    {
     "data": {
      "text/plain": [
       "'Starbucks'"
      ]
     },
     "execution_count": 11,
     "metadata": {},
     "output_type": "execute_result"
    }
   ],
   "source": [
    "string"
   ]
  },
  {
   "cell_type": "code",
   "execution_count": 12,
   "id": "28d7a8a2-4d66-4b80-b0b0-ea5f5fefb7e4",
   "metadata": {},
   "outputs": [],
   "source": [
    "s = '    \\t\\n\\t \\tNandkishor '"
   ]
  },
  {
   "cell_type": "code",
   "execution_count": 13,
   "id": "95fa199a-ee1c-4288-87ba-072721937dee",
   "metadata": {},
   "outputs": [
    {
     "data": {
      "text/plain": [
       "'Nandkishor'"
      ]
     },
     "execution_count": 13,
     "metadata": {},
     "output_type": "execute_result"
    }
   ],
   "source": [
    "s.strip()"
   ]
  },
  {
   "cell_type": "code",
   "execution_count": 14,
   "id": "6fddffc9-4002-4548-861c-455dda879edb",
   "metadata": {},
   "outputs": [
    {
     "data": {
      "text/plain": [
       "'    \\t\\n\\t \\tNandkishor '"
      ]
     },
     "execution_count": 14,
     "metadata": {},
     "output_type": "execute_result"
    }
   ],
   "source": [
    "s"
   ]
  },
  {
   "cell_type": "markdown",
   "id": "a2ae9e5b-f5fe-4cdc-9444-7c36d62d6a2e",
   "metadata": {},
   "source": [
    "char = 's'"
   ]
  },
  {
   "cell_type": "code",
   "execution_count": 16,
   "id": "f7a9fd41-a328-432b-9f87-9411348aab74",
   "metadata": {},
   "outputs": [
    {
     "data": {
      "text/plain": [
       "'S'"
      ]
     },
     "execution_count": 16,
     "metadata": {},
     "output_type": "execute_result"
    }
   ],
   "source": [
    "char.swapcase()"
   ]
  },
  {
   "cell_type": "code",
   "execution_count": 17,
   "id": "0827e005-af79-4db1-96df-5993de415bc4",
   "metadata": {},
   "outputs": [
    {
     "data": {
      "text/plain": [
       "'nANDKISHOR'"
      ]
     },
     "execution_count": 17,
     "metadata": {},
     "output_type": "execute_result"
    }
   ],
   "source": [
    "'Nandkishor'.swapcase()"
   ]
  },
  {
   "cell_type": "markdown",
   "id": "3fcd3101-4357-4da1-8c1b-a9392e3515b0",
   "metadata": {},
   "source": [
    "## Lab: String Functions\n",
    "* write a Python program which prompts the user for a string and a stride (increment), and alternately makes the string upper case and lower case, stride characters at a time, e.g.,\n",
    "![alt-text](images/uplow.png \"uplow\")\n"
   ]
  },
  {
   "cell_type": "code",
   "execution_count": 21,
   "id": "843e8df7-05ba-4537-9c13-6505a3b6ec08",
   "metadata": {},
   "outputs": [
    {
     "name": "stdout",
     "output_type": "stream",
     "text": [
      "0 .. 4 abcd\n",
      "4 .. 8 efgh\n",
      "8 .. 12 ijkl\n",
      "12 .. 16 mnop\n",
      "16 .. 20 qrst\n",
      "20 .. 24 uvwx\n",
      "24 .. 28 yz\n"
     ]
    }
   ],
   "source": [
    "string = 'abcdefghijklmnopqrstuvwxyz'\n",
    "stride = 4\n",
    "# len / 4\n",
    "# 'abcd' 0..4\n",
    "# 'efgh' 4..8\n",
    "# 8..12\n",
    "for position in range(0, len(string), stride):\n",
    "    print(position, '..', position + stride, string[position:position + stride])"
   ]
  },
  {
   "cell_type": "code",
   "execution_count": 22,
   "id": "09a52660-fe47-491b-a189-06fe655e9597",
   "metadata": {},
   "outputs": [
    {
     "data": {
      "text/plain": [
       "''"
      ]
     },
     "execution_count": 22,
     "metadata": {},
     "output_type": "execute_result"
    }
   ],
   "source": [
    "string[34:76]"
   ]
  },
  {
   "cell_type": "code",
   "execution_count": 29,
   "id": "b91e6bed-1b34-4f69-b4af-67ceb316722f",
   "metadata": {},
   "outputs": [
    {
     "name": "stdin",
     "output_type": "stream",
     "text": [
      "Enter a string: abcdefghijklmnopqrstuvwxyz\n",
      "Enter a stride:  4\n"
     ]
    },
    {
     "name": "stdout",
     "output_type": "stream",
     "text": [
      "ABCDefghIJKLmnopQRSTuvwxYZ\n"
     ]
    }
   ],
   "source": [
    "string = input('Enter a string:')\n",
    "stride = int(input('Enter a stride: ')) # don't forget to int-ify\n",
    "result = ''\n",
    "\n",
    "# What we need to do during this loop is alternate, i.e., if we\n",
    "# previously called .upper(), we need to now do .lower().\n",
    "# If we take the 'what do humans do?' approach, we notice that\n",
    "# a human is likely to first write out stride characters in uppercase,\n",
    "# and then \"notice\" that they previous did upper, so they should switch\n",
    "# to lower the next time around. That is, a human can simply look at\n",
    "# what they just wrote, and do the opposite. While we could certainly\n",
    "# write code to look at say, the last character of the string so far,\n",
    "# a more straightforward (arguably) solution would be to keep track of\n",
    "# the last operation in a variable, and that will guide us as to what\n",
    "# we should do next.\n",
    "#\n",
    "# We might keep track of the previous operation in a string, and then\n",
    "# we'll investigate a more \"programmatic/dev\" solution.\n",
    "do_next = 'upper' # what to do next\n",
    "\n",
    "# march thru the string, stride chars at a time (not the only way to do this)\n",
    "for position in range(0, len(string), stride):\n",
    "    if do_next == 'upper':\n",
    "        result += string[position:position + stride].upper()\n",
    "        do_next = 'lower'\n",
    "    else:\n",
    "        result += string[position:position + stride].lower()\n",
    "        do_next = 'upper'\n",
    "        \n",
    "print(result)"
   ]
  },
  {
   "cell_type": "code",
   "execution_count": 28,
   "id": "89605923-e3cb-4db2-a463-b8333517f087",
   "metadata": {},
   "outputs": [
    {
     "name": "stdin",
     "output_type": "stream",
     "text": [
      "Enter a string: programmatic\n",
      "Enter a stride:  2\n"
     ]
    },
    {
     "name": "stdout",
     "output_type": "stream",
     "text": [
      "PRogRAmmATic\n"
     ]
    }
   ],
   "source": [
    "# Note that while the above works, it's not ideal because the string\n",
    "# variable is only being compared with 'upper'. The else clause is\n",
    "# run if the string is literally anything but 'upper'. A more programmatic\n",
    "# solution would use a Boolean variable which can only be True or False.\n",
    "# When naming Boolean variables, we use verbs or actions so that the code\n",
    "# reads better, e.g., do_upper, make_upper, etc.\n",
    "string = input('Enter a string:')\n",
    "stride = int(input('Enter a stride: ')) # don't forget to int-ify\n",
    "result = ''\n",
    "do_upper = True # what to do next\n",
    "\n",
    "# march thru the string, stride chars at a time (not the only way to do this)\n",
    "for position in range(0, len(string), stride):\n",
    "    if do_upper: # == True\n",
    "        result += string[position:position + stride].upper()\n",
    "        # do_upper = False\n",
    "    else:\n",
    "        result += string[position:position + stride].lower()\n",
    "        # do_upper = True\n",
    "    do_upper = not do_upper\n",
    "        \n",
    "print(result)"
   ]
  },
  {
   "cell_type": "markdown",
   "id": "943f2179-5951-4ad5-b3c5-f05c88f5b06b",
   "metadata": {},
   "source": [
    "# Given a string, output all substring of that string which are 2+ characters\n",
    "* example: \"starbucks\"\n",
    "  * st, sta, star, ..., starbucks, ta, tar, tarb, ..., tarbucks"
   ]
  },
  {
   "cell_type": "code",
   "execution_count": 32,
   "id": "ba4a238f-375e-4a51-81c4-8fff0f298f20",
   "metadata": {},
   "outputs": [
    {
     "name": "stdin",
     "output_type": "stream",
     "text": [
      "Enter a string:  starbucks\n"
     ]
    },
    {
     "name": "stdout",
     "output_type": "stream",
     "text": [
      "st\n",
      "sta\n",
      "star\n",
      "starb\n",
      "starbu\n",
      "starbuc\n",
      "starbuck\n",
      "starbucks\n",
      "ta\n",
      "tar\n",
      "tarb\n",
      "tarbu\n",
      "tarbuc\n",
      "tarbuck\n",
      "tarbucks\n",
      "ar\n",
      "arb\n",
      "arbu\n",
      "arbuc\n",
      "arbuck\n",
      "arbucks\n",
      "rb\n",
      "rbu\n",
      "rbuc\n",
      "rbuck\n",
      "rbucks\n",
      "bu\n",
      "buc\n",
      "buck\n",
      "bucks\n",
      "uc\n",
      "uck\n",
      "ucks\n",
      "ck\n",
      "cks\n",
      "ks\n"
     ]
    }
   ],
   "source": [
    "string = input('Enter a string: ')\n",
    "\n",
    "for position in range(len(string) - 1):\n",
    "    for end in range(position + 2, len(string) + 1):\n",
    "        print(string[position:end])"
   ]
  },
  {
   "cell_type": "code",
   "execution_count": 33,
   "id": "1919d69e-a9b7-4e50-adfe-aa03c49253de",
   "metadata": {},
   "outputs": [
    {
     "data": {
      "text/plain": [
       "[1, 2, 3]"
      ]
     },
     "execution_count": 33,
     "metadata": {},
     "output_type": "execute_result"
    }
   ],
   "source": [
    "list([1, 2, 3])"
   ]
  },
  {
   "cell_type": "code",
   "execution_count": 34,
   "id": "ed50cd1a-3a5b-4a6c-8b3f-06ac0a943bc9",
   "metadata": {},
   "outputs": [
    {
     "ename": "TypeError",
     "evalue": "'int' object is not iterable",
     "output_type": "error",
     "traceback": [
      "\u001b[0;31m---------------------------------------------------------------------------\u001b[0m",
      "\u001b[0;31mTypeError\u001b[0m                                 Traceback (most recent call last)",
      "Input \u001b[0;32mIn [34]\u001b[0m, in \u001b[0;36m<cell line: 1>\u001b[0;34m()\u001b[0m\n\u001b[0;32m----> 1\u001b[0m \u001b[38;5;28;43mlist\u001b[39;49m\u001b[43m(\u001b[49m\u001b[38;5;241;43m4\u001b[39;49m\u001b[43m)\u001b[49m\n",
      "\u001b[0;31mTypeError\u001b[0m: 'int' object is not iterable"
     ]
    }
   ],
   "source": [
    "list(4)"
   ]
  },
  {
   "cell_type": "code",
   "execution_count": 36,
   "id": "d3faa301-6e3f-4787-a380-acd9cdb45dd3",
   "metadata": {},
   "outputs": [],
   "source": [
    "empty_list = list()"
   ]
  },
  {
   "cell_type": "code",
   "execution_count": 37,
   "id": "47dd8a50-b77d-4df1-a999-037c7ba2ae27",
   "metadata": {},
   "outputs": [],
   "source": [
    "empty_list = []"
   ]
  },
  {
   "cell_type": "code",
   "execution_count": 38,
   "id": "4e3bd015-6cf6-42a8-abe8-34c38aa2ad7d",
   "metadata": {},
   "outputs": [
    {
     "data": {
      "text/plain": [
       "0"
      ]
     },
     "execution_count": 38,
     "metadata": {},
     "output_type": "execute_result"
    }
   ],
   "source": [
    "len(empty_list)"
   ]
  },
  {
   "cell_type": "code",
   "execution_count": 39,
   "id": "0976ed7d-a5bd-41ec-935d-748654f6a899",
   "metadata": {},
   "outputs": [
    {
     "data": {
      "text/plain": [
       "['s', 't', 'a', 'r', 'b', 'u', 'c', 'k', 's']"
      ]
     },
     "execution_count": 39,
     "metadata": {},
     "output_type": "execute_result"
    }
   ],
   "source": [
    "list('starbucks')"
   ]
  },
  {
   "cell_type": "code",
   "execution_count": 40,
   "id": "0cfd7026-995d-4c02-b2b0-7b779c266dbf",
   "metadata": {},
   "outputs": [
    {
     "data": {
      "text/plain": [
       "['Python', 'Golang', 'Java', 'Ruby']"
      ]
     },
     "execution_count": 40,
     "metadata": {},
     "output_type": "execute_result"
    }
   ],
   "source": [
    "list(['Python', 'Golang', 'Java', 'Ruby'])"
   ]
  },
  {
   "cell_type": "code",
   "execution_count": 41,
   "id": "70ff8acf-f5d3-4cd9-a131-67499cc1da11",
   "metadata": {},
   "outputs": [],
   "source": [
    "mylist = [1, 2, 3]"
   ]
  },
  {
   "cell_type": "code",
   "execution_count": 42,
   "id": "ddc9b44d-c190-4c12-ac70-3b31c138f8f3",
   "metadata": {},
   "outputs": [],
   "source": [
    "cars = 'Tesla Lucid Bollinger Polestar'.split()"
   ]
  },
  {
   "cell_type": "code",
   "execution_count": 43,
   "id": "9f709c91-b172-410e-a650-1b2d1a5067e3",
   "metadata": {},
   "outputs": [
    {
     "data": {
      "text/plain": [
       "['Tesla', 'Lucid', 'Bollinger', 'Polestar']"
      ]
     },
     "execution_count": 43,
     "metadata": {},
     "output_type": "execute_result"
    }
   ],
   "source": [
    "cars"
   ]
  },
  {
   "cell_type": "code",
   "execution_count": 44,
   "id": "4b927996-1187-4b2d-9dc3-a4c437c89222",
   "metadata": {},
   "outputs": [
    {
     "name": "stdout",
     "output_type": "stream",
     "text": [
      "Tesla\n",
      "Lucid\n",
      "Bollinger\n",
      "Polestar\n"
     ]
    }
   ],
   "source": [
    "for index in range(len(cars)):\n",
    "    print(cars[index])"
   ]
  },
  {
   "cell_type": "code",
   "execution_count": 45,
   "id": "1229a110-4b30-495c-8aca-702dbcaad0c0",
   "metadata": {},
   "outputs": [
    {
     "data": {
      "text/plain": [
       "3"
      ]
     },
     "execution_count": 45,
     "metadata": {},
     "output_type": "execute_result"
    }
   ],
   "source": [
    "index"
   ]
  },
  {
   "cell_type": "code",
   "execution_count": 46,
   "id": "af630f7a-d069-4e89-81b6-48986c031a0b",
   "metadata": {},
   "outputs": [],
   "source": [
    "nums = [1] * 100"
   ]
  },
  {
   "cell_type": "code",
   "execution_count": 47,
   "id": "50a7a0fa-f7cb-4820-b7ed-118cfd0c6f29",
   "metadata": {},
   "outputs": [
    {
     "name": "stdout",
     "output_type": "stream",
     "text": [
      "[1, 1, 1, 1, 1, 1, 1, 1, 1, 1, 1, 1, 1, 1, 1, 1, 1, 1, 1, 1, 1, 1, 1, 1, 1, 1, 1, 1, 1, 1, 1, 1, 1, 1, 1, 1, 1, 1, 1, 1, 1, 1, 1, 1, 1, 1, 1, 1, 1, 1, 1, 1, 1, 1, 1, 1, 1, 1, 1, 1, 1, 1, 1, 1, 1, 1, 1, 1, 1, 1, 1, 1, 1, 1, 1, 1, 1, 1, 1, 1, 1, 1, 1, 1, 1, 1, 1, 1, 1, 1, 1, 1, 1, 1, 1, 1, 1, 1, 1, 1]\n"
     ]
    }
   ],
   "source": [
    "print(nums)"
   ]
  },
  {
   "cell_type": "code",
   "execution_count": 48,
   "id": "9038d53b-efdc-46cf-bb39-83408a579e43",
   "metadata": {},
   "outputs": [],
   "source": [
    "nums.remove(1)"
   ]
  },
  {
   "cell_type": "code",
   "execution_count": 49,
   "id": "9c36ff86-8790-4214-806d-715d1c712e42",
   "metadata": {},
   "outputs": [
    {
     "name": "stdout",
     "output_type": "stream",
     "text": [
      "[1, 1, 1, 1, 1, 1, 1, 1, 1, 1, 1, 1, 1, 1, 1, 1, 1, 1, 1, 1, 1, 1, 1, 1, 1, 1, 1, 1, 1, 1, 1, 1, 1, 1, 1, 1, 1, 1, 1, 1, 1, 1, 1, 1, 1, 1, 1, 1, 1, 1, 1, 1, 1, 1, 1, 1, 1, 1, 1, 1, 1, 1, 1, 1, 1, 1, 1, 1, 1, 1, 1, 1, 1, 1, 1, 1, 1, 1, 1, 1, 1, 1, 1, 1, 1, 1, 1, 1, 1, 1, 1, 1, 1, 1, 1, 1, 1, 1, 1]\n"
     ]
    }
   ],
   "source": [
    "print(nums)"
   ]
  },
  {
   "cell_type": "code",
   "execution_count": 50,
   "id": "953c1944-40e2-4cf0-916d-912d13b375cf",
   "metadata": {},
   "outputs": [
    {
     "data": {
      "text/plain": [
       "True"
      ]
     },
     "execution_count": 50,
     "metadata": {},
     "output_type": "execute_result"
    }
   ],
   "source": [
    "1 in nums"
   ]
  },
  {
   "cell_type": "code",
   "execution_count": 55,
   "id": "0c812e7c-fae1-4257-896c-2d349e901a99",
   "metadata": {},
   "outputs": [],
   "source": [
    "fruits = 'fig lemon apple pear'.split()"
   ]
  },
  {
   "cell_type": "code",
   "execution_count": 56,
   "id": "4436f32a-52e4-47a0-88dc-75489cd2695c",
   "metadata": {},
   "outputs": [
    {
     "data": {
      "text/plain": [
       "['fig', 'lemon', 'apple', 'pear']"
      ]
     },
     "execution_count": 56,
     "metadata": {},
     "output_type": "execute_result"
    }
   ],
   "source": [
    "fruits"
   ]
  },
  {
   "cell_type": "code",
   "execution_count": 53,
   "id": "cf33eb4b-86ba-4cd3-945a-6af28ebc3c90",
   "metadata": {},
   "outputs": [],
   "source": [
    "fruits.sort()"
   ]
  },
  {
   "cell_type": "code",
   "execution_count": 54,
   "id": "9a2400ef-2dcc-46fb-9a5f-278686ab397c",
   "metadata": {},
   "outputs": [
    {
     "data": {
      "text/plain": [
       "['apple', 'fig', 'lemon', 'pear']"
      ]
     },
     "execution_count": 54,
     "metadata": {},
     "output_type": "execute_result"
    }
   ],
   "source": [
    "fruits"
   ]
  },
  {
   "cell_type": "code",
   "execution_count": 57,
   "id": "b363e1d3-08e3-4d41-bb3d-3686c1816ab2",
   "metadata": {},
   "outputs": [
    {
     "data": {
      "text/plain": [
       "['apple', 'fig', 'lemon', 'pear']"
      ]
     },
     "execution_count": 57,
     "metadata": {},
     "output_type": "execute_result"
    }
   ],
   "source": [
    "sorted(fruits)"
   ]
  },
  {
   "cell_type": "code",
   "execution_count": 58,
   "id": "5eac45cd-79c6-4b7a-ace6-3b229f1c6178",
   "metadata": {},
   "outputs": [
    {
     "data": {
      "text/plain": [
       "['fig', 'lemon', 'apple', 'pear']"
      ]
     },
     "execution_count": 58,
     "metadata": {},
     "output_type": "execute_result"
    }
   ],
   "source": [
    "fruits"
   ]
  },
  {
   "cell_type": "code",
   "execution_count": 59,
   "id": "9b18e8b9-b099-484e-8e1a-340494ccdf3d",
   "metadata": {},
   "outputs": [],
   "source": [
    "fruits = fruits.sort()"
   ]
  },
  {
   "cell_type": "code",
   "execution_count": 60,
   "id": "16d384c6-9c3e-4583-a081-4efccd4f5459",
   "metadata": {},
   "outputs": [
    {
     "name": "stdout",
     "output_type": "stream",
     "text": [
      "None\n"
     ]
    }
   ],
   "source": [
    "print(fruits)"
   ]
  },
  {
   "cell_type": "code",
   "execution_count": 61,
   "id": "43e7c2cd-91fc-49ab-86b2-8ac79f1b21f1",
   "metadata": {},
   "outputs": [
    {
     "name": "stdout",
     "output_type": "stream",
     "text": [
      "hello\n"
     ]
    }
   ],
   "source": [
    "print('hello')"
   ]
  },
  {
   "cell_type": "code",
   "execution_count": 62,
   "id": "56ba0503-3fe3-460b-b382-4fc5609ca351",
   "metadata": {},
   "outputs": [
    {
     "name": "stdout",
     "output_type": "stream",
     "text": [
      "hello\n"
     ]
    }
   ],
   "source": [
    "result = print('hello')"
   ]
  },
  {
   "cell_type": "code",
   "execution_count": 63,
   "id": "6f9a91eb-8cae-4d91-b848-9a9e7cec97a7",
   "metadata": {},
   "outputs": [
    {
     "name": "stdout",
     "output_type": "stream",
     "text": [
      "None\n"
     ]
    }
   ],
   "source": [
    "print(result)"
   ]
  },
  {
   "cell_type": "code",
   "execution_count": 64,
   "id": "0059ed5e-97ac-4885-bca2-bdb218e33511",
   "metadata": {},
   "outputs": [
    {
     "data": {
      "text/plain": [
       "['a', 'b', 'c', 'k', 'r', 's', 's', 't', 'u']"
      ]
     },
     "execution_count": 64,
     "metadata": {},
     "output_type": "execute_result"
    }
   ],
   "source": [
    "sorted('starbucks')"
   ]
  },
  {
   "cell_type": "code",
   "execution_count": 65,
   "id": "c5bd0296-6511-4173-892e-499f29764acd",
   "metadata": {},
   "outputs": [
    {
     "data": {
      "text/plain": [
       "['u', 't', 's', 's', 'r', 'k', 'c', 'b', 'a']"
      ]
     },
     "execution_count": 65,
     "metadata": {},
     "output_type": "execute_result"
    }
   ],
   "source": [
    "sorted('starbucks', reverse=True)"
   ]
  },
  {
   "cell_type": "code",
   "execution_count": 67,
   "id": "e04a41ef-1487-4074-88b7-f49961a013a2",
   "metadata": {},
   "outputs": [],
   "source": [
    "fruits = 'fig lemon apple pear'.split()"
   ]
  },
  {
   "cell_type": "code",
   "execution_count": 68,
   "id": "ddeb20b9-4750-4ed7-9c44-f76a0d779d2d",
   "metadata": {},
   "outputs": [
    {
     "data": {
      "text/plain": [
       "['fig', 'lemon', 'apple', 'pear']"
      ]
     },
     "execution_count": 68,
     "metadata": {},
     "output_type": "execute_result"
    }
   ],
   "source": [
    "fruits"
   ]
  },
  {
   "cell_type": "code",
   "execution_count": 69,
   "id": "05991341-56c6-4850-a561-f9aa3c59b282",
   "metadata": {},
   "outputs": [
    {
     "data": {
      "text/plain": [
       "['fig', 'pear', 'lemon', 'apple']"
      ]
     },
     "execution_count": 69,
     "metadata": {},
     "output_type": "execute_result"
    }
   ],
   "source": [
    "sorted(fruits, key=len)"
   ]
  },
  {
   "cell_type": "code",
   "execution_count": 70,
   "id": "5982c2b0-e83b-4bd2-bad3-ea625274bfb0",
   "metadata": {},
   "outputs": [
    {
     "data": {
      "text/plain": [
       "140258734219568"
      ]
     },
     "execution_count": 70,
     "metadata": {},
     "output_type": "execute_result"
    }
   ],
   "source": [
    "id(len)"
   ]
  },
  {
   "cell_type": "code",
   "execution_count": 71,
   "id": "1b9527fc-0415-494a-941c-6d3183b337bf",
   "metadata": {},
   "outputs": [
    {
     "data": {
      "text/plain": [
       "140258734220528"
      ]
     },
     "execution_count": 71,
     "metadata": {},
     "output_type": "execute_result"
    }
   ],
   "source": [
    "id(sorted)"
   ]
  },
  {
   "cell_type": "code",
   "execution_count": 72,
   "id": "ad4d5ef3-fdd0-4265-99d3-dfca6870f869",
   "metadata": {},
   "outputs": [],
   "source": [
    "x = 1\n",
    "y = 1"
   ]
  },
  {
   "cell_type": "code",
   "execution_count": 73,
   "id": "101e6616-6e58-40b0-b557-5422276a4656",
   "metadata": {},
   "outputs": [
    {
     "data": {
      "text/plain": [
       "140258733910320"
      ]
     },
     "execution_count": 73,
     "metadata": {},
     "output_type": "execute_result"
    }
   ],
   "source": [
    "id(x)"
   ]
  },
  {
   "cell_type": "code",
   "execution_count": 74,
   "id": "ee06a926-9b88-4680-bdc5-a108e4e28fe6",
   "metadata": {},
   "outputs": [
    {
     "data": {
      "text/plain": [
       "140258733910320"
      ]
     },
     "execution_count": 74,
     "metadata": {},
     "output_type": "execute_result"
    }
   ],
   "source": [
    "id(y)"
   ]
  },
  {
   "cell_type": "code",
   "execution_count": 75,
   "id": "4886f75b-64c9-432b-8a1d-aa746ff1069d",
   "metadata": {},
   "outputs": [],
   "source": [
    "x = 2"
   ]
  },
  {
   "cell_type": "code",
   "execution_count": 76,
   "id": "f3077b19-0036-45e8-be63-2fddd7d05840",
   "metadata": {},
   "outputs": [
    {
     "data": {
      "text/plain": [
       "140258733910352"
      ]
     },
     "execution_count": 76,
     "metadata": {},
     "output_type": "execute_result"
    }
   ],
   "source": [
    "id(x)"
   ]
  },
  {
   "cell_type": "code",
   "execution_count": 77,
   "id": "4f36acd6-8178-49a7-bd52-37371d5a66c8",
   "metadata": {},
   "outputs": [
    {
     "data": {
      "text/plain": [
       "(140258212387568, 140258212387472)"
      ]
     },
     "execution_count": 77,
     "metadata": {},
     "output_type": "execute_result"
    }
   ],
   "source": [
    "x = 1000\n",
    "y = 1000\n",
    "id(x), id(y)"
   ]
  },
  {
   "cell_type": "markdown",
   "id": "d99a95e4-bc50-4828-ad5c-4792732c78de",
   "metadata": {},
   "source": [
    "## Quick Lab: Lists\n",
    "* Write a Python program to read in a list of items possibly containing duplicates, and then constructs a new list which contains the elements from the original list, with the order preserved, but the duplicates removed\n",
    "![alt-text](images/list2.png \"list2\")"
   ]
  },
  {
   "cell_type": "code",
   "execution_count": 89,
   "id": "f9fa0145-30f3-4e8e-b334-b16dcb7bf68d",
   "metadata": {},
   "outputs": [
    {
     "name": "stdin",
     "output_type": "stream",
     "text": [
      "Enter some items:  apple fig pear apple fig lemon pear\n"
     ]
    },
    {
     "name": "stdout",
     "output_type": "stream",
     "text": [
      "['apple', 'fig', 'pear', 'lemon']\n",
      "apple, fig, pear, lemon\n",
      "apple fig pear lemon\n"
     ]
    }
   ],
   "source": [
    "list1 = input('Enter some items: ').split() # Pythonic\n",
    "list2 = [] # start w/an empty list\n",
    "\n",
    "for item in list1: # for each item in the first list\n",
    "    if item not in list2: # only append if not already in list2 \n",
    "        # I may not have told you about 'not in'\n",
    "        list2.append(item)\n",
    "\n",
    "print(list2) # we could print this better...\n",
    "print(', '.join(list2))\n",
    "# or even...\n",
    "print(*list2)"
   ]
  },
  {
   "cell_type": "markdown",
   "id": "3b50faa3-d15a-4409-a6f3-a0bdeb09b243",
   "metadata": {},
   "source": [
    "## Lab: Lists\n",
    "* Write a Python program to maintain a list \n",
    "  * Read input until the user enters 'quit'\n",
    "  * Words that the user enters should be added to the list\n",
    "  * If a word begins with '-' (e.g., '-foo') it should be removed from the list\n",
    "  * If the user enters only a '-', the list should be reversed\n",
    "  * After each operation, print the list\n",
    "  * Extras:\n",
    "      * If user enters more than one word (e.g, __foo bar__), add \"foo\" and \"bar\" to the list, rather than \"foo bar\"\n",
    "      * Same for \"-\", i.e., __-foo bar__ would remove \"foo\" and \"bar\" from the  list"
   ]
  },
  {
   "cell_type": "code",
   "execution_count": 79,
   "id": "e298bffe-e2c4-49f3-83a7-a2eed6771899",
   "metadata": {},
   "outputs": [
    {
     "name": "stdin",
     "output_type": "stream",
     "text": [
      "Enter:  apple\n",
      "Enter:  fig\n",
      "Enter:  quit\n"
     ]
    }
   ],
   "source": [
    "response = ''\n",
    "while response != 'quit':\n",
    "    response = input('Enter: ')\n",
    "    if response == 'quit':\n",
    "        break\n",
    "    # do something"
   ]
  },
  {
   "cell_type": "code",
   "execution_count": null,
   "id": "7e1d7cb1-f0c6-480b-9b00-97b6dcc2c6d7",
   "metadata": {},
   "outputs": [],
   "source": [
    "response = input('Enter: ')\n",
    "while response != 'quit':\n",
    "    # do something with it\n",
    "    response = input('Enter: ')"
   ]
  },
  {
   "cell_type": "code",
   "execution_count": 80,
   "id": "4a72da98-b4e0-4614-ac2e-4577f0b37bfe",
   "metadata": {},
   "outputs": [
    {
     "name": "stdin",
     "output_type": "stream",
     "text": [
      "Enter:  apple\n",
      "Enter:  fig\n",
      "Enter:  pear\n",
      "Enter:  quit\n"
     ]
    }
   ],
   "source": [
    "response = ''\n",
    "while True:\n",
    "    response = input('Enter: ')\n",
    "    if response == 'quit':\n",
    "        break\n",
    "    # do something"
   ]
  },
  {
   "cell_type": "code",
   "execution_count": 81,
   "id": "204a08fb-2432-4bc6-b7b0-037aca9ccf8a",
   "metadata": {},
   "outputs": [
    {
     "data": {
      "text/plain": [
       "'3.9.12 (main, Apr  5 2022, 01:53:17) \\n[Clang 12.0.0 ]'"
      ]
     },
     "execution_count": 81,
     "metadata": {},
     "output_type": "execute_result"
    }
   ],
   "source": [
    "import sys\n",
    "sys.version"
   ]
  },
  {
   "cell_type": "code",
   "execution_count": 83,
   "id": "39d9acb0-861b-4b3a-a775-78f405349d5d",
   "metadata": {},
   "outputs": [
    {
     "name": "stdin",
     "output_type": "stream",
     "text": [
      "Enter:  apple\n"
     ]
    },
    {
     "name": "stdout",
     "output_type": "stream",
     "text": [
      "apple\n"
     ]
    },
    {
     "name": "stdin",
     "output_type": "stream",
     "text": [
      "Enter:  fgig\n"
     ]
    },
    {
     "name": "stdout",
     "output_type": "stream",
     "text": [
      "fgig\n"
     ]
    },
    {
     "name": "stdin",
     "output_type": "stream",
     "text": [
      "Enter:  quit\n"
     ]
    }
   ],
   "source": [
    "while (response := input('Enter: ')) != 'quit':\n",
    "    # process the input\n",
    "    print(response)"
   ]
  },
  {
   "cell_type": "code",
   "execution_count": 90,
   "id": "fdc57441-2776-4716-86e5-4f397d9d1826",
   "metadata": {},
   "outputs": [],
   "source": [
    "list1 = [1, 2, 3]"
   ]
  },
  {
   "cell_type": "code",
   "execution_count": 91,
   "id": "84ec6937-d965-41b2-8cd2-40435782a0c3",
   "metadata": {},
   "outputs": [
    {
     "name": "stdout",
     "output_type": "stream",
     "text": [
      "yep\n"
     ]
    }
   ],
   "source": [
    "if list1: # len(list1) > 0\n",
    "    print('yep')"
   ]
  },
  {
   "cell_type": "code",
   "execution_count": 92,
   "id": "e64c1280-8ece-49b0-aa86-3907bf93c016",
   "metadata": {},
   "outputs": [
    {
     "name": "stdout",
     "output_type": "stream",
     "text": [
      "Help on built-in function reverse:\n",
      "\n",
      "reverse() method of builtins.list instance\n",
      "    Reverse *IN PLACE*.\n",
      "\n"
     ]
    }
   ],
   "source": [
    "help(list1.reverse)"
   ]
  },
  {
   "cell_type": "code",
   "execution_count": 93,
   "id": "24e39a69-4e71-406c-880b-ff10c4092ccf",
   "metadata": {},
   "outputs": [
    {
     "name": "stdin",
     "output_type": "stream",
     "text": [
      "Enter:  quit\n"
     ]
    }
   ],
   "source": [
    "# remember to build up your solution incrementally if you need to\n",
    "words = []\n",
    "\n",
    "while (response := input('Enter: ')) != 'quit':\n",
    "    # for now, just add to list\n",
    "    words.append(response)\n",
    "    print(words)"
   ]
  },
  {
   "cell_type": "code",
   "execution_count": null,
   "id": "19f316d8-395e-4447-ba3f-b7a49064a2b3",
   "metadata": {},
   "outputs": [],
   "source": [
    "# once the first part works, add -word\n",
    "words = []\n",
    "\n",
    "while (response := input('Enter: ')) != 'quit':\n",
    "    # for now, just add to list\n",
    "    if not response: # response == ''\n",
    "        continue\n",
    "    if response[0] == '-': # begins with dash?\n",
    "        words.remove(response[1:]) # omit dash with slicing\n",
    "    else:\n",
    "        words.append(response)\n",
    "    print(words)"
   ]
  },
  {
   "cell_type": "code",
   "execution_count": null,
   "id": "58aaaa60-08d7-492f-9703-18722d240002",
   "metadata": {},
   "outputs": [],
   "source": [
    "# now add -\n",
    "# still have to add extras, and error checking\n",
    "words = []\n",
    "\n",
    "while (response := input('Enter: ')) != 'quit':\n",
    "    # for now, just add to list\n",
    "    if response[0] == '-': # begins with dash?\n",
    "        if response == '-': # exactly equal to dash\n",
    "            words = words[::-1] # there is a .reverse() also\n",
    "        else: # remove from list\n",
    "            words.remove(response[1:]) # omit dash with slicing\n",
    "    else: # add to list\n",
    "        words.append(response)\n",
    "    print(words)"
   ]
  },
  {
   "cell_type": "code",
   "execution_count": null,
   "id": "1f462535-269f-4fad-9d58-4bae1c913893",
   "metadata": {},
   "outputs": [],
   "source": [
    "# add extras\n",
    "# error checking\n",
    "words = []\n",
    "\n",
    "while (response := input('Enter: ')) != 'quit':\n",
    "    # for now, just add to list\n",
    "    if response[0] == '-': # begins with dash?\n",
    "        if response == '-': # exactly equal to dash\n",
    "            words = words[::-1] # there is a .reverse() also\n",
    "        else: # remove from list\n",
    "            for word in response[1:].split(): # omit dash with slicing\n",
    "                words.remove(word) \n",
    "    else: # add to list\n",
    "        words.extend(response.split())\n",
    "    print(words)"
   ]
  },
  {
   "cell_type": "code",
   "execution_count": 94,
   "id": "a409fc5a-71fd-441f-88e1-0b3e98aca293",
   "metadata": {},
   "outputs": [
    {
     "data": {
      "text/plain": [
       "[0, 1, 2, 3, 4, 5, 6, 7, 8, 9]"
      ]
     },
     "execution_count": 94,
     "metadata": {},
     "output_type": "execute_result"
    }
   ],
   "source": [
    "list(range(10))"
   ]
  },
  {
   "cell_type": "code",
   "execution_count": 96,
   "id": "42bfc615-e171-477a-a5c8-e3521ac0dcda",
   "metadata": {},
   "outputs": [
    {
     "data": {
      "text/plain": [
       "[0, 5, 10, 15, 20, 25, 30, 35, 40, 45, 50, 55, 60, 65, 70, 75, 80, 85, 90, 95]"
      ]
     },
     "execution_count": 96,
     "metadata": {},
     "output_type": "execute_result"
    }
   ],
   "source": [
    "list(range(0, 100, 5))"
   ]
  },
  {
   "cell_type": "code",
   "execution_count": 97,
   "id": "3e016edd-dbfb-4cf1-bfa5-e897849a7ac6",
   "metadata": {},
   "outputs": [
    {
     "data": {
      "text/plain": [
       "1"
      ]
     },
     "execution_count": 97,
     "metadata": {},
     "output_type": "execute_result"
    }
   ],
   "source": [
    "36 % 5"
   ]
  },
  {
   "cell_type": "code",
   "execution_count": 99,
   "id": "8b29dce2-faa6-468a-9a2c-992a88ec8244",
   "metadata": {},
   "outputs": [
    {
     "data": {
      "text/plain": [
       "0"
      ]
     },
     "execution_count": 99,
     "metadata": {},
     "output_type": "execute_result"
    }
   ],
   "source": [
    "45 % 5"
   ]
  },
  {
   "cell_type": "markdown",
   "id": "d5e8d15a-e1cb-415a-a8e5-9b8d2b8390ca",
   "metadata": {},
   "source": [
    "## Lab: List Comprehensions\n",
    "*  Start with Cartesian product example (colors x sizes of t-shirts) and add a third list, __`sleeves = ['short', 'long']`__ then write a new listcomp which generates the Cartesian product __`colors x sizes x sleeves`__. __`tshirts`__ should look like this:<pre><b>\n",
    "    [['black', 'S', 'short'],\n",
    "     ['black', 'S', 'long'],\n",
    "     ['black', 'M', 'short'],\n",
    "     ['black', 'M', 'long'],\n",
    "     ['black', 'L', 'short'],\n",
    "     ['black', 'L', 'long'],\n",
    "     ['white', 'S', 'short'],\n",
    "     ['white', 'S', 'long'],\n",
    "     ['white', 'M', 'short'],\n",
    "     ['white', 'M', 'long'],\n",
    "     ['white', 'L', 'short'],\n",
    "     ['white', 'L', 'long']]\n",
    "     \n",
    " </b></pre>\n",
    "* Use a list comprehension to create a list of the squares of the integers from 1 to 25 (i.e, 1, 4, 9, 16, …, 625)\n",
    "* Given a list of words, create a second list which contains all the words from the first list which do not end with a vowel\n",
    "* Use a list comprehension to create a list of the integers from 1 to 100 which are not divisible by 5\n",
    "* Use a list comprehension and __`zip()`__ to create a list of lists, where the list items are name and ID number that you grabbed from separate lists of names and ID numbers\n",
    "  * start with a list of, say, 5 names ['John', 'Mary', 'Edward', 'Linda', 'Dinesh']\n",
    "  * and a list of, say, 5 ID numbers [1003, 2043, 8762, 7862, 1093]\n",
    "  * additional wrinkle: do not include any names whose corresponding ID is -1"
   ]
  },
  {
   "cell_type": "code",
   "execution_count": 100,
   "id": "53e90d91-4d8b-498a-8da0-a8ccda4b2d0f",
   "metadata": {},
   "outputs": [
    {
     "data": {
      "text/plain": [
       "[['black', 'S', 'short'],\n",
       " ['black', 'S', 'long'],\n",
       " ['black', 'M', 'short'],\n",
       " ['black', 'M', 'long'],\n",
       " ['black', 'L', 'short'],\n",
       " ['black', 'L', 'long'],\n",
       " ['black', 'XL', 'short'],\n",
       " ['black', 'XL', 'long'],\n",
       " ['white', 'S', 'short'],\n",
       " ['white', 'S', 'long'],\n",
       " ['white', 'M', 'short'],\n",
       " ['white', 'M', 'long'],\n",
       " ['white', 'L', 'short'],\n",
       " ['white', 'L', 'long'],\n",
       " ['white', 'XL', 'short'],\n",
       " ['white', 'XL', 'long']]"
      ]
     },
     "execution_count": 100,
     "metadata": {},
     "output_type": "execute_result"
    }
   ],
   "source": [
    "colors = ['black', 'white']\n",
    "sizes = ['S', 'M', 'L', 'XL']\n",
    "sleeves = ['short', 'long']\n",
    "\n",
    "tshirts = [[color, size, sleeve] for color in colors\n",
    "                                    for size in sizes\n",
    "                                       for sleeve in sleeves]\n",
    "tshirts"
   ]
  },
  {
   "cell_type": "code",
   "execution_count": 105,
   "id": "e980e05d-54d0-43e9-a29a-5f474430139b",
   "metadata": {},
   "outputs": [
    {
     "name": "stdout",
     "output_type": "stream",
     "text": [
      "[1, 4, 9, 16, 25, 36, 49, 64, 81, 100, 121, 144, 169, 196, 225, 256, 289, 324, 361, 400, 441, 484, 529, 576, 625]\n"
     ]
    }
   ],
   "source": [
    "squares = [num ** 2 for num in range(1, 26)]\n",
    "print(squares)"
   ]
  },
  {
   "cell_type": "code",
   "execution_count": 106,
   "id": "78d7fa81-9f43-4dee-8a30-e41ed3ade74a",
   "metadata": {},
   "outputs": [
    {
     "name": "stdout",
     "output_type": "stream",
     "text": [
      "['eggs', 'pear', 'lemon', 'pancakes']\n"
     ]
    }
   ],
   "source": [
    "words = 'eggs apple pear lemon lime banana pancakes'.split()\n",
    "not_end_in_vowel = [word for word in words # filter...\n",
    "                            if word[-1] not in 'aeiou']\n",
    "print(not_end_in_vowel)"
   ]
  },
  {
   "cell_type": "code",
   "execution_count": 110,
   "id": "f8cb293e-de5c-4dd3-92d6-be7b8a210429",
   "metadata": {},
   "outputs": [
    {
     "name": "stdout",
     "output_type": "stream",
     "text": [
      "[1, 2, 3, 4, 6, 7, 8, 9, 11, 12, 13, 14, 16, 17, 18, 19, 21, 22, 23, 24, 26, 27, 28, 29, 31, 32, 33, 34, 36, 37, 38, 39, 41, 42, 43, 44, 46, 47, 48, 49, 51, 52, 53, 54, 56, 57, 58, 59, 61, 62, 63, 64, 66, 67, 68, 69, 71, 72, 73, 74, 76, 77, 78, 79, 81, 82, 83, 84, 86, 87, 88, 89, 91, 92, 93, 94, 96, 97, 98, 99]\n"
     ]
    }
   ],
   "source": [
    "no_divis_by_5 = [num for num in range(1, 101) # filter...\n",
    "                        if num % 5]\n",
    "print(no_divis_by_5)"
   ]
  },
  {
   "cell_type": "code",
   "execution_count": 107,
   "id": "11c9e1f8-8da5-418a-b56b-3548b463dcc7",
   "metadata": {},
   "outputs": [
    {
     "name": "stdout",
     "output_type": "stream",
     "text": [
      "[1, 2, 3, 4, 5, 6, 7, 8, 9, 10, 11, 12, 13, 14, 15, 16, 17, 18, 19, 20, 21, 22, 23, 24, 25, 26, 27, 28, 29, 30, 31, 32, 33, 34, 35, 36, 37, 38, 39, 40, 41, 42, 43, 44, 45, 46, 47, 48, 49, 50, 51, 52, 53, 54, 55, 56, 57, 58, 59, 60, 61, 62, 63, 64, 65, 66, 67, 68, 69, 70, 71, 72, 73, 74, 75, 76, 77, 78, 79, 80, 81, 82, 83, 84, 85, 86, 87, 88, 89, 90, 91, 92, 93, 94, 95, 96, 97, 98, 99, 100]\n"
     ]
    }
   ],
   "source": [
    "print(list(range(1, 101)))"
   ]
  },
  {
   "cell_type": "code",
   "execution_count": 111,
   "id": "306bed3f-f31e-455b-b4ba-59dcd4b64042",
   "metadata": {},
   "outputs": [
    {
     "name": "stdout",
     "output_type": "stream",
     "text": [
      "[['John', 1003], ['Mary', 2043], ['Edward', 8762], ['Linda', 7862], ['Dinesh', 1093]]\n"
     ]
    }
   ],
   "source": [
    "names = ['John', 'Mary', 'Edward', 'Linda', 'Dinesh']\n",
    "ids = [1003, 2043, 8762, 7862, 1093]\n",
    "employees = [[name, id] for name, id in zip(names, ids)]\n",
    "print(employees)"
   ]
  },
  {
   "cell_type": "code",
   "execution_count": 120,
   "id": "bf1dd200-8421-46a0-9172-1fabd7816c32",
   "metadata": {},
   "outputs": [
    {
     "name": "stdout",
     "output_type": "stream",
     "text": [
      "[['Edward', 8762], ['Linda', 7862]]\n"
     ]
    }
   ],
   "source": [
    "ids = [1003, -1, 8762, 7862, -1]\n",
    "employees = [[name, id] for name, id in zip(names, ids)\n",
    "                            if id != -1\n",
    "                            if len(name) != 4]\n",
    "print(employees)"
   ]
  },
  {
   "cell_type": "code",
   "execution_count": 112,
   "id": "85dc8e00-5655-425b-803a-13f3688f26c9",
   "metadata": {},
   "outputs": [],
   "source": [
    "len = 5"
   ]
  },
  {
   "cell_type": "code",
   "execution_count": 113,
   "id": "d8be3353-be2d-4493-8ad5-0fe3201a72c1",
   "metadata": {},
   "outputs": [
    {
     "ename": "TypeError",
     "evalue": "'int' object is not callable",
     "output_type": "error",
     "traceback": [
      "\u001b[0;31m---------------------------------------------------------------------------\u001b[0m",
      "\u001b[0;31mTypeError\u001b[0m                                 Traceback (most recent call last)",
      "Input \u001b[0;32mIn [113]\u001b[0m, in \u001b[0;36m<cell line: 1>\u001b[0;34m()\u001b[0m\n\u001b[0;32m----> 1\u001b[0m \u001b[38;5;28;43mlen\u001b[39;49m\u001b[43m(\u001b[49m\u001b[38;5;124;43m'\u001b[39;49m\u001b[38;5;124;43mhi\u001b[39;49m\u001b[38;5;124;43m'\u001b[39;49m\u001b[43m)\u001b[49m\n",
      "\u001b[0;31mTypeError\u001b[0m: 'int' object is not callable"
     ]
    }
   ],
   "source": [
    "len('hi')"
   ]
  },
  {
   "cell_type": "code",
   "execution_count": 114,
   "id": "be5eff74-67f4-44fd-9784-5abb68d49684",
   "metadata": {},
   "outputs": [],
   "source": [
    "del len"
   ]
  },
  {
   "cell_type": "code",
   "execution_count": 115,
   "id": "da96bf9d-1988-450b-a160-b81934fa499c",
   "metadata": {},
   "outputs": [],
   "source": [
    "list = [1, 2, 3]"
   ]
  },
  {
   "cell_type": "code",
   "execution_count": 116,
   "id": "a15c6fa5-821f-4a85-8619-1d1026b28863",
   "metadata": {},
   "outputs": [
    {
     "ename": "TypeError",
     "evalue": "'list' object is not callable",
     "output_type": "error",
     "traceback": [
      "\u001b[0;31m---------------------------------------------------------------------------\u001b[0m",
      "\u001b[0;31mTypeError\u001b[0m                                 Traceback (most recent call last)",
      "Input \u001b[0;32mIn [116]\u001b[0m, in \u001b[0;36m<cell line: 1>\u001b[0;34m()\u001b[0m\n\u001b[0;32m----> 1\u001b[0m \u001b[38;5;28;43mlist\u001b[39;49m\u001b[43m(\u001b[49m\u001b[38;5;124;43m'\u001b[39;49m\u001b[38;5;124;43mhi\u001b[39;49m\u001b[38;5;124;43m'\u001b[39;49m\u001b[43m)\u001b[49m\n",
      "\u001b[0;31mTypeError\u001b[0m: 'list' object is not callable"
     ]
    }
   ],
   "source": [
    "list('hi')"
   ]
  },
  {
   "cell_type": "code",
   "execution_count": 121,
   "id": "870c95d7-84a7-4be9-abf8-85ad56d3ac65",
   "metadata": {},
   "outputs": [],
   "source": [
    "if 5 > 4:\n",
    "    x = 'greater'\n",
    "else:\n",
    "    x = 'not'"
   ]
  },
  {
   "cell_type": "code",
   "execution_count": 126,
   "id": "1ca178f8-a0f0-4201-a061-b7847cdffe57",
   "metadata": {},
   "outputs": [],
   "source": [
    "# Python equivalent of ternary operator\n",
    "x = 'greater' if 5 > 44 else 'not'"
   ]
  },
  {
   "cell_type": "code",
   "execution_count": 125,
   "id": "f82d29c0-008f-44e9-8191-6ef63471ea65",
   "metadata": {},
   "outputs": [
    {
     "data": {
      "text/plain": [
       "'not'"
      ]
     },
     "execution_count": 125,
     "metadata": {},
     "output_type": "execute_result"
    }
   ],
   "source": [
    "x"
   ]
  },
  {
   "cell_type": "code",
   "execution_count": 127,
   "id": "ac2fbbaa-9bc6-4fa2-8b0d-d6ba3d428514",
   "metadata": {},
   "outputs": [],
   "source": [
    "x = 'greater'\n",
    "\n",
    "if 5 <= 4:\n",
    "    x = 'not'"
   ]
  },
  {
   "cell_type": "code",
   "execution_count": 128,
   "id": "b70875b0-775e-4609-85d2-913739e02fe9",
   "metadata": {},
   "outputs": [
    {
     "data": {
      "text/plain": [
       "[1]"
      ]
     },
     "execution_count": 128,
     "metadata": {},
     "output_type": "execute_result"
    }
   ],
   "source": [
    "[1]"
   ]
  },
  {
   "cell_type": "markdown",
   "id": "a9d073a9-0356-468b-9796-1f48cee52124",
   "metadata": {},
   "source": [
    "## Lab: Tuples\n",
    "* Create a tuple representing a city w/field of your own choosing (e.g., city name, state/country, population, elevation, etc.)\n",
    "* \"Add\" a field to the tuple–since tuples are immutable, you will have to do this by concatenating tuples\n",
    "* Using the _in_ operator, check to see if a particular value is in the tuple\n",
    "* Using the __`.index()`__ method, find the position of a particular value in the tuple"
   ]
  },
  {
   "cell_type": "code",
   "execution_count": 133,
   "id": "74e83f90-1957-483a-b56f-aaa5db1b449a",
   "metadata": {},
   "outputs": [],
   "source": [
    "city = 'Jakarta', 'Indonesia', 1621, 10_609_681"
   ]
  },
  {
   "cell_type": "code",
   "execution_count": 134,
   "id": "6a151b9c-caf4-4067-a0b9-96d7814e6c0c",
   "metadata": {},
   "outputs": [
    {
     "data": {
      "text/plain": [
       "('Jakarta', 'Indonesia', 1621, 10609681, 3540, 'other')"
      ]
     },
     "execution_count": 134,
     "metadata": {},
     "output_type": "execute_result"
    }
   ],
   "source": [
    "city = city + (3540, 'other')\n",
    "city"
   ]
  },
  {
   "cell_type": "code",
   "execution_count": 135,
   "id": "c1844e7e-af15-430d-a74c-efdd2720db78",
   "metadata": {},
   "outputs": [
    {
     "data": {
      "text/plain": [
       "True"
      ]
     },
     "execution_count": 135,
     "metadata": {},
     "output_type": "execute_result"
    }
   ],
   "source": [
    "1621 in city"
   ]
  },
  {
   "cell_type": "code",
   "execution_count": 136,
   "id": "dc779210-e1c1-42a2-ad22-67c220b25c61",
   "metadata": {},
   "outputs": [
    {
     "data": {
      "text/plain": [
       "4"
      ]
     },
     "execution_count": 136,
     "metadata": {},
     "output_type": "execute_result"
    }
   ],
   "source": [
    "city.index(3540)"
   ]
  },
  {
   "cell_type": "code",
   "execution_count": null,
   "id": "34a87063-302b-4e56-9bd9-a1fa087d133c",
   "metadata": {},
   "outputs": [],
   "source": [
    "# not many methods for tuples!"
   ]
  },
  {
   "cell_type": "code",
   "execution_count": 137,
   "id": "e3ba35a8-aec4-47c2-9400-dd0e3f5107b7",
   "metadata": {},
   "outputs": [],
   "source": [
    "mylist = ['hello', 5]"
   ]
  },
  {
   "cell_type": "code",
   "execution_count": 138,
   "id": "78575336-c852-442a-aa35-19bc9cd61841",
   "metadata": {},
   "outputs": [
    {
     "data": {
      "text/plain": [
       "['hello', 5]"
      ]
     },
     "execution_count": 138,
     "metadata": {},
     "output_type": "execute_result"
    }
   ],
   "source": [
    "mylist"
   ]
  },
  {
   "cell_type": "code",
   "execution_count": 139,
   "id": "c41e42a6-f400-4c7c-8eeb-8f2c5082c033",
   "metadata": {},
   "outputs": [],
   "source": [
    "nums = 1, 2, 3, 4, 5"
   ]
  },
  {
   "cell_type": "code",
   "execution_count": 140,
   "id": "336b450d-613d-48b3-954b-d1dcd7c3fd39",
   "metadata": {},
   "outputs": [
    {
     "data": {
      "text/plain": [
       "(1, 2, 3, 4, 5)"
      ]
     },
     "execution_count": 140,
     "metadata": {},
     "output_type": "execute_result"
    }
   ],
   "source": [
    "nums"
   ]
  },
  {
   "cell_type": "code",
   "execution_count": 142,
   "id": "50525eee-cf37-4288-abc6-f155763f546e",
   "metadata": {},
   "outputs": [],
   "source": [
    "import collections\n",
    "# collections contains BETTER versions of Python datatypes\n",
    "# ...namedtuple"
   ]
  },
  {
   "cell_type": "code",
   "execution_count": 145,
   "id": "ad3bdea6-35ae-48cb-9653-2276ea41e3cf",
   "metadata": {},
   "outputs": [],
   "source": [
    "t = 'Joe', 1, True"
   ]
  },
  {
   "cell_type": "code",
   "execution_count": 148,
   "id": "59c7296b-6ad0-4771-bfad-3ad4f9551b0c",
   "metadata": {},
   "outputs": [
    {
     "name": "stdout",
     "output_type": "stream",
     "text": [
      "1\n"
     ]
    }
   ],
   "source": [
    "if 1 in t:\n",
    "    print(t.index(1))"
   ]
  },
  {
   "cell_type": "code",
   "execution_count": 149,
   "id": "71a5a64b-d550-4c4b-a613-749e71708b92",
   "metadata": {},
   "outputs": [],
   "source": [
    "somedict = { 'foo': 'bar' }"
   ]
  },
  {
   "cell_type": "code",
   "execution_count": 150,
   "id": "a7a26e5f-4c62-4dfd-b124-1fe0506dcf99",
   "metadata": {},
   "outputs": [
    {
     "data": {
      "text/plain": [
       "'bar'"
      ]
     },
     "execution_count": 150,
     "metadata": {},
     "output_type": "execute_result"
    }
   ],
   "source": [
    "somedict['foo']"
   ]
  },
  {
   "cell_type": "code",
   "execution_count": 151,
   "id": "2b3d58f5-9ce3-424f-a787-37fc13d100e7",
   "metadata": {},
   "outputs": [
    {
     "data": {
      "text/plain": [
       "1341734293785910100"
      ]
     },
     "execution_count": 151,
     "metadata": {},
     "output_type": "execute_result"
    }
   ],
   "source": [
    "hash('foo')"
   ]
  },
  {
   "cell_type": "code",
   "execution_count": 152,
   "id": "a1293b0f-50d1-4538-9548-863d8c0eaa14",
   "metadata": {},
   "outputs": [
    {
     "data": {
      "text/plain": [
       "-7984739322258418197"
      ]
     },
     "execution_count": 152,
     "metadata": {},
     "output_type": "execute_result"
    }
   ],
   "source": [
    "hash('bar')"
   ]
  },
  {
   "cell_type": "code",
   "execution_count": 153,
   "id": "165f068c-2e55-4437-8db3-441aaa1b0fa6",
   "metadata": {},
   "outputs": [
    {
     "data": {
      "text/plain": [
       "-8022187003145662801"
      ]
     },
     "execution_count": 153,
     "metadata": {},
     "output_type": "execute_result"
    }
   ],
   "source": [
    "hash('Python')"
   ]
  },
  {
   "cell_type": "code",
   "execution_count": 154,
   "id": "acf05876-cb1f-482e-98df-dd6cfab88259",
   "metadata": {},
   "outputs": [
    {
     "ename": "TypeError",
     "evalue": "unhashable type: 'list'",
     "output_type": "error",
     "traceback": [
      "\u001b[0;31m---------------------------------------------------------------------------\u001b[0m",
      "\u001b[0;31mTypeError\u001b[0m                                 Traceback (most recent call last)",
      "Input \u001b[0;32mIn [154]\u001b[0m, in \u001b[0;36m<cell line: 1>\u001b[0;34m()\u001b[0m\n\u001b[0;32m----> 1\u001b[0m \u001b[38;5;28;43mhash\u001b[39;49m\u001b[43m(\u001b[49m\u001b[43m[\u001b[49m\u001b[38;5;241;43m1\u001b[39;49m\u001b[43m,\u001b[49m\u001b[43m \u001b[49m\u001b[38;5;241;43m2\u001b[39;49m\u001b[43m,\u001b[49m\u001b[43m \u001b[49m\u001b[38;5;241;43m3\u001b[39;49m\u001b[43m]\u001b[49m\u001b[43m)\u001b[49m\n",
      "\u001b[0;31mTypeError\u001b[0m: unhashable type: 'list'"
     ]
    }
   ],
   "source": [
    "hash([1, 2, 3])"
   ]
  },
  {
   "cell_type": "code",
   "execution_count": 155,
   "id": "42aa2746-79d9-496e-a480-86a7f7729535",
   "metadata": {},
   "outputs": [
    {
     "data": {
      "text/plain": [
       "{'foo': 'bar'}"
      ]
     },
     "execution_count": 155,
     "metadata": {},
     "output_type": "execute_result"
    }
   ],
   "source": [
    "somedict"
   ]
  },
  {
   "cell_type": "code",
   "execution_count": 156,
   "id": "972bf682-4150-44ea-b7e2-d9714bd311de",
   "metadata": {},
   "outputs": [],
   "source": [
    "somedict[(1, 'blah', True)] = [1, 2, 3, 'four']"
   ]
  },
  {
   "cell_type": "code",
   "execution_count": 157,
   "id": "b6750e05-b5fb-4447-a8fd-ada3c95e3e73",
   "metadata": {},
   "outputs": [
    {
     "data": {
      "text/plain": [
       "{'foo': 'bar', (1, 'blah', True): [1, 2, 3, 'four']}"
      ]
     },
     "execution_count": 157,
     "metadata": {},
     "output_type": "execute_result"
    }
   ],
   "source": [
    "somedict"
   ]
  },
  {
   "cell_type": "markdown",
   "id": "9e69ffe4-b70a-49bd-8e74-12e412eecde5",
   "metadata": {},
   "source": [
    "## Lab: dictionary\n",
    "* use a dict to translate Roman numerals into their Arabic equivalents\n",
    "1. load the dict with Roman numerals M (1000), D (500), C (100), L (50), X (10), V (5), I (1)\n",
    "2. read in a Roman numeral\n",
    "3. print Arabic equivalent\n",
    "4. try it with MCLX = 1000 + 100 + 50 + 10 = 1160\n",
    "4. __If you have time, deal with the case where a smaller number precedes a larger number, e.g., XC = 100 - 10 = 90, or MCM = 1000 + (1000-100) = 1900__\n",
    "4. __MCMXCIX = 1999__"
   ]
  },
  {
   "cell_type": "code",
   "execution_count": null,
   "id": "c518a4a8-2c2d-47d7-8aa2-027035658285",
   "metadata": {},
   "outputs": [],
   "source": [
    "# one suggestion\n",
    "# approach the translation in two passes\n",
    "# pass 1\n",
    "# simply convert each digit to its Arabic equivalent and put them in a list\n",
    "# MCMXCIX\n",
    "# [ 1000, 100, 1000, 10, 100, 1, 10 ]\n",
    "# pass 2\n",
    "# go through the list of numbers\n",
    "# if a number is less than its neighbor (to the right), then make it negative\n",
    "# [ 1000, -100, 1000, -10, 100, -1, 10 ]\n",
    "# now sum them up = 1999"
   ]
  },
  {
   "cell_type": "code",
   "execution_count": 159,
   "id": "8107b655-0514-4efc-9f44-3a8976aef72f",
   "metadata": {},
   "outputs": [],
   "source": [
    "roman_to_arabic = {\n",
    "    'M': (1000),\n",
    "    'D': (500),\n",
    "    'C': (100),\n",
    "    'L': (50),\n",
    "    'X': (10),\n",
    "    'V': (5),\n",
    "    'I': (1),\n",
    "}"
   ]
  },
  {
   "cell_type": "code",
   "execution_count": 172,
   "id": "8685bae7-bfac-488e-9525-79a81edbdc13",
   "metadata": {},
   "outputs": [
    {
     "name": "stdin",
     "output_type": "stream",
     "text": [
      "Enter a Roman numeral:  mclx\n"
     ]
    }
   ],
   "source": [
    "numeral = input('Enter a Roman numeral: ').upper()"
   ]
  },
  {
   "cell_type": "code",
   "execution_count": 160,
   "id": "76545845-ca6f-436c-883b-4fc473a6ea14",
   "metadata": {},
   "outputs": [
    {
     "name": "stdout",
     "output_type": "stream",
     "text": [
      "1160\n"
     ]
    }
   ],
   "source": [
    "# first attempt, no funny business\n",
    "total = 0\n",
    "\n",
    "# now we need to \"visit\" each digit, and convert to Arabic\n",
    "for digit in numeral:\n",
    "    total += roman_to_arabic[digit] # what if it's not in the dict?\n",
    "\n",
    "print(total)"
   ]
  },
  {
   "cell_type": "code",
   "execution_count": 174,
   "id": "367bf721-997a-4147-862e-a08f83362d3c",
   "metadata": {},
   "outputs": [
    {
     "name": "stdin",
     "output_type": "stream",
     "text": [
      "Enter a Roman numeral:  MCA\n"
     ]
    },
    {
     "name": "stdout",
     "output_type": "stream",
     "text": [
      "bad digit: A\n"
     ]
    }
   ],
   "source": [
    "numeral = input('Enter a Roman numeral: ')\n",
    "\n",
    "# second attempt, consider error checking\n",
    "total = 0\n",
    "\n",
    "for digit in numeral:\n",
    "    if digit in roman_to_arabic:\n",
    "        total += roman_to_arabic[digit] # what if it's not in the dict?\n",
    "    else:\n",
    "        # what should we do? \n",
    "        # quit? consider the bad digit a 0?\n",
    "        print('bad digit:', digit)\n",
    "        break # quit\n",
    "else: # we only get here if we didn't break, i.e., only valid digit\n",
    "    print(total)"
   ]
  },
  {
   "cell_type": "code",
   "execution_count": 175,
   "id": "a3526e91-6337-4442-9264-716b598040d1",
   "metadata": {},
   "outputs": [
    {
     "name": "stdin",
     "output_type": "stream",
     "text": [
      "Enter a Roman numeral:  MCMXCIX\n"
     ]
    },
    {
     "name": "stdout",
     "output_type": "stream",
     "text": [
      "[1000, 100, 1000, 10, 100, 1, 10]\n"
     ]
    }
   ],
   "source": [
    "# two-pass solution, to handle Roman numeral weirdness\n",
    "# no error checking or listcomps\n",
    "numeral = input('Enter a Roman numeral: ')\n",
    "\n",
    "# pass 1: compute Arabic equivalents\n",
    "arabic_vals = []\n",
    "for digit in numeral:\n",
    "    arabic_vals.append(roman_to_arabic[digit]) # not handling bad digits\n",
    "\n",
    "print(arabic_vals)"
   ]
  },
  {
   "cell_type": "code",
   "execution_count": 176,
   "id": "e8ad0423-b453-4641-9955-b9b2bbd1ce6e",
   "metadata": {},
   "outputs": [
    {
     "name": "stdout",
     "output_type": "stream",
     "text": [
      "[1000, -100, 1000, -10, 100, -1, 10]\n",
      "1999\n"
     ]
    }
   ],
   "source": [
    "# pass 2: look for numbers smaller than neighbor, and make negative\n",
    "for index in range(len(numeral) - 1): # start from 0, but don't fall of the end!\n",
    "    if arabic_vals[index] < arabic_vals[index + 1]: # less than neighbor to the right?\n",
    "        arabic_vals[index] = -arabic_vals[index] # ...make it negative (or multiply by -1)\n",
    "\n",
    "print(arabic_vals)\n",
    "print(sum(arabic_vals))"
   ]
  },
  {
   "cell_type": "code",
   "execution_count": 179,
   "id": "d09fa77e-cfe1-490b-b091-5aa190915a8c",
   "metadata": {},
   "outputs": [
    {
     "name": "stdin",
     "output_type": "stream",
     "text": [
      "Enter a Roman numeral:  MCAX\n"
     ]
    },
    {
     "name": "stdout",
     "output_type": "stream",
     "text": [
      "bad digit found\n"
     ]
    }
   ],
   "source": [
    "# now think about error checking\n",
    "# we can use .get() to avoid crashing with bad digits\n",
    "# we can also notice that we're starting with an empty list\n",
    "# and filling it with a for loop...sounds like a listcomp\n",
    "\n",
    "numeral = input('Enter a Roman numeral: ')\n",
    "\n",
    "arabic_vals = [roman_to_arabic.get(digit) for digit in numeral]\n",
    "    \n",
    "# at this point we may have one or more None values in the list\n",
    "if None in arabic_vals:\n",
    "    # it's a bit of work to tell the user, after the fact, what was bad\n",
    "    # we could get the index of the None, then use it to index the numeral\n",
    "    # but at this point I would choose not go down that path...\n",
    "    print('bad digit found')\n",
    "\n",
    "# rest of program"
   ]
  },
  {
   "cell_type": "code",
   "execution_count": 180,
   "id": "0e474071-c90a-4cf1-84ce-3be077c159f0",
   "metadata": {},
   "outputs": [
    {
     "data": {
      "text/plain": [
       "[1000, 100, None, 10]"
      ]
     },
     "execution_count": 180,
     "metadata": {},
     "output_type": "execute_result"
    }
   ],
   "source": [
    "arabic_vals"
   ]
  },
  {
   "cell_type": "code",
   "execution_count": 183,
   "id": "88ea3db2-7bd5-4bf4-9066-3de0159d2914",
   "metadata": {},
   "outputs": [
    {
     "name": "stdin",
     "output_type": "stream",
     "text": [
      "Enter a Roman numeral:  mcmxcix\n"
     ]
    },
    {
     "name": "stdout",
     "output_type": "stream",
     "text": [
      "[1000, 100, 1000, 10, 100, 1, 10]\n",
      "[1000, -100, 1000, -10, 100, -1, 10]\n",
      "1999\n"
     ]
    }
   ],
   "source": [
    "roman_to_arabic = {\n",
    "    'M': (1000),\n",
    "    'D': (500),\n",
    "    'C': (100),\n",
    "    'L': (50),\n",
    "    'X': (10),\n",
    "    'V': (5),\n",
    "    'I': (1),\n",
    "}\n",
    "# two-pass solution, to handle Roman numeral weirdness\n",
    "# no error checking or listcomps\n",
    "numeral = input('Enter a Roman numeral: ').upper()\n",
    "\n",
    "# pass 1: compute Arabic equivalents\n",
    "arabic_vals = []\n",
    "for digit in numeral:\n",
    "    arabic_vals.append(roman_to_arabic[digit]) # not handling bad digits\n",
    "\n",
    "print(arabic_vals)\n",
    "\n",
    "# pass 2: look for numbers smaller than neighbor, make negative\n",
    "for index in range(len(numeral) - 1): # start from 0, but don't fall of the end!\n",
    "    # less than neighbor to the right?\n",
    "    if arabic_vals[index] < arabic_vals[index + 1]: \n",
    "        # if so, make it negative (or multiply by -1)\n",
    "        arabic_vals[index] = -arabic_vals[index] \n",
    "\n",
    "print(arabic_vals)\n",
    "print(sum(arabic_vals))"
   ]
  },
  {
   "cell_type": "code",
   "execution_count": 184,
   "id": "19db50c4-ca7b-4318-a457-13906341ded4",
   "metadata": {},
   "outputs": [
    {
     "data": {
      "text/plain": [
       "65"
      ]
     },
     "execution_count": 184,
     "metadata": {},
     "output_type": "execute_result"
    }
   ],
   "source": [
    "ord('A')"
   ]
  },
  {
   "cell_type": "code",
   "execution_count": 185,
   "id": "be8ecac8-33d2-443e-992d-436795c9b743",
   "metadata": {},
   "outputs": [
    {
     "data": {
      "text/plain": [
       "97"
      ]
     },
     "execution_count": 185,
     "metadata": {},
     "output_type": "execute_result"
    }
   ],
   "source": [
    "ord('a')"
   ]
  },
  {
   "cell_type": "code",
   "execution_count": 186,
   "id": "3dee8a07-619b-454d-8387-9975deecb9c8",
   "metadata": {},
   "outputs": [
    {
     "data": {
      "text/plain": [
       "'B'"
      ]
     },
     "execution_count": 186,
     "metadata": {},
     "output_type": "execute_result"
    }
   ],
   "source": [
    "chr(66)"
   ]
  },
  {
   "cell_type": "code",
   "execution_count": 187,
   "id": "9a7ea0db-ae66-4275-894c-834bd5681a72",
   "metadata": {},
   "outputs": [],
   "source": [
    "d = { 'thing': 1 }"
   ]
  },
  {
   "cell_type": "code",
   "execution_count": 191,
   "id": "8b3e3ce9-7c37-4b05-b806-2cfc43790564",
   "metadata": {},
   "outputs": [
    {
     "name": "stdout",
     "output_type": "stream",
     "text": [
      "not there\n"
     ]
    }
   ],
   "source": [
    "print(d.get('things', 'not there'))"
   ]
  },
  {
   "cell_type": "code",
   "execution_count": 192,
   "id": "916459db-e8c0-43ac-abc4-cafb427f87e9",
   "metadata": {},
   "outputs": [],
   "source": [
    "import random\n",
    "nums = [random.randint(1, 100) for _ in range(100)] # \"do this 100 times\""
   ]
  },
  {
   "cell_type": "code",
   "execution_count": 193,
   "id": "c105fe4b-0eac-4a54-b348-db7d153d8c22",
   "metadata": {},
   "outputs": [
    {
     "name": "stdout",
     "output_type": "stream",
     "text": [
      "[57, 94, 97, 92, 45, 47, 96, 41, 44, 65, 33, 20, 95, 100, 31, 76, 31, 98, 3, 60, 68, 78, 55, 86, 73, 38, 29, 64, 14, 38, 98, 38, 46, 97, 59, 26, 71, 41, 35, 57, 72, 3, 70, 100, 87, 84, 70, 91, 63, 60, 54, 76, 68, 90, 6, 55, 73, 99, 65, 68, 6, 13, 75, 98, 48, 15, 56, 99, 31, 32, 22, 58, 65, 78, 25, 97, 23, 9, 28, 21, 84, 72, 95, 65, 29, 23, 25, 73, 80, 69, 76, 16, 13, 73, 12, 74, 83, 60, 52, 66]\n"
     ]
    }
   ],
   "source": [
    "print(nums)"
   ]
  },
  {
   "cell_type": "code",
   "execution_count": 202,
   "id": "40b87653-b7bc-4583-8b84-7911f1556375",
   "metadata": {},
   "outputs": [],
   "source": [
    "nums = list(set(nums))"
   ]
  },
  {
   "cell_type": "code",
   "execution_count": 203,
   "id": "87f5392a-16c5-4007-b53a-afe828f3147e",
   "metadata": {},
   "outputs": [
    {
     "name": "stdout",
     "output_type": "stream",
     "text": [
      "[3, 6, 9, 12, 13, 14, 15, 16, 20, 21, 22, 23, 25, 26, 28, 29, 31, 32, 33, 35, 38, 41, 44, 45, 46, 47, 48, 52, 54, 55, 56, 57, 58, 59, 60, 63, 64, 65, 66, 68, 69, 70, 71, 72, 73, 74, 75, 76, 78, 80, 83, 84, 86, 87, 90, 91, 92, 94, 95, 96, 97, 98, 99, 100]\n"
     ]
    }
   ],
   "source": [
    "print(nums)"
   ]
  },
  {
   "cell_type": "code",
   "execution_count": 204,
   "id": "ac48877c-c37f-44d0-9260-7e535ad067fd",
   "metadata": {},
   "outputs": [
    {
     "data": {
      "text/plain": [
       "345"
      ]
     },
     "execution_count": 204,
     "metadata": {},
     "output_type": "execute_result"
    }
   ],
   "source": [
    "hash(345)"
   ]
  },
  {
   "cell_type": "markdown",
   "id": "ea80bda6-4bdb-4d81-a7ad-806962ffea1e",
   "metadata": {},
   "source": [
    "## Lab: Sets\n",
    "* Use a set to find all of the unique words in the input and print them out in sorted order\n",
    "* If the user entered __There is no there there__, your program should print out \n",
    "   <pre><b>\n",
    "   is\n",
    "   no\n",
    "   there\n",
    "   </b></pre>\n",
    "* Note that `There` and `there` should be counted as the same word."
   ]
  },
  {
   "cell_type": "code",
   "execution_count": 205,
   "id": "09afaddb-3184-49a8-9306-f7d8a069070c",
   "metadata": {},
   "outputs": [
    {
     "name": "stdin",
     "output_type": "stream",
     "text": [
      "Enter some words:  There is no there there\n"
     ]
    }
   ],
   "source": [
    "words = input('Enter some words: ').lower().split() # ignore case and split into a list"
   ]
  },
  {
   "cell_type": "code",
   "execution_count": 206,
   "id": "ac6836da-3b4a-4658-8ae7-8dcbf2423893",
   "metadata": {},
   "outputs": [
    {
     "data": {
      "text/plain": [
       "['there', 'is', 'no', 'there', 'there']"
      ]
     },
     "execution_count": 206,
     "metadata": {},
     "output_type": "execute_result"
    }
   ],
   "source": [
    "words"
   ]
  },
  {
   "cell_type": "code",
   "execution_count": 226,
   "id": "9eb84a3a-f08c-4718-a568-cbb293128a8d",
   "metadata": {},
   "outputs": [
    {
     "name": "stdout",
     "output_type": "stream",
     "text": [
      "{'no', 'is', 'there'}\n"
     ]
    }
   ],
   "source": [
    "# now we need to remove dupes and sort\n",
    "print(set(words))"
   ]
  },
  {
   "cell_type": "code",
   "execution_count": 227,
   "id": "e49ff2a2-fcc0-4409-a4d0-33ac95ab0e41",
   "metadata": {},
   "outputs": [
    {
     "ename": "SyntaxError",
     "evalue": "can't use starred expression here (3168927059.py, line 1)",
     "output_type": "error",
     "traceback": [
      "\u001b[0;36m  Input \u001b[0;32mIn [227]\u001b[0;36m\u001b[0m\n\u001b[0;31m    *sorted(set(words)) # sorted takes any container as an argument, so no need to list-ify first\u001b[0m\n\u001b[0m    ^\u001b[0m\n\u001b[0;31mSyntaxError\u001b[0m\u001b[0;31m:\u001b[0m can't use starred expression here\n"
     ]
    }
   ],
   "source": [
    "sorted(set(words)) # sorted takes any container as an argument, so no need to list-ify first"
   ]
  },
  {
   "cell_type": "code",
   "execution_count": 211,
   "id": "6ed927d7-ebe2-417d-9f22-646b05a401af",
   "metadata": {},
   "outputs": [
    {
     "name": "stdout",
     "output_type": "stream",
     "text": [
      "is no there\n"
     ]
    }
   ],
   "source": [
    "# let's print the out nicer...\n",
    "print(*sorted(set(words)))"
   ]
  },
  {
   "cell_type": "code",
   "execution_count": 251,
   "id": "cd27bcf6-116e-4c51-8ce3-6cfb12cb351b",
   "metadata": {},
   "outputs": [
    {
     "name": "stdout",
     "output_type": "stream",
     "text": [
      "is\n",
      "no\n",
      "there\n"
     ]
    }
   ],
   "source": [
    "# or, as per the assignment...\n",
    "print('\\n'.join(sorted(set(words))))"
   ]
  },
  {
   "cell_type": "code",
   "execution_count": 222,
   "id": "a11adddf-6b2c-41ff-bf00-987f63da984e",
   "metadata": {},
   "outputs": [
    {
     "name": "stdin",
     "output_type": "stream",
     "text": [
      "Enter number of people:  23\n"
     ]
    },
    {
     "name": "stdout",
     "output_type": "stream",
     "text": [
      " 1 0.0%\n",
      " 2 0.3%\n",
      " 3 0.8%\n",
      " 4 1.6%\n",
      " 5 2.7%\n",
      " 6 4.0%\n",
      " 7 5.6%\n",
      " 8 7.4%\n",
      " 9 9.5%\n",
      "10 11.7%\n",
      "11 14.1%\n",
      "12 16.7%\n",
      "13 19.4%\n",
      "14 22.3%\n",
      "15 25.3%\n",
      "16 28.4%\n",
      "17 31.5%\n",
      "18 34.7%\n",
      "19 37.9%\n",
      "20 41.1%\n",
      "21 44.4%\n",
      "22 47.6%\n",
      "23 50.7%\n"
     ]
    }
   ],
   "source": [
    "# Birthday Problem\n",
    "# 2 people, what are the odds they DON'T have same birthday...364 / 365 ways that 2nd person can't have same birthday\n",
    "# 3 people, ( 364 / 365 ) * ( 363 / 365 )\n",
    "# etc.\n",
    "# 1 - the above is the probability that 2+ people have the same birthday\n",
    "# so given n people, 365/365 * 364/365 * ... * (365 - n)/365 is probability that no 2 people have same birthday\n",
    "people = int(input('Enter number of people: '))\n",
    "prob = 1.0\n",
    "for count in range(1, people + 1):\n",
    "    prob *= (366 - count) / 365.0\n",
    "    print(f'{count:2d} {(1.0 - prob) * 100.0:.1f}%')"
   ]
  },
  {
   "cell_type": "code",
   "execution_count": 228,
   "id": "4b8ae38b-ea8b-4495-829b-8831e01b8a0e",
   "metadata": {},
   "outputs": [],
   "source": [
    "nums = [3, 5, -2]"
   ]
  },
  {
   "cell_type": "code",
   "execution_count": 229,
   "id": "44687460-a9d4-4bea-a08e-ba9bb6e8ad03",
   "metadata": {},
   "outputs": [
    {
     "name": "stdout",
     "output_type": "stream",
     "text": [
      "[3, 5, -2]\n"
     ]
    }
   ],
   "source": [
    "print(nums)"
   ]
  },
  {
   "cell_type": "code",
   "execution_count": 230,
   "id": "664e5cc7-ab95-4bbd-bee2-e08c508f83b7",
   "metadata": {},
   "outputs": [
    {
     "name": "stdout",
     "output_type": "stream",
     "text": [
      "1 2 3\n"
     ]
    }
   ],
   "source": [
    "print(1, 2, 3)"
   ]
  },
  {
   "cell_type": "code",
   "execution_count": 231,
   "id": "a9bfb5b6-2bbd-48a2-8e98-54bad506ec87",
   "metadata": {},
   "outputs": [
    {
     "name": "stdout",
     "output_type": "stream",
     "text": [
      "3 5 -2\n"
     ]
    }
   ],
   "source": [
    "print(*nums)"
   ]
  },
  {
   "cell_type": "code",
   "execution_count": 233,
   "id": "99e5f518-64d7-4ef0-95ae-7bb21bc68717",
   "metadata": {},
   "outputs": [],
   "source": [
    "nums = [random.randint(1, 10) for _ in range(10)]"
   ]
  },
  {
   "cell_type": "code",
   "execution_count": 234,
   "id": "b093847e-166e-45eb-a3dc-5050f0c3fe38",
   "metadata": {},
   "outputs": [
    {
     "data": {
      "text/plain": [
       "[10, 8, 4, 7, 4, 1, 8, 4, 1, 3]"
      ]
     },
     "execution_count": 234,
     "metadata": {},
     "output_type": "execute_result"
    }
   ],
   "source": [
    "nums"
   ]
  },
  {
   "cell_type": "code",
   "execution_count": 235,
   "id": "f5e582a6-e9e1-4068-af3c-9f8f058448f0",
   "metadata": {},
   "outputs": [],
   "source": [
    "first, second, *rest = nums"
   ]
  },
  {
   "cell_type": "code",
   "execution_count": 236,
   "id": "faea159e-935e-4327-858c-3d643c4a962e",
   "metadata": {},
   "outputs": [
    {
     "data": {
      "text/plain": [
       "10"
      ]
     },
     "execution_count": 236,
     "metadata": {},
     "output_type": "execute_result"
    }
   ],
   "source": [
    "first"
   ]
  },
  {
   "cell_type": "code",
   "execution_count": 237,
   "id": "1962da17-dfae-4cb0-9b23-8bc9f4fc1f0e",
   "metadata": {},
   "outputs": [
    {
     "data": {
      "text/plain": [
       "8"
      ]
     },
     "execution_count": 237,
     "metadata": {},
     "output_type": "execute_result"
    }
   ],
   "source": [
    "second"
   ]
  },
  {
   "cell_type": "code",
   "execution_count": 238,
   "id": "c28780c3-bd42-4aa4-8dbc-8a8879f477f8",
   "metadata": {},
   "outputs": [
    {
     "data": {
      "text/plain": [
       "[4, 7, 4, 1, 8, 4, 1, 3]"
      ]
     },
     "execution_count": 238,
     "metadata": {},
     "output_type": "execute_result"
    }
   ],
   "source": [
    "rest"
   ]
  },
  {
   "cell_type": "code",
   "execution_count": 239,
   "id": "1fda884d-eadc-44ab-a81c-ccdb7a503cd6",
   "metadata": {},
   "outputs": [],
   "source": [
    "t = 'Hopper', 'Grace', 1912, 'Navy', 'Admiral', 8"
   ]
  },
  {
   "cell_type": "code",
   "execution_count": 247,
   "id": "39f9fe59-50e6-46c0-831f-f4ec2efaf0cd",
   "metadata": {},
   "outputs": [],
   "source": [
    "last, *_, rank, num = t"
   ]
  },
  {
   "cell_type": "code",
   "execution_count": 248,
   "id": "4d9a3b6a-192e-420e-ae36-6d30e1d14643",
   "metadata": {},
   "outputs": [
    {
     "data": {
      "text/plain": [
       "['Grace', 1912, 'Navy']"
      ]
     },
     "execution_count": 248,
     "metadata": {},
     "output_type": "execute_result"
    }
   ],
   "source": [
    "_"
   ]
  },
  {
   "cell_type": "code",
   "execution_count": 245,
   "id": "c060f298-691b-4259-95c9-e7e69753784c",
   "metadata": {},
   "outputs": [
    {
     "data": {
      "text/plain": [
       "7"
      ]
     },
     "execution_count": 245,
     "metadata": {},
     "output_type": "execute_result"
    }
   ],
   "source": [
    "3 + 4"
   ]
  },
  {
   "cell_type": "code",
   "execution_count": 246,
   "id": "f1867f2e-0abe-4d80-88ce-ed9b888051a2",
   "metadata": {},
   "outputs": [
    {
     "data": {
      "text/plain": [
       "['Grace', 1912, 'Navy', 'Admiral']"
      ]
     },
     "execution_count": 246,
     "metadata": {},
     "output_type": "execute_result"
    }
   ],
   "source": [
    "_"
   ]
  },
  {
   "cell_type": "code",
   "execution_count": 253,
   "id": "286d8df2-9949-43b8-a47c-f8eff8681bb2",
   "metadata": {},
   "outputs": [
    {
     "name": "stdout",
     "output_type": "stream",
     "text": [
      "TWO roads diverged in a yellow wood,\n",
      "And sorry I could not travel both\n",
      "And be one traveler, long I stood\n",
      "And looked down one as far as I could\n",
      "To where it bent in the undergrowth;\n",
      "\n",
      "Then took the other, as just as fair,\n",
      "And having perhaps the better claim,\n",
      "Because it was grassy and wanted wear;\n",
      "Though as for that the passing there\n",
      "Had worn them really about the same,\n",
      "\n",
      "And both that morning equally lay\n",
      "In leaves no step had trodden black.\n",
      "Oh, I kept the first for another day!\n",
      "Yet knowing how way leads on to way,\n",
      "I doubted if I should ever come back.\n",
      "\n",
      "I shall be telling this with a sigh\n",
      "Somewhere ages and ages hence:\n",
      "Two roads diverged in a wood, and I—\n",
      "I took the one less traveled by,\n",
      "And that has made all the difference."
     ]
    }
   ],
   "source": [
    "with open('poem.txt') as infile:\n",
    "    for line in infile:\n",
    "        print(line, end='')"
   ]
  },
  {
   "cell_type": "markdown",
   "id": "daec47db-602a-4257-b084-2a8eb884d843",
   "metadata": {},
   "source": [
    "## Quick Lab: File I/O\n",
    "* write a Python program which prompts the user for a filename, then opens that file and writes the contents of the file to a new file, in reverse order, i.e.,\n",
    "\n",
    "<pre><b>\n",
    "    Original file       Reversed file\n",
    "    Line 1              Line 4\n",
    "    Line 2              Line 3\n",
    "    Line 3              Line 2\n",
    "    Line 4              Line 1\n",
    "</b></pre>"
   ]
  },
  {
   "cell_type": "code",
   "execution_count": 268,
   "id": "37e84e63-90bf-4bf1-a965-bed20f8080d9",
   "metadata": {},
   "outputs": [
    {
     "name": "stdin",
     "output_type": "stream",
     "text": [
      "Enter a filename:  poem.txt\n"
     ]
    }
   ],
   "source": [
    "filename = input('Enter a filename: ')\n",
    "\n",
    "with open(filename) as infile: # open the file, assume it exists, but think about error checking\n",
    "    lines = infile.readlines() # read the ENTIRE file into a list of lines\n",
    "\n",
    "# done, file is closed"
   ]
  },
  {
   "cell_type": "code",
   "execution_count": 269,
   "id": "ba3556bc-7d51-4f2c-9d80-8baf18370f1b",
   "metadata": {},
   "outputs": [
    {
     "data": {
      "text/plain": [
       "['TWO roads diverged in a yellow wood,\\n',\n",
       " 'And sorry I could not travel both\\n',\n",
       " 'And be one traveler, long I stood\\n',\n",
       " 'And looked down one as far as I could\\n',\n",
       " 'To where it bent in the undergrowth;\\n',\n",
       " '\\n',\n",
       " 'Then took the other, as just as fair,\\n',\n",
       " 'And having perhaps the better claim,\\n',\n",
       " 'Because it was grassy and wanted wear;\\n',\n",
       " 'Though as for that the passing there\\n',\n",
       " 'Had worn them really about the same,\\n',\n",
       " '\\n',\n",
       " 'And both that morning equally lay\\n',\n",
       " 'In leaves no step had trodden black.\\n',\n",
       " 'Oh, I kept the first for another day!\\n',\n",
       " 'Yet knowing how way leads on to way,\\n',\n",
       " 'I doubted if I should ever come back.\\n',\n",
       " '\\n',\n",
       " 'I shall be telling this with a sigh\\n',\n",
       " 'Somewhere ages and ages hence:\\n',\n",
       " 'Two roads diverged in a wood, and I—\\n',\n",
       " 'I took the one less traveled by,\\n',\n",
       " 'And that has made all the difference.\\n']"
      ]
     },
     "execution_count": 269,
     "metadata": {},
     "output_type": "execute_result"
    }
   ],
   "source": [
    "lines"
   ]
  },
  {
   "cell_type": "code",
   "execution_count": 270,
   "id": "d82d169a-2100-499a-8d07-152c8a8614a8",
   "metadata": {},
   "outputs": [],
   "source": [
    "with open(filename + '.rev', 'w') as outfile: # open a file to write to by adding '.rev' to the name (YMMV)\n",
    "    # now we need to write the lines to the file in reverse order\n",
    "    # lotsa options\n",
    "    print(''.join(lines[::-1]), file=outfile) # join together all lines of the reversed list of lines\n",
    "\n",
    "# file is closed automatically"
   ]
  },
  {
   "cell_type": "markdown",
   "id": "55cb6985-7c98-4b8a-8072-7b56b9956bd9",
   "metadata": {},
   "source": [
    "## Lab: File I/O + dicts\n",
    "* write a Python program to read a file and count the number of occurrences of each word in the file\n",
    "* use a __`dict`__, indexed by word, to count the occurrences\n",
    "* remember __`d.get(key)`__ will return __`None`__ if there is no such key in the dict (vs. __`d[key]`__ which will throw an exception) and also the __`in`__ operator\n",
    "  * or use a __`collections.defaultdict`__ if we've covered it\n",
    "* treat __The__ and __the__ as the same word when counting\n",
    "* print out words and counts, from most common to least common\n",
    "* EXTRA: remove punctuation, so __Hamlet,__ == __Hamlet__ # refer back to \"import this\"\n",
    "* Road Not Taken and Hamlet are in your materials"
   ]
  },
  {
   "cell_type": "code",
   "execution_count": 256,
   "id": "2d969428-619e-419a-baf0-9afd695d8697",
   "metadata": {},
   "outputs": [],
   "source": [
    "wordcounts = {}"
   ]
  },
  {
   "cell_type": "code",
   "execution_count": 259,
   "id": "964dd195-8df5-4244-b989-cd8a20dc607b",
   "metadata": {},
   "outputs": [],
   "source": [
    "from collections import defaultdict\n",
    "wordcounts = defaultdict(int)"
   ]
  },
  {
   "cell_type": "code",
   "execution_count": 260,
   "id": "905efb7f-cdd7-406d-a714-e2b4d64d70ee",
   "metadata": {},
   "outputs": [
    {
     "data": {
      "text/plain": [
       "defaultdict(int, {})"
      ]
     },
     "execution_count": 260,
     "metadata": {},
     "output_type": "execute_result"
    }
   ],
   "source": [
    "wordcounts"
   ]
  },
  {
   "cell_type": "code",
   "execution_count": 261,
   "id": "358e8b98-c2fd-4e0f-a44b-5902455ee144",
   "metadata": {},
   "outputs": [
    {
     "data": {
      "text/plain": [
       "0"
      ]
     },
     "execution_count": 261,
     "metadata": {},
     "output_type": "execute_result"
    }
   ],
   "source": [
    "wordcounts['the']"
   ]
  },
  {
   "cell_type": "code",
   "execution_count": 262,
   "id": "71b1085c-53ca-4b4b-9f14-4261f0d076ac",
   "metadata": {},
   "outputs": [],
   "source": [
    "wordcounts['the'] += 1"
   ]
  },
  {
   "cell_type": "code",
   "execution_count": 263,
   "id": "64791e59-54fe-4331-a8bd-bf87b87143dc",
   "metadata": {},
   "outputs": [
    {
     "data": {
      "text/plain": [
       "defaultdict(int, {'the': 1})"
      ]
     },
     "execution_count": 263,
     "metadata": {},
     "output_type": "execute_result"
    }
   ],
   "source": [
    "wordcounts"
   ]
  },
  {
   "cell_type": "code",
   "execution_count": 264,
   "id": "dbe0c40f-95aa-434e-a0dd-5a8f9ce861d9",
   "metadata": {},
   "outputs": [
    {
     "data": {
      "text/plain": [
       "0"
      ]
     },
     "execution_count": 264,
     "metadata": {},
     "output_type": "execute_result"
    }
   ],
   "source": [
    "wordcounts['hamlet']"
   ]
  },
  {
   "cell_type": "code",
   "execution_count": 265,
   "id": "01cd372c-4f48-420b-b395-6ec104e541f9",
   "metadata": {},
   "outputs": [
    {
     "data": {
      "text/plain": [
       "defaultdict(int, {'the': 1, 'hamlet': 0})"
      ]
     },
     "execution_count": 265,
     "metadata": {},
     "output_type": "execute_result"
    }
   ],
   "source": [
    "wordcounts"
   ]
  },
  {
   "cell_type": "code",
   "execution_count": 272,
   "id": "644a0a4d-5a3c-450d-b782-1a826c33c5fc",
   "metadata": {},
   "outputs": [
    {
     "name": "stdin",
     "output_type": "stream",
     "text": [
      "Enter file to count words in:  poem.txt\n"
     ]
    },
    {
     "name": "stdout",
     "output_type": "stream",
     "text": [
      "and 9\n",
      "i 8\n",
      "the 8\n",
      "as 5\n",
      "in 4\n",
      "a 3\n",
      "one 3\n",
      "that 3\n",
      "two 2\n",
      "roads 2\n",
      "diverged 2\n",
      "wood, 2\n",
      "could 2\n",
      "both 2\n",
      "be 2\n",
      "to 2\n",
      "it 2\n",
      "took 2\n",
      "for 2\n",
      "had 2\n",
      "ages 2\n",
      "yellow 1\n",
      "sorry 1\n",
      "not 1\n",
      "travel 1\n",
      "traveler, 1\n",
      "long 1\n",
      "stood 1\n",
      "looked 1\n",
      "down 1\n",
      "far 1\n",
      "where 1\n",
      "bent 1\n",
      "undergrowth; 1\n",
      "then 1\n",
      "other, 1\n",
      "just 1\n",
      "fair, 1\n",
      "having 1\n",
      "perhaps 1\n",
      "better 1\n",
      "claim, 1\n",
      "because 1\n",
      "was 1\n",
      "grassy 1\n",
      "wanted 1\n",
      "wear; 1\n",
      "though 1\n",
      "passing 1\n",
      "there 1\n",
      "worn 1\n",
      "them 1\n",
      "really 1\n",
      "about 1\n",
      "same, 1\n",
      "morning 1\n",
      "equally 1\n",
      "lay 1\n",
      "leaves 1\n",
      "no 1\n",
      "step 1\n",
      "trodden 1\n",
      "black. 1\n",
      "oh, 1\n",
      "kept 1\n",
      "first 1\n",
      "another 1\n",
      "day! 1\n",
      "yet 1\n",
      "knowing 1\n",
      "how 1\n",
      "way 1\n",
      "leads 1\n",
      "on 1\n",
      "way, 1\n",
      "doubted 1\n",
      "if 1\n",
      "should 1\n",
      "ever 1\n",
      "come 1\n",
      "back. 1\n",
      "shall 1\n",
      "telling 1\n",
      "this 1\n",
      "with 1\n",
      "sigh 1\n",
      "somewhere 1\n",
      "hence: 1\n",
      "i— 1\n",
      "less 1\n",
      "traveled 1\n",
      "by, 1\n",
      "has 1\n",
      "made 1\n",
      "all 1\n",
      "difference. 1\n"
     ]
    }
   ],
   "source": [
    "# first cut\n",
    "wordcounts = {}\n",
    "filename = input('Enter file to count words in: ')\n",
    "\n",
    "with open(filename) as infile: # error checking...not yet\n",
    "    # iterate thru the file one line at a time...\n",
    "    for line in infile:\n",
    "        # split the line into words (and make lower case)\n",
    "        for word in line.lower().split():\n",
    "            if word in wordcounts: # seen it before...\n",
    "                wordcounts[word] += 1 # ...so increment count\n",
    "            else: # not seen it before...\n",
    "                wordcounts[word] = 1 # ...so set count to 1\n",
    "                \n",
    "# That's it for the counting part, now we need to display words + counts\n",
    "# We need to sort by *values*, and also in reverse order (high to low)\n",
    "for word in sorted(wordcounts, reverse=True, key=wordcounts.get):\n",
    "    print(word, wordcounts[word])"
   ]
  },
  {
   "cell_type": "code",
   "execution_count": 275,
   "id": "b8935735-037a-4947-9cf3-843ddcf20ea3",
   "metadata": {},
   "outputs": [
    {
     "name": "stdin",
     "output_type": "stream",
     "text": [
      "Enter file to count words in:  hamlet.txt\n",
      "Top 10/25/50...?  50\n"
     ]
    },
    {
     "name": "stdout",
     "output_type": "stream",
     "text": [
      "the 1137\n",
      "and 936\n",
      "to 728\n",
      "of 664\n",
      "a 527\n",
      "i 513\n",
      "my 513\n",
      "in 423\n",
      "you 405\n",
      "hamlet 401\n",
      "that 345\n",
      "it 325\n",
      "is 318\n",
      "his 294\n",
      "not 274\n",
      "with 263\n",
      "this 249\n",
      "your 242\n",
      "but 229\n",
      "for 228\n",
      "as 217\n",
      "be 208\n",
      "he 204\n",
      "what 187\n",
      "have 173\n",
      "king 157\n",
      "will 150\n",
      "so 141\n",
      "me 139\n",
      "we 136\n",
      "do 130\n",
      "are 127\n",
      "horatio 125\n",
      "him 118\n",
      "our 118\n",
      "by 114\n",
      "if 111\n",
      "claudius 109\n",
      "on 108\n",
      "or 108\n",
      "no 107\n",
      "polonius 107\n",
      "shall 106\n",
      "lord 106\n",
      "queen 103\n",
      "they 101\n",
      "all 100\n",
      "good 97\n",
      "let 95\n",
      "from 94\n"
     ]
    }
   ],
   "source": [
    "# second version, deal with ugly if plus think about volume of output\n",
    "wordcounts = {}\n",
    "filename = input('Enter file to count words in: ')\n",
    "\n",
    "with open(filename) as infile: # error checking...not yet\n",
    "    # iterate thru the file one line at a time...\n",
    "    for line in infile:\n",
    "        # split the line into words (and make lower case)\n",
    "        for word in line.lower().split():\n",
    "            # if seen it before, get() returns 1, \n",
    "            # otherwise it returns 0\n",
    "            wordcounts[word] = wordcounts.get(word, 0) + 1\n",
    "\n",
    "# for a big file, such as Hamlet, there will be LOTS of words\n",
    "# we probably don't need to see them all...perhaps top 10/20/50\n",
    "# or perhaps we set a minimum number of times a word appears\n",
    "# before it is output here...\n",
    "\n",
    "top = int(input('Top 10/25/50...? '))\n",
    "# take the number the user enters and use it in a slice to see top 10, etc.\n",
    "for word in sorted(wordcounts, reverse=True, key=wordcounts.get)[:top]:\n",
    "    print(word, wordcounts[word])"
   ]
  },
  {
   "cell_type": "code",
   "execution_count": 277,
   "id": "72bf3b89-5d20-442d-a123-73dc9fdd34c6",
   "metadata": {},
   "outputs": [
    {
     "name": "stdin",
     "output_type": "stream",
     "text": [
      "Enter file to count words in:  hamlet.txt\n",
      "See words that appear only how many times?  100\n"
     ]
    },
    {
     "name": "stdout",
     "output_type": "stream",
     "text": [
      "the 1137\n",
      "and 936\n",
      "to 728\n",
      "of 664\n",
      "a 527\n",
      "i 513\n",
      "my 513\n",
      "in 423\n",
      "you 405\n",
      "hamlet 401\n",
      "that 345\n",
      "it 325\n",
      "is 318\n",
      "his 294\n",
      "not 274\n",
      "with 263\n",
      "this 249\n",
      "your 242\n",
      "but 229\n",
      "for 228\n",
      "as 217\n",
      "be 208\n",
      "he 204\n",
      "what 187\n",
      "have 173\n",
      "king 157\n",
      "will 150\n",
      "so 141\n",
      "me 139\n",
      "we 136\n",
      "do 130\n",
      "are 127\n",
      "horatio 125\n",
      "him 118\n",
      "our 118\n",
      "by 114\n",
      "if 111\n",
      "claudius 109\n",
      "on 108\n",
      "or 108\n",
      "no 107\n",
      "polonius 107\n",
      "shall 106\n",
      "lord 106\n",
      "queen 103\n",
      "they 101\n",
      "all 100\n"
     ]
    }
   ],
   "source": [
    "# second version, deal with ugly if plus think about volume of output\n",
    "wordcounts = {}\n",
    "filename = input('Enter file to count words in: ')\n",
    "\n",
    "with open(filename) as infile: # error checking...not yet\n",
    "    # iterate thru the file one line at a time...\n",
    "    for line in infile:\n",
    "        # split the line into words (and make lower case)\n",
    "        for word in line.lower().split():\n",
    "            # if seen it before, get() returns 1, \n",
    "            # otherwise it returns 0\n",
    "            wordcounts[word] = wordcounts.get(word, 0) + 1\n",
    "\n",
    "# for a big file, such as Hamlet, there will be LOTS of words\n",
    "# we probably don't need to see them all...perhaps top 10/20/50\n",
    "# or perhaps we set a minimum number of times a word appears\n",
    "# before it is output here...\n",
    "\n",
    "limit = int(input('See words that appear only how many times? '))\n",
    "\n",
    "for word in sorted(wordcounts, reverse=True, key=wordcounts.get):\n",
    "    if wordcounts[word] < limit:\n",
    "        break\n",
    "    print(word, wordcounts[word])"
   ]
  },
  {
   "cell_type": "code",
   "execution_count": 281,
   "id": "23050e27-75cc-4d07-aa2c-41acba896d04",
   "metadata": {},
   "outputs": [
    {
     "data": {
      "text/plain": [
       "'Hi Hamlet how are you'"
      ]
     },
     "execution_count": 281,
     "metadata": {},
     "output_type": "execute_result"
    }
   ],
   "source": [
    "line = 'Hi Hamlet, how are you?'\n",
    "''.join([char for char in line # add filter\n",
    "            if char not in '?,'])"
   ]
  },
  {
   "cell_type": "code",
   "execution_count": 283,
   "id": "a443e358-0357-4916-a97b-26b128287725",
   "metadata": {},
   "outputs": [],
   "source": [
    "import string"
   ]
  },
  {
   "cell_type": "code",
   "execution_count": 284,
   "id": "5fb05489-8153-484a-b951-3d898fd43bfb",
   "metadata": {},
   "outputs": [
    {
     "data": {
      "text/plain": [
       "'/Users/dave-wadestein/opt/anaconda3/lib/python3.9/string.py'"
      ]
     },
     "execution_count": 284,
     "metadata": {},
     "output_type": "execute_result"
    }
   ],
   "source": [
    "string.__file__"
   ]
  },
  {
   "cell_type": "code",
   "execution_count": 286,
   "id": "a9a858cf-30b8-4181-9a71-66e51e3c5c36",
   "metadata": {},
   "outputs": [
    {
     "name": "stdin",
     "output_type": "stream",
     "text": [
      "Enter file to count words in:  hamlet.txt\n",
      "See words that appear only how many times?  400\n"
     ]
    },
    {
     "name": "stdout",
     "output_type": "stream",
     "text": [
      "the 1142\n",
      "and 964\n",
      "to 737\n",
      "of 669\n",
      "i 567\n",
      "you 546\n",
      "a 531\n",
      "my 513\n",
      "hamlet 463\n",
      "in 436\n",
      "it 416\n"
     ]
    }
   ],
   "source": [
    "# third version, deal with punctuation\n",
    "from string import punctuation\n",
    "wordcounts = {}\n",
    "filename = input('Enter file to count words in: ')\n",
    "\n",
    "with open(filename) as infile: # error checking...not yet\n",
    "    # iterate thru the file one line at a time...\n",
    "    for line in infile:\n",
    "        line = ''.join([char for char in line.lower()\n",
    "                                 if char not in punctuation])\n",
    "        # split the line into words (and make lower case)\n",
    "        for word in line.split():\n",
    "            # if seen it before, get() returns 1, \n",
    "            # otherwise it returns 0\n",
    "            wordcounts[word] = wordcounts.get(word, 0) + 1\n",
    "\n",
    "\"\"\"for a big file, such as Hamlet, there will be LOTS of words\n",
    "we probably don't need to see them all...perhaps top 10/20/50\n",
    "or perhaps we set a minimum number of times a word appears\n",
    "before it is output here...\n",
    "\"\"\"\n",
    "\n",
    "limit = int(input('See words that appear only how many times? '))\n",
    "\n",
    "for word in sorted(wordcounts, reverse=True, key=wordcounts.get):\n",
    "    if wordcounts[word] < limit:\n",
    "        break\n",
    "    print(word, wordcounts[word])"
   ]
  },
  {
   "cell_type": "code",
   "execution_count": 292,
   "id": "814a625a-001b-4cfb-ac65-ba8bf0e538dc",
   "metadata": {},
   "outputs": [
    {
     "name": "stdout",
     "output_type": "stream",
     "text": [
      "1143 the\n",
      " 966 and\n",
      " 762 to\n",
      " 669 of\n",
      " 631 i\n",
      " 554 you\n",
      " 546 a\n",
      " 514 my\n",
      " 471 hamlet\n",
      " 451 in\n"
     ]
    }
   ],
   "source": [
    "!tr A-Z a-z < hamlet.txt | tr -sc a-z '\\n' | sort | uniq -c | sort -rn | head"
   ]
  },
  {
   "cell_type": "code",
   "execution_count": 293,
   "id": "cc733186-1ed5-4497-a368-4c8a2d5703ae",
   "metadata": {},
   "outputs": [
    {
     "data": {
      "text/plain": [
       "['g', 'i', 'n', 'r', 's', 't']"
      ]
     },
     "execution_count": 293,
     "metadata": {},
     "output_type": "execute_result"
    }
   ],
   "source": [
    "sorted('string')"
   ]
  },
  {
   "cell_type": "code",
   "execution_count": 294,
   "id": "4adcc43d-e690-4776-b8b2-c4e0326068f4",
   "metadata": {},
   "outputs": [
    {
     "data": {
      "text/plain": [
       "[1, 2, 3]"
      ]
     },
     "execution_count": 294,
     "metadata": {},
     "output_type": "execute_result"
    }
   ],
   "source": [
    "sorted([1, 3, 2])"
   ]
  },
  {
   "cell_type": "code",
   "execution_count": 296,
   "id": "3b03fd4f-d85b-42ac-91b8-9b060e93e801",
   "metadata": {},
   "outputs": [
    {
     "data": {
      "text/plain": [
       "['baz', 'foo']"
      ]
     },
     "execution_count": 296,
     "metadata": {},
     "output_type": "execute_result"
    }
   ],
   "source": [
    "sorted({'foo': 'bar', 'baz': 'bar'})"
   ]
  },
  {
   "cell_type": "code",
   "execution_count": 297,
   "id": "70422564-e155-4758-ae87-9cd5a5f174e7",
   "metadata": {},
   "outputs": [
    {
     "data": {
      "text/plain": [
       "[2, 3, 11]"
      ]
     },
     "execution_count": 297,
     "metadata": {},
     "output_type": "execute_result"
    }
   ],
   "source": [
    "sorted({11, 3, 2})"
   ]
  },
  {
   "cell_type": "code",
   "execution_count": 298,
   "id": "e7832a5a-5325-4516-a75f-0a116f1e1b35",
   "metadata": {},
   "outputs": [
    {
     "ename": "TypeError",
     "evalue": "'int' object is not iterable",
     "output_type": "error",
     "traceback": [
      "\u001b[0;31m---------------------------------------------------------------------------\u001b[0m",
      "\u001b[0;31mTypeError\u001b[0m                                 Traceback (most recent call last)",
      "Input \u001b[0;32mIn [298]\u001b[0m, in \u001b[0;36m<cell line: 1>\u001b[0;34m()\u001b[0m\n\u001b[0;32m----> 1\u001b[0m \u001b[38;5;28;43msorted\u001b[39;49m\u001b[43m(\u001b[49m\u001b[38;5;241;43m3\u001b[39;49m\u001b[43m)\u001b[49m\n",
      "\u001b[0;31mTypeError\u001b[0m: 'int' object is not iterable"
     ]
    }
   ],
   "source": [
    "sorted(3)"
   ]
  },
  {
   "cell_type": "code",
   "execution_count": 299,
   "id": "64674220-c841-4383-ae2d-79a37535d90b",
   "metadata": {},
   "outputs": [],
   "source": [
    "def iterate(iterable):\n",
    "    for thing in iterable:\n",
    "        print(thing)"
   ]
  },
  {
   "cell_type": "code",
   "execution_count": 300,
   "id": "878da387-2051-4f5c-be4e-5a0af8bb7668",
   "metadata": {},
   "outputs": [
    {
     "name": "stdout",
     "output_type": "stream",
     "text": [
      "s\n",
      "t\n",
      "r\n",
      "i\n",
      "n\n",
      "g\n"
     ]
    }
   ],
   "source": [
    "iterate('string')"
   ]
  },
  {
   "cell_type": "code",
   "execution_count": 301,
   "id": "0a4ebe83-cc68-4d6f-890e-2b28a3573b39",
   "metadata": {},
   "outputs": [
    {
     "name": "stdout",
     "output_type": "stream",
     "text": [
      "1\n",
      "2\n",
      "3\n"
     ]
    }
   ],
   "source": [
    "iterate([1, 2, 3])"
   ]
  },
  {
   "cell_type": "code",
   "execution_count": 302,
   "id": "f3052d91-c75a-4736-aeda-38538bf51f01",
   "metadata": {},
   "outputs": [
    {
     "name": "stdout",
     "output_type": "stream",
     "text": [
      "3\n",
      "2\n",
      "1\n"
     ]
    }
   ],
   "source": [
    "iterate((3, 2, 1))"
   ]
  },
  {
   "cell_type": "code",
   "execution_count": 303,
   "id": "8b7c4c40-dc3a-4c53-b997-5c2b9750cef5",
   "metadata": {},
   "outputs": [
    {
     "ename": "TypeError",
     "evalue": "'int' object is not iterable",
     "output_type": "error",
     "traceback": [
      "\u001b[0;31m---------------------------------------------------------------------------\u001b[0m",
      "\u001b[0;31mTypeError\u001b[0m                                 Traceback (most recent call last)",
      "Input \u001b[0;32mIn [303]\u001b[0m, in \u001b[0;36m<cell line: 1>\u001b[0;34m()\u001b[0m\n\u001b[0;32m----> 1\u001b[0m \u001b[43miterate\u001b[49m\u001b[43m(\u001b[49m\u001b[38;5;241;43m4\u001b[39;49m\u001b[43m)\u001b[49m\n",
      "Input \u001b[0;32mIn [299]\u001b[0m, in \u001b[0;36miterate\u001b[0;34m(iterable)\u001b[0m\n\u001b[1;32m      1\u001b[0m \u001b[38;5;28;01mdef\u001b[39;00m \u001b[38;5;21miterate\u001b[39m(iterable):\n\u001b[0;32m----> 2\u001b[0m     \u001b[38;5;28;01mfor\u001b[39;00m thing \u001b[38;5;129;01min\u001b[39;00m iterable:\n\u001b[1;32m      3\u001b[0m         \u001b[38;5;28mprint\u001b[39m(thing)\n",
      "\u001b[0;31mTypeError\u001b[0m: 'int' object is not iterable"
     ]
    }
   ],
   "source": [
    "iterate(4)"
   ]
  },
  {
   "cell_type": "code",
   "execution_count": 304,
   "id": "50c52cf9-57d6-47f5-98df-f5acf2865273",
   "metadata": {},
   "outputs": [
    {
     "data": {
      "text/plain": [
       "'thisthatother'"
      ]
     },
     "execution_count": 304,
     "metadata": {},
     "output_type": "execute_result"
    }
   ],
   "source": [
    "''.join('this that other'.split())"
   ]
  },
  {
   "cell_type": "code",
   "execution_count": 305,
   "id": "61f13897-e0b0-4f89-a7fd-702a0464eaad",
   "metadata": {},
   "outputs": [],
   "source": [
    "import math"
   ]
  },
  {
   "cell_type": "code",
   "execution_count": 306,
   "id": "fbb76e5e-ec18-48d0-976f-442de0d868a6",
   "metadata": {},
   "outputs": [
    {
     "name": "stdout",
     "output_type": "stream",
     "text": [
      "Help on built-in function sin in module math:\n",
      "\n",
      "sin(x, /)\n",
      "    Return the sine of x (measured in radians).\n",
      "\n"
     ]
    }
   ],
   "source": [
    "help(math.sin)"
   ]
  },
  {
   "cell_type": "markdown",
   "id": "328c0476-5a3a-4053-a9e6-a83b37eeec4c",
   "metadata": {},
   "source": [
    "## Lab: functions\n",
    "* Write a function __`calculate`__ which is passed two operands and an operator and returns the calculated result, e.g., __`calculate(2, 4, '+')`__ would return 6\n",
    "* Write a function that, given a string, returns True or False whether the string is a pangram\n",
    "  * pangram contains all the letters of the alphabet\n",
    "  * The quick brown fox jumps over the lazy dog\n",
    "  * The wizard quickly jinxed the gnomes before they vaporized\n",
    "* Write a function which takes an integer as a parameter, and sums up its digits. If the resulting sum contains more than 1 digit, the function should sum the digits again, e.g., __`sumdigits(1235)`__ should compute the sum of 1, 2, 3, and 5 (11), then compute the sum of 1 and 1, returning 2.\n",
    "* Write a function which takes a number as a parameter and returns a string version of the number with commas representing thousands, e.g., __`add_commas(12345)`__ would return \"12,345\"\n",
    "* Write a function to demonstrate the Collatz Conjecture:\n",
    "  * for integer n > 1\n",
    "    * if n is even, then __`n = n // 2`__\n",
    "    * if n is odd, then __`n = n * 3 + 1`__\n",
    "  * ...will always converge to 1\n",
    "  * (your function should take n and keep printing new value of n until n is 1)\n"
   ]
  },
  {
   "cell_type": "code",
   "execution_count": 308,
   "id": "b31aa4f0-3705-40c1-8715-37196618c5d5",
   "metadata": {},
   "outputs": [],
   "source": [
    "def calculate(operand1, operand2, oper):\n",
    "    \"\"\"Calculate sum, difference, product or quotient of two values.\"\"\"\n",
    "    if oper == '+':\n",
    "        return operand1 + operand2\n",
    "    if oper == '-':\n",
    "        return operand1 - operand2\n",
    "    if oper == '*':\n",
    "        return operand1 * operand2\n",
    "    if oper == '/':\n",
    "        return operand1 / operand2\n",
    "    print('bad operator: ', oper)"
   ]
  },
  {
   "cell_type": "code",
   "execution_count": 309,
   "id": "7239f714-cdbe-4dae-b774-2f75779efe50",
   "metadata": {},
   "outputs": [
    {
     "data": {
      "text/plain": [
       "6"
      ]
     },
     "execution_count": 309,
     "metadata": {},
     "output_type": "execute_result"
    }
   ],
   "source": [
    "calculate(2, 3, '*')"
   ]
  },
  {
   "cell_type": "code",
   "execution_count": 324,
   "id": "18b980e2-06ae-4c99-b790-4f7e04bb78c7",
   "metadata": {},
   "outputs": [],
   "source": [
    "import string\n",
    "\n",
    "def is_pangram(sentence):\n",
    "    \"\"\"Determine if a string is a pangram or not.\"\"\"\n",
    "    # make a set of the letters in the sentence\n",
    "    letters = { char for char in sentence.lower()\n",
    "                       if char in string.ascii_lowercase }\n",
    "    return len(letters) == 26"
   ]
  },
  {
   "cell_type": "code",
   "execution_count": 327,
   "id": "c4bb87d3-a746-4712-b689-3514ad325860",
   "metadata": {},
   "outputs": [
    {
     "data": {
      "text/plain": [
       "True"
      ]
     },
     "execution_count": 327,
     "metadata": {},
     "output_type": "execute_result"
    }
   ],
   "source": [
    "is_pangram('The wizard quickly jinxed the gnomes before they vaporized.')"
   ]
  },
  {
   "cell_type": "code",
   "execution_count": 328,
   "id": "aae52a28-87f3-40c5-8740-66a4f4186719",
   "metadata": {},
   "outputs": [],
   "source": [
    "def collatz(n):\n",
    "    \"\"\"Collatz the number...\"\"\"\n",
    "    if type(n) != int or n < 2:\n",
    "        print('arg must be an int > 1')\n",
    "        return\n",
    "    \n",
    "    while n > 1:\n",
    "        print(n, end=' ')\n",
    "        if n % 2 == 0:\n",
    "            n //= 2\n",
    "        else:\n",
    "            n = n * 3 + 1\n",
    "    print(1)"
   ]
  },
  {
   "cell_type": "code",
   "execution_count": 332,
   "id": "8238196f-ddf2-4af7-9d81-d288594bd9f9",
   "metadata": {},
   "outputs": [
    {
     "name": "stdout",
     "output_type": "stream",
     "text": [
      "6171 18514 9257 27772 13886 6943 20830 10415 31246 15623 46870 23435 70306 35153 105460 52730 26365 79096 39548 19774 9887 29662 14831 44494 22247 66742 33371 100114 50057 150172 75086 37543 112630 56315 168946 84473 253420 126710 63355 190066 95033 285100 142550 71275 213826 106913 320740 160370 80185 240556 120278 60139 180418 90209 270628 135314 67657 202972 101486 50743 152230 76115 228346 114173 342520 171260 85630 42815 128446 64223 192670 96335 289006 144503 433510 216755 650266 325133 975400 487700 243850 121925 365776 182888 91444 45722 22861 68584 34292 17146 8573 25720 12860 6430 3215 9646 4823 14470 7235 21706 10853 32560 16280 8140 4070 2035 6106 3053 9160 4580 2290 1145 3436 1718 859 2578 1289 3868 1934 967 2902 1451 4354 2177 6532 3266 1633 4900 2450 1225 3676 1838 919 2758 1379 4138 2069 6208 3104 1552 776 388 194 97 292 146 73 220 110 55 166 83 250 125 376 188 94 47 142 71 214 107 322 161 484 242 121 364 182 91 274 137 412 206 103 310 155 466 233 700 350 175 526 263 790 395 1186 593 1780 890 445 1336 668 334 167 502 251 754 377 1132 566 283 850 425 1276 638 319 958 479 1438 719 2158 1079 3238 1619 4858 2429 7288 3644 1822 911 2734 1367 4102 2051 6154 3077 9232 4616 2308 1154 577 1732 866 433 1300 650 325 976 488 244 122 61 184 92 46 23 70 35 106 53 160 80 40 20 10 5 16 8 4 2 1\n"
     ]
    }
   ],
   "source": [
    "collatz(6171)"
   ]
  },
  {
   "cell_type": "code",
   "execution_count": 343,
   "id": "de11dd04-5524-417f-a599-70fead097b70",
   "metadata": {},
   "outputs": [],
   "source": [
    "# add some formatting...\n",
    "\n",
    "def collatz(n):\n",
    "    \"\"\"Collatz the number...\"\"\"\n",
    "    if type(n) != int or n < 2:\n",
    "        print('arg must be an int > 1')\n",
    "        return\n",
    "    \n",
    "    count = 0\n",
    "    \n",
    "    while n > 1:\n",
    "        count += 1\n",
    "        print(f'{n:8d}', end='')\n",
    "        if count % 10 == 0:\n",
    "            print()\n",
    "        if n % 2 == 0:\n",
    "            n //= 2\n",
    "        else:\n",
    "            n = n * 3 + 1\n",
    "    print(f'{1:8d}')"
   ]
  },
  {
   "cell_type": "code",
   "execution_count": 344,
   "id": "ccebc673-4927-41ab-9091-f533228ef4fc",
   "metadata": {},
   "outputs": [
    {
     "name": "stdout",
     "output_type": "stream",
     "text": [
      "    6171   18514    9257   27772   13886    6943   20830   10415   31246   15623\n",
      "   46870   23435   70306   35153  105460   52730   26365   79096   39548   19774\n",
      "    9887   29662   14831   44494   22247   66742   33371  100114   50057  150172\n",
      "   75086   37543  112630   56315  168946   84473  253420  126710   63355  190066\n",
      "   95033  285100  142550   71275  213826  106913  320740  160370   80185  240556\n",
      "  120278   60139  180418   90209  270628  135314   67657  202972  101486   50743\n",
      "  152230   76115  228346  114173  342520  171260   85630   42815  128446   64223\n",
      "  192670   96335  289006  144503  433510  216755  650266  325133  975400  487700\n",
      "  243850  121925  365776  182888   91444   45722   22861   68584   34292   17146\n",
      "    8573   25720   12860    6430    3215    9646    4823   14470    7235   21706\n",
      "   10853   32560   16280    8140    4070    2035    6106    3053    9160    4580\n",
      "    2290    1145    3436    1718     859    2578    1289    3868    1934     967\n",
      "    2902    1451    4354    2177    6532    3266    1633    4900    2450    1225\n",
      "    3676    1838     919    2758    1379    4138    2069    6208    3104    1552\n",
      "     776     388     194      97     292     146      73     220     110      55\n",
      "     166      83     250     125     376     188      94      47     142      71\n",
      "     214     107     322     161     484     242     121     364     182      91\n",
      "     274     137     412     206     103     310     155     466     233     700\n",
      "     350     175     526     263     790     395    1186     593    1780     890\n",
      "     445    1336     668     334     167     502     251     754     377    1132\n",
      "     566     283     850     425    1276     638     319     958     479    1438\n",
      "     719    2158    1079    3238    1619    4858    2429    7288    3644    1822\n",
      "     911    2734    1367    4102    2051    6154    3077    9232    4616    2308\n",
      "    1154     577    1732     866     433    1300     650     325     976     488\n",
      "     244     122      61     184      92      46      23      70      35     106\n",
      "      53     160      80      40      20      10       5      16       8       4\n",
      "       2       1\n"
     ]
    }
   ],
   "source": [
    "collatz(6171)"
   ]
  },
  {
   "cell_type": "code",
   "execution_count": 346,
   "id": "82e0cb09-2981-463d-a859-528d71a4f871",
   "metadata": {},
   "outputs": [],
   "source": [
    "def sumdigits(num):\n",
    "    \"\"\"Sum digits until sum is a single digit.\"\"\"\n",
    "    print(f'sumdigits({num})')\n",
    "    total = 0\n",
    "    \n",
    "    for digit in str(num):\n",
    "        total += int(digit)\n",
    "        \n",
    "    if total > 9:\n",
    "        return sumdigits(total)\n",
    "    else:\n",
    "        return total"
   ]
  },
  {
   "cell_type": "code",
   "execution_count": 347,
   "id": "aed26293-0e89-46a8-b2dd-5bd9d80bb8b5",
   "metadata": {},
   "outputs": [
    {
     "name": "stdout",
     "output_type": "stream",
     "text": [
      "sumdigits(3627367282891)\n",
      "sumdigits(64)\n",
      "sumdigits(10)\n"
     ]
    },
    {
     "data": {
      "text/plain": [
       "1"
      ]
     },
     "execution_count": 347,
     "metadata": {},
     "output_type": "execute_result"
    }
   ],
   "source": [
    "sumdigits(3627367282891)"
   ]
  },
  {
   "cell_type": "markdown",
   "id": "b8164e7d-e5b4-46cc-8c71-8c7d1c911e3e",
   "metadata": {},
   "source": [
    "# Tour of formatted printing in Python"
   ]
  },
  {
   "cell_type": "markdown",
   "id": "a66e3155-478d-4c0c-accb-2c9b978ccbf4",
   "metadata": {},
   "source": [
    "## Python 2 style"
   ]
  },
  {
   "cell_type": "code",
   "execution_count": 333,
   "id": "587b42ef-a6fc-41cf-8f36-41cc3a2c45fb",
   "metadata": {},
   "outputs": [],
   "source": [
    "x, y = 2, 5"
   ]
  },
  {
   "cell_type": "code",
   "execution_count": 336,
   "id": "db6c4a2e-8659-47a0-8638-c48d1d25e222",
   "metadata": {},
   "outputs": [
    {
     "name": "stdout",
     "output_type": "stream",
     "text": [
      "The value of x is    2, something Python else is    5\n"
     ]
    }
   ],
   "source": [
    "print('The value of x is %4d, something %s else is %4d' % (x, 'Python', y))"
   ]
  },
  {
   "cell_type": "markdown",
   "id": "fb828a5d-cbe3-43b7-aef9-b4d9954169e5",
   "metadata": {},
   "source": [
    "## Python 3 style"
   ]
  },
  {
   "cell_type": "code",
   "execution_count": 337,
   "id": "8c0f2754-97c0-4e18-a045-6c7ebc447c62",
   "metadata": {},
   "outputs": [
    {
     "data": {
      "text/plain": [
       "'1 + 1 = 2'"
      ]
     },
     "execution_count": 337,
     "metadata": {},
     "output_type": "execute_result"
    }
   ],
   "source": [
    "'{} + {} = {}'.format(1, 1, 2)"
   ]
  },
  {
   "cell_type": "code",
   "execution_count": 338,
   "id": "421b648e-525a-41d0-b93d-a0a1db7950b0",
   "metadata": {},
   "outputs": [
    {
     "name": "stdout",
     "output_type": "stream",
     "text": [
      "1 + 1 = 2\n"
     ]
    }
   ],
   "source": [
    "print('{} + {} = {}'.format(1, 1, 2))"
   ]
  },
  {
   "cell_type": "code",
   "execution_count": 339,
   "id": "aef02099-f700-4b3b-9b15-5a453a46d7f5",
   "metadata": {},
   "outputs": [
    {
     "name": "stdout",
     "output_type": "stream",
     "text": [
      "1 + 1 = 2\n"
     ]
    }
   ],
   "source": [
    "print('{0} + {0} = {1}'.format(1, 2))"
   ]
  },
  {
   "cell_type": "code",
   "execution_count": 340,
   "id": "d2775ee6-dc97-4de5-a534-d7ee222a39cd",
   "metadata": {},
   "outputs": [
    {
     "name": "stdout",
     "output_type": "stream",
     "text": [
      "1 + 1 = 2\n"
     ]
    }
   ],
   "source": [
    "print('{1} + {1} = {0}'.format(2, 1))"
   ]
  },
  {
   "cell_type": "markdown",
   "id": "e0f6663c-8446-4cfd-93ad-15b8b96ed333",
   "metadata": {},
   "source": [
    "# Python 3.6+ style (f-strings)\n",
    "* r'.....' (raw string, no interpretation)\n",
    "* f'string to be formatted' (format or f-string)"
   ]
  },
  {
   "cell_type": "code",
   "execution_count": 341,
   "id": "07493869-5e64-47c5-b608-a53b9a2bbebe",
   "metadata": {},
   "outputs": [
    {
     "name": "stdout",
     "output_type": "stream",
     "text": [
      "1 + 3 = 4\n"
     ]
    }
   ],
   "source": [
    "x = 1\n",
    "y = 3\n",
    "print(f'{x} + {y} = {x + y}')"
   ]
  },
  {
   "cell_type": "code",
   "execution_count": 342,
   "id": "a5e55ab5-8633-474b-9bd6-f20293f45f1b",
   "metadata": {},
   "outputs": [
    {
     "name": "stdout",
     "output_type": "stream",
     "text": [
      "5! = 120\n"
     ]
    }
   ],
   "source": [
    "import math\n",
    "n = 5\n",
    "print(f'{n}! = {math.factorial(n)}')"
   ]
  },
  {
   "cell_type": "markdown",
   "id": "0dfad58c-8e6a-44fc-a157-5441c2cf24ed",
   "metadata": {},
   "source": [
    "({'a': 'b'}, [1, 2, 3], 'this', True)\n",
    "## Lab: Variable Positional Arguments\n",
    "* write a function called __`product`__ which accepts a variable number of arguments and returns the product of all of its args. With no args, __`product()`__ should return 1    \n",
    "​\n",
    "<pre><b>\n",
    ">>> product(3, 5)\n",
    "15\n",
    ">>> product(1, 2, 3)\n",
    "6\n",
    ">>> product(63, 12, 3, 0, 9)\n",
    "0\n",
    ">>> product()\n",
    "1\n",
    "</b></pre>"
   ]
  },
  {
   "cell_type": "code",
   "execution_count": 349,
   "id": "aca05222-e175-438f-ab16-bec150ad0a52",
   "metadata": {},
   "outputs": [],
   "source": [
    "def product(*terms):\n",
    "    \"\"\"Return the product of all the terms.\"\"\"\n",
    "    result = 1\n",
    "    \n",
    "    for term in terms:\n",
    "        result *= term\n",
    "    \n",
    "    return result"
   ]
  },
  {
   "cell_type": "code",
   "execution_count": 350,
   "id": "5e5ff409-4306-42a8-8fd9-e8e212c66836",
   "metadata": {},
   "outputs": [
    {
     "data": {
      "text/plain": [
       "1"
      ]
     },
     "execution_count": 350,
     "metadata": {},
     "output_type": "execute_result"
    }
   ],
   "source": [
    "product()"
   ]
  },
  {
   "cell_type": "code",
   "execution_count": 351,
   "id": "bd74a478-c659-4b9d-9adf-d21562d4702c",
   "metadata": {},
   "outputs": [
    {
     "data": {
      "text/plain": [
       "15"
      ]
     },
     "execution_count": 351,
     "metadata": {},
     "output_type": "execute_result"
    }
   ],
   "source": [
    "product(3, 5)"
   ]
  },
  {
   "cell_type": "code",
   "execution_count": 352,
   "id": "0a05b90e-f195-4d73-b16d-cb0bc48d8811",
   "metadata": {},
   "outputs": [
    {
     "data": {
      "text/plain": [
       "3628800"
      ]
     },
     "execution_count": 352,
     "metadata": {},
     "output_type": "execute_result"
    }
   ],
   "source": [
    "product(1, 2, 3, 4, 5, 6, 7, 8, 9, 10)"
   ]
  },
  {
   "cell_type": "code",
   "execution_count": 353,
   "id": "8d5df4c5-3ffe-4591-8c4f-b0a2f8c7fb60",
   "metadata": {},
   "outputs": [],
   "source": [
    "def weird_func(x, y, z, *args, **kwargs):\n",
    "    print('req args:', x, y, z)\n",
    "    print('var pos args', args)\n",
    "    print('var keywd args', kwargs)\n",
    "    if 'debug' in kwargs:\n",
    "        if kwargs['debug'] == True: # because it could be false\n",
    "            turn_on_debugging = True\n",
    "            print('debug on')\n",
    "            # utilize some of *args..."
   ]
  },
  {
   "cell_type": "code",
   "execution_count": 354,
   "id": "54589708-0f17-4bc7-8e8c-3b3f7e4e1ec0",
   "metadata": {},
   "outputs": [
    {
     "ename": "TypeError",
     "evalue": "weird_func() missing 3 required positional arguments: 'x', 'y', and 'z'",
     "output_type": "error",
     "traceback": [
      "\u001b[0;31m---------------------------------------------------------------------------\u001b[0m",
      "\u001b[0;31mTypeError\u001b[0m                                 Traceback (most recent call last)",
      "Input \u001b[0;32mIn [354]\u001b[0m, in \u001b[0;36m<cell line: 1>\u001b[0;34m()\u001b[0m\n\u001b[0;32m----> 1\u001b[0m \u001b[43mweird_func\u001b[49m\u001b[43m(\u001b[49m\u001b[43m)\u001b[49m\n",
      "\u001b[0;31mTypeError\u001b[0m: weird_func() missing 3 required positional arguments: 'x', 'y', and 'z'"
     ]
    }
   ],
   "source": [
    "weird_func()"
   ]
  },
  {
   "cell_type": "code",
   "execution_count": 355,
   "id": "36598904-272b-4dc0-a045-0e605acec765",
   "metadata": {},
   "outputs": [
    {
     "name": "stdout",
     "output_type": "stream",
     "text": [
      "req args: 1 2 3\n",
      "var pos args ()\n",
      "var keywd args {}\n"
     ]
    }
   ],
   "source": [
    "weird_func(1, 2, 3)"
   ]
  },
  {
   "cell_type": "code",
   "execution_count": 356,
   "id": "1079f462-7e2f-450c-b4a4-3a9a916ed36a",
   "metadata": {},
   "outputs": [
    {
     "name": "stdout",
     "output_type": "stream",
     "text": [
      "req args: 1 2 3\n",
      "var pos args (4, 5, 6)\n",
      "var keywd args {}\n"
     ]
    }
   ],
   "source": [
    "weird_func(1, 2, 3, 4, 5, 6)"
   ]
  },
  {
   "cell_type": "code",
   "execution_count": 357,
   "id": "a0fde1b1-494d-417f-b4c7-0a359c7693d3",
   "metadata": {},
   "outputs": [
    {
     "name": "stdout",
     "output_type": "stream",
     "text": [
      "req args: 1 2 3\n",
      "var pos args ()\n",
      "var keywd args {'color': 'blue', 'something': 'nothing'}\n"
     ]
    }
   ],
   "source": [
    "weird_func(1, 2, 3, color='blue', something='nothing')"
   ]
  },
  {
   "cell_type": "code",
   "execution_count": 358,
   "id": "40ca595c-43b0-4542-97c7-5da25a7007cc",
   "metadata": {},
   "outputs": [
    {
     "name": "stdout",
     "output_type": "stream",
     "text": [
      "req args: 1 2 3\n",
      "var pos args ()\n",
      "var keywd args {'debug': True}\n",
      "debug on\n"
     ]
    }
   ],
   "source": [
    "weird_func(1, 2, 3, debug=True)"
   ]
  },
  {
   "cell_type": "code",
   "execution_count": 361,
   "id": "ded08b05-9fb5-4c37-a4d3-94d90a41ed80",
   "metadata": {},
   "outputs": [],
   "source": [
    "def f(x, y, z, *args, **kwargs):\n",
    "    pass"
   ]
  },
  {
   "cell_type": "code",
   "execution_count": 360,
   "id": "2552a8c6-d94b-4216-b63f-4ac9cef18fee",
   "metadata": {},
   "outputs": [],
   "source": [
    "f()"
   ]
  },
  {
   "cell_type": "code",
   "execution_count": 362,
   "id": "dd64e5c8-cdc8-4e3a-9921-df3e902e8e61",
   "metadata": {},
   "outputs": [
    {
     "ename": "SyntaxError",
     "evalue": "keyword argument repeated: x (3131370907.py, line 1)",
     "output_type": "error",
     "traceback": [
      "\u001b[0;36m  Input \u001b[0;32mIn [362]\u001b[0;36m\u001b[0m\n\u001b[0;31m    f(x=3, z=2, y=1, debug=True, color='red', x=2)\u001b[0m\n\u001b[0m                                              ^\u001b[0m\n\u001b[0;31mSyntaxError\u001b[0m\u001b[0;31m:\u001b[0m keyword argument repeated: x\n"
     ]
    }
   ],
   "source": [
    "f(x=3, z=2, y=1, debug=True, color='red', x=2)"
   ]
  },
  {
   "cell_type": "code",
   "execution_count": 363,
   "id": "4669a544-b2e5-4d17-85c6-4045103febd8",
   "metadata": {},
   "outputs": [
    {
     "ename": "TypeError",
     "evalue": "f() got multiple values for argument 'x'",
     "output_type": "error",
     "traceback": [
      "\u001b[0;31m---------------------------------------------------------------------------\u001b[0m",
      "\u001b[0;31mTypeError\u001b[0m                                 Traceback (most recent call last)",
      "Input \u001b[0;32mIn [363]\u001b[0m, in \u001b[0;36m<cell line: 1>\u001b[0;34m()\u001b[0m\n\u001b[0;32m----> 1\u001b[0m \u001b[43mf\u001b[49m\u001b[43m(\u001b[49m\u001b[38;5;241;43m1\u001b[39;49m\u001b[43m,\u001b[49m\u001b[43m \u001b[49m\u001b[38;5;241;43m2\u001b[39;49m\u001b[43m,\u001b[49m\u001b[43m \u001b[49m\u001b[38;5;241;43m3\u001b[39;49m\u001b[43m,\u001b[49m\u001b[43m \u001b[49m\u001b[43mdebug\u001b[49m\u001b[38;5;241;43m=\u001b[39;49m\u001b[38;5;28;43;01mFalse\u001b[39;49;00m\u001b[43m,\u001b[49m\u001b[43m \u001b[49m\u001b[43mx\u001b[49m\u001b[38;5;241;43m=\u001b[39;49m\u001b[38;5;124;43m'\u001b[39;49m\u001b[38;5;124;43mhi\u001b[39;49m\u001b[38;5;124;43m'\u001b[39;49m\u001b[43m)\u001b[49m\n",
      "\u001b[0;31mTypeError\u001b[0m: f() got multiple values for argument 'x'"
     ]
    }
   ],
   "source": [
    "f(1, 2, 3, debug=False, x='hi')"
   ]
  },
  {
   "cell_type": "code",
   "execution_count": 364,
   "id": "27e6070d-952e-4f62-ac63-356465b9970b",
   "metadata": {},
   "outputs": [],
   "source": [
    "def weird_func(x, y, z, debug_file=None, debug=False):\n",
    "    print('req args:', x, y, z)\n",
    "    print('var pos args', debug_file)\n",
    "    print('var keywd args', debug)"
   ]
  },
  {
   "cell_type": "code",
   "execution_count": 365,
   "id": "92133ac9-ec30-4a97-8177-741984bb2475",
   "metadata": {},
   "outputs": [
    {
     "name": "stdout",
     "output_type": "stream",
     "text": [
      "req args: 1 2 3\n",
      "var pos args None\n",
      "var keywd args False\n"
     ]
    }
   ],
   "source": [
    "weird_func(1, 2, 3)"
   ]
  },
  {
   "cell_type": "code",
   "execution_count": 366,
   "id": "d8f042de-1ebf-478f-8d1d-f9490f8fe0b4",
   "metadata": {},
   "outputs": [
    {
     "name": "stdout",
     "output_type": "stream",
     "text": [
      "req args: 1 2 3\n",
      "var pos args None\n",
      "var keywd args True\n"
     ]
    }
   ],
   "source": [
    "weird_func(1, 2, 3, debug=True)"
   ]
  },
  {
   "cell_type": "code",
   "execution_count": 367,
   "id": "94f5e1e5-e46f-471b-8741-6b4d0550e7c3",
   "metadata": {},
   "outputs": [
    {
     "name": "stdout",
     "output_type": "stream",
     "text": [
      "req args: 1 2 3\n",
      "var pos args blah.txt\n",
      "var keywd args True\n"
     ]
    }
   ],
   "source": [
    "weird_func(1, 2, 3, debug=True, debug_file='blah.txt')"
   ]
  },
  {
   "cell_type": "code",
   "execution_count": 369,
   "id": "ad36d1fa-78a1-4a32-8444-18a9d34a6c85",
   "metadata": {},
   "outputs": [
    {
     "data": {
      "text/plain": [
       "'3.9.12 (main, Apr  5 2022, 01:53:17) \\n[Clang 12.0.0 ]'"
      ]
     },
     "execution_count": 369,
     "metadata": {},
     "output_type": "execute_result"
    }
   ],
   "source": [
    "import sys\n",
    "sys.version"
   ]
  },
  {
   "cell_type": "code",
   "execution_count": 373,
   "id": "84a806e4-f4e6-400b-9f03-214ffdcb6cb9",
   "metadata": {},
   "outputs": [],
   "source": [
    "def f(a, b, c, debug):\n",
    "    print(a, b, c)\n",
    "    print(debug)"
   ]
  },
  {
   "cell_type": "code",
   "execution_count": 374,
   "id": "fc407624-e3ab-45fe-a6e0-2da6a084ccd9",
   "metadata": {},
   "outputs": [
    {
     "name": "stdout",
     "output_type": "stream",
     "text": [
      "1 2 3\n",
      "True\n"
     ]
    }
   ],
   "source": [
    "f(1, 2, 3, True)"
   ]
  },
  {
   "cell_type": "code",
   "execution_count": 372,
   "id": "eb5a301f-4a16-4de0-84ac-7e3678df6783",
   "metadata": {},
   "outputs": [
    {
     "name": "stdout",
     "output_type": "stream",
     "text": [
      "2 3 1\n"
     ]
    }
   ],
   "source": [
    "f(c=1, a=2, b=3)"
   ]
  },
  {
   "cell_type": "code",
   "execution_count": 377,
   "id": "e0e0ab68-e4b0-436e-9427-c97efcebdaa8",
   "metadata": {},
   "outputs": [],
   "source": [
    "def f(a, b, c, *, debug=False):\n",
    "    print(a, b, c)\n",
    "    print(debug)"
   ]
  },
  {
   "cell_type": "code",
   "execution_count": 378,
   "id": "735e734e-8ed0-41d2-9060-c7dc74c52e3b",
   "metadata": {},
   "outputs": [
    {
     "name": "stdout",
     "output_type": "stream",
     "text": [
      "1 2 3\n",
      "False\n"
     ]
    }
   ],
   "source": [
    "f(1, 2, 3)"
   ]
  },
  {
   "cell_type": "code",
   "execution_count": 379,
   "id": "e595e353-84e0-4f94-9e8c-44b9a555e14f",
   "metadata": {},
   "outputs": [
    {
     "ename": "TypeError",
     "evalue": "f() takes 3 positional arguments but 4 were given",
     "output_type": "error",
     "traceback": [
      "\u001b[0;31m---------------------------------------------------------------------------\u001b[0m",
      "\u001b[0;31mTypeError\u001b[0m                                 Traceback (most recent call last)",
      "Input \u001b[0;32mIn [379]\u001b[0m, in \u001b[0;36m<cell line: 1>\u001b[0;34m()\u001b[0m\n\u001b[0;32m----> 1\u001b[0m \u001b[43mf\u001b[49m\u001b[43m(\u001b[49m\u001b[38;5;241;43m1\u001b[39;49m\u001b[43m,\u001b[49m\u001b[43m \u001b[49m\u001b[38;5;241;43m2\u001b[39;49m\u001b[43m,\u001b[49m\u001b[43m \u001b[49m\u001b[38;5;241;43m3\u001b[39;49m\u001b[43m,\u001b[49m\u001b[43m \u001b[49m\u001b[38;5;28;43;01mTrue\u001b[39;49;00m\u001b[43m)\u001b[49m\n",
      "\u001b[0;31mTypeError\u001b[0m: f() takes 3 positional arguments but 4 were given"
     ]
    }
   ],
   "source": [
    "f(1, 2, 3, True)"
   ]
  },
  {
   "cell_type": "code",
   "execution_count": 380,
   "id": "8c7b997c-d54c-4911-b2e1-424674fcf5b8",
   "metadata": {},
   "outputs": [
    {
     "name": "stdout",
     "output_type": "stream",
     "text": [
      "1 2 3\n",
      "True\n"
     ]
    }
   ],
   "source": [
    "f(1, 2, 3, debug=True)"
   ]
  },
  {
   "cell_type": "code",
   "execution_count": 381,
   "id": "88fefa91-6e74-4a1a-8d77-3fe1e4713d66",
   "metadata": {},
   "outputs": [
    {
     "name": "stdout",
     "output_type": "stream",
     "text": [
      "2 1 3\n",
      "True\n"
     ]
    }
   ],
   "source": [
    "f(a=2, c=3, b=1, debug=True)"
   ]
  },
  {
   "cell_type": "code",
   "execution_count": 383,
   "id": "bb8fee75-b3be-4f33-99ec-cadf696b4678",
   "metadata": {},
   "outputs": [],
   "source": [
    "def f(a, b, c, /, *, debug=False):\n",
    "    print(a, b, c)\n",
    "    print(debug)"
   ]
  },
  {
   "cell_type": "code",
   "execution_count": 384,
   "id": "168347c6-56e4-42cc-9772-4c5852b11339",
   "metadata": {},
   "outputs": [
    {
     "ename": "TypeError",
     "evalue": "f() got some positional-only arguments passed as keyword arguments: 'a, b, c'",
     "output_type": "error",
     "traceback": [
      "\u001b[0;31m---------------------------------------------------------------------------\u001b[0m",
      "\u001b[0;31mTypeError\u001b[0m                                 Traceback (most recent call last)",
      "Input \u001b[0;32mIn [384]\u001b[0m, in \u001b[0;36m<cell line: 1>\u001b[0;34m()\u001b[0m\n\u001b[0;32m----> 1\u001b[0m \u001b[43mf\u001b[49m\u001b[43m(\u001b[49m\u001b[43ma\u001b[49m\u001b[38;5;241;43m=\u001b[39;49m\u001b[38;5;241;43m2\u001b[39;49m\u001b[43m,\u001b[49m\u001b[43m \u001b[49m\u001b[43mc\u001b[49m\u001b[38;5;241;43m=\u001b[39;49m\u001b[38;5;241;43m1\u001b[39;49m\u001b[43m,\u001b[49m\u001b[43m \u001b[49m\u001b[43mb\u001b[49m\u001b[38;5;241;43m=\u001b[39;49m\u001b[38;5;241;43m3\u001b[39;49m\u001b[43m)\u001b[49m\n",
      "\u001b[0;31mTypeError\u001b[0m: f() got some positional-only arguments passed as keyword arguments: 'a, b, c'"
     ]
    }
   ],
   "source": [
    "f(a=2, c=1, b=3)"
   ]
  },
  {
   "cell_type": "code",
   "execution_count": 385,
   "id": "cddfc1e1-e784-4ea4-b192-c2770395ed7c",
   "metadata": {},
   "outputs": [
    {
     "name": "stdout",
     "output_type": "stream",
     "text": [
      "Help on built-in function sin in module math:\n",
      "\n",
      "sin(x, /)\n",
      "    Return the sine of x (measured in radians).\n",
      "\n"
     ]
    }
   ],
   "source": [
    "import math\n",
    "help(math.sin)"
   ]
  },
  {
   "cell_type": "code",
   "execution_count": 386,
   "id": "bd5359e5-3117-4230-ab97-bc426ed28d11",
   "metadata": {},
   "outputs": [
    {
     "ename": "TypeError",
     "evalue": "math.sin() takes no keyword arguments",
     "output_type": "error",
     "traceback": [
      "\u001b[0;31m---------------------------------------------------------------------------\u001b[0m",
      "\u001b[0;31mTypeError\u001b[0m                                 Traceback (most recent call last)",
      "Input \u001b[0;32mIn [386]\u001b[0m, in \u001b[0;36m<cell line: 1>\u001b[0;34m()\u001b[0m\n\u001b[0;32m----> 1\u001b[0m \u001b[43mmath\u001b[49m\u001b[38;5;241;43m.\u001b[39;49m\u001b[43msin\u001b[49m\u001b[43m(\u001b[49m\u001b[43mx\u001b[49m\u001b[38;5;241;43m=\u001b[39;49m\u001b[43mmath\u001b[49m\u001b[38;5;241;43m.\u001b[39;49m\u001b[43mpi\u001b[49m\u001b[38;5;241;43m/\u001b[39;49m\u001b[38;5;241;43m2.0\u001b[39;49m\u001b[43m)\u001b[49m\n",
      "\u001b[0;31mTypeError\u001b[0m: math.sin() takes no keyword arguments"
     ]
    }
   ],
   "source": [
    "math.sin(x=math.pi/2.0)"
   ]
  },
  {
   "cell_type": "code",
   "execution_count": 387,
   "id": "50b1abe0-9969-4238-8983-0e699dd99fcf",
   "metadata": {},
   "outputs": [
    {
     "ename": "TypeError",
     "evalue": "sorted expected 1 argument, got 0",
     "output_type": "error",
     "traceback": [
      "\u001b[0;31m---------------------------------------------------------------------------\u001b[0m",
      "\u001b[0;31mTypeError\u001b[0m                                 Traceback (most recent call last)",
      "Input \u001b[0;32mIn [387]\u001b[0m, in \u001b[0;36m<cell line: 1>\u001b[0;34m()\u001b[0m\n\u001b[0;32m----> 1\u001b[0m \u001b[38;5;28;43msorted\u001b[39;49m\u001b[43m(\u001b[49m\u001b[43miterable\u001b[49m\u001b[38;5;241;43m=\u001b[39;49m\u001b[43m[\u001b[49m\u001b[38;5;241;43m1\u001b[39;49m\u001b[43m,\u001b[49m\u001b[43m \u001b[49m\u001b[38;5;241;43m3\u001b[39;49m\u001b[43m,\u001b[49m\u001b[43m \u001b[49m\u001b[38;5;241;43m2\u001b[39;49m\u001b[43m]\u001b[49m\u001b[43m)\u001b[49m\n",
      "\u001b[0;31mTypeError\u001b[0m: sorted expected 1 argument, got 0"
     ]
    }
   ],
   "source": [
    "sorted(iterable=[1, 3, 2])"
   ]
  },
  {
   "cell_type": "code",
   "execution_count": 388,
   "id": "af45cbbc-f54c-4220-a579-22f31a04ce6b",
   "metadata": {},
   "outputs": [],
   "source": [
    "def sbux(bin1, t2, something, /):\n",
    "    # some code\n",
    "    pass"
   ]
  },
  {
   "cell_type": "code",
   "execution_count": null,
   "id": "6c7ddc7b-59ac-4d3e-96ef-e36f61c185b2",
   "metadata": {},
   "outputs": [],
   "source": []
  }
 ],
 "metadata": {
  "kernelspec": {
   "display_name": "Python 3 (ipykernel)",
   "language": "python",
   "name": "python3"
  },
  "language_info": {
   "codemirror_mode": {
    "name": "ipython",
    "version": 3
   },
   "file_extension": ".py",
   "mimetype": "text/x-python",
   "name": "python",
   "nbconvert_exporter": "python",
   "pygments_lexer": "ipython3",
   "version": "3.9.12"
  }
 },
 "nbformat": 4,
 "nbformat_minor": 5
}
