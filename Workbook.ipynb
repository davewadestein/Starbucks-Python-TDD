{
 "cells": [
  {
   "cell_type": "markdown",
   "id": "514e5fe6-3912-4818-8df0-37dac40ae4f7",
   "metadata": {},
   "source": [
    "# Pythonic (according to DWS)\n",
    "* writing our code in an idiomatic way that familiar and can be grokked by other Python programmers\n",
    "  * \"My name is Rick and I'm a Java developer and I've taught myself Python but my Python looks like Java\"\n",
    "* don't use indexing unless you need it\n",
    "  * __`for thing in container`__ is preferable to __`for index in range(len(container))`__\n",
    "* if an object is difficult to work with, consider changing its type\n",
    "* __`container[-1]`__ is the last item in the container\n",
    "  * __`container[-n]`__ is the nth from the last in the container\n",
    "* __`container[-n:]`__ means the last n items in the container\n",
    "  * * __`container[:n]`__ means the first n items in the container\n",
    "* compose functions, i.e., have one function call another when convenient\n",
    "  * e.g., __`input('Enter: ').lower()`__\n",
    "* __`for thing in range(n):`__ means one of two things:\n",
    "  * do the body of the loop n times\n",
    "  * count from 0 to n - 1\n",
    "* __`for _ in range(n):`__\n",
    "  * means do this (the body of the loop) n times\n",
    "* using truthiness (see below\n",
    "* initialize a list by using split, e.g., __`'apple fig pear lemon'.split()`__"
   ]
  },
  {
   "cell_type": "markdown",
   "id": "19d64ed8-5a6c-4ea6-94d9-31f77e5b543e",
   "metadata": {
    "tags": []
   },
   "source": [
    " # Important stuff about Python\n",
    " * dynamically typed\n",
    "   1. we just create a variable when we need it (we don't have to pre-declare it)\n",
    "   1. we can put any data type into a variable, regardless of what's already in it\n",
    " * everything is an object\n",
    "   1. it lives in memory and we can inspect it (e.g., __`id()`__)\n",
    "   2. it consists of multiple sub-parts (we call those \"attributes\" but we can think of them as fields of variables)  and sometimes functions\n",
    "* it's raison d'être is manipulating data (text, files, strings)\n",
    "  * Python is from 1991\n",
    "  * e.g., single or double quotes for strings\n",
    "* scalars = objects that hold a SINGLE value\n",
    "  * bool, int, float\n",
    "* vs. container = object that holds 0+ values\n",
    "  * str, list, tuple, dict, set\n",
    "* mutable vs. immutable objects\n",
    "  * immutable: str, tuple\n",
    "  * mutable: list, dict, set\n",
    "* Duck typing: \"If it walks like a duck, and it quacks like a duck, we'll call it a duck\"\n",
    "  * a duck-typed function does not expect an argument of a certain type, instead it expects a argument which exhibits a certain behavior\n",
    "* Python practices/exhibits \"truthiness\"\n",
    "  * non-Boolean values can be used in a Boolean context, and here are the rules:\n",
    "    * 0 and 0.0 are considered to be False in a Boolean context\n",
    "    * non-zero values are considered to be True \" \" \" \"\n",
    "    * empty containers are considered False\n",
    "    * non-empty containers are considered True\n",
    "    * None is considered False\n",
    "* built-in functions do not change the objects that are passed into them\n",
    "  * if you want to change an object, you should invoke/apply/call a method on/to them\n",
    "    * not all methods make changes to the object they're applied to\n",
    "* PEP-8 suggests\n",
    "  * variable names are all lower case and use _ to separate words:\n",
    "    * __`some_string`__, __`first_name`__, etc.\n",
    "  * things we want to be constant should use all caps, e.g., __`ADDRESS`__, __`SOME_CONSTANT`__"
   ]
  },
  {
   "cell_type": "markdown",
   "id": "e96f352c-02a6-444e-85c3-22b44123e3d4",
   "metadata": {},
   "source": [
    "# Important ideas about programming\n",
    "* “Programs must be written for people to read, and only incidentally for machines to execute.” –Hal Abelson\n",
    "  * you read code 10x more than you write code, i.e., reading code is important\n",
    "  * Eagleson's Law: Any code you wrote more than 6 months ago might well have been written by someone else\n",
    "* some rules to follow:\n",
    "  * pick good variable names, e.g., __`x = 'Dave'`__ not nearly as good as __`name = 'Dave'`__\n",
    "* \"Efficiency doesn't matter until it matters, and it rarely matters\" -DWS\n",
    "* mechanical sympathy\n",
    "  * Jackie Stewart – anyone can drive a car, but if you want to take a car to its limits, you need to understand how it works under the hood\n",
    "* two ways to get better at programming\n",
    "  * keep adding features to your code, even ones you don't need\n",
    "  * keep trying different ways to solve the same problem\n",
    "    * some you'll think are better and others are worse\n",
    "* the 3 banes of existence of programming are:\n",
    "  1. uninitialized/incorrectly initialized variables\n",
    "  1. off by one errors\n",
    "* DRY = Don't Repeat Yourself"
   ]
  },
  {
   "cell_type": "code",
   "execution_count": 7,
   "id": "bea9ca7f-ff29-47e4-b833-dd612f27400e",
   "metadata": {},
   "outputs": [],
   "source": [
    "name = 'Dave'"
   ]
  },
  {
   "cell_type": "code",
   "execution_count": 8,
   "id": "46561d40-531e-499b-a091-ed764dba8b8d",
   "metadata": {},
   "outputs": [
    {
     "data": {
      "text/plain": [
       "140228536818928"
      ]
     },
     "execution_count": 8,
     "metadata": {},
     "output_type": "execute_result"
    }
   ],
   "source": [
    "id(name)"
   ]
  },
  {
   "cell_type": "code",
   "execution_count": 9,
   "id": "6ccc7586-11bc-44e1-8831-b3acc0da63f1",
   "metadata": {},
   "outputs": [
    {
     "name": "stdout",
     "output_type": "stream",
     "text": [
      "Hello, world!\n"
     ]
    }
   ],
   "source": [
    "print('Hello, world!')"
   ]
  },
  {
   "cell_type": "code",
   "execution_count": 10,
   "id": "ca2bf7ab-0441-47d0-a3ff-5a5560601dfd",
   "metadata": {},
   "outputs": [
    {
     "data": {
      "text/plain": [
       "140228536810448"
      ]
     },
     "execution_count": 10,
     "metadata": {},
     "output_type": "execute_result"
    }
   ],
   "source": [
    "cost = 17.50\n",
    "id(cost)"
   ]
  },
  {
   "cell_type": "code",
   "execution_count": 11,
   "id": "e1883f02-550a-4c03-9161-10bad28d5363",
   "metadata": {},
   "outputs": [
    {
     "data": {
      "text/plain": [
       "140229072102320"
      ]
     },
     "execution_count": 11,
     "metadata": {},
     "output_type": "execute_result"
    }
   ],
   "source": [
    "id(print)"
   ]
  },
  {
   "cell_type": "code",
   "execution_count": 13,
   "id": "ddde7489-3228-4bac-8e28-f22ba2aa164f",
   "metadata": {},
   "outputs": [],
   "source": [
    "import math # pull in the math \"library\" that comes with every Python distribution and make it available"
   ]
  },
  {
   "cell_type": "code",
   "execution_count": 14,
   "id": "39891586-c2f5-4189-b7b1-1becc117cf4f",
   "metadata": {},
   "outputs": [
    {
     "data": {
      "text/plain": [
       "1.0"
      ]
     },
     "execution_count": 14,
     "metadata": {},
     "output_type": "execute_result"
    }
   ],
   "source": [
    "math.sin(math.pi / 2.0)"
   ]
  },
  {
   "cell_type": "code",
   "execution_count": 15,
   "id": "289fd43c-2a5d-4664-aee6-9618e94dd6f0",
   "metadata": {},
   "outputs": [
    {
     "data": {
      "text/plain": [
       "140229073616304"
      ]
     },
     "execution_count": 15,
     "metadata": {},
     "output_type": "execute_result"
    }
   ],
   "source": [
    "id(math)"
   ]
  },
  {
   "cell_type": "code",
   "execution_count": 16,
   "id": "ced60668-7578-49cc-9070-9026bb959721",
   "metadata": {},
   "outputs": [
    {
     "data": {
      "text/plain": [
       "['__doc__',\n",
       " '__file__',\n",
       " '__loader__',\n",
       " '__name__',\n",
       " '__package__',\n",
       " '__spec__',\n",
       " 'acos',\n",
       " 'acosh',\n",
       " 'asin',\n",
       " 'asinh',\n",
       " 'atan',\n",
       " 'atan2',\n",
       " 'atanh',\n",
       " 'ceil',\n",
       " 'comb',\n",
       " 'copysign',\n",
       " 'cos',\n",
       " 'cosh',\n",
       " 'degrees',\n",
       " 'dist',\n",
       " 'e',\n",
       " 'erf',\n",
       " 'erfc',\n",
       " 'exp',\n",
       " 'expm1',\n",
       " 'fabs',\n",
       " 'factorial',\n",
       " 'floor',\n",
       " 'fmod',\n",
       " 'frexp',\n",
       " 'fsum',\n",
       " 'gamma',\n",
       " 'gcd',\n",
       " 'hypot',\n",
       " 'inf',\n",
       " 'isclose',\n",
       " 'isfinite',\n",
       " 'isinf',\n",
       " 'isnan',\n",
       " 'isqrt',\n",
       " 'lcm',\n",
       " 'ldexp',\n",
       " 'lgamma',\n",
       " 'log',\n",
       " 'log10',\n",
       " 'log1p',\n",
       " 'log2',\n",
       " 'modf',\n",
       " 'nan',\n",
       " 'nextafter',\n",
       " 'perm',\n",
       " 'pi',\n",
       " 'pow',\n",
       " 'prod',\n",
       " 'radians',\n",
       " 'remainder',\n",
       " 'sin',\n",
       " 'sinh',\n",
       " 'sqrt',\n",
       " 'tan',\n",
       " 'tanh',\n",
       " 'tau',\n",
       " 'trunc',\n",
       " 'ulp']"
      ]
     },
     "execution_count": 16,
     "metadata": {},
     "output_type": "execute_result"
    }
   ],
   "source": [
    "dir(math)"
   ]
  },
  {
   "cell_type": "code",
   "execution_count": 17,
   "id": "2dea567c-c9c8-40c7-a671-776acc11ca25",
   "metadata": {},
   "outputs": [
    {
     "name": "stdout",
     "output_type": "stream",
     "text": [
      "Help on built-in function sin in module math:\n",
      "\n",
      "sin(x, /)\n",
      "    Return the sine of x (measured in radians).\n",
      "\n"
     ]
    }
   ],
   "source": [
    "help(math.sin)"
   ]
  },
  {
   "cell_type": "code",
   "execution_count": 18,
   "id": "c2703e09-1df6-41a4-aa62-981f32bc6092",
   "metadata": {},
   "outputs": [
    {
     "name": "stdout",
     "output_type": "stream",
     "text": [
      "Help on module math:\n",
      "\n",
      "NAME\n",
      "    math\n",
      "\n",
      "MODULE REFERENCE\n",
      "    https://docs.python.org/3.9/library/math\n",
      "    \n",
      "    The following documentation is automatically generated from the Python\n",
      "    source files.  It may be incomplete, incorrect or include features that\n",
      "    are considered implementation detail and may vary between Python\n",
      "    implementations.  When in doubt, consult the module reference at the\n",
      "    location listed above.\n",
      "\n",
      "DESCRIPTION\n",
      "    This module provides access to the mathematical functions\n",
      "    defined by the C standard.\n",
      "\n",
      "FUNCTIONS\n",
      "    acos(x, /)\n",
      "        Return the arc cosine (measured in radians) of x.\n",
      "        \n",
      "        The result is between 0 and pi.\n",
      "    \n",
      "    acosh(x, /)\n",
      "        Return the inverse hyperbolic cosine of x.\n",
      "    \n",
      "    asin(x, /)\n",
      "        Return the arc sine (measured in radians) of x.\n",
      "        \n",
      "        The result is between -pi/2 and pi/2.\n",
      "    \n",
      "    asinh(x, /)\n",
      "        Return the inverse hyperbolic sine of x.\n",
      "    \n",
      "    atan(x, /)\n",
      "        Return the arc tangent (measured in radians) of x.\n",
      "        \n",
      "        The result is between -pi/2 and pi/2.\n",
      "    \n",
      "    atan2(y, x, /)\n",
      "        Return the arc tangent (measured in radians) of y/x.\n",
      "        \n",
      "        Unlike atan(y/x), the signs of both x and y are considered.\n",
      "    \n",
      "    atanh(x, /)\n",
      "        Return the inverse hyperbolic tangent of x.\n",
      "    \n",
      "    ceil(x, /)\n",
      "        Return the ceiling of x as an Integral.\n",
      "        \n",
      "        This is the smallest integer >= x.\n",
      "    \n",
      "    comb(n, k, /)\n",
      "        Number of ways to choose k items from n items without repetition and without order.\n",
      "        \n",
      "        Evaluates to n! / (k! * (n - k)!) when k <= n and evaluates\n",
      "        to zero when k > n.\n",
      "        \n",
      "        Also called the binomial coefficient because it is equivalent\n",
      "        to the coefficient of k-th term in polynomial expansion of the\n",
      "        expression (1 + x)**n.\n",
      "        \n",
      "        Raises TypeError if either of the arguments are not integers.\n",
      "        Raises ValueError if either of the arguments are negative.\n",
      "    \n",
      "    copysign(x, y, /)\n",
      "        Return a float with the magnitude (absolute value) of x but the sign of y.\n",
      "        \n",
      "        On platforms that support signed zeros, copysign(1.0, -0.0)\n",
      "        returns -1.0.\n",
      "    \n",
      "    cos(x, /)\n",
      "        Return the cosine of x (measured in radians).\n",
      "    \n",
      "    cosh(x, /)\n",
      "        Return the hyperbolic cosine of x.\n",
      "    \n",
      "    degrees(x, /)\n",
      "        Convert angle x from radians to degrees.\n",
      "    \n",
      "    dist(p, q, /)\n",
      "        Return the Euclidean distance between two points p and q.\n",
      "        \n",
      "        The points should be specified as sequences (or iterables) of\n",
      "        coordinates.  Both inputs must have the same dimension.\n",
      "        \n",
      "        Roughly equivalent to:\n",
      "            sqrt(sum((px - qx) ** 2.0 for px, qx in zip(p, q)))\n",
      "    \n",
      "    erf(x, /)\n",
      "        Error function at x.\n",
      "    \n",
      "    erfc(x, /)\n",
      "        Complementary error function at x.\n",
      "    \n",
      "    exp(x, /)\n",
      "        Return e raised to the power of x.\n",
      "    \n",
      "    expm1(x, /)\n",
      "        Return exp(x)-1.\n",
      "        \n",
      "        This function avoids the loss of precision involved in the direct evaluation of exp(x)-1 for small x.\n",
      "    \n",
      "    fabs(x, /)\n",
      "        Return the absolute value of the float x.\n",
      "    \n",
      "    factorial(x, /)\n",
      "        Find x!.\n",
      "        \n",
      "        Raise a ValueError if x is negative or non-integral.\n",
      "    \n",
      "    floor(x, /)\n",
      "        Return the floor of x as an Integral.\n",
      "        \n",
      "        This is the largest integer <= x.\n",
      "    \n",
      "    fmod(x, y, /)\n",
      "        Return fmod(x, y), according to platform C.\n",
      "        \n",
      "        x % y may differ.\n",
      "    \n",
      "    frexp(x, /)\n",
      "        Return the mantissa and exponent of x, as pair (m, e).\n",
      "        \n",
      "        m is a float and e is an int, such that x = m * 2.**e.\n",
      "        If x is 0, m and e are both 0.  Else 0.5 <= abs(m) < 1.0.\n",
      "    \n",
      "    fsum(seq, /)\n",
      "        Return an accurate floating point sum of values in the iterable seq.\n",
      "        \n",
      "        Assumes IEEE-754 floating point arithmetic.\n",
      "    \n",
      "    gamma(x, /)\n",
      "        Gamma function at x.\n",
      "    \n",
      "    gcd(*integers)\n",
      "        Greatest Common Divisor.\n",
      "    \n",
      "    hypot(...)\n",
      "        hypot(*coordinates) -> value\n",
      "        \n",
      "        Multidimensional Euclidean distance from the origin to a point.\n",
      "        \n",
      "        Roughly equivalent to:\n",
      "            sqrt(sum(x**2 for x in coordinates))\n",
      "        \n",
      "        For a two dimensional point (x, y), gives the hypotenuse\n",
      "        using the Pythagorean theorem:  sqrt(x*x + y*y).\n",
      "        \n",
      "        For example, the hypotenuse of a 3/4/5 right triangle is:\n",
      "        \n",
      "            >>> hypot(3.0, 4.0)\n",
      "            5.0\n",
      "    \n",
      "    isclose(a, b, *, rel_tol=1e-09, abs_tol=0.0)\n",
      "        Determine whether two floating point numbers are close in value.\n",
      "        \n",
      "          rel_tol\n",
      "            maximum difference for being considered \"close\", relative to the\n",
      "            magnitude of the input values\n",
      "          abs_tol\n",
      "            maximum difference for being considered \"close\", regardless of the\n",
      "            magnitude of the input values\n",
      "        \n",
      "        Return True if a is close in value to b, and False otherwise.\n",
      "        \n",
      "        For the values to be considered close, the difference between them\n",
      "        must be smaller than at least one of the tolerances.\n",
      "        \n",
      "        -inf, inf and NaN behave similarly to the IEEE 754 Standard.  That\n",
      "        is, NaN is not close to anything, even itself.  inf and -inf are\n",
      "        only close to themselves.\n",
      "    \n",
      "    isfinite(x, /)\n",
      "        Return True if x is neither an infinity nor a NaN, and False otherwise.\n",
      "    \n",
      "    isinf(x, /)\n",
      "        Return True if x is a positive or negative infinity, and False otherwise.\n",
      "    \n",
      "    isnan(x, /)\n",
      "        Return True if x is a NaN (not a number), and False otherwise.\n",
      "    \n",
      "    isqrt(n, /)\n",
      "        Return the integer part of the square root of the input.\n",
      "    \n",
      "    lcm(*integers)\n",
      "        Least Common Multiple.\n",
      "    \n",
      "    ldexp(x, i, /)\n",
      "        Return x * (2**i).\n",
      "        \n",
      "        This is essentially the inverse of frexp().\n",
      "    \n",
      "    lgamma(x, /)\n",
      "        Natural logarithm of absolute value of Gamma function at x.\n",
      "    \n",
      "    log(...)\n",
      "        log(x, [base=math.e])\n",
      "        Return the logarithm of x to the given base.\n",
      "        \n",
      "        If the base not specified, returns the natural logarithm (base e) of x.\n",
      "    \n",
      "    log10(x, /)\n",
      "        Return the base 10 logarithm of x.\n",
      "    \n",
      "    log1p(x, /)\n",
      "        Return the natural logarithm of 1+x (base e).\n",
      "        \n",
      "        The result is computed in a way which is accurate for x near zero.\n",
      "    \n",
      "    log2(x, /)\n",
      "        Return the base 2 logarithm of x.\n",
      "    \n",
      "    modf(x, /)\n",
      "        Return the fractional and integer parts of x.\n",
      "        \n",
      "        Both results carry the sign of x and are floats.\n",
      "    \n",
      "    nextafter(x, y, /)\n",
      "        Return the next floating-point value after x towards y.\n",
      "    \n",
      "    perm(n, k=None, /)\n",
      "        Number of ways to choose k items from n items without repetition and with order.\n",
      "        \n",
      "        Evaluates to n! / (n - k)! when k <= n and evaluates\n",
      "        to zero when k > n.\n",
      "        \n",
      "        If k is not specified or is None, then k defaults to n\n",
      "        and the function returns n!.\n",
      "        \n",
      "        Raises TypeError if either of the arguments are not integers.\n",
      "        Raises ValueError if either of the arguments are negative.\n",
      "    \n",
      "    pow(x, y, /)\n",
      "        Return x**y (x to the power of y).\n",
      "    \n",
      "    prod(iterable, /, *, start=1)\n",
      "        Calculate the product of all the elements in the input iterable.\n",
      "        \n",
      "        The default start value for the product is 1.\n",
      "        \n",
      "        When the iterable is empty, return the start value.  This function is\n",
      "        intended specifically for use with numeric values and may reject\n",
      "        non-numeric types.\n",
      "    \n",
      "    radians(x, /)\n",
      "        Convert angle x from degrees to radians.\n",
      "    \n",
      "    remainder(x, y, /)\n",
      "        Difference between x and the closest integer multiple of y.\n",
      "        \n",
      "        Return x - n*y where n*y is the closest integer multiple of y.\n",
      "        In the case where x is exactly halfway between two multiples of\n",
      "        y, the nearest even value of n is used. The result is always exact.\n",
      "    \n",
      "    sin(x, /)\n",
      "        Return the sine of x (measured in radians).\n",
      "    \n",
      "    sinh(x, /)\n",
      "        Return the hyperbolic sine of x.\n",
      "    \n",
      "    sqrt(x, /)\n",
      "        Return the square root of x.\n",
      "    \n",
      "    tan(x, /)\n",
      "        Return the tangent of x (measured in radians).\n",
      "    \n",
      "    tanh(x, /)\n",
      "        Return the hyperbolic tangent of x.\n",
      "    \n",
      "    trunc(x, /)\n",
      "        Truncates the Real x to the nearest Integral toward 0.\n",
      "        \n",
      "        Uses the __trunc__ magic method.\n",
      "    \n",
      "    ulp(x, /)\n",
      "        Return the value of the least significant bit of the float x.\n",
      "\n",
      "DATA\n",
      "    e = 2.718281828459045\n",
      "    inf = inf\n",
      "    nan = nan\n",
      "    pi = 3.141592653589793\n",
      "    tau = 6.283185307179586\n",
      "\n",
      "FILE\n",
      "    /Users/dave-wadestein/opt/anaconda3/lib/python3.9/lib-dynload/math.cpython-39-darwin.so\n",
      "\n",
      "\n"
     ]
    }
   ],
   "source": [
    "help(math)"
   ]
  },
  {
   "cell_type": "code",
   "execution_count": 19,
   "id": "baba17db-639e-4a0a-95f5-0e94304b2d4f",
   "metadata": {},
   "outputs": [
    {
     "data": {
      "text/plain": [
       "['False',\n",
       " 'None',\n",
       " 'True',\n",
       " '__peg_parser__',\n",
       " 'and',\n",
       " 'as',\n",
       " 'assert',\n",
       " 'async',\n",
       " 'await',\n",
       " 'break',\n",
       " 'class',\n",
       " 'continue',\n",
       " 'def',\n",
       " 'del',\n",
       " 'elif',\n",
       " 'else',\n",
       " 'except',\n",
       " 'finally',\n",
       " 'for',\n",
       " 'from',\n",
       " 'global',\n",
       " 'if',\n",
       " 'import',\n",
       " 'in',\n",
       " 'is',\n",
       " 'lambda',\n",
       " 'nonlocal',\n",
       " 'not',\n",
       " 'or',\n",
       " 'pass',\n",
       " 'raise',\n",
       " 'return',\n",
       " 'try',\n",
       " 'while',\n",
       " 'with',\n",
       " 'yield']"
      ]
     },
     "execution_count": 19,
     "metadata": {},
     "output_type": "execute_result"
    }
   ],
   "source": [
    "import keyword\n",
    "keyword.kwlist"
   ]
  },
  {
   "cell_type": "code",
   "execution_count": 20,
   "id": "38668de2-b3ca-4ca4-b0cc-327bf3ef71f8",
   "metadata": {},
   "outputs": [],
   "source": [
    "# assignment statement: make variable (on the left) equal to the value (on the right)\n",
    "variable = 'value'"
   ]
  },
  {
   "cell_type": "code",
   "execution_count": 21,
   "id": "2fcf62e7-aecd-4f6a-abe3-d0f50022c4aa",
   "metadata": {},
   "outputs": [
    {
     "data": {
      "text/plain": [
       "'value'"
      ]
     },
     "execution_count": 21,
     "metadata": {},
     "output_type": "execute_result"
    }
   ],
   "source": [
    "variable"
   ]
  },
  {
   "cell_type": "code",
   "execution_count": 23,
   "id": "b20fb6e4-475d-4dd0-b2d3-3284112fdeae",
   "metadata": {},
   "outputs": [],
   "source": [
    "something = 'nothing'\n",
    "other_variable = something # create other_variable and put the contents of the something variable into it"
   ]
  },
  {
   "cell_type": "code",
   "execution_count": 24,
   "id": "f1f0f533-0cdf-4ef6-9647-e1e7e84c847c",
   "metadata": {},
   "outputs": [
    {
     "data": {
      "text/plain": [
       "'nothing'"
      ]
     },
     "execution_count": 24,
     "metadata": {},
     "output_type": "execute_result"
    }
   ],
   "source": [
    "other_variable"
   ]
  },
  {
   "cell_type": "code",
   "execution_count": 25,
   "id": "558617ad-8a77-45be-8c0d-b366a5af0259",
   "metadata": {},
   "outputs": [
    {
     "data": {
      "text/plain": [
       "'nothing'"
      ]
     },
     "execution_count": 25,
     "metadata": {},
     "output_type": "execute_result"
    }
   ],
   "source": [
    "other_variable"
   ]
  },
  {
   "cell_type": "code",
   "execution_count": 26,
   "id": "91aa9d35-b4c7-4683-904e-82af3ec46e02",
   "metadata": {},
   "outputs": [],
   "source": [
    "import math"
   ]
  },
  {
   "cell_type": "code",
   "execution_count": 28,
   "id": "28ef9fcc-5e2b-415d-a813-72bc2e752573",
   "metadata": {},
   "outputs": [
    {
     "data": {
      "text/plain": [
       "140229073616304"
      ]
     },
     "execution_count": 28,
     "metadata": {},
     "output_type": "execute_result"
    }
   ],
   "source": [
    "id(math)"
   ]
  },
  {
   "cell_type": "code",
   "execution_count": 29,
   "id": "cf892d38-5af3-4848-9d59-7e7b525b21c6",
   "metadata": {},
   "outputs": [
    {
     "data": {
      "text/plain": [
       "\"<module 'math' from '/Users/dave-wadestein/opt/anaconda3/lib/python3.9/lib-dynload/math.cpython-39-darwin.so'>\""
      ]
     },
     "execution_count": 29,
     "metadata": {},
     "output_type": "execute_result"
    }
   ],
   "source": [
    "str(math)"
   ]
  },
  {
   "cell_type": "code",
   "execution_count": 30,
   "id": "209351bd-e060-4fa0-9acf-1cf04a618aa6",
   "metadata": {},
   "outputs": [
    {
     "data": {
      "text/plain": [
       "'<built-in function print>'"
      ]
     },
     "execution_count": 30,
     "metadata": {},
     "output_type": "execute_result"
    }
   ],
   "source": [
    "str(print)"
   ]
  },
  {
   "cell_type": "code",
   "execution_count": 31,
   "id": "c0723d2e-0dbb-4644-9d4a-b45558eb8c81",
   "metadata": {},
   "outputs": [
    {
     "data": {
      "text/plain": [
       "\"<class 'str'>\""
      ]
     },
     "execution_count": 31,
     "metadata": {},
     "output_type": "execute_result"
    }
   ],
   "source": [
    "str(str)"
   ]
  },
  {
   "cell_type": "code",
   "execution_count": 32,
   "id": "a27b1ed9-4e61-493e-8108-05ea890d9e93",
   "metadata": {},
   "outputs": [
    {
     "data": {
      "text/plain": [
       "'1'"
      ]
     },
     "execution_count": 32,
     "metadata": {},
     "output_type": "execute_result"
    }
   ],
   "source": [
    "str(1)"
   ]
  },
  {
   "cell_type": "code",
   "execution_count": 33,
   "id": "6e7b56d1-71a2-489b-b42d-ea95d3cc970a",
   "metadata": {},
   "outputs": [
    {
     "data": {
      "text/plain": [
       "'1.1'"
      ]
     },
     "execution_count": 33,
     "metadata": {},
     "output_type": "execute_result"
    }
   ],
   "source": [
    "str(1.1)"
   ]
  },
  {
   "cell_type": "code",
   "execution_count": 34,
   "id": "6f79903d-7900-4c57-8dee-81add675f6db",
   "metadata": {},
   "outputs": [
    {
     "data": {
      "text/plain": [
       "'string'"
      ]
     },
     "execution_count": 34,
     "metadata": {},
     "output_type": "execute_result"
    }
   ],
   "source": [
    "str('string')"
   ]
  },
  {
   "cell_type": "code",
   "execution_count": 35,
   "id": "5ee92961-ef1d-41cb-95d5-246dd2e29725",
   "metadata": {},
   "outputs": [],
   "source": [
    "name = 'Bruce Lee'"
   ]
  },
  {
   "cell_type": "code",
   "execution_count": 37,
   "id": "de8222f2-0dc7-4862-9ed3-a14028c592d5",
   "metadata": {},
   "outputs": [
    {
     "name": "stdout",
     "output_type": "stream",
     "text": [
      "Bruce Lee\n"
     ]
    }
   ],
   "source": [
    "print(name) # use the built-in print() function to display the contents of the name variable"
   ]
  },
  {
   "cell_type": "code",
   "execution_count": 38,
   "id": "e4cdeebf-e21d-414d-a599-9cc3f4c6f753",
   "metadata": {},
   "outputs": [
    {
     "data": {
      "text/plain": [
       "'Bruce Lee'"
      ]
     },
     "execution_count": 38,
     "metadata": {},
     "output_type": "execute_result"
    }
   ],
   "source": [
    "name # tell me the value of name"
   ]
  },
  {
   "cell_type": "code",
   "execution_count": 39,
   "id": "c1a0a87e-7631-4021-9cc1-06c5599298f3",
   "metadata": {},
   "outputs": [
    {
     "name": "stdout",
     "output_type": "stream",
     "text": [
      "Hello, my name is Bruce Lee\n"
     ]
    }
   ],
   "source": [
    "print('Hello, my name is', name)"
   ]
  },
  {
   "cell_type": "code",
   "execution_count": 40,
   "id": "707d512d-9719-413d-a1fc-20e844f30a70",
   "metadata": {},
   "outputs": [],
   "source": [
    "number = 4"
   ]
  },
  {
   "cell_type": "code",
   "execution_count": 41,
   "id": "fc06f3d3-c9ac-42f1-b4eb-60c72f1fa703",
   "metadata": {},
   "outputs": [
    {
     "name": "stdout",
     "output_type": "stream",
     "text": [
      "4\n"
     ]
    }
   ],
   "source": [
    "print(number)"
   ]
  },
  {
   "cell_type": "code",
   "execution_count": 42,
   "id": "f4fd8f10-b916-4bb1-967f-a1d83ef0558a",
   "metadata": {},
   "outputs": [
    {
     "data": {
      "text/plain": [
       "4"
      ]
     },
     "execution_count": 42,
     "metadata": {},
     "output_type": "execute_result"
    }
   ],
   "source": [
    "number"
   ]
  },
  {
   "cell_type": "code",
   "execution_count": 43,
   "id": "fa3b788d-689c-4201-930e-ee2c1bbd73ce",
   "metadata": {},
   "outputs": [],
   "source": [
    "first, last = 'Margaret', 'Hamilton'"
   ]
  },
  {
   "cell_type": "code",
   "execution_count": 44,
   "id": "8fd8aa36-207d-438d-9347-a5462d2d35f2",
   "metadata": {},
   "outputs": [
    {
     "data": {
      "text/plain": [
       "'Margaret'"
      ]
     },
     "execution_count": 44,
     "metadata": {},
     "output_type": "execute_result"
    }
   ],
   "source": [
    "first"
   ]
  },
  {
   "cell_type": "code",
   "execution_count": 45,
   "id": "b64b8413-3435-40d4-be04-0a347b1e2251",
   "metadata": {},
   "outputs": [
    {
     "data": {
      "text/plain": [
       "'53.3'"
      ]
     },
     "execution_count": 45,
     "metadata": {},
     "output_type": "execute_result"
    }
   ],
   "source": [
    "str(53.3)"
   ]
  },
  {
   "cell_type": "code",
   "execution_count": 46,
   "id": "b806b0e1-5b26-485d-9e16-81e59f23ecbe",
   "metadata": {},
   "outputs": [
    {
     "data": {
      "text/plain": [
       "'False'"
      ]
     },
     "execution_count": 46,
     "metadata": {},
     "output_type": "execute_result"
    }
   ],
   "source": [
    "str(False)"
   ]
  },
  {
   "cell_type": "code",
   "execution_count": 2,
   "id": "3587d49c-612b-4084-90f0-90832cd1da8c",
   "metadata": {},
   "outputs": [
    {
     "ename": "NameError",
     "evalue": "name 'thing' is not defined",
     "output_type": "error",
     "traceback": [
      "\u001b[0;31m---------------------------------------------------------------------------\u001b[0m",
      "\u001b[0;31mNameError\u001b[0m                                 Traceback (most recent call last)",
      "Input \u001b[0;32mIn [2]\u001b[0m, in \u001b[0;36m<cell line: 1>\u001b[0;34m()\u001b[0m\n\u001b[0;32m----> 1\u001b[0m \u001b[38;5;28mstr\u001b[39m(\u001b[43mthing\u001b[49m)\n",
      "\u001b[0;31mNameError\u001b[0m: name 'thing' is not defined"
     ]
    }
   ],
   "source": [
    "str(thing)"
   ]
  },
  {
   "cell_type": "code",
   "execution_count": 3,
   "id": "6e3dce03-9e54-4f9f-814e-c2b4b9fd248c",
   "metadata": {},
   "outputs": [
    {
     "data": {
      "text/plain": [
       "300"
      ]
     },
     "execution_count": 3,
     "metadata": {},
     "output_type": "execute_result"
    }
   ],
   "source": [
    "int('300')"
   ]
  },
  {
   "cell_type": "code",
   "execution_count": 4,
   "id": "7a09a560-a6f9-4f1e-a357-7ec57e52ca01",
   "metadata": {},
   "outputs": [
    {
     "ename": "ValueError",
     "evalue": "invalid literal for int() with base 10: '30x'",
     "output_type": "error",
     "traceback": [
      "\u001b[0;31m---------------------------------------------------------------------------\u001b[0m",
      "\u001b[0;31mValueError\u001b[0m                                Traceback (most recent call last)",
      "Input \u001b[0;32mIn [4]\u001b[0m, in \u001b[0;36m<cell line: 1>\u001b[0;34m()\u001b[0m\n\u001b[0;32m----> 1\u001b[0m \u001b[38;5;28;43mint\u001b[39;49m\u001b[43m(\u001b[49m\u001b[38;5;124;43m'\u001b[39;49m\u001b[38;5;124;43m30x\u001b[39;49m\u001b[38;5;124;43m'\u001b[39;49m\u001b[43m)\u001b[49m\n",
      "\u001b[0;31mValueError\u001b[0m: invalid literal for int() with base 10: '30x'"
     ]
    }
   ],
   "source": [
    "int('30x')"
   ]
  },
  {
   "cell_type": "code",
   "execution_count": 47,
   "id": "4d6075d5-997d-4465-9dd8-27130f83c172",
   "metadata": {},
   "outputs": [
    {
     "data": {
      "text/plain": [
       "bool"
      ]
     },
     "execution_count": 47,
     "metadata": {},
     "output_type": "execute_result"
    }
   ],
   "source": [
    "type(False)"
   ]
  },
  {
   "cell_type": "code",
   "execution_count": 5,
   "id": "effbb6f1-fd13-402c-b7ae-6b683a58bee0",
   "metadata": {},
   "outputs": [
    {
     "data": {
      "text/plain": [
       "str"
      ]
     },
     "execution_count": 5,
     "metadata": {},
     "output_type": "execute_result"
    }
   ],
   "source": [
    "type('...')"
   ]
  },
  {
   "cell_type": "code",
   "execution_count": 49,
   "id": "94411134-7064-45c3-98bb-6e4e5fa16be0",
   "metadata": {},
   "outputs": [
    {
     "data": {
      "text/plain": [
       "float"
      ]
     },
     "execution_count": 49,
     "metadata": {},
     "output_type": "execute_result"
    }
   ],
   "source": [
    "type(3.5)"
   ]
  },
  {
   "cell_type": "code",
   "execution_count": 9,
   "id": "baabfdba-61a7-4315-bd22-df3829cc7d13",
   "metadata": {},
   "outputs": [
    {
     "ename": "ValueError",
     "evalue": "invalid literal for int() with base 10: '503a'",
     "output_type": "error",
     "traceback": [
      "\u001b[0;31m---------------------------------------------------------------------------\u001b[0m",
      "\u001b[0;31mValueError\u001b[0m                                Traceback (most recent call last)",
      "Input \u001b[0;32mIn [9]\u001b[0m, in \u001b[0;36m<cell line: 1>\u001b[0;34m()\u001b[0m\n\u001b[0;32m----> 1\u001b[0m \u001b[38;5;28;43mint\u001b[39;49m\u001b[43m(\u001b[49m\u001b[38;5;124;43m'\u001b[39;49m\u001b[38;5;124;43m503a\u001b[39;49m\u001b[38;5;124;43m'\u001b[39;49m\u001b[43m)\u001b[49m\n",
      "\u001b[0;31mValueError\u001b[0m: invalid literal for int() with base 10: '503a'"
     ]
    }
   ],
   "source": [
    "int('503a')"
   ]
  },
  {
   "cell_type": "code",
   "execution_count": 10,
   "id": "29513d40-430f-4c23-bdce-374ad8f6b192",
   "metadata": {},
   "outputs": [],
   "source": [
    "number = 3."
   ]
  },
  {
   "cell_type": "code",
   "execution_count": 11,
   "id": "a2755df3-58ad-4b90-88af-2fb083fddedd",
   "metadata": {},
   "outputs": [
    {
     "data": {
      "text/plain": [
       "float"
      ]
     },
     "execution_count": 11,
     "metadata": {},
     "output_type": "execute_result"
    }
   ],
   "source": [
    "type(number)"
   ]
  },
  {
   "cell_type": "code",
   "execution_count": 12,
   "id": "72025b62-3b8f-4fee-bd5f-1946d0a006a2",
   "metadata": {},
   "outputs": [
    {
     "data": {
      "text/plain": [
       "3.0"
      ]
     },
     "execution_count": 12,
     "metadata": {},
     "output_type": "execute_result"
    }
   ],
   "source": [
    "number"
   ]
  },
  {
   "cell_type": "code",
   "execution_count": 14,
   "id": "9b2ed7de-db1a-4b43-8cb9-7c468229b272",
   "metadata": {},
   "outputs": [
    {
     "name": "stdout",
     "output_type": "stream",
     "text": [
      "0123456789012345678901234567890123456789012345678901234567890123456789\n",
      "----------------------------------------------------------------------\n"
     ]
    }
   ],
   "source": [
    "print('0123456789' * 7)\n",
    "print('-' * 70)"
   ]
  },
  {
   "cell_type": "code",
   "execution_count": 15,
   "id": "79f5257d-eef9-4b39-bbfd-f756c9eff534",
   "metadata": {},
   "outputs": [],
   "source": [
    "a, b, o, p = 'b', 'a', 'p', 'o'"
   ]
  },
  {
   "cell_type": "code",
   "execution_count": 16,
   "id": "7801d9bd-7a1a-4621-88df-c355fb45b31a",
   "metadata": {},
   "outputs": [
    {
     "data": {
      "text/plain": [
       "'pop'"
      ]
     },
     "execution_count": 16,
     "metadata": {},
     "output_type": "execute_result"
    }
   ],
   "source": [
    "o + p + o"
   ]
  },
  {
   "cell_type": "code",
   "execution_count": 17,
   "id": "77929262-9454-475b-b595-d399ee29e38e",
   "metadata": {},
   "outputs": [
    {
     "data": {
      "text/plain": [
       "'bbba'"
      ]
     },
     "execution_count": 17,
     "metadata": {},
     "output_type": "execute_result"
    }
   ],
   "source": [
    "a * 3 + b"
   ]
  },
  {
   "cell_type": "code",
   "execution_count": 18,
   "id": "9559f286-db77-4ff1-bdd9-fa8825135a92",
   "metadata": {},
   "outputs": [
    {
     "data": {
      "text/plain": [
       "'bookkeeper'"
      ]
     },
     "execution_count": 18,
     "metadata": {},
     "output_type": "execute_result"
    }
   ],
   "source": [
    "a + p * 2 + 'k' * 2 + 'e' * 2 + o + 'er'"
   ]
  },
  {
   "cell_type": "code",
   "execution_count": 19,
   "id": "bf7171f8-83ff-4a2f-a444-9fd8509514f6",
   "metadata": {},
   "outputs": [],
   "source": [
    "big_string = 'a' * 400"
   ]
  },
  {
   "cell_type": "code",
   "execution_count": 20,
   "id": "ac4c432f-daaa-4da6-aa6a-365b8e2a8b45",
   "metadata": {},
   "outputs": [
    {
     "data": {
      "text/plain": [
       "'aaaaaaaaaaaaaaaaaaaaaaaaaaaaaaaaaaaaaaaaaaaaaaaaaaaaaaaaaaaaaaaaaaaaaaaaaaaaaaaaaaaaaaaaaaaaaaaaaaaaaaaaaaaaaaaaaaaaaaaaaaaaaaaaaaaaaaaaaaaaaaaaaaaaaaaaaaaaaaaaaaaaaaaaaaaaaaaaaaaaaaaaaaaaaaaaaaaaaaaaaaaaaaaaaaaaaaaaaaaaaaaaaaaaaaaaaaaaaaaaaaaaaaaaaaaaaaaaaaaaaaaaaaaaaaaaaaaaaaaaaaaaaaaaaaaaaaaaaaaaaaaaaaaaaaaaaaaaaaaaaaaaaaaaaaaaaaaaaaaaaaaaaaaaaaaaaaaaaaaaaaaaaaaaaaaaaaaaaaaaaaaaaaaaaaaaaaaaaaaa'"
      ]
     },
     "execution_count": 20,
     "metadata": {},
     "output_type": "execute_result"
    }
   ],
   "source": [
    "big_string"
   ]
  },
  {
   "cell_type": "code",
   "execution_count": 21,
   "id": "7624fbb5-a13e-43a9-8eab-82af814f0357",
   "metadata": {},
   "outputs": [],
   "source": [
    "empty_string = ''"
   ]
  },
  {
   "cell_type": "code",
   "execution_count": 22,
   "id": "95b072c6-520f-4b3e-9aab-84d86478e9e8",
   "metadata": {},
   "outputs": [
    {
     "data": {
      "text/plain": [
       "400"
      ]
     },
     "execution_count": 22,
     "metadata": {},
     "output_type": "execute_result"
    }
   ],
   "source": [
    "len(big_string)"
   ]
  },
  {
   "cell_type": "code",
   "execution_count": 23,
   "id": "00370003-f89c-44f7-99d1-1f40c1e6dd47",
   "metadata": {},
   "outputs": [
    {
     "data": {
      "text/plain": [
       "0"
      ]
     },
     "execution_count": 23,
     "metadata": {},
     "output_type": "execute_result"
    }
   ],
   "source": [
    "len(empty_string)"
   ]
  },
  {
   "cell_type": "code",
   "execution_count": 24,
   "id": "e272e87d-6d87-449d-8875-b997504fc35d",
   "metadata": {},
   "outputs": [],
   "source": [
    "name = 'Grace Hopper'"
   ]
  },
  {
   "cell_type": "code",
   "execution_count": 25,
   "id": "3c628975-0a9b-4d30-98d2-3e21a7c5982d",
   "metadata": {},
   "outputs": [
    {
     "data": {
      "text/plain": [
       "'Grace Hopper'"
      ]
     },
     "execution_count": 25,
     "metadata": {},
     "output_type": "execute_result"
    }
   ],
   "source": [
    "name"
   ]
  },
  {
   "cell_type": "code",
   "execution_count": 26,
   "id": "5d41dd70-d186-4521-8004-079a17803a30",
   "metadata": {},
   "outputs": [
    {
     "ename": "TypeError",
     "evalue": "object of type 'int' has no len()",
     "output_type": "error",
     "traceback": [
      "\u001b[0;31m---------------------------------------------------------------------------\u001b[0m",
      "\u001b[0;31mTypeError\u001b[0m                                 Traceback (most recent call last)",
      "Input \u001b[0;32mIn [26]\u001b[0m, in \u001b[0;36m<cell line: 1>\u001b[0;34m()\u001b[0m\n\u001b[0;32m----> 1\u001b[0m \u001b[38;5;28;43mlen\u001b[39;49m\u001b[43m(\u001b[49m\u001b[38;5;241;43m4\u001b[39;49m\u001b[43m)\u001b[49m\n",
      "\u001b[0;31mTypeError\u001b[0m: object of type 'int' has no len()"
     ]
    }
   ],
   "source": [
    "len(4)"
   ]
  },
  {
   "cell_type": "code",
   "execution_count": 27,
   "id": "f0829616-f6e6-4180-a6ff-57bb14b7096c",
   "metadata": {},
   "outputs": [],
   "source": [
    "number = 1234"
   ]
  },
  {
   "cell_type": "code",
   "execution_count": 28,
   "id": "275f005f-0155-4798-a794-97079b5eb62e",
   "metadata": {},
   "outputs": [
    {
     "ename": "TypeError",
     "evalue": "object of type 'int' has no len()",
     "output_type": "error",
     "traceback": [
      "\u001b[0;31m---------------------------------------------------------------------------\u001b[0m",
      "\u001b[0;31mTypeError\u001b[0m                                 Traceback (most recent call last)",
      "Input \u001b[0;32mIn [28]\u001b[0m, in \u001b[0;36m<cell line: 1>\u001b[0;34m()\u001b[0m\n\u001b[0;32m----> 1\u001b[0m \u001b[38;5;28;43mlen\u001b[39;49m\u001b[43m(\u001b[49m\u001b[43mnumber\u001b[49m\u001b[43m)\u001b[49m\n",
      "\u001b[0;31mTypeError\u001b[0m: object of type 'int' has no len()"
     ]
    }
   ],
   "source": [
    "len(number)"
   ]
  },
  {
   "cell_type": "code",
   "execution_count": 29,
   "id": "5fbbe458-d185-4eeb-9c0c-4abf35df221e",
   "metadata": {},
   "outputs": [
    {
     "data": {
      "text/plain": [
       "4"
      ]
     },
     "execution_count": 29,
     "metadata": {},
     "output_type": "execute_result"
    }
   ],
   "source": [
    "len(str(number))"
   ]
  },
  {
   "cell_type": "code",
   "execution_count": 30,
   "id": "0a9162aa-431b-416d-be98-e2a3c5a0b7b3",
   "metadata": {},
   "outputs": [
    {
     "data": {
      "text/plain": [
       "4"
      ]
     },
     "execution_count": 30,
     "metadata": {},
     "output_type": "execute_result"
    }
   ],
   "source": [
    "number % 10"
   ]
  },
  {
   "cell_type": "code",
   "execution_count": 31,
   "id": "636b8eca-4623-428a-b8fa-5a1328926d64",
   "metadata": {},
   "outputs": [],
   "source": [
    "number = number // 10"
   ]
  },
  {
   "cell_type": "code",
   "execution_count": 32,
   "id": "1396f708-f4bd-4994-8dce-dca7ca08687d",
   "metadata": {},
   "outputs": [
    {
     "data": {
      "text/plain": [
       "123"
      ]
     },
     "execution_count": 32,
     "metadata": {},
     "output_type": "execute_result"
    }
   ],
   "source": [
    "number"
   ]
  },
  {
   "cell_type": "code",
   "execution_count": 33,
   "id": "8d995456-1068-4f25-b24f-2728b2010396",
   "metadata": {},
   "outputs": [
    {
     "data": {
      "text/plain": [
       "3"
      ]
     },
     "execution_count": 33,
     "metadata": {},
     "output_type": "execute_result"
    }
   ],
   "source": [
    "number % 10"
   ]
  },
  {
   "cell_type": "code",
   "execution_count": 34,
   "id": "bf97b37b-9bd5-4798-9b9f-94e7ee314e9f",
   "metadata": {},
   "outputs": [],
   "source": [
    "number = number // 10"
   ]
  },
  {
   "cell_type": "code",
   "execution_count": 35,
   "id": "f01626cb-5873-44f6-a07e-3fec6e67478b",
   "metadata": {},
   "outputs": [
    {
     "data": {
      "text/plain": [
       "12"
      ]
     },
     "execution_count": 35,
     "metadata": {},
     "output_type": "execute_result"
    }
   ],
   "source": [
    "number"
   ]
  },
  {
   "cell_type": "code",
   "execution_count": 42,
   "id": "77aac4e4-7c4e-4660-8a00-4d4cd5c1751a",
   "metadata": {},
   "outputs": [
    {
     "name": "stdout",
     "output_type": "stream",
     "text": [
      "something else\n"
     ]
    }
   ],
   "source": [
    "number = -34\n",
    "\n",
    "if number == 1:\n",
    "    print('one')\n",
    "elif number == 2:\n",
    "    print('two')\n",
    "elif number == 3:\n",
    "    print('three')\n",
    "else:\n",
    "    print('something else')  "
   ]
  },
  {
   "cell_type": "code",
   "execution_count": 43,
   "id": "59b6c14f-f446-4c02-87b6-57074485ed31",
   "metadata": {},
   "outputs": [
    {
     "data": {
      "text/plain": [
       "True"
      ]
     },
     "execution_count": 43,
     "metadata": {},
     "output_type": "execute_result"
    }
   ],
   "source": [
    "'s' in 'string'"
   ]
  },
  {
   "cell_type": "code",
   "execution_count": 45,
   "id": "2a3f6023-9571-4fdf-8ff2-0240c732df0b",
   "metadata": {},
   "outputs": [
    {
     "data": {
      "text/plain": [
       "True"
      ]
     },
     "execution_count": 45,
     "metadata": {},
     "output_type": "execute_result"
    }
   ],
   "source": [
    "'tar' in 'Starbucks'"
   ]
  },
  {
   "cell_type": "code",
   "execution_count": 46,
   "id": "59ad6fa2-54fb-4241-83c4-b1cf05db1762",
   "metadata": {},
   "outputs": [],
   "source": [
    "import random"
   ]
  },
  {
   "cell_type": "code",
   "execution_count": 47,
   "id": "562d7a7e-e454-4dc4-a668-2dc440ea6458",
   "metadata": {},
   "outputs": [
    {
     "data": {
      "text/plain": [
       "140570523357968"
      ]
     },
     "execution_count": 47,
     "metadata": {},
     "output_type": "execute_result"
    }
   ],
   "source": [
    "id(random)"
   ]
  },
  {
   "cell_type": "code",
   "execution_count": 48,
   "id": "642c0db7-2a48-49a5-a3b9-dcaa17cad458",
   "metadata": {},
   "outputs": [
    {
     "data": {
      "text/plain": [
       "module"
      ]
     },
     "execution_count": 48,
     "metadata": {},
     "output_type": "execute_result"
    }
   ],
   "source": [
    "type(random)"
   ]
  },
  {
   "cell_type": "code",
   "execution_count": 50,
   "id": "890bbc36-488d-4487-89f0-04e9eb73aa02",
   "metadata": {},
   "outputs": [
    {
     "data": {
      "text/plain": [
       "builtin_function_or_method"
      ]
     },
     "execution_count": 50,
     "metadata": {},
     "output_type": "execute_result"
    }
   ],
   "source": [
    "type(print)"
   ]
  },
  {
   "cell_type": "code",
   "execution_count": 51,
   "id": "4a185f2d-243c-4d3f-8693-d60b2b00f137",
   "metadata": {},
   "outputs": [
    {
     "data": {
      "text/plain": [
       "builtin_function_or_method"
      ]
     },
     "execution_count": 51,
     "metadata": {},
     "output_type": "execute_result"
    }
   ],
   "source": [
    "type(id)"
   ]
  },
  {
   "cell_type": "code",
   "execution_count": 52,
   "id": "8180f1fb-0e3c-44a9-a252-4a601b673a6e",
   "metadata": {},
   "outputs": [
    {
     "data": {
      "text/plain": [
       "['BPF',\n",
       " 'LOG4',\n",
       " 'NV_MAGICCONST',\n",
       " 'RECIP_BPF',\n",
       " 'Random',\n",
       " 'SG_MAGICCONST',\n",
       " 'SystemRandom',\n",
       " 'TWOPI',\n",
       " '_Sequence',\n",
       " '_Set',\n",
       " '__all__',\n",
       " '__builtins__',\n",
       " '__cached__',\n",
       " '__doc__',\n",
       " '__file__',\n",
       " '__loader__',\n",
       " '__name__',\n",
       " '__package__',\n",
       " '__spec__',\n",
       " '_accumulate',\n",
       " '_acos',\n",
       " '_bisect',\n",
       " '_ceil',\n",
       " '_cos',\n",
       " '_e',\n",
       " '_exp',\n",
       " '_floor',\n",
       " '_inst',\n",
       " '_log',\n",
       " '_os',\n",
       " '_pi',\n",
       " '_random',\n",
       " '_repeat',\n",
       " '_sha512',\n",
       " '_sin',\n",
       " '_sqrt',\n",
       " '_test',\n",
       " '_test_generator',\n",
       " '_urandom',\n",
       " '_warn',\n",
       " 'betavariate',\n",
       " 'choice',\n",
       " 'choices',\n",
       " 'expovariate',\n",
       " 'gammavariate',\n",
       " 'gauss',\n",
       " 'getrandbits',\n",
       " 'getstate',\n",
       " 'lognormvariate',\n",
       " 'normalvariate',\n",
       " 'paretovariate',\n",
       " 'randbytes',\n",
       " 'randint',\n",
       " 'random',\n",
       " 'randrange',\n",
       " 'sample',\n",
       " 'seed',\n",
       " 'setstate',\n",
       " 'shuffle',\n",
       " 'triangular',\n",
       " 'uniform',\n",
       " 'vonmisesvariate',\n",
       " 'weibullvariate']"
      ]
     },
     "execution_count": 52,
     "metadata": {},
     "output_type": "execute_result"
    }
   ],
   "source": [
    "dir(random)"
   ]
  },
  {
   "cell_type": "code",
   "execution_count": 53,
   "id": "5800610d-40da-4ada-a78d-cfcc9b9057b2",
   "metadata": {},
   "outputs": [
    {
     "name": "stdout",
     "output_type": "stream",
     "text": [
      "Help on method randint in module random:\n",
      "\n",
      "randint(a, b) method of random.Random instance\n",
      "    Return random integer in range [a, b], including both end points.\n",
      "\n"
     ]
    }
   ],
   "source": [
    "help(random.randint)"
   ]
  },
  {
   "cell_type": "markdown",
   "id": "d1aacba2-7950-400a-9360-ea454089f8ab",
   "metadata": {},
   "source": [
    "## Quick Lab: Loops/Strings\n",
    "* have the user enter a string, then loop through the string to generate (or print) a new string in which every character is duplicated, e.g., \"Python\" => \"PPyytthhoonn\""
   ]
  },
  {
   "cell_type": "code",
   "execution_count": 55,
   "id": "292561c7-ec02-40ed-89a3-a94ccdac0682",
   "metadata": {},
   "outputs": [],
   "source": [
    "# 1. write down the steps that you would use to solve the problem (English)\n",
    "# 2. convert each step into Python (or other)"
   ]
  },
  {
   "cell_type": "code",
   "execution_count": null,
   "id": "5c5b8e1d-2a52-4d3c-9c62-1198491b572f",
   "metadata": {},
   "outputs": [],
   "source": [
    "# these steps should be 'handable' to someone else who could follow them\n",
    "# 0. (create an empty string to hold the result)\n",
    "# 1. get input from the user\n",
    "# 2. for each of the letters in the user input:\n",
    "# 3.     write that letter twice\n",
    "# (3.    append that letter to an initially empty string twice)"
   ]
  },
  {
   "cell_type": "code",
   "execution_count": 57,
   "id": "ac715618-4ef5-4055-a10b-92d4c08d70cb",
   "metadata": {},
   "outputs": [
    {
     "name": "stdin",
     "output_type": "stream",
     "text": [
      "Enter some words:  supercalifragilisticexpealidocious\n"
     ]
    }
   ],
   "source": [
    "user_input = input('Enter some words: ') # 1"
   ]
  },
  {
   "cell_type": "code",
   "execution_count": 62,
   "id": "5e0ea49c-d616-4d67-8bbe-a931df36a1f1",
   "metadata": {},
   "outputs": [
    {
     "name": "stdout",
     "output_type": "stream",
     "text": [
      "sssuuupppeeerrrcccaaallliiifffrrraaagggiiillliiissstttiiiccceeexxxpppeeeaaallliiidddoooccciiiooouuusss"
     ]
    }
   ],
   "source": [
    "for letter in user_input: # 2\n",
    "    print(letter * 2, end='') # 3\n",
    "    #print(letter + letter, end='')"
   ]
  },
  {
   "cell_type": "code",
   "execution_count": 63,
   "id": "1eed1267-1bea-485a-a577-7103f6f8cc55",
   "metadata": {},
   "outputs": [
    {
     "name": "stdout",
     "output_type": "stream",
     "text": [
      "ssuuppeerrccaalliiffrraaggiilliissttiicceexxppeeaalliiddoocciioouuss\n"
     ]
    }
   ],
   "source": [
    "new_string = '' # start with an empty string\n",
    "\n",
    "for letter in user_input: # 2\n",
    "    new_string += letter * 2  # ... new_string = new_string + letter * 2\n",
    "    \n",
    "print(new_string)"
   ]
  },
  {
   "cell_type": "code",
   "execution_count": null,
   "id": "b7912efd-2577-43a6-8f8d-d78ce10a078a",
   "metadata": {},
   "outputs": [],
   "source": [
    "for letter in user_input: # 2\n",
    "    print(letter, end=letter) # 3"
   ]
  },
  {
   "cell_type": "code",
   "execution_count": 64,
   "id": "07180472-a49a-4670-b0d9-741efd6050c6",
   "metadata": {},
   "outputs": [
    {
     "name": "stdout",
     "output_type": "stream",
     "text": [
      "ssuuppeerrccaalliiffrraaggiilliissttiicceexxppeeaalliiddoocciioouuss"
     ]
    }
   ],
   "source": [
    "for letter in user_input: # 2\n",
    "    print(letter, letter, sep='', end='') # 3"
   ]
  },
  {
   "cell_type": "markdown",
   "id": "ce280d34-a61f-4a75-9825-761da5636b15",
   "metadata": {},
   "source": [
    "## (Group) Lab: Loops\n",
    "* Loop through the numbers from 2 to 25 and print out which numbers are prime, and for those numbers which are not prime numbers, you should print the first divisor you found\n",
    "* prime = no divisors other than 1 and itself\n",
    "* example output:\n",
    "<pre>\n",
    "2 is PRIME\n",
    "3 is PRIME\n",
    "4 is divisible by 2\n",
    "5 is PRIME\n",
    "6 is divisible by 2\n",
    "7 is PRIME\n",
    "8 is divisible by 2\n",
    "9 is divisible by 3\n",
    "10 is divisible by 2\n",
    "11 is PRIME\n",
    "12 is divisible by 2\n",
    "13 is PRIME\n",
    "14 is divisible by 2\n",
    "15 is divisible by 3\n",
    "16 is divisible by 2\n",
    "17 is PRIME\n",
    "18 is divisible by 2\n",
    "19 is PRIME\n",
    "20 is divisible by 2\n",
    "21 is divisible by 3\n",
    "22 is divisible by 2\n",
    "23 is PRIME\n",
    "24 is divisible by 2\n",
    "25 is divisible by 5\n",
    "</pre>"
   ]
  },
  {
   "cell_type": "code",
   "execution_count": 65,
   "id": "5fc000c2-6788-4e38-8852-e268db51e43a",
   "metadata": {},
   "outputs": [],
   "source": [
    "# 1. consider each number in order from 2 to 25\n",
    "# 2.   try to divide in each possible divisor from 2 up to the number-1\n",
    "# 3.      if remainder is 0, then the possible divisor actually divides in\n",
    "# 4.         write \"divisible by <possible divisor>\"\n",
    "# 5.         stop checking for this number\n",
    "# 6.   if no divisors found, write \"PRIME\""
   ]
  },
  {
   "cell_type": "code",
   "execution_count": null,
   "id": "4220d919-b8c3-45b8-a2e6-b34b2df2300f",
   "metadata": {},
   "outputs": [],
   "source": [
    "# 1. for each number from 2 to 25:\n",
    "# 2.   for each integer from 2 up to the number-1:\n",
    "# 3.      if number divided by integer has a remainder of 0:\n",
    "# 4.         write \"divisible by\" + integer\n",
    "# 5.         stop checking\n",
    "# 6.   if no divisors (after having checked them all):\n",
    "# 7.      write \"PRIME\""
   ]
  },
  {
   "cell_type": "code",
   "execution_count": 83,
   "id": "abfdf568-67cd-41a0-8279-c4a7a7112f38",
   "metadata": {},
   "outputs": [
    {
     "name": "stdout",
     "output_type": "stream",
     "text": [
      "4 is divisible by 2\n",
      "6 is divisible by 2\n",
      "8 is divisible by 2\n",
      "9 is divisible by 3\n",
      "10 is divisible by 2\n",
      "12 is divisible by 2\n",
      "14 is divisible by 2\n",
      "15 is divisible by 3\n",
      "16 is divisible by 2\n",
      "18 is divisible by 2\n",
      "20 is divisible by 2\n",
      "21 is divisible by 3\n",
      "22 is divisible by 2\n",
      "24 is divisible by 2\n",
      "25 is divisible by 5\n"
     ]
    }
   ],
   "source": [
    "for number in range(2, 26): # 1\n",
    "    for integer in range(2, number): # 2\n",
    "        if number % integer == 0: # 3\n",
    "            print(number, 'is divisible by', integer) # 4\n",
    "            break # 5\n",
    "    else: # we get here if NO BREAK\n",
    "        print(number, 'is PRIME!')\n",
    "    # there are two ways to get here:\n",
    "    # 1. break, meaning we found a divisor\n",
    "    # 2. normal termination of the for loop, i.e., NO DIVISORS"
   ]
  },
  {
   "cell_type": "code",
   "execution_count": 71,
   "id": "767f0ba3-92f4-4a6f-952d-67885d661cd9",
   "metadata": {},
   "outputs": [
    {
     "data": {
      "text/plain": [
       "50.92150822589606"
      ]
     },
     "execution_count": 71,
     "metadata": {},
     "output_type": "execute_result"
    }
   ],
   "source": [
    "import math\n",
    "math.sqrt(2593)"
   ]
  },
  {
   "cell_type": "code",
   "execution_count": 72,
   "id": "0ee5f7ef-272d-4454-8e28-e2e7bea1dc43",
   "metadata": {},
   "outputs": [
    {
     "data": {
      "text/plain": [
       "2601"
      ]
     },
     "execution_count": 72,
     "metadata": {},
     "output_type": "execute_result"
    }
   ],
   "source": [
    "51 * 51"
   ]
  },
  {
   "cell_type": "code",
   "execution_count": 70,
   "id": "177a0636-c643-466a-9f0d-862bb8002ca2",
   "metadata": {},
   "outputs": [
    {
     "data": {
      "text/plain": [
       "529"
      ]
     },
     "execution_count": 70,
     "metadata": {},
     "output_type": "execute_result"
    }
   ],
   "source": [
    "23 * 23"
   ]
  },
  {
   "cell_type": "code",
   "execution_count": 73,
   "id": "35ec0815-8094-4300-b67c-6251e3b12bc9",
   "metadata": {},
   "outputs": [
    {
     "data": {
      "text/plain": [
       "1296.0"
      ]
     },
     "execution_count": 73,
     "metadata": {},
     "output_type": "execute_result"
    }
   ],
   "source": [
    "2592 / 2"
   ]
  },
  {
   "cell_type": "code",
   "execution_count": 74,
   "id": "31f284dc-3f50-4eb4-a934-3f79bfa8ddc8",
   "metadata": {},
   "outputs": [
    {
     "data": {
      "text/plain": [
       "1679616"
      ]
     },
     "execution_count": 74,
     "metadata": {},
     "output_type": "execute_result"
    }
   ],
   "source": [
    "1296 * 2"
   ]
  },
  {
   "cell_type": "code",
   "execution_count": 85,
   "id": "11ab1161-2c85-47ce-94da-3437041e343f",
   "metadata": {},
   "outputs": [
    {
     "name": "stdout",
     "output_type": "stream",
     "text": [
      "2 is divisible by 2\n",
      "3 is PRIME!\n",
      "4 is divisible by 2\n",
      "5 is PRIME!\n",
      "6 is divisible by 2\n",
      "7 is PRIME!\n",
      "8 is divisible by 2\n",
      "9 is divisible by 3\n",
      "10 is divisible by 2\n",
      "11 is PRIME!\n",
      "12 is divisible by 2\n",
      "13 is PRIME!\n",
      "14 is divisible by 2\n",
      "15 is divisible by 3\n",
      "16 is divisible by 2\n",
      "17 is PRIME!\n",
      "18 is divisible by 2\n",
      "19 is PRIME!\n",
      "20 is divisible by 2\n",
      "21 is divisible by 3\n",
      "22 is divisible by 2\n",
      "23 is PRIME!\n",
      "24 is divisible by 2\n",
      "25 is divisible by 5\n"
     ]
    }
   ],
   "source": [
    "import math\n",
    "\n",
    "for number in range(2, 26): # 1\n",
    "    for integer in range(2, round(math.sqrt(number) + 0.5) + 1): # 2\n",
    "        if number % integer == 0: # 3\n",
    "            print(number, 'is divisible by', integer) # 4\n",
    "            break # 5\n",
    "    else: # we get here if NO BREAK\n",
    "        print(number, 'is PRIME!')\n",
    "    # there are two ways to get here:\n",
    "    # 1. break, meaning we found a divisor\n",
    "    # 2. normal termination of the for loop, i.e., NO DIVISORS"
   ]
  },
  {
   "cell_type": "code",
   "execution_count": 79,
   "id": "98b912f7-f6f4-46b6-94a0-4602d9f959fd",
   "metadata": {},
   "outputs": [
    {
     "data": {
      "text/plain": [
       "2"
      ]
     },
     "execution_count": 79,
     "metadata": {},
     "output_type": "execute_result"
    }
   ],
   "source": [
    "round(1.3 + 0.5)"
   ]
  },
  {
   "cell_type": "code",
   "execution_count": 78,
   "id": "b9c629e9-2c19-46fb-96a6-8cf7f7aca87f",
   "metadata": {},
   "outputs": [
    {
     "data": {
      "text/plain": [
       "3"
      ]
     },
     "execution_count": 78,
     "metadata": {},
     "output_type": "execute_result"
    }
   ],
   "source": [
    "round(2.51)"
   ]
  },
  {
   "cell_type": "code",
   "execution_count": 86,
   "id": "073f0ae6-12ce-4be6-8868-29e2edf48443",
   "metadata": {},
   "outputs": [
    {
     "name": "stdout",
     "output_type": "stream",
     "text": [
      "3 is PRIME\n",
      "4 is divisible by 2\n",
      "5 is PRIME\n",
      "6 is divisible by 2\n",
      "7 is PRIME\n",
      "8 is divisible by 2\n",
      "9 is divisible by 3\n",
      "10 is divisible by 2\n",
      "11 is PRIME\n",
      "12 is divisible by 2\n",
      "13 is PRIME\n",
      "14 is divisible by 2\n",
      "15 is divisible by 3\n",
      "16 is divisible by 2\n",
      "17 is PRIME\n",
      "18 is divisible by 2\n",
      "19 is PRIME\n",
      "20 is divisible by 2\n",
      "21 is divisible by 3\n",
      "22 is divisible by 2\n",
      "23 is PRIME\n",
      "24 is divisible by 2\n",
      "25 is divisible by 5\n"
     ]
    }
   ],
   "source": [
    "# Avinash's solution\n",
    "from sympy import isprime\n",
    "\n",
    "for each_number in range(2, 26):\n",
    "    for i in range(2, each_number):\n",
    "        if each_number % i == 0:\n",
    "            print(each_number,'is divisible by',i)\n",
    "            break #no need to mention all divisibles\n",
    "        elif isprime(each_number):\n",
    "            print(each_number, 'is PRIME')\n",
    "            break"
   ]
  },
  {
   "cell_type": "code",
   "execution_count": 87,
   "id": "d6399f53-f9c5-436d-b0cf-44a8d786ea37",
   "metadata": {},
   "outputs": [
    {
     "name": "stdout",
     "output_type": "stream",
     "text": [
      "2\n"
     ]
    }
   ],
   "source": [
    "for num in range(2, 3):\n",
    "    print(num)"
   ]
  },
  {
   "cell_type": "code",
   "execution_count": 89,
   "id": "dc2fa55a-61bd-48ef-8854-2ffbf5a0be39",
   "metadata": {},
   "outputs": [],
   "source": [
    "for num in range(2, 2): # can't get there from here\n",
    "    print(num)"
   ]
  },
  {
   "cell_type": "code",
   "execution_count": 90,
   "id": "19a63a26-f0ab-4485-9656-8ce080de5fa1",
   "metadata": {},
   "outputs": [
    {
     "name": "stdout",
     "output_type": "stream",
     "text": [
      "2 is PRIME\n",
      "3 is PRIME\n",
      "4 is divisible by 2\n",
      "5 is PRIME\n",
      "6 is divisible by 2\n",
      "7 is PRIME\n",
      "8 is divisible by 2\n",
      "9 is divisible by 3\n",
      "10 is divisible by 2\n",
      "11 is PRIME\n",
      "12 is divisible by 2\n",
      "13 is PRIME\n",
      "14 is divisible by 2\n",
      "15 is divisible by 3\n",
      "16 is divisible by 2\n",
      "17 is PRIME\n",
      "18 is divisible by 2\n",
      "19 is PRIME\n",
      "20 is divisible by 2\n",
      "21 is divisible by 3\n",
      "22 is divisible by 2\n",
      "23 is PRIME\n",
      "24 is divisible by 2\n",
      "25 is divisible by 5\n"
     ]
    }
   ],
   "source": [
    "# Avinash's solution\n",
    "from sympy import isprime\n",
    "\n",
    "print('2 is PRIME') # you could do this\n",
    "\n",
    "for each_number in range(2, 26):\n",
    "    for i in range(2, each_number):\n",
    "        if each_number % i == 0:\n",
    "            print(each_number,'is divisible by',i)\n",
    "            break #no need to mention all divisibles\n",
    "        elif isprime(each_number):\n",
    "            print(each_number, 'is PRIME')\n",
    "            break"
   ]
  },
  {
   "cell_type": "code",
   "execution_count": 91,
   "id": "be3d8c15-bbeb-43d9-ab91-8f1851826422",
   "metadata": {},
   "outputs": [],
   "source": [
    "from sympy import isprime"
   ]
  },
  {
   "cell_type": "code",
   "execution_count": 93,
   "id": "1de93216-4c6d-4c85-95f0-bd4f39d204a8",
   "metadata": {},
   "outputs": [
    {
     "data": {
      "text/plain": [
       "False"
      ]
     },
     "execution_count": 93,
     "metadata": {},
     "output_type": "execute_result"
    }
   ],
   "source": [
    "isprime(2599)"
   ]
  },
  {
   "cell_type": "code",
   "execution_count": 94,
   "id": "dc56c9d7-ee15-44eb-8d4a-0522720e2eda",
   "metadata": {},
   "outputs": [
    {
     "ename": "IndexError",
     "evalue": "string index out of range",
     "output_type": "error",
     "traceback": [
      "\u001b[0;31m---------------------------------------------------------------------------\u001b[0m",
      "\u001b[0;31mIndexError\u001b[0m                                Traceback (most recent call last)",
      "Input \u001b[0;32mIn [94]\u001b[0m, in \u001b[0;36m<cell line: 1>\u001b[0;34m()\u001b[0m\n\u001b[0;32m----> 1\u001b[0m \u001b[38;5;124;43m'\u001b[39;49m\u001b[38;5;124;43mstring\u001b[39;49m\u001b[38;5;124;43m'\u001b[39;49m\u001b[43m[\u001b[49m\u001b[38;5;241;43m23\u001b[39;49m\u001b[43m]\u001b[49m\n",
      "\u001b[0;31mIndexError\u001b[0m: string index out of range"
     ]
    }
   ],
   "source": [
    "'string'[23]"
   ]
  },
  {
   "cell_type": "code",
   "execution_count": 95,
   "id": "e20df27b-9351-43ed-bf45-5dbb6910490d",
   "metadata": {},
   "outputs": [
    {
     "data": {
      "text/plain": [
       "''"
      ]
     },
     "execution_count": 95,
     "metadata": {},
     "output_type": "execute_result"
    }
   ],
   "source": [
    "'string'[23:24] # single character range starting at 23 and ending at 23"
   ]
  },
  {
   "cell_type": "code",
   "execution_count": 96,
   "id": "5a7eaa87-5382-470c-a711-589d7d0f4a01",
   "metadata": {},
   "outputs": [
    {
     "data": {
      "text/plain": [
       "'i'"
      ]
     },
     "execution_count": 96,
     "metadata": {},
     "output_type": "execute_result"
    }
   ],
   "source": [
    "'string'[3]"
   ]
  },
  {
   "cell_type": "code",
   "execution_count": 97,
   "id": "451beb1b-bd80-42d3-9d7e-15d2376971d3",
   "metadata": {},
   "outputs": [
    {
     "data": {
      "text/plain": [
       "'i'"
      ]
     },
     "execution_count": 97,
     "metadata": {},
     "output_type": "execute_result"
    }
   ],
   "source": [
    "'string'[3:4]"
   ]
  },
  {
   "cell_type": "code",
   "execution_count": 100,
   "id": "750b001d-09a5-43ce-ba7a-9f3e23366408",
   "metadata": {},
   "outputs": [
    {
     "data": {
      "text/plain": [
       "'zyxwvutsrqponmlkjihgfedcba'"
      ]
     },
     "execution_count": 100,
     "metadata": {},
     "output_type": "execute_result"
    }
   ],
   "source": [
    "alphabet = 'abcdefghijklmnopqrstuvwxyz'\n",
    "alphabet[::-1] # idiomatic"
   ]
  },
  {
   "cell_type": "code",
   "execution_count": 101,
   "id": "101a6058-4ce1-45ce-b773-52757ffaeb89",
   "metadata": {},
   "outputs": [
    {
     "data": {
      "text/plain": [
       "'zyxwvutsrqponmlkjihgfedcba'"
      ]
     },
     "execution_count": 101,
     "metadata": {},
     "output_type": "execute_result"
    }
   ],
   "source": [
    "alphabet[25::-1]"
   ]
  },
  {
   "cell_type": "code",
   "execution_count": 106,
   "id": "608e4ace-8034-4b2c-8421-444a09574e16",
   "metadata": {},
   "outputs": [
    {
     "data": {
      "text/plain": [
       "'zyxwvutsrqponmlkjihgfedcba'"
      ]
     },
     "execution_count": 106,
     "metadata": {},
     "output_type": "execute_result"
    }
   ],
   "source": [
    "alphabet[len(alphabet)::-1]"
   ]
  },
  {
   "cell_type": "code",
   "execution_count": 107,
   "id": "58918384-4d09-4c9d-8c83-9a7cc27c6636",
   "metadata": {},
   "outputs": [
    {
     "data": {
      "text/plain": [
       "'xwvutsrqponmlkjihgfedcba'"
      ]
     },
     "execution_count": 107,
     "metadata": {},
     "output_type": "execute_result"
    }
   ],
   "source": [
    "alphabet[-3::-1]"
   ]
  },
  {
   "cell_type": "code",
   "execution_count": 108,
   "id": "b6015baf-f9bc-4c9e-a682-ffcadaae7db2",
   "metadata": {},
   "outputs": [
    {
     "ename": "ValueError",
     "evalue": "slice step cannot be zero",
     "output_type": "error",
     "traceback": [
      "\u001b[0;31m---------------------------------------------------------------------------\u001b[0m",
      "\u001b[0;31mValueError\u001b[0m                                Traceback (most recent call last)",
      "Input \u001b[0;32mIn [108]\u001b[0m, in \u001b[0;36m<cell line: 1>\u001b[0;34m()\u001b[0m\n\u001b[0;32m----> 1\u001b[0m \u001b[43malphabet\u001b[49m\u001b[43m[\u001b[49m\u001b[38;5;241;43m3\u001b[39;49m\u001b[43m:\u001b[49m\u001b[38;5;241;43m7\u001b[39;49m\u001b[43m:\u001b[49m\u001b[38;5;241;43m0\u001b[39;49m\u001b[43m]\u001b[49m\n",
      "\u001b[0;31mValueError\u001b[0m: slice step cannot be zero"
     ]
    }
   ],
   "source": [
    "alphabet[3:7:0]"
   ]
  },
  {
   "cell_type": "code",
   "execution_count": 109,
   "id": "dd8da563-3a2c-4dd2-b605-7631e2257132",
   "metadata": {},
   "outputs": [
    {
     "name": "stdout",
     "output_type": "stream",
     "text": [
      "1 2 3 4 5 6 7 8 9 "
     ]
    }
   ],
   "source": [
    "for num in range(1, 10):\n",
    "    print(num, end=' ')"
   ]
  },
  {
   "cell_type": "code",
   "execution_count": 110,
   "id": "082b7cb5-2c27-4fc1-8bec-c433d8f92016",
   "metadata": {},
   "outputs": [
    {
     "data": {
      "text/plain": [
       "'123456789'"
      ]
     },
     "execution_count": 110,
     "metadata": {},
     "output_type": "execute_result"
    }
   ],
   "source": [
    "'01234567890'[1:10]"
   ]
  },
  {
   "cell_type": "code",
   "execution_count": 111,
   "id": "47306227-9790-4e50-a26c-9561107d3ac1",
   "metadata": {},
   "outputs": [
    {
     "data": {
      "text/plain": [
       "'1'"
      ]
     },
     "execution_count": 111,
     "metadata": {},
     "output_type": "execute_result"
    }
   ],
   "source": [
    "str(1)"
   ]
  },
  {
   "cell_type": "code",
   "execution_count": 112,
   "id": "ac04865c-f6a7-46a8-b0e7-f85d29753bad",
   "metadata": {},
   "outputs": [
    {
     "data": {
      "text/plain": [
       "'1.1'"
      ]
     },
     "execution_count": 112,
     "metadata": {},
     "output_type": "execute_result"
    }
   ],
   "source": [
    "str(1.1)"
   ]
  },
  {
   "cell_type": "code",
   "execution_count": 113,
   "id": "452a3198-fc40-46a9-9644-762ac4e195f6",
   "metadata": {},
   "outputs": [
    {
     "data": {
      "text/plain": [
       "'1'"
      ]
     },
     "execution_count": 113,
     "metadata": {},
     "output_type": "execute_result"
    }
   ],
   "source": [
    "str('1')"
   ]
  },
  {
   "cell_type": "code",
   "execution_count": 114,
   "id": "d0714e0d-cc4b-4420-9721-9319b132b2b1",
   "metadata": {},
   "outputs": [
    {
     "name": "stdout",
     "output_type": "stream",
     "text": [
      "1\n"
     ]
    }
   ],
   "source": [
    "print(1)"
   ]
  },
  {
   "cell_type": "code",
   "execution_count": 115,
   "id": "58c7605a-85a2-416c-a615-0728567bff1e",
   "metadata": {},
   "outputs": [
    {
     "name": "stdout",
     "output_type": "stream",
     "text": [
      "2.1\n"
     ]
    }
   ],
   "source": [
    "print(2.1)"
   ]
  },
  {
   "cell_type": "code",
   "execution_count": 116,
   "id": "3b982c52-e032-4c9f-bb5e-24a27570fc58",
   "metadata": {},
   "outputs": [
    {
     "name": "stdout",
     "output_type": "stream",
     "text": [
      "string\n"
     ]
    }
   ],
   "source": [
    "print('string')"
   ]
  },
  {
   "cell_type": "code",
   "execution_count": 117,
   "id": "44c6a8aa-f5ef-461a-b04d-544325ea50e8",
   "metadata": {},
   "outputs": [
    {
     "data": {
      "text/plain": [
       "143"
      ]
     },
     "execution_count": 117,
     "metadata": {},
     "output_type": "execute_result"
    }
   ],
   "source": [
    "int('143')"
   ]
  },
  {
   "cell_type": "code",
   "execution_count": 118,
   "id": "17008d7e-ec6f-49e8-b8d1-d7cdeb34f432",
   "metadata": {},
   "outputs": [
    {
     "ename": "ValueError",
     "evalue": "invalid literal for int() with base 10: 'string'",
     "output_type": "error",
     "traceback": [
      "\u001b[0;31m---------------------------------------------------------------------------\u001b[0m",
      "\u001b[0;31mValueError\u001b[0m                                Traceback (most recent call last)",
      "Input \u001b[0;32mIn [118]\u001b[0m, in \u001b[0;36m<cell line: 1>\u001b[0;34m()\u001b[0m\n\u001b[0;32m----> 1\u001b[0m \u001b[38;5;28;43mint\u001b[39;49m\u001b[43m(\u001b[49m\u001b[38;5;124;43m'\u001b[39;49m\u001b[38;5;124;43mstring\u001b[39;49m\u001b[38;5;124;43m'\u001b[39;49m\u001b[43m)\u001b[49m\n",
      "\u001b[0;31mValueError\u001b[0m: invalid literal for int() with base 10: 'string'"
     ]
    }
   ],
   "source": [
    "int('string')"
   ]
  },
  {
   "cell_type": "code",
   "execution_count": 119,
   "id": "baecbf92-6c33-4d82-b323-8a8bec65bdeb",
   "metadata": {},
   "outputs": [],
   "source": [
    "number = 1"
   ]
  },
  {
   "cell_type": "code",
   "execution_count": 120,
   "id": "b87c585c-87cc-4f14-a93e-dab23a1472c7",
   "metadata": {},
   "outputs": [
    {
     "data": {
      "text/plain": [
       "140571058563376"
      ]
     },
     "execution_count": 120,
     "metadata": {},
     "output_type": "execute_result"
    }
   ],
   "source": [
    "id(number)"
   ]
  },
  {
   "cell_type": "code",
   "execution_count": 121,
   "id": "d5941fe8-1036-432e-ba6d-1d4c43af7a6c",
   "metadata": {},
   "outputs": [
    {
     "data": {
      "text/plain": [
       "140570656106480"
      ]
     },
     "execution_count": 121,
     "metadata": {},
     "output_type": "execute_result"
    }
   ],
   "source": [
    "id('string')"
   ]
  },
  {
   "cell_type": "code",
   "execution_count": 123,
   "id": "ab76e1dd-1820-48ff-9cee-0a5aa443439d",
   "metadata": {},
   "outputs": [
    {
     "data": {
      "text/plain": [
       "1"
      ]
     },
     "execution_count": 123,
     "metadata": {},
     "output_type": "execute_result"
    }
   ],
   "source": [
    "min(2, 1, 3)"
   ]
  },
  {
   "cell_type": "code",
   "execution_count": 124,
   "id": "bd406a5b-eba4-449c-91f3-d796da9e4e53",
   "metadata": {},
   "outputs": [
    {
     "data": {
      "text/plain": [
       "-1.3"
      ]
     },
     "execution_count": 124,
     "metadata": {},
     "output_type": "execute_result"
    }
   ],
   "source": [
    "min(1.2, 3.1, -1.3)"
   ]
  },
  {
   "cell_type": "code",
   "execution_count": 125,
   "id": "f75f7c33-a6d1-42ce-a979-f83d62b73752",
   "metadata": {},
   "outputs": [
    {
     "ename": "NameError",
     "evalue": "name 'startswith' is not defined",
     "output_type": "error",
     "traceback": [
      "\u001b[0;31m---------------------------------------------------------------------------\u001b[0m",
      "\u001b[0;31mNameError\u001b[0m                                 Traceback (most recent call last)",
      "Input \u001b[0;32mIn [125]\u001b[0m, in \u001b[0;36m<cell line: 1>\u001b[0;34m()\u001b[0m\n\u001b[0;32m----> 1\u001b[0m \u001b[43mstartswith\u001b[49m(poem, \u001b[38;5;124m'\u001b[39m\u001b[38;5;124mTWO\u001b[39m\u001b[38;5;124m'\u001b[39m)\n",
      "\u001b[0;31mNameError\u001b[0m: name 'startswith' is not defined"
     ]
    }
   ],
   "source": [
    "startswith(poem, 'TWO')"
   ]
  },
  {
   "cell_type": "code",
   "execution_count": 126,
   "id": "9f021f5e-8738-4c99-b555-d0b999a68e80",
   "metadata": {},
   "outputs": [],
   "source": [
    "string = 'something'"
   ]
  },
  {
   "cell_type": "code",
   "execution_count": 129,
   "id": "15016047-ff18-4f2f-ab47-d4390964cb10",
   "metadata": {},
   "outputs": [
    {
     "data": {
      "text/plain": [
       "\u001b[0;31mSignature:\u001b[0m \u001b[0mlen\u001b[0m\u001b[0;34m(\u001b[0m\u001b[0mobj\u001b[0m\u001b[0;34m,\u001b[0m \u001b[0;34m/\u001b[0m\u001b[0;34m)\u001b[0m\u001b[0;34m\u001b[0m\u001b[0;34m\u001b[0m\u001b[0m\n",
       "\u001b[0;31mDocstring:\u001b[0m Return the number of items in a container.\n",
       "\u001b[0;31mType:\u001b[0m      builtin_function_or_method\n"
      ]
     },
     "metadata": {},
     "output_type": "display_data"
    }
   ],
   "source": [
    "len?"
   ]
  },
  {
   "cell_type": "code",
   "execution_count": 130,
   "id": "4081695e-0ed7-44c8-b47d-013d8f4a4ec7",
   "metadata": {},
   "outputs": [
    {
     "name": "stdout",
     "output_type": "stream",
     "text": [
      "Help on built-in function len in module builtins:\n",
      "\n",
      "len(obj, /)\n",
      "    Return the number of items in a container.\n",
      "\n"
     ]
    }
   ],
   "source": [
    "help(len)"
   ]
  },
  {
   "cell_type": "code",
   "execution_count": 132,
   "id": "2e56e525-6341-4953-b14a-3ed149394139",
   "metadata": {},
   "outputs": [
    {
     "data": {
      "text/plain": [
       "'.is.a'"
      ]
     },
     "execution_count": 132,
     "metadata": {},
     "output_type": "execute_result"
    }
   ],
   "source": [
    "'this.is.a.test'[4:9]"
   ]
  },
  {
   "cell_type": "code",
   "execution_count": 133,
   "id": "f7fd34fd-439a-4cd1-9c9d-fb5122c22b6b",
   "metadata": {},
   "outputs": [
    {
     "data": {
      "text/plain": [
       "'.is.a.test'"
      ]
     },
     "execution_count": 133,
     "metadata": {},
     "output_type": "execute_result"
    }
   ],
   "source": [
    "'this.is.a.test'[4:93]"
   ]
  },
  {
   "cell_type": "code",
   "execution_count": 134,
   "id": "1b4a6fd7-e420-422c-b1a0-9b12cd3f58a3",
   "metadata": {},
   "outputs": [],
   "source": [
    "name = 'dave'"
   ]
  },
  {
   "cell_type": "code",
   "execution_count": 135,
   "id": "fff0c37e-9e09-4189-84b3-6a85f07fbca8",
   "metadata": {},
   "outputs": [
    {
     "data": {
      "text/plain": [
       "'dave'"
      ]
     },
     "execution_count": 135,
     "metadata": {},
     "output_type": "execute_result"
    }
   ],
   "source": [
    "name"
   ]
  },
  {
   "cell_type": "code",
   "execution_count": 136,
   "id": "31c22fe3-6c43-43d7-9832-99a9959ec42e",
   "metadata": {},
   "outputs": [
    {
     "ename": "TypeError",
     "evalue": "'str' object does not support item assignment",
     "output_type": "error",
     "traceback": [
      "\u001b[0;31m---------------------------------------------------------------------------\u001b[0m",
      "\u001b[0;31mTypeError\u001b[0m                                 Traceback (most recent call last)",
      "Input \u001b[0;32mIn [136]\u001b[0m, in \u001b[0;36m<cell line: 1>\u001b[0;34m()\u001b[0m\n\u001b[0;32m----> 1\u001b[0m name[\u001b[38;5;241m0\u001b[39m] \u001b[38;5;241m=\u001b[39m \u001b[38;5;124m'\u001b[39m\u001b[38;5;124mD\u001b[39m\u001b[38;5;124m'\u001b[39m\n",
      "\u001b[0;31mTypeError\u001b[0m: 'str' object does not support item assignment"
     ]
    }
   ],
   "source": [
    "name[0] = 'D'"
   ]
  },
  {
   "cell_type": "code",
   "execution_count": 137,
   "id": "dc832795-712d-490b-b13b-a9dffd8f8585",
   "metadata": {},
   "outputs": [],
   "source": [
    "name = 'Dave'"
   ]
  },
  {
   "cell_type": "code",
   "execution_count": 138,
   "id": "1b6f86cf-9c83-4288-9126-a9f185deb488",
   "metadata": {},
   "outputs": [
    {
     "ename": "NameError",
     "evalue": "name 'strip' is not defined",
     "output_type": "error",
     "traceback": [
      "\u001b[0;31m---------------------------------------------------------------------------\u001b[0m",
      "\u001b[0;31mNameError\u001b[0m                                 Traceback (most recent call last)",
      "Input \u001b[0;32mIn [138]\u001b[0m, in \u001b[0;36m<cell line: 1>\u001b[0;34m()\u001b[0m\n\u001b[0;32m----> 1\u001b[0m help(\u001b[43mstrip\u001b[49m)\n",
      "\u001b[0;31mNameError\u001b[0m: name 'strip' is not defined"
     ]
    }
   ],
   "source": [
    "help(strip)"
   ]
  },
  {
   "cell_type": "code",
   "execution_count": 139,
   "id": "70b4cc0d-4c95-4ca6-ba05-1e21a6d95913",
   "metadata": {},
   "outputs": [
    {
     "name": "stdout",
     "output_type": "stream",
     "text": [
      "Help on built-in function strip:\n",
      "\n",
      "strip(chars=None, /) method of builtins.str instance\n",
      "    Return a copy of the string with leading and trailing whitespace removed.\n",
      "    \n",
      "    If chars is given and not None, remove characters in chars instead.\n",
      "\n"
     ]
    }
   ],
   "source": [
    "help(name.strip)"
   ]
  },
  {
   "cell_type": "code",
   "execution_count": 140,
   "id": "85e29d65-5b81-4d76-9e39-9e8cc16d6f52",
   "metadata": {},
   "outputs": [
    {
     "name": "stdout",
     "output_type": "stream",
     "text": [
      "Help on method_descriptor:\n",
      "\n",
      "strip(self, chars=None, /)\n",
      "    Return a copy of the string with leading and trailing whitespace removed.\n",
      "    \n",
      "    If chars is given and not None, remove characters in chars instead.\n",
      "\n"
     ]
    }
   ],
   "source": [
    "help(str.strip)"
   ]
  },
  {
   "cell_type": "code",
   "execution_count": 141,
   "id": "d32c53f5-cb11-4928-9f95-e0f2b0f21665",
   "metadata": {},
   "outputs": [
    {
     "data": {
      "text/plain": [
       "'something'"
      ]
     },
     "execution_count": 141,
     "metadata": {},
     "output_type": "execute_result"
    }
   ],
   "source": [
    "'.,:.:::,something....:.,'.strip('.,:')"
   ]
  },
  {
   "cell_type": "code",
   "execution_count": 142,
   "id": "5cf85f62-b48f-4e0b-925f-e736038a1c4c",
   "metadata": {},
   "outputs": [
    {
     "data": {
      "text/plain": [
       "False"
      ]
     },
     "execution_count": 142,
     "metadata": {},
     "output_type": "execute_result"
    }
   ],
   "source": [
    "'string'.isupper()"
   ]
  },
  {
   "cell_type": "code",
   "execution_count": 143,
   "id": "8c6b1718-4ff3-4bce-b649-8ebc01f55555",
   "metadata": {},
   "outputs": [
    {
     "data": {
      "text/plain": [
       "'xbc'"
      ]
     },
     "execution_count": 143,
     "metadata": {},
     "output_type": "execute_result"
    }
   ],
   "source": [
    "'abc'.replace('a', 'x')"
   ]
  },
  {
   "cell_type": "code",
   "execution_count": 145,
   "id": "c422e254-03d4-472c-8c67-f17983830000",
   "metadata": {},
   "outputs": [
    {
     "data": {
      "text/plain": [
       "'abc'"
      ]
     },
     "execution_count": 145,
     "metadata": {},
     "output_type": "execute_result"
    }
   ],
   "source": [
    "'abc'.replace('ac', 'x')"
   ]
  },
  {
   "cell_type": "markdown",
   "id": "ccfe92e2-481e-4c14-a1ca-ab8247a8011f",
   "metadata": {},
   "source": [
    "## Quick Lab: String Functions\n",
    "* write a Python program to read in a string and then print it out as\n",
    "  * a title\n",
    "  * all upper case\n",
    "  * all lower case\n",
    "* also, replace all vowels in the string with the letter 'x'\n",
    "   * you can use the __`.replace()`__ method to replace each vowel, one at a time"
   ]
  },
  {
   "cell_type": "code",
   "execution_count": 167,
   "id": "55e26e65-bf89-457e-a00f-8fec9351fb8d",
   "metadata": {},
   "outputs": [
    {
     "name": "stdin",
     "output_type": "stream",
     "text": [
      "Enter a string: Pack my box with five dozen liquor jugs\n"
     ]
    }
   ],
   "source": [
    "string = input('Enter a string:') # \"What is a string?\" the user says"
   ]
  },
  {
   "cell_type": "code",
   "execution_count": 168,
   "id": "18ae620a-6454-43d2-a359-427e548ad06f",
   "metadata": {},
   "outputs": [
    {
     "name": "stdout",
     "output_type": "stream",
     "text": [
      "Pack My Box With Five Dozen Liquor Jugs\n",
      "PACK MY BOX WITH FIVE DOZEN LIQUOR JUGS\n",
      "pack my box with five dozen liquor jugs\n"
     ]
    }
   ],
   "source": [
    "print(string.title(), string.upper(), string.lower(), sep='\\n')"
   ]
  },
  {
   "cell_type": "code",
   "execution_count": 169,
   "id": "696e9070-6a31-4cbc-b804-22aebe0c0cca",
   "metadata": {},
   "outputs": [
    {
     "data": {
      "text/plain": [
       "'Pxck my box with five dozen liquor jugs'"
      ]
     },
     "execution_count": 169,
     "metadata": {},
     "output_type": "execute_result"
    }
   ],
   "source": [
    "string.replace('a', 'x')"
   ]
  },
  {
   "cell_type": "code",
   "execution_count": 171,
   "id": "1557a3f5-e227-4247-9262-9adc228d4649",
   "metadata": {
    "tags": []
   },
   "outputs": [
    {
     "name": "stdout",
     "output_type": "stream",
     "text": [
      "After replacing a ... Pxck my box with five dozen liquor jugs\n",
      "After replacing e ... Pxck my box with fivx dozxn liquor jugs\n",
      "After replacing i ... Pxck my box wxth fxvx dozxn lxquor jugs\n",
      "After replacing o ... Pxck my bxx wxth fxvx dxzxn lxquxr jugs\n",
      "After replacing u ... Pxck my bxx wxth fxvx dxzxn lxqxxr jxgs\n"
     ]
    }
   ],
   "source": [
    "for vowel in 'aeiou': # for each vowel\n",
    "    string = string.lower().replace(vowel, 'x') # replace that vowel with 'x' and overwrite old string\n",
    "    print('After replacing', vowel, '...', string)"
   ]
  },
  {
   "cell_type": "code",
   "execution_count": 172,
   "id": "5509c79b-e725-437d-97fc-521da416862a",
   "metadata": {},
   "outputs": [
    {
     "name": "stdin",
     "output_type": "stream",
     "text": [
      "Enter:  This is Not simply Lower CASE\n"
     ]
    }
   ],
   "source": [
    "string = input('Enter: ').lower()"
   ]
  },
  {
   "cell_type": "code",
   "execution_count": 173,
   "id": "a0eb6081-9049-4970-9da2-a7a9f9d0e941",
   "metadata": {},
   "outputs": [
    {
     "data": {
      "text/plain": [
       "'this is not simply lower case'"
      ]
     },
     "execution_count": 173,
     "metadata": {},
     "output_type": "execute_result"
    }
   ],
   "source": [
    "string"
   ]
  },
  {
   "cell_type": "markdown",
   "id": "0dba1a4e-42bf-4ecf-b994-628e64d4bb7e",
   "metadata": {},
   "source": [
    "## Lab: String Functions\n",
    "* write a Python program to read in a string and print it out such that\n",
    "  * the first, third, fifth, etc. letters are **lower** case\n",
    "  * the second, fourth, sixth, etc. letters are **UPPER** case\n",
    "  * e.g., if the input is __Guido van Rossum__, the output would be:\n",
    "    * __gUiDo vAn rOsSuM__"
   ]
  },
  {
   "cell_type": "code",
   "execution_count": 174,
   "id": "995c54b4-1369-487e-acb4-cdf9decb65bb",
   "metadata": {},
   "outputs": [
    {
     "name": "stdin",
     "output_type": "stream",
     "text": [
      "Enter a string:  Ada Lovelace is considered the first programmer\n"
     ]
    }
   ],
   "source": [
    "string = input('Enter a string: ')"
   ]
  },
  {
   "cell_type": "code",
   "execution_count": 159,
   "id": "797b2d93-6ec8-4ac3-9303-3e86876f052f",
   "metadata": {},
   "outputs": [],
   "source": [
    "# English\n",
    "# 1. for each letter in the string:\n",
    "# 2.   make first, third, fifth, etc. letters lower case\n",
    "# 3.   make second, fourth, sixth, etc. letters UPPER case"
   ]
  },
  {
   "cell_type": "code",
   "execution_count": 160,
   "id": "cc7da571-06e0-44cd-b45f-de04647dc686",
   "metadata": {},
   "outputs": [],
   "source": [
    "# 1. for each letter in the string:\n",
    "# 2.   if it's an even letter index (0, 2, 4, etc.) make it lower case\n",
    "# 3.   if it's an odd letter index (1, 3, 5, etc.) make it upper case"
   ]
  },
  {
   "cell_type": "code",
   "execution_count": null,
   "id": "834ace43-a878-4cb2-9e61-2ecf4bf8ae03",
   "metadata": {},
   "outputs": [],
   "source": [
    "# we have 3 options, I think\n",
    "# 1. use numeric indexing to access each character, e.g., [0], [1], [2], etc.\n",
    "# 2. use \"for thing in container\" to access each character, and keep track of the count ourselves\n",
    "# 3. use \"for thing in container\" to access each character\n",
    "#.    ...and d2w1/etc."
   ]
  },
  {
   "cell_type": "code",
   "execution_count": 176,
   "id": "b446d301-5665-4e3f-b924-f140fc598ac8",
   "metadata": {},
   "outputs": [
    {
     "name": "stdout",
     "output_type": "stream",
     "text": [
      "aDa lOvElAcE Is cOnSiDeReD ThE FiRsT PrOgRaMmEr"
     ]
    }
   ],
   "source": [
    "# 1\n",
    "for index in range(len(string)): # for each index from 0 to len-1\n",
    "    if index % 2 == 0: # if index is EVEN\n",
    "        print(string[index].lower(), end='') # make lower\n",
    "    else:\n",
    "        print(string[index].upper(), end='') # make UPPER"
   ]
  },
  {
   "cell_type": "code",
   "execution_count": 185,
   "id": "d0fd4f86-0910-43c8-b6ff-5e7be2236120",
   "metadata": {},
   "outputs": [
    {
     "name": "stdout",
     "output_type": "stream",
     "text": [
      "aDa lOvElAcE Is cOnSiDeReD ThE FiRsT PrOgRaMmEr"
     ]
    }
   ],
   "source": [
    "# 2\n",
    "count = 0 # how many chars have we seen/printed so far?\n",
    "for char in string: # for each character...\n",
    "    count += 1 # count = count + 1\n",
    "    if count % 2 == 1: # if count is ODD\n",
    "        print(char.lower(), end='') # make lower\n",
    "    else:\n",
    "        print(char.upper(), end='') # make UPPER"
   ]
  },
  {
   "cell_type": "code",
   "execution_count": 186,
   "id": "005c2bc7-6a3b-4296-a2cd-89fd4d9b322c",
   "metadata": {},
   "outputs": [
    {
     "name": "stdout",
     "output_type": "stream",
     "text": [
      "aDa lOvElAcE Is cOnSiDeReD ThE FiRsT PrOgRaMmEr"
     ]
    }
   ],
   "source": [
    "# 3\n",
    "make_lower = True # what should I do next?\n",
    "\n",
    "for char in string: # for each character...\n",
    "    if make_lower: # if make_lower == True\n",
    "        print(char.lower(), end='') # make lower\n",
    "        make_lower = False # what to do next time\n",
    "    else:\n",
    "        print(char.upper(), end='') # make UPPER\n",
    "        make_lower = True"
   ]
  },
  {
   "cell_type": "code",
   "execution_count": 180,
   "id": "8b14315f-d970-4240-8c27-77d72fe95d31",
   "metadata": {},
   "outputs": [
    {
     "name": "stdout",
     "output_type": "stream",
     "text": [
      "hello\n",
      "hello\n",
      "hello\n",
      "hello\n",
      "hello\n",
      "hello\n",
      "hello\n",
      "hello\n",
      "hello\n",
      "hello\n"
     ]
    }
   ],
   "source": [
    "for greeting in range(10): # this means repeat the action 10 times\n",
    "    print('hello')"
   ]
  },
  {
   "cell_type": "code",
   "execution_count": 182,
   "id": "af1f37fd-d5fe-4ec5-9103-7fa36a5c2f90",
   "metadata": {},
   "outputs": [
    {
     "name": "stdout",
     "output_type": "stream",
     "text": [
      "hello 0\n",
      "hello 1\n",
      "hello 2\n",
      "hello 3\n",
      "hello 4\n",
      "hello 5\n",
      "hello 6\n",
      "hello 7\n",
      "hello 8\n",
      "hello 9\n"
     ]
    }
   ],
   "source": [
    "for count in range(10): # this means count from 0..9 and do something with it\n",
    "    print('hello', count)"
   ]
  },
  {
   "cell_type": "code",
   "execution_count": 184,
   "id": "69d8d6ce-8cef-4499-a6c7-a590810b11aa",
   "metadata": {},
   "outputs": [
    {
     "name": "stdout",
     "output_type": "stream",
     "text": [
      "hello\n",
      "hello\n",
      "hello\n",
      "hello\n",
      "hello\n",
      "hello\n",
      "hello\n",
      "hello\n",
      "hello\n",
      "hello\n"
     ]
    }
   ],
   "source": [
    "# if we're not using the variable, i.e., the first example above, then do this:\n",
    "for _ in range(10): \n",
    "    print('hello')\n",
    "    \n",
    "# the meaning is: DO THIS 10 TIMES"
   ]
  },
  {
   "cell_type": "code",
   "execution_count": 189,
   "id": "e9fbba7d-b6f8-463d-912d-7b779685e072",
   "metadata": {},
   "outputs": [],
   "source": [
    "string = 'abcdefghijklmnopqrstuvwxyz'"
   ]
  },
  {
   "cell_type": "code",
   "execution_count": 197,
   "id": "74ebd167-87bd-480e-bbae-e62460c25862",
   "metadata": {},
   "outputs": [
    {
     "name": "stdout",
     "output_type": "stream",
     "text": [
      "aDa lOvElacE"
     ]
    }
   ],
   "source": [
    "for character in string:\n",
    "    if string.index(character) % 2 == 0:\n",
    "        print(character.lower(), end='')\n",
    "    else:\n",
    "        print(character.upper(), end='')"
   ]
  },
  {
   "cell_type": "code",
   "execution_count": 192,
   "id": "10d8fa30-735d-409c-9da5-364657492c58",
   "metadata": {},
   "outputs": [
    {
     "data": {
      "text/plain": [
       "18"
      ]
     },
     "execution_count": 192,
     "metadata": {},
     "output_type": "execute_result"
    }
   ],
   "source": [
    "string.index('s')"
   ]
  },
  {
   "cell_type": "code",
   "execution_count": 196,
   "id": "468073de-c9e7-4ce3-a93d-12867bd1372d",
   "metadata": {},
   "outputs": [],
   "source": [
    "string = 'Ada Lovelace'"
   ]
  },
  {
   "cell_type": "code",
   "execution_count": 198,
   "id": "772d4a4a-af9f-436c-9e83-89a51bf53bab",
   "metadata": {},
   "outputs": [
    {
     "data": {
      "text/plain": [
       "4"
      ]
     },
     "execution_count": 198,
     "metadata": {},
     "output_type": "execute_result"
    }
   ],
   "source": [
    "'Ada Lovelace'.index('Love')"
   ]
  },
  {
   "cell_type": "code",
   "execution_count": 199,
   "id": "acd1d333-7b96-4251-b7d8-ef468476f859",
   "metadata": {},
   "outputs": [
    {
     "data": {
      "text/plain": [
       "4"
      ]
     },
     "execution_count": 199,
     "metadata": {},
     "output_type": "execute_result"
    }
   ],
   "source": [
    "'Ada Lovelace'.index('L')"
   ]
  },
  {
   "cell_type": "code",
   "execution_count": 200,
   "id": "88b611fc-7f0e-4e20-9ba5-fd46515e6136",
   "metadata": {},
   "outputs": [],
   "source": [
    "shopping_list = 'eggs, bread, milk, yogurt'"
   ]
  },
  {
   "cell_type": "code",
   "execution_count": 201,
   "id": "710ee875-ccad-4cef-a567-411cf5a76c0a",
   "metadata": {},
   "outputs": [],
   "source": [
    "shopping_list = shopping_list.replace(' ', '')"
   ]
  },
  {
   "cell_type": "code",
   "execution_count": 202,
   "id": "ea0ba663-4daf-447a-b33c-8e6cf6d04fc2",
   "metadata": {},
   "outputs": [
    {
     "data": {
      "text/plain": [
       "'eggs,bread,milk,yogurt'"
      ]
     },
     "execution_count": 202,
     "metadata": {},
     "output_type": "execute_result"
    }
   ],
   "source": [
    "shopping_list"
   ]
  },
  {
   "cell_type": "code",
   "execution_count": null,
   "id": "92f4ed85-4d54-489b-acbe-d037018beb84",
   "metadata": {},
   "outputs": [],
   "source": [
    "shopping_list = 'eggs,:bread,..\",milk,#$yogurt'"
   ]
  },
  {
   "cell_type": "code",
   "execution_count": 214,
   "id": "0cfbef47-e2d2-4225-8fd5-be8e7b8b7c90",
   "metadata": {},
   "outputs": [],
   "source": [
    "shopping_items = 'eggs, bread, milk, yogurt'"
   ]
  },
  {
   "cell_type": "code",
   "execution_count": 215,
   "id": "0b875023-82a8-4f77-b017-db368409902a",
   "metadata": {},
   "outputs": [],
   "source": [
    "shopping_list = shopping_items.split(', ')"
   ]
  },
  {
   "cell_type": "code",
   "execution_count": 216,
   "id": "ac17476e-e771-4370-853d-28336feeea75",
   "metadata": {},
   "outputs": [
    {
     "data": {
      "text/plain": [
       "['eggs', 'bread', 'milk', 'yogurt']"
      ]
     },
     "execution_count": 216,
     "metadata": {},
     "output_type": "execute_result"
    }
   ],
   "source": [
    "shopping_list"
   ]
  },
  {
   "cell_type": "code",
   "execution_count": 207,
   "id": "f8beac49-05ca-49bd-8a7e-5d2cc6c794f6",
   "metadata": {},
   "outputs": [
    {
     "ename": "AttributeError",
     "evalue": "'list' object has no attribute 'join'",
     "output_type": "error",
     "traceback": [
      "\u001b[0;31m---------------------------------------------------------------------------\u001b[0m",
      "\u001b[0;31mAttributeError\u001b[0m                            Traceback (most recent call last)",
      "Input \u001b[0;32mIn [207]\u001b[0m, in \u001b[0;36m<cell line: 1>\u001b[0;34m()\u001b[0m\n\u001b[0;32m----> 1\u001b[0m \u001b[43mshopping_list\u001b[49m\u001b[38;5;241;43m.\u001b[39;49m\u001b[43mjoin\u001b[49m(\u001b[38;5;124m'\u001b[39m\u001b[38;5;124m, \u001b[39m\u001b[38;5;124m'\u001b[39m)\n",
      "\u001b[0;31mAttributeError\u001b[0m: 'list' object has no attribute 'join'"
     ]
    }
   ],
   "source": [
    "shopping_list.join(', ')"
   ]
  },
  {
   "cell_type": "code",
   "execution_count": 208,
   "id": "4eeb69df-2fc5-4397-9855-fa03d87e35b5",
   "metadata": {},
   "outputs": [
    {
     "data": {
      "text/plain": [
       "4313080608"
      ]
     },
     "execution_count": 208,
     "metadata": {},
     "output_type": "execute_result"
    }
   ],
   "source": [
    "id(str)"
   ]
  },
  {
   "cell_type": "code",
   "execution_count": 209,
   "id": "acc6aa0f-85d6-4699-9513-e691817ce1a6",
   "metadata": {},
   "outputs": [
    {
     "data": {
      "text/plain": [
       "['__add__',\n",
       " '__class__',\n",
       " '__contains__',\n",
       " '__delattr__',\n",
       " '__dir__',\n",
       " '__doc__',\n",
       " '__eq__',\n",
       " '__format__',\n",
       " '__ge__',\n",
       " '__getattribute__',\n",
       " '__getitem__',\n",
       " '__getnewargs__',\n",
       " '__gt__',\n",
       " '__hash__',\n",
       " '__init__',\n",
       " '__init_subclass__',\n",
       " '__iter__',\n",
       " '__le__',\n",
       " '__len__',\n",
       " '__lt__',\n",
       " '__mod__',\n",
       " '__mul__',\n",
       " '__ne__',\n",
       " '__new__',\n",
       " '__reduce__',\n",
       " '__reduce_ex__',\n",
       " '__repr__',\n",
       " '__rmod__',\n",
       " '__rmul__',\n",
       " '__setattr__',\n",
       " '__sizeof__',\n",
       " '__str__',\n",
       " '__subclasshook__',\n",
       " 'capitalize',\n",
       " 'casefold',\n",
       " 'center',\n",
       " 'count',\n",
       " 'encode',\n",
       " 'endswith',\n",
       " 'expandtabs',\n",
       " 'find',\n",
       " 'format',\n",
       " 'format_map',\n",
       " 'index',\n",
       " 'isalnum',\n",
       " 'isalpha',\n",
       " 'isascii',\n",
       " 'isdecimal',\n",
       " 'isdigit',\n",
       " 'isidentifier',\n",
       " 'islower',\n",
       " 'isnumeric',\n",
       " 'isprintable',\n",
       " 'isspace',\n",
       " 'istitle',\n",
       " 'isupper',\n",
       " 'join',\n",
       " 'ljust',\n",
       " 'lower',\n",
       " 'lstrip',\n",
       " 'maketrans',\n",
       " 'partition',\n",
       " 'removeprefix',\n",
       " 'removesuffix',\n",
       " 'replace',\n",
       " 'rfind',\n",
       " 'rindex',\n",
       " 'rjust',\n",
       " 'rpartition',\n",
       " 'rsplit',\n",
       " 'rstrip',\n",
       " 'split',\n",
       " 'splitlines',\n",
       " 'startswith',\n",
       " 'strip',\n",
       " 'swapcase',\n",
       " 'title',\n",
       " 'translate',\n",
       " 'upper',\n",
       " 'zfill']"
      ]
     },
     "execution_count": 209,
     "metadata": {},
     "output_type": "execute_result"
    }
   ],
   "source": [
    "dir(str)"
   ]
  },
  {
   "cell_type": "code",
   "execution_count": 211,
   "id": "2ab9a323-1b1d-446b-acda-2b0be90ccd64",
   "metadata": {},
   "outputs": [
    {
     "data": {
      "text/plain": [
       "4313039520"
      ]
     },
     "execution_count": 211,
     "metadata": {},
     "output_type": "execute_result"
    }
   ],
   "source": [
    "id(list)"
   ]
  },
  {
   "cell_type": "code",
   "execution_count": 212,
   "id": "cebca974-d552-4b26-84df-ed3df920e150",
   "metadata": {},
   "outputs": [
    {
     "data": {
      "text/plain": [
       "['eggs,', 'bread,', 'milk,', 'yogurt']"
      ]
     },
     "execution_count": 212,
     "metadata": {},
     "output_type": "execute_result"
    }
   ],
   "source": [
    "shopping_list"
   ]
  },
  {
   "cell_type": "code",
   "execution_count": 217,
   "id": "e3649770-6df8-4f1a-b855-5ee530da5adf",
   "metadata": {},
   "outputs": [
    {
     "data": {
      "text/plain": [
       "'eggs, bread, milk, yogurt'"
      ]
     },
     "execution_count": 217,
     "metadata": {},
     "output_type": "execute_result"
    }
   ],
   "source": [
    "', '.join(shopping_list)"
   ]
  },
  {
   "cell_type": "code",
   "execution_count": 218,
   "id": "5942fc86-755f-4c84-ba4a-12badba783d9",
   "metadata": {},
   "outputs": [
    {
     "data": {
      "text/plain": [
       "\"['eggs', 'bread', 'milk', 'yogurt']\""
      ]
     },
     "execution_count": 218,
     "metadata": {},
     "output_type": "execute_result"
    }
   ],
   "source": [
    "str(shopping_list)"
   ]
  },
  {
   "cell_type": "code",
   "execution_count": 219,
   "id": "aa87efa1-5637-4c66-b197-7a0797acc23b",
   "metadata": {},
   "outputs": [
    {
     "data": {
      "text/plain": [
       "3"
      ]
     },
     "execution_count": 219,
     "metadata": {},
     "output_type": "execute_result"
    }
   ],
   "source": [
    "int(3.5)"
   ]
  },
  {
   "cell_type": "code",
   "execution_count": 220,
   "id": "934aa04b-e0b2-4537-8826-5a0436f2f512",
   "metadata": {},
   "outputs": [
    {
     "data": {
      "text/plain": [
       "3"
      ]
     },
     "execution_count": 220,
     "metadata": {},
     "output_type": "execute_result"
    }
   ],
   "source": [
    "int(3)"
   ]
  },
  {
   "cell_type": "code",
   "execution_count": 221,
   "id": "fd37d816-12f1-4cef-a063-a9c04159d05a",
   "metadata": {},
   "outputs": [
    {
     "data": {
      "text/plain": [
       "3"
      ]
     },
     "execution_count": 221,
     "metadata": {},
     "output_type": "execute_result"
    }
   ],
   "source": [
    "int('3')"
   ]
  },
  {
   "cell_type": "code",
   "execution_count": 222,
   "id": "419d29e3-e3aa-4cf8-b15e-d09c28bffe64",
   "metadata": {},
   "outputs": [
    {
     "ename": "ValueError",
     "evalue": "invalid literal for int() with base 10: 'three'",
     "output_type": "error",
     "traceback": [
      "\u001b[0;31m---------------------------------------------------------------------------\u001b[0m",
      "\u001b[0;31mValueError\u001b[0m                                Traceback (most recent call last)",
      "Input \u001b[0;32mIn [222]\u001b[0m, in \u001b[0;36m<cell line: 1>\u001b[0;34m()\u001b[0m\n\u001b[0;32m----> 1\u001b[0m \u001b[38;5;28;43mint\u001b[39;49m\u001b[43m(\u001b[49m\u001b[38;5;124;43m'\u001b[39;49m\u001b[38;5;124;43mthree\u001b[39;49m\u001b[38;5;124;43m'\u001b[39;49m\u001b[43m)\u001b[49m\n",
      "\u001b[0;31mValueError\u001b[0m: invalid literal for int() with base 10: 'three'"
     ]
    }
   ],
   "source": [
    "int('three')"
   ]
  },
  {
   "cell_type": "code",
   "execution_count": 223,
   "id": "0c53a150-acd0-421f-8766-48774a8ba599",
   "metadata": {},
   "outputs": [],
   "source": [
    "numbers = [1, 2, 3, 4]"
   ]
  },
  {
   "cell_type": "code",
   "execution_count": 225,
   "id": "b1e78f56-af6d-41b3-8fdb-d72d3fe45fea",
   "metadata": {},
   "outputs": [
    {
     "ename": "TypeError",
     "evalue": "sequence item 0: expected str instance, int found",
     "output_type": "error",
     "traceback": [
      "\u001b[0;31m---------------------------------------------------------------------------\u001b[0m",
      "\u001b[0;31mTypeError\u001b[0m                                 Traceback (most recent call last)",
      "Input \u001b[0;32mIn [225]\u001b[0m, in \u001b[0;36m<cell line: 1>\u001b[0;34m()\u001b[0m\n\u001b[0;32m----> 1\u001b[0m \u001b[38;5;124;43m'\u001b[39;49m\u001b[38;5;124;43m, \u001b[39;49m\u001b[38;5;124;43m'\u001b[39;49m\u001b[38;5;241;43m.\u001b[39;49m\u001b[43mjoin\u001b[49m\u001b[43m(\u001b[49m\u001b[43mnumbers\u001b[49m\u001b[43m)\u001b[49m\n",
      "\u001b[0;31mTypeError\u001b[0m: sequence item 0: expected str instance, int found"
     ]
    }
   ],
   "source": [
    "', '.join(numbers)"
   ]
  },
  {
   "cell_type": "code",
   "execution_count": 226,
   "id": "3d822f5a-0086-48cf-9634-cc12fc8742b1",
   "metadata": {},
   "outputs": [
    {
     "ename": "TypeError",
     "evalue": "can only join an iterable",
     "output_type": "error",
     "traceback": [
      "\u001b[0;31m---------------------------------------------------------------------------\u001b[0m",
      "\u001b[0;31mTypeError\u001b[0m                                 Traceback (most recent call last)",
      "Input \u001b[0;32mIn [226]\u001b[0m, in \u001b[0;36m<cell line: 1>\u001b[0;34m()\u001b[0m\n\u001b[0;32m----> 1\u001b[0m \u001b[38;5;124;43m'\u001b[39;49m\u001b[38;5;124;43m, \u001b[39;49m\u001b[38;5;124;43m'\u001b[39;49m\u001b[38;5;241;43m.\u001b[39;49m\u001b[43mjoin\u001b[49m\u001b[43m(\u001b[49m\u001b[38;5;241;43m1\u001b[39;49m\u001b[43m)\u001b[49m\n",
      "\u001b[0;31mTypeError\u001b[0m: can only join an iterable"
     ]
    }
   ],
   "source": [
    "', '.join(1)"
   ]
  },
  {
   "cell_type": "code",
   "execution_count": 227,
   "id": "c72b3284-3842-41b6-9807-28a2a847cd06",
   "metadata": {},
   "outputs": [
    {
     "data": {
      "text/plain": [
       "7"
      ]
     },
     "execution_count": 227,
     "metadata": {},
     "output_type": "execute_result"
    }
   ],
   "source": [
    "'Python is fun!'.index('is')"
   ]
  },
  {
   "cell_type": "code",
   "execution_count": 228,
   "id": "cb7c4e0b-8ad5-47d9-a4bd-483c378e681b",
   "metadata": {},
   "outputs": [
    {
     "data": {
      "text/plain": [
       "True"
      ]
     },
     "execution_count": 228,
     "metadata": {},
     "output_type": "execute_result"
    }
   ],
   "source": [
    "'Python is fun!'.startswith('Py')"
   ]
  },
  {
   "cell_type": "code",
   "execution_count": 229,
   "id": "f2ed7307-f21f-4955-af02-bfd5822132d7",
   "metadata": {},
   "outputs": [
    {
     "data": {
      "text/plain": [
       "6"
      ]
     },
     "execution_count": 229,
     "metadata": {},
     "output_type": "execute_result"
    }
   ],
   "source": [
    "len('string')"
   ]
  },
  {
   "cell_type": "code",
   "execution_count": 230,
   "id": "11440f4d-8cfc-426a-9bb4-c2e41cb67bd7",
   "metadata": {},
   "outputs": [
    {
     "data": {
      "text/plain": [
       "3"
      ]
     },
     "execution_count": 230,
     "metadata": {},
     "output_type": "execute_result"
    }
   ],
   "source": [
    "len('of a string'.split())"
   ]
  },
  {
   "cell_type": "code",
   "execution_count": 231,
   "id": "a596d158-486f-4a7a-9a7c-95267c3a3748",
   "metadata": {},
   "outputs": [
    {
     "ename": "TypeError",
     "evalue": "object of type 'int' has no len()",
     "output_type": "error",
     "traceback": [
      "\u001b[0;31m---------------------------------------------------------------------------\u001b[0m",
      "\u001b[0;31mTypeError\u001b[0m                                 Traceback (most recent call last)",
      "Input \u001b[0;32mIn [231]\u001b[0m, in \u001b[0;36m<cell line: 1>\u001b[0;34m()\u001b[0m\n\u001b[0;32m----> 1\u001b[0m \u001b[38;5;28;43mlen\u001b[39;49m\u001b[43m(\u001b[49m\u001b[38;5;241;43m3\u001b[39;49m\u001b[43m)\u001b[49m\n",
      "\u001b[0;31mTypeError\u001b[0m: object of type 'int' has no len()"
     ]
    }
   ],
   "source": [
    "len(3)"
   ]
  },
  {
   "cell_type": "code",
   "execution_count": 232,
   "id": "6cde2b51-f686-46f4-92d9-0591461cefc1",
   "metadata": {},
   "outputs": [
    {
     "data": {
      "text/plain": [
       "3"
      ]
     },
     "execution_count": 232,
     "metadata": {},
     "output_type": "execute_result"
    }
   ],
   "source": [
    "len([1, 2, 3])"
   ]
  },
  {
   "cell_type": "code",
   "execution_count": 233,
   "id": "77fb3959-425f-48c9-ae0a-7f386a41de09",
   "metadata": {},
   "outputs": [],
   "source": [
    "my_list = [1, 2, 3.5, '4']"
   ]
  },
  {
   "cell_type": "code",
   "execution_count": 234,
   "id": "e3e1b3d9-4236-4bad-9651-4b37c2ee704a",
   "metadata": {},
   "outputs": [
    {
     "data": {
      "text/plain": [
       "[1, 2, 3.5, '4']"
      ]
     },
     "execution_count": 234,
     "metadata": {},
     "output_type": "execute_result"
    }
   ],
   "source": [
    "my_list"
   ]
  },
  {
   "cell_type": "code",
   "execution_count": 235,
   "id": "df6e6600-d499-4c1d-8069-892f50ab30d6",
   "metadata": {},
   "outputs": [
    {
     "data": {
      "text/plain": [
       "['hello']"
      ]
     },
     "execution_count": 235,
     "metadata": {},
     "output_type": "execute_result"
    }
   ],
   "source": [
    "'hello'.split()"
   ]
  },
  {
   "cell_type": "code",
   "execution_count": 236,
   "id": "1740d674-9a99-4aa4-b88c-a86d05e7dfb8",
   "metadata": {},
   "outputs": [
    {
     "data": {
      "text/plain": [
       "['h', 'e', 'l', 'l', 'o']"
      ]
     },
     "execution_count": 236,
     "metadata": {},
     "output_type": "execute_result"
    }
   ],
   "source": [
    "list('hello')"
   ]
  },
  {
   "cell_type": "code",
   "execution_count": 237,
   "id": "66ebc057-6cc1-475c-9d5e-019e099f0f9d",
   "metadata": {},
   "outputs": [
    {
     "data": {
      "text/plain": [
       "['w', 'o', 'r', 'd']"
      ]
     },
     "execution_count": 237,
     "metadata": {},
     "output_type": "execute_result"
    }
   ],
   "source": [
    "list('word')"
   ]
  },
  {
   "cell_type": "code",
   "execution_count": 238,
   "id": "44b77217-62bc-44e8-8257-45cba32a0fda",
   "metadata": {},
   "outputs": [
    {
     "data": {
      "text/plain": [
       "[1, 2, 3]"
      ]
     },
     "execution_count": 238,
     "metadata": {},
     "output_type": "execute_result"
    }
   ],
   "source": [
    "list([1, 2, 3])"
   ]
  },
  {
   "cell_type": "code",
   "execution_count": 239,
   "id": "66ad8ea8-587d-4fa3-9dd8-a2493211d970",
   "metadata": {},
   "outputs": [
    {
     "ename": "TypeError",
     "evalue": "'int' object is not iterable",
     "output_type": "error",
     "traceback": [
      "\u001b[0;31m---------------------------------------------------------------------------\u001b[0m",
      "\u001b[0;31mTypeError\u001b[0m                                 Traceback (most recent call last)",
      "Input \u001b[0;32mIn [239]\u001b[0m, in \u001b[0;36m<cell line: 1>\u001b[0;34m()\u001b[0m\n\u001b[0;32m----> 1\u001b[0m \u001b[38;5;28;43mlist\u001b[39;49m\u001b[43m(\u001b[49m\u001b[38;5;241;43m4\u001b[39;49m\u001b[43m)\u001b[49m\n",
      "\u001b[0;31mTypeError\u001b[0m: 'int' object is not iterable"
     ]
    }
   ],
   "source": [
    "list(4)"
   ]
  },
  {
   "cell_type": "code",
   "execution_count": 242,
   "id": "fa31072b-34d8-4130-87c9-3a4ba6aa9471",
   "metadata": {},
   "outputs": [
    {
     "name": "stdin",
     "output_type": "stream",
     "text": [
      "Enter something:  APPLE FIG pear lemon\n"
     ]
    }
   ],
   "source": [
    "stuff = input('Enter something: ').lower().split()"
   ]
  },
  {
   "cell_type": "code",
   "execution_count": 243,
   "id": "d49cccdb-d6af-4d44-925b-024a3a80d50f",
   "metadata": {},
   "outputs": [
    {
     "data": {
      "text/plain": [
       "['apple', 'fig', 'pear', 'lemon']"
      ]
     },
     "execution_count": 243,
     "metadata": {},
     "output_type": "execute_result"
    }
   ],
   "source": [
    "stuff"
   ]
  },
  {
   "cell_type": "code",
   "execution_count": 244,
   "id": "e0068b93-8be0-4089-ac7d-82ef7dd78590",
   "metadata": {},
   "outputs": [],
   "source": [
    "number = 1"
   ]
  },
  {
   "cell_type": "code",
   "execution_count": 247,
   "id": "7b98965e-0fbb-4daa-bf45-38b7aa29cab0",
   "metadata": {},
   "outputs": [],
   "source": [
    "number_str = str(number)"
   ]
  },
  {
   "cell_type": "code",
   "execution_count": 248,
   "id": "832aafdd-5207-484c-9a8d-49bce08ab913",
   "metadata": {},
   "outputs": [
    {
     "data": {
      "text/plain": [
       "1"
      ]
     },
     "execution_count": 248,
     "metadata": {},
     "output_type": "execute_result"
    }
   ],
   "source": [
    "number"
   ]
  },
  {
   "cell_type": "code",
   "execution_count": 249,
   "id": "929fc0e4-196d-49ba-9032-2dd1ba92c10d",
   "metadata": {},
   "outputs": [
    {
     "data": {
      "text/plain": [
       "'1'"
      ]
     },
     "execution_count": 249,
     "metadata": {},
     "output_type": "execute_result"
    }
   ],
   "source": [
    "number_str"
   ]
  },
  {
   "cell_type": "code",
   "execution_count": 250,
   "id": "84b55642-dbdd-4fbc-bbe7-102ea22e09bd",
   "metadata": {},
   "outputs": [
    {
     "name": "stdout",
     "output_type": "stream",
     "text": [
      "1\n"
     ]
    }
   ],
   "source": [
    "print(number)"
   ]
  },
  {
   "cell_type": "code",
   "execution_count": 251,
   "id": "957383b8-5083-4983-b6ce-5d6007a7dd2d",
   "metadata": {},
   "outputs": [
    {
     "data": {
      "text/plain": [
       "140571058563376"
      ]
     },
     "execution_count": 251,
     "metadata": {},
     "output_type": "execute_result"
    }
   ],
   "source": [
    "id(number)"
   ]
  },
  {
   "cell_type": "code",
   "execution_count": 252,
   "id": "a3148975-845e-41a8-b231-8f3b3c30b7b7",
   "metadata": {},
   "outputs": [
    {
     "data": {
      "text/plain": [
       "['False',\n",
       " 'None',\n",
       " 'True',\n",
       " '__peg_parser__',\n",
       " 'and',\n",
       " 'as',\n",
       " 'assert',\n",
       " 'async',\n",
       " 'await',\n",
       " 'break',\n",
       " 'class',\n",
       " 'continue',\n",
       " 'def',\n",
       " 'del',\n",
       " 'elif',\n",
       " 'else',\n",
       " 'except',\n",
       " 'finally',\n",
       " 'for',\n",
       " 'from',\n",
       " 'global',\n",
       " 'if',\n",
       " 'import',\n",
       " 'in',\n",
       " 'is',\n",
       " 'lambda',\n",
       " 'nonlocal',\n",
       " 'not',\n",
       " 'or',\n",
       " 'pass',\n",
       " 'raise',\n",
       " 'return',\n",
       " 'try',\n",
       " 'while',\n",
       " 'with',\n",
       " 'yield']"
      ]
     },
     "execution_count": 252,
     "metadata": {},
     "output_type": "execute_result"
    }
   ],
   "source": [
    "import keyword\n",
    "keyword.kwlist"
   ]
  },
  {
   "cell_type": "code",
   "execution_count": 253,
   "id": "2bb20c1f-5a39-479c-9d06-aef3b2c87a3b",
   "metadata": {},
   "outputs": [
    {
     "name": "stdout",
     "output_type": "stream",
     "text": [
      "Help on method_descriptor:\n",
      "\n",
      "sort(self, /, *, key=None, reverse=False)\n",
      "    Sort the list in ascending order and return None.\n",
      "    \n",
      "    The sort is in-place (i.e. the list itself is modified) and stable (i.e. the\n",
      "    order of two equal elements is maintained).\n",
      "    \n",
      "    If a key function is given, apply it once to each list item and sort them,\n",
      "    ascending or descending, according to their function values.\n",
      "    \n",
      "    The reverse flag can be set to sort in descending order.\n",
      "\n"
     ]
    }
   ],
   "source": [
    "help(list.sort)"
   ]
  },
  {
   "cell_type": "code",
   "execution_count": 254,
   "id": "70a29520-872a-4380-a59a-e16e7db6fecb",
   "metadata": {},
   "outputs": [
    {
     "name": "stdout",
     "output_type": "stream",
     "text": [
      "hello\n"
     ]
    }
   ],
   "source": [
    "print('hello')"
   ]
  },
  {
   "cell_type": "code",
   "execution_count": 255,
   "id": "967c65b5-808a-4d13-849f-c85d22b82263",
   "metadata": {},
   "outputs": [
    {
     "name": "stdout",
     "output_type": "stream",
     "text": [
      "hello\n"
     ]
    }
   ],
   "source": [
    "return_value = print('hello')"
   ]
  },
  {
   "cell_type": "code",
   "execution_count": 256,
   "id": "b8b0c5cd-c4ab-438c-b63c-c63549ad0963",
   "metadata": {},
   "outputs": [],
   "source": [
    "stringlen = len('hello')"
   ]
  },
  {
   "cell_type": "code",
   "execution_count": 257,
   "id": "94247232-693c-4cf1-af4c-075b328bbc85",
   "metadata": {},
   "outputs": [
    {
     "data": {
      "text/plain": [
       "5"
      ]
     },
     "execution_count": 257,
     "metadata": {},
     "output_type": "execute_result"
    }
   ],
   "source": [
    "stringlen"
   ]
  },
  {
   "cell_type": "code",
   "execution_count": 259,
   "id": "7c053207-e494-44d7-b1be-bb97abd7ca84",
   "metadata": {},
   "outputs": [
    {
     "data": {
      "text/plain": [
       "0"
      ]
     },
     "execution_count": 259,
     "metadata": {},
     "output_type": "execute_result"
    }
   ],
   "source": [
    "'abca'.index('a')"
   ]
  },
  {
   "cell_type": "code",
   "execution_count": 260,
   "id": "e8792b88-bc2a-44f9-a17c-6eb9a1214719",
   "metadata": {},
   "outputs": [
    {
     "data": {
      "text/plain": [
       "0"
      ]
     },
     "execution_count": 260,
     "metadata": {},
     "output_type": "execute_result"
    }
   ],
   "source": [
    "['a', 'b', 'c', 'a'].index('a')"
   ]
  },
  {
   "cell_type": "code",
   "execution_count": 261,
   "id": "0f01aa17-1ee7-4cdf-9fa8-c1ac0820fa45",
   "metadata": {},
   "outputs": [],
   "source": [
    "stuff = ['a', 'b', 'c', 'a']"
   ]
  },
  {
   "cell_type": "code",
   "execution_count": 263,
   "id": "a8a25ff1-5671-4693-9448-fc43d88cd6d6",
   "metadata": {},
   "outputs": [
    {
     "data": {
      "text/plain": [
       "'a'"
      ]
     },
     "execution_count": 263,
     "metadata": {},
     "output_type": "execute_result"
    }
   ],
   "source": [
    "stuff[-1]"
   ]
  },
  {
   "cell_type": "code",
   "execution_count": 264,
   "id": "13487fc7-042a-4237-a280-f88057c18273",
   "metadata": {},
   "outputs": [
    {
     "data": {
      "text/plain": [
       "0"
      ]
     },
     "execution_count": 264,
     "metadata": {},
     "output_type": "execute_result"
    }
   ],
   "source": [
    "stuff.index('a')"
   ]
  },
  {
   "cell_type": "code",
   "execution_count": 265,
   "id": "f5d7a3e7-c563-46dd-b7c0-c7ba133a9c0a",
   "metadata": {},
   "outputs": [
    {
     "name": "stdout",
     "output_type": "stream",
     "text": [
      "Help on method_descriptor:\n",
      "\n",
      "index(self, value, start=0, stop=9223372036854775807, /)\n",
      "    Return first index of value.\n",
      "    \n",
      "    Raises ValueError if the value is not present.\n",
      "\n"
     ]
    }
   ],
   "source": [
    "help(list.index)"
   ]
  },
  {
   "cell_type": "code",
   "execution_count": 266,
   "id": "46e40910-972f-4fba-ae88-95876a429003",
   "metadata": {},
   "outputs": [
    {
     "name": "stdout",
     "output_type": "stream",
     "text": [
      "a\n",
      "b\n",
      "c\n",
      "a\n"
     ]
    }
   ],
   "source": [
    "for thing in stuff:\n",
    "    print(thing)"
   ]
  },
  {
   "cell_type": "code",
   "execution_count": 267,
   "id": "59b6370d-ff5f-467e-9161-359d3e53f054",
   "metadata": {},
   "outputs": [
    {
     "name": "stdin",
     "output_type": "stream",
     "text": [
      "Enter:  apple fig pear apple fig lemon\n"
     ]
    },
    {
     "data": {
      "text/plain": [
       "['apple', 'fig', 'pear', 'apple', 'fig', 'lemon']"
      ]
     },
     "execution_count": 267,
     "metadata": {},
     "output_type": "execute_result"
    }
   ],
   "source": [
    "input('Enter: ').split()"
   ]
  },
  {
   "cell_type": "code",
   "execution_count": 269,
   "id": "fa5aa172-385c-48f7-b23d-811c88b76ce7",
   "metadata": {},
   "outputs": [
    {
     "name": "stdin",
     "output_type": "stream",
     "text": [
      "What is your guess?  0\n"
     ]
    }
   ],
   "source": [
    "import random\n",
    "my_number = random.randint(1, 100)\n",
    "guess = 0 # \"priming the pump\"\n",
    "\n",
    "while guess != my_number:\n",
    "    guess = int(input('What is your guess? '))\n",
    "    if guess == 0:\n",
    "        break"
   ]
  },
  {
   "cell_type": "code",
   "execution_count": 2,
   "id": "53620e85-9a1c-4d03-848f-e840fce1dcff",
   "metadata": {},
   "outputs": [
    {
     "name": "stdin",
     "output_type": "stream",
     "text": [
      "Enter:  pear\n"
     ]
    }
   ],
   "source": [
    "my_list = []\n",
    "#my_list = list() # call the list-ify function\n",
    "\n",
    "word = input('Enter: ')\n",
    "my_list.append(word) # once again, my_list does not exist"
   ]
  },
  {
   "cell_type": "code",
   "execution_count": 3,
   "id": "12b97d25-5c0c-4b2d-b94a-2d6008c522f2",
   "metadata": {},
   "outputs": [
    {
     "data": {
      "text/plain": [
       "['pear']"
      ]
     },
     "execution_count": 3,
     "metadata": {},
     "output_type": "execute_result"
    }
   ],
   "source": [
    "my_list"
   ]
  },
  {
   "cell_type": "code",
   "execution_count": 6,
   "id": "231f1178-b238-4eb5-a004-e22a290c39c3",
   "metadata": {},
   "outputs": [
    {
     "data": {
      "text/plain": [
       "True"
      ]
     },
     "execution_count": 6,
     "metadata": {},
     "output_type": "execute_result"
    }
   ],
   "source": [
    "1 in [1, 2, 3]"
   ]
  },
  {
   "cell_type": "code",
   "execution_count": 7,
   "id": "e0c4bb6c-f2fb-4d49-8914-355a883f5cbe",
   "metadata": {},
   "outputs": [
    {
     "data": {
      "text/plain": [
       "True"
      ]
     },
     "execution_count": 7,
     "metadata": {},
     "output_type": "execute_result"
    }
   ],
   "source": [
    "'1' in '12345'"
   ]
  },
  {
   "cell_type": "code",
   "execution_count": 8,
   "id": "1b4aca4a-6403-4726-a367-85236b534952",
   "metadata": {},
   "outputs": [
    {
     "data": {
      "text/plain": [
       "True"
      ]
     },
     "execution_count": 8,
     "metadata": {},
     "output_type": "execute_result"
    }
   ],
   "source": [
    "'z' not in '12345'"
   ]
  },
  {
   "cell_type": "code",
   "execution_count": 9,
   "id": "4f00ea91-39c6-4b01-a83b-926e4ebd243b",
   "metadata": {},
   "outputs": [
    {
     "data": {
      "text/plain": [
       "False"
      ]
     },
     "execution_count": 9,
     "metadata": {},
     "output_type": "execute_result"
    }
   ],
   "source": [
    "1 not in [1, 2, 3]"
   ]
  },
  {
   "cell_type": "markdown",
   "id": "9d9c4be7-825d-4c31-a308-132192924655",
   "metadata": {},
   "source": [
    "## Quick Lab: Lists\n",
    "* Write a Python program to read in a list of items possibly containing duplicates, and then constructs a __new__ list containing the elements from the original list, in the order they were entered, but with duplicates only occurring ONCE in the new list, e.g.,\n",
    "<p/>\n",
    "<pre>\n",
    "Enter a list of items: <b>apple cherry banana apple lemon cherry lemon</b>\n",
    "apple cherry banana lemon"
   ]
  },
  {
   "cell_type": "code",
   "execution_count": 4,
   "id": "988d270a-ca05-48d3-9aaa-0e9845924c6d",
   "metadata": {},
   "outputs": [],
   "source": [
    "# 1. get input from user and put into a list\n",
    "# 2. for each item in the original list\n",
    "# 3.    add that item to the new list, iff it's not in the new list"
   ]
  },
  {
   "cell_type": "code",
   "execution_count": 5,
   "id": "e614e57d-1500-431b-be7e-6359f89167bd",
   "metadata": {},
   "outputs": [],
   "source": [
    "# 1. get input from user and split into a list\n",
    "# 1a. create a new empty list to hold unique items\n",
    "# 2. for each item in the original list\n",
    "# 3.    if item not in original list:\n",
    "# 4.        append it to new list"
   ]
  },
  {
   "cell_type": "code",
   "execution_count": 14,
   "id": "72191ed8-ee17-4cf2-ad65-01a4a33d594c",
   "metadata": {
    "tags": []
   },
   "outputs": [
    {
     "name": "stdin",
     "output_type": "stream",
     "text": [
      "Enter a list of items:  apple cherry banana apple lemon cherry lemon\n"
     ]
    },
    {
     "name": "stdout",
     "output_type": "stream",
     "text": [
      "['apple', 'cherry', 'banana', 'lemon']\n"
     ]
    }
   ],
   "source": [
    "items = input('Enter a list of items: ').lower().split() # 1 (also made input lower)\n",
    "unique_items = [] # 1a\n",
    "\n",
    "for item in items: # 2\n",
    "    if item not in unique_items: # 3\n",
    "        unique_items.append(item) # 4\n",
    "\n",
    "print(unique_items)"
   ]
  },
  {
   "cell_type": "code",
   "execution_count": 12,
   "id": "e0ed18b6-6fda-4a8a-948e-e7c6176383ba",
   "metadata": {},
   "outputs": [],
   "source": [
    "# we can print the new list in nicer way (without the '[' and ',') in one of two ways..."
   ]
  },
  {
   "cell_type": "code",
   "execution_count": 15,
   "id": "0026d4c1-62d1-4533-8349-ddef54ad8630",
   "metadata": {},
   "outputs": [
    {
     "name": "stdout",
     "output_type": "stream",
     "text": [
      "apple cherry banana lemon "
     ]
    }
   ],
   "source": [
    "for item in unique_items:\n",
    "    print(item, end=' ')"
   ]
  },
  {
   "cell_type": "code",
   "execution_count": 71,
   "id": "f5ae3e0e-8304-47cd-82c7-1c1f62e80e66",
   "metadata": {},
   "outputs": [
    {
     "name": "stdout",
     "output_type": "stream",
     "text": [
      "apple, cherry, banana, lemon\n"
     ]
    }
   ],
   "source": [
    "print(', '.join(unique_items))"
   ]
  },
  {
   "cell_type": "code",
   "execution_count": 20,
   "id": "34067e6f-70f0-4926-91f5-65f97918094e",
   "metadata": {},
   "outputs": [],
   "source": [
    "joined_output = ''\n",
    "for thing in unique_items:\n",
    "    joined_output += thing + ' '"
   ]
  },
  {
   "cell_type": "code",
   "execution_count": 22,
   "id": "c21afa21-de57-4000-893f-c222715e1df6",
   "metadata": {},
   "outputs": [
    {
     "name": "stdout",
     "output_type": "stream",
     "text": [
      "apple cherry banana lemon \n"
     ]
    }
   ],
   "source": [
    "print(joined_output)"
   ]
  },
  {
   "cell_type": "code",
   "execution_count": 23,
   "id": "10d00e47-ea7b-4302-8f5f-fce7c6097508",
   "metadata": {},
   "outputs": [],
   "source": [
    "joined_output = ''\n",
    "for thing in unique_items[:-1]: # for index in range(len(uniunique_items)-1)\n",
    "    joined_output += thing + ' '\n",
    "joined_output += unique_items[-1]"
   ]
  },
  {
   "cell_type": "code",
   "execution_count": 24,
   "id": "7a97c098-39ea-4b9f-860e-4835d0b9ea5c",
   "metadata": {},
   "outputs": [
    {
     "data": {
      "text/plain": [
       "'apple cherry banana lemon'"
      ]
     },
     "execution_count": 24,
     "metadata": {},
     "output_type": "execute_result"
    }
   ],
   "source": [
    "joined_output"
   ]
  },
  {
   "cell_type": "code",
   "execution_count": 25,
   "id": "dbba409c-dbe2-4bfa-aab6-7f70e2cc4735",
   "metadata": {},
   "outputs": [
    {
     "name": "stdout",
     "output_type": "stream",
     "text": [
      "['apple', 'cherry', 'banana', 'lemon']\n"
     ]
    }
   ],
   "source": [
    "print(unique_items) # printing 1 item, the entire list"
   ]
  },
  {
   "cell_type": "code",
   "execution_count": 27,
   "id": "76b5c20c-4209-40d7-b1fe-2e81faf381cf",
   "metadata": {},
   "outputs": [
    {
     "name": "stdout",
     "output_type": "stream",
     "text": [
      "apple cherry banana lemon\n"
     ]
    }
   ],
   "source": [
    "print(unique_items[0], unique_items[1], unique_items[2], unique_items[3])"
   ]
  },
  {
   "cell_type": "code",
   "execution_count": 28,
   "id": "cdcc7cd8-c1ae-40ea-bc95-3db2c7a1e1bb",
   "metadata": {},
   "outputs": [
    {
     "name": "stdout",
     "output_type": "stream",
     "text": [
      "apple cherry banana lemon\n"
     ]
    }
   ],
   "source": [
    "print(*unique_items) # printing 4 items here, not 1"
   ]
  },
  {
   "cell_type": "code",
   "execution_count": 29,
   "id": "5e332183-4cb3-43f5-bea8-1703aa3add4d",
   "metadata": {},
   "outputs": [
    {
     "name": "stdout",
     "output_type": "stream",
     "text": [
      "\n"
     ]
    }
   ],
   "source": [
    "print()"
   ]
  },
  {
   "cell_type": "code",
   "execution_count": 30,
   "id": "13dfaec5-4fd6-4c2b-b595-8e70bda6d92e",
   "metadata": {},
   "outputs": [
    {
     "name": "stdout",
     "output_type": "stream",
     "text": [
      "1\n"
     ]
    }
   ],
   "source": [
    "print(1)"
   ]
  },
  {
   "cell_type": "code",
   "execution_count": 31,
   "id": "26628abb-1c0b-4986-9469-8fe06b785d95",
   "metadata": {},
   "outputs": [
    {
     "name": "stdout",
     "output_type": "stream",
     "text": [
      "1 2 4 5 6\n"
     ]
    }
   ],
   "source": [
    "print(1, 2, 4, 5, 6)"
   ]
  },
  {
   "cell_type": "code",
   "execution_count": 70,
   "id": "810e141c-6760-4fc8-94b3-fbd3e60adf21",
   "metadata": {},
   "outputs": [
    {
     "name": "stdout",
     "output_type": "stream",
     "text": [
      "apple cherry banana lemon\n"
     ]
    }
   ],
   "source": [
    "print(*unique_items) # printing 4 items here, not 1"
   ]
  },
  {
   "cell_type": "code",
   "execution_count": 73,
   "id": "630982a9-f474-4399-a32a-73819f3c4364",
   "metadata": {},
   "outputs": [
    {
     "name": "stdout",
     "output_type": "stream",
     "text": [
      "apple\n",
      "cherry\n",
      "banana\n",
      "lemon\n"
     ]
    }
   ],
   "source": [
    "print(*unique_items, sep='\\n') "
   ]
  },
  {
   "cell_type": "code",
   "execution_count": 35,
   "id": "d540f00d-090b-4c4a-b516-c14c1570d53d",
   "metadata": {},
   "outputs": [],
   "source": [
    "one, *rest = unique_items"
   ]
  },
  {
   "cell_type": "code",
   "execution_count": 36,
   "id": "d22ec267-0ea0-410e-80bc-f40169510443",
   "metadata": {},
   "outputs": [
    {
     "data": {
      "text/plain": [
       "'apple'"
      ]
     },
     "execution_count": 36,
     "metadata": {},
     "output_type": "execute_result"
    }
   ],
   "source": [
    "one"
   ]
  },
  {
   "cell_type": "code",
   "execution_count": 37,
   "id": "0ed57da2-ec09-44ab-b9c2-db00abf5333f",
   "metadata": {},
   "outputs": [
    {
     "data": {
      "text/plain": [
       "['cherry', 'banana', 'lemon']"
      ]
     },
     "execution_count": 37,
     "metadata": {},
     "output_type": "execute_result"
    }
   ],
   "source": [
    "rest"
   ]
  },
  {
   "cell_type": "code",
   "execution_count": 42,
   "id": "7be9be92-1677-4cf0-bf07-eb01f07a3d83",
   "metadata": {},
   "outputs": [],
   "source": [
    "one, *middle, two = unique_items"
   ]
  },
  {
   "cell_type": "code",
   "execution_count": 43,
   "id": "a7ec806c-80b1-4861-bc05-08a5b2aaed2e",
   "metadata": {},
   "outputs": [
    {
     "data": {
      "text/plain": [
       "'apple'"
      ]
     },
     "execution_count": 43,
     "metadata": {},
     "output_type": "execute_result"
    }
   ],
   "source": [
    "one"
   ]
  },
  {
   "cell_type": "code",
   "execution_count": 44,
   "id": "98d666ed-4654-44c7-91cf-928868ea9975",
   "metadata": {},
   "outputs": [
    {
     "data": {
      "text/plain": [
       "'lemon'"
      ]
     },
     "execution_count": 44,
     "metadata": {},
     "output_type": "execute_result"
    }
   ],
   "source": [
    "two"
   ]
  },
  {
   "cell_type": "code",
   "execution_count": 45,
   "id": "09b8d03e-3d33-49b5-985b-c099481c69ff",
   "metadata": {},
   "outputs": [
    {
     "data": {
      "text/plain": [
       "['cherry', 'banana']"
      ]
     },
     "execution_count": 45,
     "metadata": {},
     "output_type": "execute_result"
    }
   ],
   "source": [
    "middle"
   ]
  },
  {
   "cell_type": "code",
   "execution_count": 46,
   "id": "15beede6-bae6-4a5c-bfda-3ee66e4b2698",
   "metadata": {},
   "outputs": [],
   "source": [
    "first, *everything_else, last = items"
   ]
  },
  {
   "cell_type": "code",
   "execution_count": 47,
   "id": "fb706571-f9c5-4dc1-81ca-dca263985915",
   "metadata": {},
   "outputs": [
    {
     "data": {
      "text/plain": [
       "'apple'"
      ]
     },
     "execution_count": 47,
     "metadata": {},
     "output_type": "execute_result"
    }
   ],
   "source": [
    "first"
   ]
  },
  {
   "cell_type": "code",
   "execution_count": 48,
   "id": "2fbb4eda-6457-4d0b-a534-28bc10447876",
   "metadata": {},
   "outputs": [
    {
     "data": {
      "text/plain": [
       "'lemon'"
      ]
     },
     "execution_count": 48,
     "metadata": {},
     "output_type": "execute_result"
    }
   ],
   "source": [
    "last"
   ]
  },
  {
   "cell_type": "code",
   "execution_count": 49,
   "id": "a87eb938-2697-4551-812d-d5169d6c328e",
   "metadata": {},
   "outputs": [
    {
     "data": {
      "text/plain": [
       "['cherry', 'banana', 'apple', 'lemon', 'cherry']"
      ]
     },
     "execution_count": 49,
     "metadata": {},
     "output_type": "execute_result"
    }
   ],
   "source": [
    "everything_else"
   ]
  },
  {
   "cell_type": "code",
   "execution_count": 50,
   "id": "ec61a423-bbeb-4ffc-b6da-d5aff24392e7",
   "metadata": {},
   "outputs": [],
   "source": [
    "one, two, three, *rest = items"
   ]
  },
  {
   "cell_type": "code",
   "execution_count": 51,
   "id": "897db07a-0f05-4ea6-9475-85ec1686c4bb",
   "metadata": {},
   "outputs": [
    {
     "data": {
      "text/plain": [
       "['apple', 'lemon', 'cherry', 'lemon']"
      ]
     },
     "execution_count": 51,
     "metadata": {},
     "output_type": "execute_result"
    }
   ],
   "source": [
    "rest"
   ]
  },
  {
   "cell_type": "code",
   "execution_count": 52,
   "id": "547c9d1e-82ff-43e4-8751-4eccca0c0c42",
   "metadata": {},
   "outputs": [
    {
     "data": {
      "text/plain": [
       "['apple', 'lemon', 'cherry', 'lemon']"
      ]
     },
     "execution_count": 52,
     "metadata": {},
     "output_type": "execute_result"
    }
   ],
   "source": [
    "items[3:]"
   ]
  },
  {
   "cell_type": "code",
   "execution_count": 53,
   "id": "2b359ef4-7c39-4707-81e8-cef171942ea8",
   "metadata": {},
   "outputs": [
    {
     "data": {
      "text/plain": [
       "'apple'"
      ]
     },
     "execution_count": 53,
     "metadata": {},
     "output_type": "execute_result"
    }
   ],
   "source": [
    "one"
   ]
  },
  {
   "cell_type": "code",
   "execution_count": 54,
   "id": "ab3e1a23-3436-456c-a313-3cf612d6185b",
   "metadata": {},
   "outputs": [
    {
     "data": {
      "text/plain": [
       "'cherry'"
      ]
     },
     "execution_count": 54,
     "metadata": {},
     "output_type": "execute_result"
    }
   ],
   "source": [
    "two"
   ]
  },
  {
   "cell_type": "code",
   "execution_count": 55,
   "id": "a097fef2-9d62-4a9a-9631-7603dc507ece",
   "metadata": {},
   "outputs": [
    {
     "data": {
      "text/plain": [
       "'banana'"
      ]
     },
     "execution_count": 55,
     "metadata": {},
     "output_type": "execute_result"
    }
   ],
   "source": [
    "three"
   ]
  },
  {
   "cell_type": "code",
   "execution_count": 59,
   "id": "5db54cc9-1856-4f36-8bd2-540ae4860fcb",
   "metadata": {},
   "outputs": [],
   "source": [
    "first, _, third, *rest = items"
   ]
  },
  {
   "cell_type": "code",
   "execution_count": 60,
   "id": "e20f821c-7ca2-42ba-ae0b-a97757cd5da4",
   "metadata": {},
   "outputs": [
    {
     "data": {
      "text/plain": [
       "'apple'"
      ]
     },
     "execution_count": 60,
     "metadata": {},
     "output_type": "execute_result"
    }
   ],
   "source": [
    "first"
   ]
  },
  {
   "cell_type": "code",
   "execution_count": 61,
   "id": "67c1bb74-cfaf-4d29-adae-b5c16922a5ee",
   "metadata": {},
   "outputs": [
    {
     "data": {
      "text/plain": [
       "'banana'"
      ]
     },
     "execution_count": 61,
     "metadata": {},
     "output_type": "execute_result"
    }
   ],
   "source": [
    "third"
   ]
  },
  {
   "cell_type": "code",
   "execution_count": 62,
   "id": "50f179b1-d295-4858-b7a1-492ec819b508",
   "metadata": {},
   "outputs": [
    {
     "data": {
      "text/plain": [
       "['apple', 'lemon', 'cherry', 'lemon']"
      ]
     },
     "execution_count": 62,
     "metadata": {},
     "output_type": "execute_result"
    }
   ],
   "source": [
    "rest"
   ]
  },
  {
   "cell_type": "code",
   "execution_count": 63,
   "id": "28342b1d-b207-4c17-b943-558eb2e260a4",
   "metadata": {},
   "outputs": [],
   "source": [
    "numbers = list(range(1, 11))"
   ]
  },
  {
   "cell_type": "code",
   "execution_count": 64,
   "id": "e0822fcb-db07-410b-8607-7858295ec705",
   "metadata": {},
   "outputs": [
    {
     "name": "stdout",
     "output_type": "stream",
     "text": [
      "[1, 2, 3, 4, 5, 6, 7, 8, 9, 10]\n"
     ]
    }
   ],
   "source": [
    "print(numbers)"
   ]
  },
  {
   "cell_type": "code",
   "execution_count": 65,
   "id": "933d0572-ee98-4ebc-8230-9200f63c96fb",
   "metadata": {},
   "outputs": [],
   "source": [
    "first, _, third, *rest = numbers"
   ]
  },
  {
   "cell_type": "code",
   "execution_count": 66,
   "id": "e8ae7e4a-f607-4792-8f82-56ad732d596a",
   "metadata": {},
   "outputs": [
    {
     "data": {
      "text/plain": [
       "1"
      ]
     },
     "execution_count": 66,
     "metadata": {},
     "output_type": "execute_result"
    }
   ],
   "source": [
    "first"
   ]
  },
  {
   "cell_type": "code",
   "execution_count": 67,
   "id": "ede79ccb-c61b-42a4-a0a3-4334bf89ba6f",
   "metadata": {},
   "outputs": [
    {
     "data": {
      "text/plain": [
       "3"
      ]
     },
     "execution_count": 67,
     "metadata": {},
     "output_type": "execute_result"
    }
   ],
   "source": [
    "third"
   ]
  },
  {
   "cell_type": "code",
   "execution_count": 68,
   "id": "1b3c377e-4108-4728-88f8-d1b144509f61",
   "metadata": {},
   "outputs": [
    {
     "data": {
      "text/plain": [
       "[4, 5, 6, 7, 8, 9, 10]"
      ]
     },
     "execution_count": 68,
     "metadata": {},
     "output_type": "execute_result"
    }
   ],
   "source": [
    "rest"
   ]
  },
  {
   "cell_type": "code",
   "execution_count": 69,
   "id": "5362745b-86eb-4a23-8e33-a324393b09e7",
   "metadata": {},
   "outputs": [
    {
     "data": {
      "text/plain": [
       "[1, 2, 3, 4, 5, 6, 7, 8, 9, 10]"
      ]
     },
     "execution_count": 69,
     "metadata": {},
     "output_type": "execute_result"
    }
   ],
   "source": [
    "numbers"
   ]
  },
  {
   "cell_type": "markdown",
   "id": "382e002e-1964-4f24-9d85-806e54463a98",
   "metadata": {},
   "source": [
    "## Group Lab: Lists\n",
    "* Write a Python program to maintain a list \n",
    "  * Read input until the user enters 'quit'\n",
    "  * Words that the user enters should be added to the list\n",
    "  * If the user enters a word that begins with '-' (e.g., '-fig') that means the user is asking for that word (without the '-') to be removed (e.g., '-fig' means remove 'fig')\n",
    "  * If the user enters only a '-', the list should be reversed\n",
    "  * After each operation, print the list\n",
    "  * Extras:\n",
    "      * If user enters more than one word (e.g, __foo bar__), add \"foo\" and \"bar\" to the list, rather than \"foo bar\"\n",
    "      * Same for \"-\", i.e., __-foo bar__ would remove \"foo\" and \"bar\" from the  list"
   ]
  },
  {
   "cell_type": "code",
   "execution_count": 10,
   "id": "b75c5061-a10d-4333-b36f-49398db6fe14",
   "metadata": {},
   "outputs": [
    {
     "name": "stdin",
     "output_type": "stream",
     "text": [
      "Enter a word:  apple\n"
     ]
    },
    {
     "name": "stdout",
     "output_type": "stream",
     "text": [
      "process apple\n"
     ]
    },
    {
     "name": "stdin",
     "output_type": "stream",
     "text": [
      "Enter a word:  quit\n"
     ]
    }
   ],
   "source": [
    "prompt = 'Enter a word: '\n",
    "response = input(prompt)  # get input from the user\n",
    "\n",
    "while response != 'quit': # compare that input with 'quit'\n",
    "    print('process', response)\n",
    "    response = input(prompt)"
   ]
  },
  {
   "cell_type": "code",
   "execution_count": 13,
   "id": "65b5a0fb-c9d5-4ca5-850b-91ad35c7a01e",
   "metadata": {},
   "outputs": [
    {
     "name": "stdin",
     "output_type": "stream",
     "text": [
      "Enter:  apple\n"
     ]
    },
    {
     "name": "stdout",
     "output_type": "stream",
     "text": [
      "process apple\n"
     ]
    },
    {
     "name": "stdin",
     "output_type": "stream",
     "text": [
      "Enter:  fig\n"
     ]
    },
    {
     "name": "stdout",
     "output_type": "stream",
     "text": [
      "process fig\n"
     ]
    },
    {
     "name": "stdin",
     "output_type": "stream",
     "text": [
      "Enter:  quit\n"
     ]
    }
   ],
   "source": [
    "response = ''\n",
    "while response != 'quit':\n",
    "    response = input('Enter: ')\n",
    "    if response == 'quit':\n",
    "        break\n",
    "    print('process', response)"
   ]
  },
  {
   "cell_type": "code",
   "execution_count": 19,
   "id": "0f6ec2ba-698a-472a-b46b-d1456b2812dd",
   "metadata": {},
   "outputs": [
    {
     "name": "stdin",
     "output_type": "stream",
     "text": [
      "Enter:  apple\n"
     ]
    },
    {
     "name": "stdout",
     "output_type": "stream",
     "text": [
      "process apple\n"
     ]
    },
    {
     "name": "stdin",
     "output_type": "stream",
     "text": [
      "Enter:  fig\n"
     ]
    },
    {
     "name": "stdout",
     "output_type": "stream",
     "text": [
      "process fig\n"
     ]
    },
    {
     "name": "stdin",
     "output_type": "stream",
     "text": [
      "Enter:  pear\n"
     ]
    },
    {
     "name": "stdout",
     "output_type": "stream",
     "text": [
      "process pear\n"
     ]
    },
    {
     "name": "stdin",
     "output_type": "stream",
     "text": [
      "Enter:  quit\n"
     ]
    }
   ],
   "source": [
    "while True: # forever...\n",
    "    response = input('Enter: ')\n",
    "    if response == 'quit':\n",
    "        break\n",
    "    print('process', response)"
   ]
  },
  {
   "cell_type": "code",
   "execution_count": 20,
   "id": "1e081f81-6c4b-4b5e-a1e8-a11527f0846a",
   "metadata": {},
   "outputs": [
    {
     "ename": "SyntaxError",
     "evalue": "invalid syntax (2285486856.py, line 1)",
     "output_type": "error",
     "traceback": [
      "\u001b[0;36m  Input \u001b[0;32mIn [20]\u001b[0;36m\u001b[0m\n\u001b[0;31m    while (response = input('Enter: ')) != 'quit':\u001b[0m\n\u001b[0m                    ^\u001b[0m\n\u001b[0;31mSyntaxError\u001b[0m\u001b[0;31m:\u001b[0m invalid syntax\n"
     ]
    }
   ],
   "source": [
    "while (response = input('Enter: ')) != 'quit':\n",
    "    print('process', response)"
   ]
  },
  {
   "cell_type": "code",
   "execution_count": 29,
   "id": "a27439c5-6aff-4017-953f-04dab7b05637",
   "metadata": {},
   "outputs": [
    {
     "name": "stdin",
     "output_type": "stream",
     "text": [
      "Enter:  Quit\n"
     ]
    }
   ],
   "source": [
    "while (response := input('Enter: ').lower()) != 'quit':\n",
    "    print('process', response)"
   ]
  },
  {
   "cell_type": "code",
   "execution_count": 26,
   "id": "8a944740-2f0a-4703-98a9-15ad8dff5ef2",
   "metadata": {},
   "outputs": [
    {
     "name": "stdout",
     "output_type": "stream",
     "text": [
      "soemthing\n"
     ]
    }
   ],
   "source": [
    "value = 1\n",
    "\n",
    "#...\n",
    "\n",
    "if (number := value) > 0:\n",
    "    print('soemthing')"
   ]
  },
  {
   "cell_type": "code",
   "execution_count": 34,
   "id": "f1a4579e-e2c3-4c71-a8cd-8d7ce200b1fc",
   "metadata": {},
   "outputs": [
    {
     "name": "stdin",
     "output_type": "stream",
     "text": [
      "Enter:  1\n"
     ]
    },
    {
     "name": "stdout",
     "output_type": "stream",
     "text": [
      "1\n"
     ]
    },
    {
     "name": "stdin",
     "output_type": "stream",
     "text": [
      "Enter:  2\n"
     ]
    },
    {
     "name": "stdout",
     "output_type": "stream",
     "text": [
      "1, 2\n"
     ]
    },
    {
     "name": "stdin",
     "output_type": "stream",
     "text": [
      "Enter:  3\n"
     ]
    },
    {
     "name": "stdout",
     "output_type": "stream",
     "text": [
      "1, 2, 3\n"
     ]
    },
    {
     "name": "stdin",
     "output_type": "stream",
     "text": [
      "Enter:  4\n"
     ]
    },
    {
     "name": "stdout",
     "output_type": "stream",
     "text": [
      "1, 2, 3, 4\n"
     ]
    },
    {
     "name": "stdin",
     "output_type": "stream",
     "text": [
      "Enter:  quit\n"
     ]
    }
   ],
   "source": [
    "items = [] # start w/an empty list\n",
    "\n",
    "# use walrus operator to make user input easier\n",
    "# stop when they type 'quit'\n",
    "while (response := input('Enter: ')) != 'quit':\n",
    "    items.append(response)\n",
    "    print(*items, sep=', ')"
   ]
  },
  {
   "cell_type": "code",
   "execution_count": 43,
   "id": "98e75696-cf99-48d1-97b0-c3e705dbb90f",
   "metadata": {},
   "outputs": [
    {
     "name": "stdin",
     "output_type": "stream",
     "text": [
      "Enter:  -fig\n"
     ]
    },
    {
     "name": "stdout",
     "output_type": "stream",
     "text": [
      "That's not in the list!\n",
      "\n"
     ]
    },
    {
     "name": "stdin",
     "output_type": "stream",
     "text": [
      "Enter:  qut\n"
     ]
    },
    {
     "name": "stdout",
     "output_type": "stream",
     "text": [
      "qut\n"
     ]
    },
    {
     "name": "stdin",
     "output_type": "stream",
     "text": [
      "Enter:  quit\n"
     ]
    }
   ],
   "source": [
    "# let's implement -word to remove from the list\n",
    "\n",
    "items = [] # start w/an empty list\n",
    "\n",
    "# use walrus operator to make user input easier\n",
    "# stop when they type 'quit'\n",
    "while (response := input('Enter: ')) != 'quit':\n",
    "    if response.startswith('-'): # response starts with -\n",
    "        if response[1:] in items:\n",
    "            items.remove(response[1:])\n",
    "        else:\n",
    "            print(\"That's not in the list!\")\n",
    "    else:\n",
    "        items.append(response)\n",
    "    print(*items, sep=', ')"
   ]
  },
  {
   "cell_type": "code",
   "execution_count": 36,
   "id": "1e886c79-c108-4e79-81a4-f1c106617be6",
   "metadata": {},
   "outputs": [
    {
     "data": {
      "text/plain": [
       "'-'"
      ]
     },
     "execution_count": 36,
     "metadata": {},
     "output_type": "execute_result"
    }
   ],
   "source": [
    "'-fig'[0]"
   ]
  },
  {
   "cell_type": "code",
   "execution_count": 40,
   "id": "221e896a-bb9f-425d-b327-68c4926ef95a",
   "metadata": {},
   "outputs": [
    {
     "data": {
      "text/plain": [
       "'fig'"
      ]
     },
     "execution_count": 40,
     "metadata": {},
     "output_type": "execute_result"
    }
   ],
   "source": [
    "'-fig'[1:]"
   ]
  },
  {
   "cell_type": "code",
   "execution_count": 68,
   "id": "a18ec845-a925-49fb-8596-0e99238f0f8a",
   "metadata": {
    "collapsed": true,
    "jupyter": {
     "outputs_hidden": true
    },
    "tags": []
   },
   "outputs": [
    {
     "name": "stdin",
     "output_type": "stream",
     "text": [
      "Enter:  -\n"
     ]
    },
    {
     "name": "stdout",
     "output_type": "stream",
     "text": [
      "\n"
     ]
    },
    {
     "name": "stdin",
     "output_type": "stream",
     "text": [
      "Enter:  fig\n"
     ]
    },
    {
     "name": "stdout",
     "output_type": "stream",
     "text": [
      "fig\n"
     ]
    },
    {
     "name": "stdin",
     "output_type": "stream",
     "text": [
      "Enter:  -\n"
     ]
    },
    {
     "name": "stdout",
     "output_type": "stream",
     "text": [
      "fig\n"
     ]
    },
    {
     "name": "stdin",
     "output_type": "stream",
     "text": [
      "Enter:  quit\n"
     ]
    }
   ],
   "source": [
    "# let's implement -word to remove from the list\n",
    "\n",
    "items = [] # start w/an empty list\n",
    "\n",
    "# use walrus operator to make user input easier\n",
    "# stop when they type 'quit'\n",
    "while (response := input('Enter: ')) != 'quit':\n",
    "    if not response: # avoid adding empty strings to the list  \n",
    "        continue\n",
    "    if response[0] == '-': # response starts with -\n",
    "        if response == '-': # exactly a '-'\n",
    "            items = items[::-1]\n",
    "        elif response[1:] in items: # -something\n",
    "            items.remove(response[1:])\n",
    "        else:\n",
    "            print(\"That's not in the list!\")\n",
    "    else:\n",
    "        items.append(response)\n",
    "    print(*items, sep=', ')"
   ]
  },
  {
   "cell_type": "code",
   "execution_count": 44,
   "id": "278c265d-9746-4bf5-b7c9-2af9b3e61bb7",
   "metadata": {},
   "outputs": [
    {
     "name": "stdout",
     "output_type": "stream",
     "text": [
      "Help on built-in function reverse:\n",
      "\n",
      "reverse() method of builtins.list instance\n",
      "    Reverse *IN PLACE*.\n",
      "\n"
     ]
    }
   ],
   "source": [
    "help(items.reverse)"
   ]
  },
  {
   "cell_type": "code",
   "execution_count": 49,
   "id": "539b8abd-b8f5-45ed-9564-bad0a6fc785d",
   "metadata": {},
   "outputs": [],
   "source": [
    "empty = ''"
   ]
  },
  {
   "cell_type": "code",
   "execution_count": 50,
   "id": "35f6fed5-ccdb-4e4e-9ce0-17fc01d06980",
   "metadata": {},
   "outputs": [
    {
     "data": {
      "text/plain": [
       "0"
      ]
     },
     "execution_count": 50,
     "metadata": {},
     "output_type": "execute_result"
    }
   ],
   "source": [
    "len(empty)"
   ]
  },
  {
   "cell_type": "code",
   "execution_count": 52,
   "id": "b8d6e516-e052-4ca4-a816-54b1fad8f93b",
   "metadata": {},
   "outputs": [
    {
     "ename": "IndexError",
     "evalue": "string index out of range",
     "output_type": "error",
     "traceback": [
      "\u001b[0;31m---------------------------------------------------------------------------\u001b[0m",
      "\u001b[0;31mIndexError\u001b[0m                                Traceback (most recent call last)",
      "Input \u001b[0;32mIn [52]\u001b[0m, in \u001b[0;36m<cell line: 1>\u001b[0;34m()\u001b[0m\n\u001b[0;32m----> 1\u001b[0m \u001b[43mempty\u001b[49m\u001b[43m[\u001b[49m\u001b[38;5;241;43m0\u001b[39;49m\u001b[43m]\u001b[49m\n",
      "\u001b[0;31mIndexError\u001b[0m: string index out of range"
     ]
    }
   ],
   "source": [
    "empty[0] # what's the first character?"
   ]
  },
  {
   "cell_type": "code",
   "execution_count": 55,
   "id": "cdc2f4f9-09a8-445f-8570-713309583a22",
   "metadata": {},
   "outputs": [
    {
     "data": {
      "text/plain": [
       "False"
      ]
     },
     "execution_count": 55,
     "metadata": {},
     "output_type": "execute_result"
    }
   ],
   "source": [
    "empty.startswith('-')"
   ]
  },
  {
   "cell_type": "code",
   "execution_count": 56,
   "id": "d7cbc1e8-31cf-4c24-8bab-e1248a3142e6",
   "metadata": {},
   "outputs": [
    {
     "name": "stdout",
     "output_type": "stream",
     "text": [
      "yes\n"
     ]
    }
   ],
   "source": [
    "if 5 > 3:\n",
    "    print('yes')"
   ]
  },
  {
   "cell_type": "code",
   "execution_count": 57,
   "id": "a6dd46d8-83ef-4dd7-89fb-3d5150d10e70",
   "metadata": {},
   "outputs": [
    {
     "name": "stdout",
     "output_type": "stream",
     "text": [
      "yes\n"
     ]
    }
   ],
   "source": [
    "if 5:\n",
    "    print('yes')"
   ]
  },
  {
   "cell_type": "code",
   "execution_count": 58,
   "id": "9e1659ea-45f1-42bb-af26-921983a806c1",
   "metadata": {},
   "outputs": [],
   "source": [
    "if 0.0:\n",
    "    print('nope')"
   ]
  },
  {
   "cell_type": "code",
   "execution_count": 59,
   "id": "4dd7560a-06e9-4904-8fea-26da5a5b946a",
   "metadata": {},
   "outputs": [],
   "source": [
    "value = -4"
   ]
  },
  {
   "cell_type": "code",
   "execution_count": 61,
   "id": "f3064802-9f85-40a8-9313-ca7cb41a7512",
   "metadata": {
    "tags": []
   },
   "outputs": [
    {
     "name": "stdout",
     "output_type": "stream",
     "text": [
      "ok\n"
     ]
    }
   ],
   "source": [
    "if value: # if value != 0.0\n",
    "    print('ok')"
   ]
  },
  {
   "cell_type": "code",
   "execution_count": 63,
   "id": "ce7c19d6-2802-4165-8772-7dde71bf938f",
   "metadata": {},
   "outputs": [
    {
     "name": "stdout",
     "output_type": "stream",
     "text": [
      "something\n"
     ]
    }
   ],
   "source": [
    "if [1]:\n",
    "    print('something')"
   ]
  },
  {
   "cell_type": "code",
   "execution_count": 65,
   "id": "a20fa1b4-f9a2-4a49-bc43-43018bed81ca",
   "metadata": {},
   "outputs": [],
   "source": [
    "items_list = [1, 2, 3]"
   ]
  },
  {
   "cell_type": "code",
   "execution_count": 66,
   "id": "5623cb65-bc0e-4a69-b213-932911f8095f",
   "metadata": {},
   "outputs": [
    {
     "name": "stdout",
     "output_type": "stream",
     "text": [
      "non-empty\n"
     ]
    }
   ],
   "source": [
    "if items_list:\n",
    "    print('non-empty')"
   ]
  },
  {
   "cell_type": "code",
   "execution_count": 69,
   "id": "b1add9b6-c7b4-4c4a-bc74-0a812b9685db",
   "metadata": {},
   "outputs": [],
   "source": [
    "empty_list = []"
   ]
  },
  {
   "cell_type": "code",
   "execution_count": 73,
   "id": "6cab26b6-2fa4-44d2-9b65-d927a93f0be6",
   "metadata": {},
   "outputs": [],
   "source": [
    "if empty_list != []:\n",
    "    print('list is non-empty')"
   ]
  },
  {
   "cell_type": "code",
   "execution_count": 74,
   "id": "431e1973-3abd-405d-8ed7-6eea01b96ae1",
   "metadata": {},
   "outputs": [],
   "source": [
    "if len(empty_list) > 0:\n",
    "    print('list is non-empty')"
   ]
  },
  {
   "cell_type": "code",
   "execution_count": 76,
   "id": "ff5cc999-e36c-4d31-be53-9cb870073647",
   "metadata": {},
   "outputs": [
    {
     "ename": "AssertionError",
     "evalue": "lists must be same length",
     "output_type": "error",
     "traceback": [
      "\u001b[0;31m---------------------------------------------------------------------------\u001b[0m",
      "\u001b[0;31mAssertionError\u001b[0m                            Traceback (most recent call last)",
      "Input \u001b[0;32mIn [76]\u001b[0m, in \u001b[0;36m<cell line: 4>\u001b[0;34m()\u001b[0m\n\u001b[1;32m      1\u001b[0m first_names \u001b[38;5;241m=\u001b[39m [\u001b[38;5;124m'\u001b[39m\u001b[38;5;124mKatherine\u001b[39m\u001b[38;5;124m'\u001b[39m, \u001b[38;5;124m'\u001b[39m\u001b[38;5;124mBruce\u001b[39m\u001b[38;5;124m'\u001b[39m, \u001b[38;5;124m'\u001b[39m\u001b[38;5;124mTaylor\u001b[39m\u001b[38;5;124m'\u001b[39m]\n\u001b[1;32m      2\u001b[0m last_names \u001b[38;5;241m=\u001b[39m [\u001b[38;5;124m'\u001b[39m\u001b[38;5;124mJohnson\u001b[39m\u001b[38;5;124m'\u001b[39m, \u001b[38;5;124m'\u001b[39m\u001b[38;5;124mLee\u001b[39m\u001b[38;5;124m'\u001b[39m, \u001b[38;5;124m'\u001b[39m\u001b[38;5;124mSwift\u001b[39m\u001b[38;5;124m'\u001b[39m, \u001b[38;5;124m'\u001b[39m\u001b[38;5;124mFrost\u001b[39m\u001b[38;5;124m'\u001b[39m]\n\u001b[0;32m----> 4\u001b[0m \u001b[38;5;28;01massert\u001b[39;00m \u001b[38;5;28mlen\u001b[39m(first_names) \u001b[38;5;241m==\u001b[39m \u001b[38;5;28mlen\u001b[39m(last_names), \u001b[38;5;124m'\u001b[39m\u001b[38;5;124mlists must be same length\u001b[39m\u001b[38;5;124m'\u001b[39m\n\u001b[1;32m      6\u001b[0m \u001b[38;5;28;01mfor\u001b[39;00m first, last \u001b[38;5;129;01min\u001b[39;00m \u001b[38;5;28mzip\u001b[39m(first_names, last_names):\n\u001b[1;32m      7\u001b[0m     \u001b[38;5;28mprint\u001b[39m(first, last)\n",
      "\u001b[0;31mAssertionError\u001b[0m: lists must be same length"
     ]
    }
   ],
   "source": [
    "first_names = ['Katherine', 'Bruce', 'Taylor']\n",
    "last_names = ['Johnson', 'Lee', 'Swift', 'Frost']\n",
    "\n",
    "assert len(first_names) == len(last_names), 'lists must be same length'\n",
    "\n",
    "for first, last in zip(first_names, last_names):\n",
    "    print(first, last)"
   ]
  },
  {
   "cell_type": "code",
   "execution_count": 78,
   "id": "4f1cb9c4-bb09-4a27-b419-40b761262034",
   "metadata": {},
   "outputs": [],
   "source": [
    "fruits = ['apple', 'fig', 'pear', 'lemon', ]"
   ]
  },
  {
   "cell_type": "code",
   "execution_count": 80,
   "id": "5c3928e4-c541-4d7d-98e9-629a2703cd1a",
   "metadata": {},
   "outputs": [],
   "source": [
    "fruits = 'apple fig pear lemon'.split()"
   ]
  },
  {
   "cell_type": "code",
   "execution_count": 82,
   "id": "edcd5b3b-ed7f-4a03-98e0-112f94782f22",
   "metadata": {},
   "outputs": [
    {
     "data": {
      "text/plain": [
       "['apple', 'fig', 'pear', 'lemon']"
      ]
     },
     "execution_count": 82,
     "metadata": {},
     "output_type": "execute_result"
    }
   ],
   "source": [
    "fruits"
   ]
  },
  {
   "cell_type": "code",
   "execution_count": 86,
   "id": "e2968023-b13e-420b-8302-fce28b1ed6bd",
   "metadata": {},
   "outputs": [
    {
     "data": {
      "text/plain": [
       "True"
      ]
     },
     "execution_count": 86,
     "metadata": {},
     "output_type": "execute_result"
    }
   ],
   "source": [
    "'milk'[-1] not in 'aeiou'"
   ]
  },
  {
   "cell_type": "code",
   "execution_count": 87,
   "id": "e779e966-37ff-487f-b995-c544d18c064e",
   "metadata": {},
   "outputs": [
    {
     "name": "stdout",
     "output_type": "stream",
     "text": [
      "[1, 2, 3, 4, 5, 6, 7, 8, 9, 10, 11, 12, 13, 14, 15, 16, 17, 18, 19, 20, 21, 22, 23, 24, 25, 26, 27, 28, 29, 30, 31, 32, 33, 34, 35, 36, 37, 38, 39, 40, 41, 42, 43, 44, 45, 46, 47, 48, 49, 50, 51, 52, 53, 54, 55, 56, 57, 58, 59, 60, 61, 62, 63, 64, 65, 66, 67, 68, 69, 70, 71, 72, 73, 74, 75, 76, 77, 78, 79, 80, 81, 82, 83, 84, 85, 86, 87, 88, 89, 90, 91, 92, 93, 94, 95, 96, 97, 98, 99, 100]\n"
     ]
    }
   ],
   "source": [
    "nums = list(range(1, 101))\n",
    "print(nums)"
   ]
  },
  {
   "cell_type": "code",
   "execution_count": 89,
   "id": "0523dab2-8aff-4e04-8bc6-770c983b650a",
   "metadata": {},
   "outputs": [
    {
     "name": "stdout",
     "output_type": "stream",
     "text": [
      "[0, 5, 10, 15, 20, 25, 30, 35, 40, 45, 50, 55, 60, 65, 70, 75, 80, 85, 90, 95, 100]\n"
     ]
    }
   ],
   "source": [
    "print(list(range(0, 105, 5)))"
   ]
  },
  {
   "cell_type": "markdown",
   "id": "865e2d3a-ac89-4adf-b27b-973e73826ff3",
   "metadata": {},
   "source": [
    "## Lab: List Comprehensions\n",
    "*  Start with Cartesian product example (colors x sizes of t-shirts) and add a third list, __`sleeves = ['short', 'long']`__ then write a new listcomp which generates the Cartesian product __`colors x sizes x sleeves`__. __`tshirts`__ should look like this:<pre><b>\n",
    "    [['black', 'S', 'short'],\n",
    "     ['black', 'S', 'long'],\n",
    "     ['black', 'M', 'short'],\n",
    "     ['black', 'M', 'long'],\n",
    "     ['black', 'L', 'short'],\n",
    "     ['black', 'L', 'long'],\n",
    "     ['white', 'S', 'short'],\n",
    "     ['white', 'S', 'long'],\n",
    "     ['white', 'M', 'short'],\n",
    "     ['white', 'M', 'long'],\n",
    "     ['white', 'L', 'short'],\n",
    "     ['white', 'L', 'long']]\n",
    "     \n",
    " </b></pre>\n",
    " "
   ]
  },
  {
   "cell_type": "code",
   "execution_count": 96,
   "id": "d587b966-affa-4640-b102-0e94ab77b373",
   "metadata": {},
   "outputs": [
    {
     "data": {
      "text/plain": [
       "[['black', 'S', 'short'],\n",
       " ['black', 'S', 'long'],\n",
       " ['black', 'M', 'short'],\n",
       " ['black', 'M', 'long'],\n",
       " ['black', 'L', 'short'],\n",
       " ['black', 'L', 'long'],\n",
       " ['black', 'XL', 'short'],\n",
       " ['black', 'XL', 'long'],\n",
       " ['white', 'S', 'short'],\n",
       " ['white', 'S', 'long'],\n",
       " ['white', 'M', 'short'],\n",
       " ['white', 'M', 'long'],\n",
       " ['white', 'L', 'short'],\n",
       " ['white', 'L', 'long'],\n",
       " ['white', 'XL', 'short'],\n",
       " ['white', 'XL', 'long'],\n",
       " ['green', 'S', 'short'],\n",
       " ['green', 'S', 'long'],\n",
       " ['green', 'M', 'short'],\n",
       " ['green', 'M', 'long'],\n",
       " ['green', 'L', 'short'],\n",
       " ['green', 'L', 'long'],\n",
       " ['green', 'XL', 'short'],\n",
       " ['green', 'XL', 'long'],\n",
       " ['red', 'S', 'short'],\n",
       " ['red', 'S', 'long'],\n",
       " ['red', 'M', 'short'],\n",
       " ['red', 'M', 'long'],\n",
       " ['red', 'L', 'short'],\n",
       " ['red', 'L', 'long'],\n",
       " ['red', 'XL', 'short'],\n",
       " ['red', 'XL', 'long']]"
      ]
     },
     "execution_count": 96,
     "metadata": {},
     "output_type": "execute_result"
    }
   ],
   "source": [
    "colors = ['black', 'white', 'green', 'red']\n",
    "sizes = ['S', 'M', 'L', 'XL']\n",
    "sleeves = ['short', 'long']\n",
    "\n",
    "tshirts = [[color, size, sleeve] for color in colors\n",
    "                                    for size in sizes\n",
    "                                       for sleeve in sleeves]\n",
    "tshirts"
   ]
  },
  {
   "cell_type": "markdown",
   "id": "70c7065a-735a-434e-8b54-f662aa5ee4e8",
   "metadata": {},
   "source": [
    "* Use a list comprehension to create a list of the squares of the integers from 1 to 25 (i.e, 1, 4, 9, 16, …, 625)"
   ]
  },
  {
   "cell_type": "code",
   "execution_count": 91,
   "id": "64929cb6-ffb4-4ef5-8a3c-8bb4b93664cd",
   "metadata": {},
   "outputs": [
    {
     "name": "stdout",
     "output_type": "stream",
     "text": [
      "[1, 8, 27, 64, 125, 216, 343, 512, 729, 1000, 1331, 1728, 2197, 2744, 3375, 4096, 4913, 5832, 6859, 8000, 9261, 10648, 12167, 13824, 15625]\n"
     ]
    }
   ],
   "source": [
    "# squares: \"standard list comp\"\n",
    "squares = [num * num for num in range(1, 26)]\n",
    "print(squares)"
   ]
  },
  {
   "cell_type": "markdown",
   "id": "433c0aef-ddd3-4348-ac59-ca9ba9d24e1d",
   "metadata": {},
   "source": [
    "* Given a list of words, create a second list which contains all the words from the first list which do not end with a vowel"
   ]
  },
  {
   "cell_type": "code",
   "execution_count": 101,
   "id": "557034ee-ee04-4750-9079-caef3b9c2180",
   "metadata": {},
   "outputs": [
    {
     "name": "stdout",
     "output_type": "stream",
     "text": [
      "['fig', 'pear', 'lemon', 'milk']\n"
     ]
    }
   ],
   "source": [
    "# vowels: \"filter\"\n",
    "words = 'apple fig pear banana lemon lime pancake milk'.split()\n",
    "no_end_in_vowel = [word for word in words\n",
    "                            if word[-1] not in 'aeiou']\n",
    "print(no_end_in_vowel)"
   ]
  },
  {
   "cell_type": "code",
   "execution_count": 102,
   "id": "d20b7bff-df7d-4a38-8de7-c492aaa65357",
   "metadata": {},
   "outputs": [
    {
     "name": "stdout",
     "output_type": "stream",
     "text": [
      "['elppa', 'gif', 'raep', 'ananab', 'nomel', 'emil', 'ekacnap', 'klim']\n"
     ]
    }
   ],
   "source": [
    "reversed_words = [word[::-1] for word in words]\n",
    "print(reversed_words)"
   ]
  },
  {
   "cell_type": "markdown",
   "id": "9a2ab2a6-4006-4759-a2c8-45ed0a481874",
   "metadata": {},
   "source": [
    "* Use a list comprehension to create a list of the integers from 1 to 100 which are not divisible by 5"
   ]
  },
  {
   "cell_type": "code",
   "execution_count": null,
   "id": "0806a194-547a-45ad-bdf9-d7ef93209954",
   "metadata": {},
   "outputs": [],
   "source": [
    "# no multiples of 5: \"filter\"\n",
    "no_divis_by_5 = [num for num in range(1, 101)\n",
    "                         if num % 5] # != 0\n",
    "print(no_divis_by_5)"
   ]
  },
  {
   "cell_type": "markdown",
   "id": "554cd4ac-cd6d-44e5-bf4d-ccf07764e80b",
   "metadata": {},
   "source": [
    "* Use a list comprehension and __`zip()`__ to create a list of lists, where the list items are name and ID number that you grabbed from separate lists of names and ID numbers\n",
    "  * start with a list of, say, 5 names ['John', 'Mary', 'Edward', 'Linda', 'Dinesh']\n",
    "  * and a list of, say, 5 ID numbers [1003, 2043, 8762, 7862, 1093]\n",
    "  * additional wrinkle: do not include any names whose corresponding ID is -1"
   ]
  },
  {
   "cell_type": "code",
   "execution_count": 103,
   "id": "3611fc8a-d828-4572-aca9-72bb3b773f0a",
   "metadata": {},
   "outputs": [
    {
     "name": "stdout",
     "output_type": "stream",
     "text": [
      "[['John', 1003], ['Mary', 2043], ['Edward', 8762], ['Linda', 7862], ['Dinesh', 1093]]\n"
     ]
    }
   ],
   "source": [
    "# employee name/ID: \"zip\"\n",
    "names = ['John', 'Mary', 'Edward', 'Linda', 'Dinesh']\n",
    "ids = [1003, 2043, 8762, 7862, 1093]\n",
    "employees = [[name, emp_id] for name, emp_id in zip(names, ids)]\n",
    "print(employees)"
   ]
  },
  {
   "cell_type": "code",
   "execution_count": 104,
   "id": "b337ba88-fcfd-4b01-8596-c84a9be1a3e4",
   "metadata": {},
   "outputs": [
    {
     "name": "stdout",
     "output_type": "stream",
     "text": [
      "[['John', 1003], ['Mary', 2043], ['Linda', 7862]]\n"
     ]
    }
   ],
   "source": [
    "# employee name/ID except for -1: \"zip + filter\"\n",
    "ids = [1003, 2043, -1, 7862, -1]\n",
    "employees = [[name, id] for name, id in zip(names, ids)\n",
    "                            if id != -1]\n",
    "print(employees)"
   ]
  },
  {
   "cell_type": "code",
   "execution_count": 105,
   "id": "bdaa5cf6-91e3-43b4-93c4-1293b2c90cbd",
   "metadata": {},
   "outputs": [
    {
     "data": {
      "text/plain": [
       "[2]"
      ]
     },
     "execution_count": 105,
     "metadata": {},
     "output_type": "execute_result"
    }
   ],
   "source": [
    "[2]"
   ]
  },
  {
   "cell_type": "code",
   "execution_count": 108,
   "id": "b4bf1ebc-26bb-4ff3-8884-2b582a4dd101",
   "metadata": {},
   "outputs": [
    {
     "data": {
      "text/plain": [
       "3"
      ]
     },
     "execution_count": 108,
     "metadata": {},
     "output_type": "execute_result"
    }
   ],
   "source": [
    "(3)"
   ]
  },
  {
   "cell_type": "code",
   "execution_count": 110,
   "id": "bef9ce7e-f73d-400a-8f29-be603149118b",
   "metadata": {},
   "outputs": [],
   "source": [
    "x = 2\n",
    "y = 4"
   ]
  },
  {
   "cell_type": "code",
   "execution_count": 111,
   "id": "bc36b4e0-0ec8-4dbe-afeb-02fc368a1854",
   "metadata": {},
   "outputs": [],
   "source": [
    "temp = x\n",
    "x = y\n",
    "y = temp"
   ]
  },
  {
   "cell_type": "code",
   "execution_count": 113,
   "id": "1c4a6d58-c9f7-446e-bf89-bd08ed76de9e",
   "metadata": {},
   "outputs": [
    {
     "name": "stdout",
     "output_type": "stream",
     "text": [
      "4 2\n"
     ]
    }
   ],
   "source": [
    "print(x, y)"
   ]
  },
  {
   "cell_type": "code",
   "execution_count": 114,
   "id": "206f8d6b-9c24-4970-aeb7-d9a94d192a7e",
   "metadata": {},
   "outputs": [],
   "source": [
    "x, y = y, x"
   ]
  },
  {
   "cell_type": "code",
   "execution_count": 115,
   "id": "e3cb3d28-2d51-4ed0-b6ef-9c806c73060a",
   "metadata": {},
   "outputs": [
    {
     "name": "stdout",
     "output_type": "stream",
     "text": [
      "2 4\n"
     ]
    }
   ],
   "source": [
    "print(x, y)"
   ]
  },
  {
   "cell_type": "code",
   "execution_count": 117,
   "id": "393bb009-353f-42cb-829f-da0bf9418ac2",
   "metadata": {},
   "outputs": [
    {
     "data": {
      "text/plain": [
       "(1, 3)"
      ]
     },
     "execution_count": 117,
     "metadata": {},
     "output_type": "execute_result"
    }
   ],
   "source": [
    "divmod(8, 5)"
   ]
  },
  {
   "cell_type": "code",
   "execution_count": 118,
   "id": "b8fdd4a7-a30b-460b-a081-40b15ed89602",
   "metadata": {},
   "outputs": [],
   "source": [
    "quot, rem = divmod(8, 5)"
   ]
  },
  {
   "cell_type": "code",
   "execution_count": 119,
   "id": "34e53439-dfd3-4905-bac5-f4952be9cb7f",
   "metadata": {},
   "outputs": [
    {
     "name": "stdout",
     "output_type": "stream",
     "text": [
      "1 3\n"
     ]
    }
   ],
   "source": [
    "print(quot, rem)"
   ]
  },
  {
   "cell_type": "code",
   "execution_count": 120,
   "id": "507b94e8-fddc-42a8-bab1-56209bac44b1",
   "metadata": {},
   "outputs": [],
   "source": [
    "name = 'Bob'"
   ]
  },
  {
   "cell_type": "code",
   "execution_count": 122,
   "id": "d868a765-323b-4bb9-901c-58a50eb5edbf",
   "metadata": {},
   "outputs": [],
   "source": [
    "name = name + ' Ross' # name += ' Ross'"
   ]
  },
  {
   "cell_type": "code",
   "execution_count": 123,
   "id": "c7b3ea9d-fb9f-47d9-9dd0-0f1730e7c8eb",
   "metadata": {},
   "outputs": [
    {
     "data": {
      "text/plain": [
       "'Bob Ross'"
      ]
     },
     "execution_count": 123,
     "metadata": {},
     "output_type": "execute_result"
    }
   ],
   "source": [
    "name"
   ]
  },
  {
   "cell_type": "code",
   "execution_count": 124,
   "id": "6229dfc5-e22a-4867-a847-b0c68e488e20",
   "metadata": {},
   "outputs": [
    {
     "ename": "TypeError",
     "evalue": "can only concatenate tuple (not \"int\") to tuple",
     "output_type": "error",
     "traceback": [
      "\u001b[0;31m---------------------------------------------------------------------------\u001b[0m",
      "\u001b[0;31mTypeError\u001b[0m                                 Traceback (most recent call last)",
      "Input \u001b[0;32mIn [124]\u001b[0m, in \u001b[0;36m<cell line: 1>\u001b[0;34m()\u001b[0m\n\u001b[0;32m----> 1\u001b[0m \u001b[43m(\u001b[49m\u001b[38;5;241;43m1\u001b[39;49m\u001b[43m,\u001b[49m\u001b[43m \u001b[49m\u001b[38;5;241;43m2\u001b[39;49m\u001b[43m,\u001b[49m\u001b[43m \u001b[49m\u001b[38;5;241;43m3\u001b[39;49m\u001b[43m)\u001b[49m\u001b[43m \u001b[49m\u001b[38;5;241;43m+\u001b[39;49m\u001b[43m \u001b[49m\u001b[38;5;241;43m4\u001b[39;49m\n",
      "\u001b[0;31mTypeError\u001b[0m: can only concatenate tuple (not \"int\") to tuple"
     ]
    }
   ],
   "source": [
    "(1, 2, 3) + 4"
   ]
  },
  {
   "cell_type": "code",
   "execution_count": 125,
   "id": "984aabf1-23cb-4c01-a17b-31bf79f3059b",
   "metadata": {},
   "outputs": [
    {
     "data": {
      "text/plain": [
       "(1, 2, 3, 4)"
      ]
     },
     "execution_count": 125,
     "metadata": {},
     "output_type": "execute_result"
    }
   ],
   "source": [
    "(1, 2, 3) + (4,)"
   ]
  },
  {
   "cell_type": "code",
   "execution_count": 126,
   "id": "b1a816ca-5ca3-4e73-90cc-04f8b2c3b142",
   "metadata": {},
   "outputs": [],
   "source": [
    "t = ()"
   ]
  },
  {
   "cell_type": "markdown",
   "id": "15ddea82-cc62-4db9-bdbc-30836a7f0417",
   "metadata": {},
   "source": [
    "## Lab: Tuples\n",
    "* We don't really know enough yet to use a tuple in interesting ways, so instead let's just tinker around with tuples here in the notebook...\n",
    "  * Create a tuple representing a city w/field of your own choosing (e.g., city name, state/country, population, elevation, etc.)\n",
    "  * \"Add\" a field to the tuple–since tuples are immutable, you will have to do this by concatenating tuples\n",
    "  * Using the _in_ operator, check to see if a particular value is in the tuple\n",
    "  * Using the __`.index()`__ method, find the position of a particular value in the tuple"
   ]
  },
  {
   "cell_type": "code",
   "execution_count": 166,
   "id": "f983025c-6af9-46b2-8332-8f1e2a8abd84",
   "metadata": {},
   "outputs": [],
   "source": [
    "city = 'Québec City', 'Ville de Québec', 1832, 98"
   ]
  },
  {
   "cell_type": "code",
   "execution_count": 167,
   "id": "0f55807f-f882-4b73-8f16-c262d58463ef",
   "metadata": {},
   "outputs": [
    {
     "data": {
      "text/plain": [
       "('Québec City', 'Ville de Québec', 1832, 98, 549459)"
      ]
     },
     "execution_count": 167,
     "metadata": {},
     "output_type": "execute_result"
    }
   ],
   "source": [
    "city + (549_459,) # generate a new tuple consisting of the concatenation of city and (549_459,)"
   ]
  },
  {
   "cell_type": "code",
   "execution_count": 162,
   "id": "6f497555-36de-46d5-9c9b-a8f65187882e",
   "metadata": {},
   "outputs": [
    {
     "data": {
      "text/plain": [
       "('Québec City', 'Ville de Québec', 1832, 98)"
      ]
     },
     "execution_count": 162,
     "metadata": {},
     "output_type": "execute_result"
    }
   ],
   "source": [
    "city"
   ]
  },
  {
   "cell_type": "code",
   "execution_count": 163,
   "id": "870e25ed-0635-4156-bac5-111dfe015116",
   "metadata": {},
   "outputs": [],
   "source": [
    "city += (549_459,)"
   ]
  },
  {
   "cell_type": "code",
   "execution_count": 164,
   "id": "ba9d0f86-d8f1-44f8-af46-c624c655ffa4",
   "metadata": {},
   "outputs": [
    {
     "data": {
      "text/plain": [
       "('Québec City', 'Ville de Québec', 1832, 98, 549459)"
      ]
     },
     "execution_count": 164,
     "metadata": {},
     "output_type": "execute_result"
    }
   ],
   "source": [
    "city"
   ]
  },
  {
   "cell_type": "code",
   "execution_count": 138,
   "id": "0fb1c71a-e9ae-4518-9294-ca8433074799",
   "metadata": {},
   "outputs": [
    {
     "data": {
      "text/plain": [
       "True"
      ]
     },
     "execution_count": 138,
     "metadata": {},
     "output_type": "execute_result"
    }
   ],
   "source": [
    "549459 in city"
   ]
  },
  {
   "cell_type": "code",
   "execution_count": 140,
   "id": "84ee5108-ec91-41cd-8e2a-9cc0086bf60b",
   "metadata": {},
   "outputs": [
    {
     "ename": "ValueError",
     "evalue": "tuple.index(x): x not in tuple",
     "output_type": "error",
     "traceback": [
      "\u001b[0;31m---------------------------------------------------------------------------\u001b[0m",
      "\u001b[0;31mValueError\u001b[0m                                Traceback (most recent call last)",
      "Input \u001b[0;32mIn [140]\u001b[0m, in \u001b[0;36m<cell line: 1>\u001b[0;34m()\u001b[0m\n\u001b[0;32m----> 1\u001b[0m \u001b[43mcity\u001b[49m\u001b[38;5;241;43m.\u001b[39;49m\u001b[43mindex\u001b[49m\u001b[43m(\u001b[49m\u001b[38;5;241;43m55\u001b[39;49m\u001b[43m)\u001b[49m\n",
      "\u001b[0;31mValueError\u001b[0m: tuple.index(x): x not in tuple"
     ]
    }
   ],
   "source": [
    "city.index(55)"
   ]
  },
  {
   "cell_type": "code",
   "execution_count": 142,
   "id": "991e553e-8415-4da2-96b9-8e1eda19cf56",
   "metadata": {},
   "outputs": [
    {
     "name": "stdout",
     "output_type": "stream",
     "text": [
      "I just visited {city[0]} and it was founded in {city[2]}\n"
     ]
    }
   ],
   "source": [
    "print(f'I just visited {city[0]} and it was founded in {city[2]}')"
   ]
  },
  {
   "cell_type": "code",
   "execution_count": 143,
   "id": "54641507-a7b4-4129-afa9-db2ae58289ff",
   "metadata": {},
   "outputs": [],
   "source": [
    "x = 3\n",
    "y = 4"
   ]
  },
  {
   "cell_type": "code",
   "execution_count": 145,
   "id": "d53e571d-c29c-4610-992d-6704aa23b016",
   "metadata": {},
   "outputs": [
    {
     "name": "stdout",
     "output_type": "stream",
     "text": [
      "3 + 4 = 7\n"
     ]
    }
   ],
   "source": [
    "print(f'{x} + {y} = {x + y}')"
   ]
  },
  {
   "cell_type": "code",
   "execution_count": 147,
   "id": "deed130d-a028-41f7-9dd0-f56c19acb750",
   "metadata": {},
   "outputs": [
    {
     "name": "stdout",
     "output_type": "stream",
     "text": [
      "5! = 120\n"
     ]
    }
   ],
   "source": [
    "import math\n",
    "print(f'5! = {math.factorial(5)}')"
   ]
  },
  {
   "cell_type": "code",
   "execution_count": 148,
   "id": "255f703c-ff79-4b3c-80fd-351351ddd861",
   "metadata": {},
   "outputs": [
    {
     "data": {
      "text/plain": [
       "549459"
      ]
     },
     "execution_count": 148,
     "metadata": {},
     "output_type": "execute_result"
    }
   ],
   "source": [
    "city[-1]"
   ]
  },
  {
   "cell_type": "code",
   "execution_count": 150,
   "id": "da50a104-18aa-4f8f-a417-2d95d1bf56a2",
   "metadata": {},
   "outputs": [
    {
     "name": "stdout",
     "output_type": "stream",
     "text": [
      "549,459\n"
     ]
    }
   ],
   "source": [
    "print(f'{city[-1]:,}')"
   ]
  },
  {
   "cell_type": "code",
   "execution_count": 151,
   "id": "dd2d6155-13ea-4b30-88db-75575689e7c7",
   "metadata": {},
   "outputs": [],
   "source": [
    "this_thing = 'hello'"
   ]
  },
  {
   "cell_type": "code",
   "execution_count": 155,
   "id": "855f41ae-41a0-417d-969a-af3952d3d6e3",
   "metadata": {},
   "outputs": [],
   "source": [
    "number = 5"
   ]
  },
  {
   "cell_type": "code",
   "execution_count": 156,
   "id": "7e36fdc3-f9dc-4923-aea0-ac0a0ef16b12",
   "metadata": {},
   "outputs": [
    {
     "data": {
      "text/plain": [
       "8"
      ]
     },
     "execution_count": 156,
     "metadata": {},
     "output_type": "execute_result"
    }
   ],
   "source": [
    "number + 3"
   ]
  },
  {
   "cell_type": "code",
   "execution_count": 158,
   "id": "518f91fa-848e-4ec2-9b15-176a390290fc",
   "metadata": {},
   "outputs": [],
   "source": [
    "number += 3"
   ]
  },
  {
   "cell_type": "code",
   "execution_count": 159,
   "id": "fb6b66b9-6148-4135-bc56-fe6fb396ed19",
   "metadata": {},
   "outputs": [
    {
     "data": {
      "text/plain": [
       "8"
      ]
     },
     "execution_count": 159,
     "metadata": {},
     "output_type": "execute_result"
    }
   ],
   "source": [
    "number"
   ]
  },
  {
   "cell_type": "code",
   "execution_count": 168,
   "id": "40c68594-9d09-4fd2-a00e-06f4bc020a0f",
   "metadata": {},
   "outputs": [],
   "source": [
    "d = {'foo': 'bar'}"
   ]
  },
  {
   "cell_type": "code",
   "execution_count": 169,
   "id": "8ce3f03b-acad-4539-b9b4-225830f5c6bf",
   "metadata": {},
   "outputs": [
    {
     "data": {
      "text/plain": [
       "'bar'"
      ]
     },
     "execution_count": 169,
     "metadata": {},
     "output_type": "execute_result"
    }
   ],
   "source": [
    "d['foo']"
   ]
  },
  {
   "cell_type": "code",
   "execution_count": 170,
   "id": "18fe3c8b-8e67-4d5b-9086-b200afdc7742",
   "metadata": {},
   "outputs": [
    {
     "ename": "KeyError",
     "evalue": "'food'",
     "output_type": "error",
     "traceback": [
      "\u001b[0;31m---------------------------------------------------------------------------\u001b[0m",
      "\u001b[0;31mKeyError\u001b[0m                                  Traceback (most recent call last)",
      "Input \u001b[0;32mIn [170]\u001b[0m, in \u001b[0;36m<cell line: 1>\u001b[0;34m()\u001b[0m\n\u001b[0;32m----> 1\u001b[0m \u001b[43md\u001b[49m\u001b[43m[\u001b[49m\u001b[38;5;124;43m'\u001b[39;49m\u001b[38;5;124;43mfood\u001b[39;49m\u001b[38;5;124;43m'\u001b[39;49m\u001b[43m]\u001b[49m\n",
      "\u001b[0;31mKeyError\u001b[0m: 'food'"
     ]
    }
   ],
   "source": [
    "d['food']"
   ]
  },
  {
   "cell_type": "code",
   "execution_count": 171,
   "id": "3fa15e77-cb39-4765-8e35-8a892aa5507e",
   "metadata": {},
   "outputs": [],
   "source": [
    "sbux = {'venti': 20, 'tall': 12, 'grande': 16}"
   ]
  },
  {
   "cell_type": "code",
   "execution_count": 172,
   "id": "8077042a-4ef3-49dd-89aa-096937e83951",
   "metadata": {},
   "outputs": [
    {
     "data": {
      "text/plain": [
       "['grande', 'tall', 'venti']"
      ]
     },
     "execution_count": 172,
     "metadata": {},
     "output_type": "execute_result"
    }
   ],
   "source": [
    "sorted(sbux)"
   ]
  },
  {
   "cell_type": "code",
   "execution_count": 182,
   "id": "ed12a47a-0733-48d6-9db4-ebb998e817cd",
   "metadata": {},
   "outputs": [
    {
     "data": {
      "text/plain": [
       "['tall', 'grande', 'venti']"
      ]
     },
     "execution_count": 182,
     "metadata": {},
     "output_type": "execute_result"
    }
   ],
   "source": [
    "sorted(sbux, key=sbux.get)"
   ]
  },
  {
   "cell_type": "code",
   "execution_count": 173,
   "id": "0daa967f-e219-4c42-96f0-6959ee278beb",
   "metadata": {},
   "outputs": [],
   "source": [
    "fruits = 'apple fig pear banana'.split()"
   ]
  },
  {
   "cell_type": "code",
   "execution_count": 174,
   "id": "f679a2d2-d512-442f-bae6-0539530bc33f",
   "metadata": {},
   "outputs": [
    {
     "data": {
      "text/plain": [
       "['apple', 'fig', 'pear', 'banana']"
      ]
     },
     "execution_count": 174,
     "metadata": {},
     "output_type": "execute_result"
    }
   ],
   "source": [
    "fruits"
   ]
  },
  {
   "cell_type": "code",
   "execution_count": 175,
   "id": "663e05ad-01aa-4368-8361-c1aebefbb265",
   "metadata": {},
   "outputs": [
    {
     "data": {
      "text/plain": [
       "['apple', 'banana', 'fig', 'pear']"
      ]
     },
     "execution_count": 175,
     "metadata": {},
     "output_type": "execute_result"
    }
   ],
   "source": [
    "sorted(fruits)"
   ]
  },
  {
   "cell_type": "code",
   "execution_count": 176,
   "id": "a5066f86-a746-4698-8a0b-8e12de48421e",
   "metadata": {},
   "outputs": [
    {
     "data": {
      "text/plain": [
       "['pear', 'fig', 'banana', 'apple']"
      ]
     },
     "execution_count": 176,
     "metadata": {},
     "output_type": "execute_result"
    }
   ],
   "source": [
    "sorted(fruits, reverse=True)"
   ]
  },
  {
   "cell_type": "code",
   "execution_count": 179,
   "id": "916a9ea5-137a-4e81-8688-ea92a29827d8",
   "metadata": {},
   "outputs": [
    {
     "data": {
      "text/plain": [
       "['fig', 'pear', 'apple', 'banana']"
      ]
     },
     "execution_count": 179,
     "metadata": {},
     "output_type": "execute_result"
    }
   ],
   "source": [
    "sorted(fruits, key=len)"
   ]
  },
  {
   "cell_type": "code",
   "execution_count": 177,
   "id": "9ad682c0-7780-428e-96a3-f6374957fafe",
   "metadata": {},
   "outputs": [
    {
     "data": {
      "text/plain": [
       "140438183322864"
      ]
     },
     "execution_count": 177,
     "metadata": {},
     "output_type": "execute_result"
    }
   ],
   "source": [
    "id(sorted)"
   ]
  },
  {
   "cell_type": "code",
   "execution_count": 178,
   "id": "b413d0ab-d798-41c4-b533-bca7c20502f7",
   "metadata": {},
   "outputs": [
    {
     "data": {
      "text/plain": [
       "140438183321904"
      ]
     },
     "execution_count": 178,
     "metadata": {},
     "output_type": "execute_result"
    }
   ],
   "source": [
    "id(len)"
   ]
  },
  {
   "cell_type": "code",
   "execution_count": 180,
   "id": "4d3d9db5-61c8-44f1-89ce-a3b6616f61fe",
   "metadata": {},
   "outputs": [
    {
     "data": {
      "text/plain": [
       "True"
      ]
     },
     "execution_count": 180,
     "metadata": {},
     "output_type": "execute_result"
    }
   ],
   "source": [
    "'apple' < 'fig'"
   ]
  },
  {
   "cell_type": "code",
   "execution_count": 181,
   "id": "83fb862a-6ed5-4a4e-a04e-5e77ad5924f7",
   "metadata": {},
   "outputs": [
    {
     "data": {
      "text/plain": [
       "False"
      ]
     },
     "execution_count": 181,
     "metadata": {},
     "output_type": "execute_result"
    }
   ],
   "source": [
    "len('apple') < len('fig')"
   ]
  },
  {
   "cell_type": "markdown",
   "id": "0d61f94d-2a47-4c1b-a224-7cb90efdf725",
   "metadata": {},
   "source": [
    "## Lab: dictionary\n",
    "* use a dict to translate Roman numerals into their Hindu-Arabic equivalents\n",
    "1. load the dict with Roman numerals M (1000), D (500), C (100), L (50), X (10), V (5), I (1)\n",
    "2. read in a Roman numeral\n",
    "3. print Arabic equivalent\n",
    "4. try it with MCLX = 1000 + 100 + 50 + 10 = 1160\n",
    "4. __The rest of this could be homework...__\n",
    "4. __Deal with the case where a smaller number precedes a larger number, e.g., XC = 100 - 10 = 90, or MCM = 1000 + (1000-100) = 1900__\n",
    "  * e.g.,  __MCMXCIX = 1999__"
   ]
  },
  {
   "cell_type": "code",
   "execution_count": 183,
   "id": "129c36c7-4ce0-45ec-9f18-e3f64d44227a",
   "metadata": {},
   "outputs": [],
   "source": [
    "roman_to_hindu_arabic = {\n",
    "    'M': 1000, \n",
    "    'D': (500),\n",
    "    'C': (100),\n",
    "    'L': (50),\n",
    "    'X': (10),\n",
    "    'V': (5),\n",
    "    'I': (1),\n",
    "}"
   ]
  },
  {
   "cell_type": "code",
   "execution_count": 184,
   "id": "10212ee0-cd96-4545-8914-7e5d8dad783f",
   "metadata": {},
   "outputs": [
    {
     "data": {
      "text/plain": [
       "10"
      ]
     },
     "execution_count": 184,
     "metadata": {},
     "output_type": "execute_result"
    }
   ],
   "source": [
    "roman_to_hindu_arabic['X']"
   ]
  },
  {
   "cell_type": "code",
   "execution_count": 185,
   "id": "a5c5ebc8-b23b-4233-bd61-e3b2f9eeae0e",
   "metadata": {},
   "outputs": [],
   "source": [
    "# 1. read in a Roman numeral, e.g., MCLX\n",
    "# 2. for each \"digit\" in the Roman numeral:\n",
    "# 3.    look up its Hindu-Arabic equivalent\n",
    "# 4.    and add that to the running total"
   ]
  },
  {
   "cell_type": "code",
   "execution_count": null,
   "id": "42921c67-8b87-4356-820d-4ff8c92f82e5",
   "metadata": {},
   "outputs": [],
   "source": [
    "# 1. read in a Roman numeral, e.g., MCLX\n",
    "# 1a. set running total to 0\n",
    "# 2. for each \"digit\" in the Roman numeral:\n",
    "# 3.    plug it into dict to get Hindu-Arabic value\n",
    "# 4.    add that to running total"
   ]
  },
  {
   "cell_type": "code",
   "execution_count": 215,
   "id": "478cee59-86c3-441d-9d29-3333dd1dcd23",
   "metadata": {},
   "outputs": [
    {
     "name": "stdin",
     "output_type": "stream",
     "text": [
      "Enter a Roman numeral:  MAX\n"
     ]
    }
   ],
   "source": [
    "roman = input('Enter a Roman numeral: ') # 1"
   ]
  },
  {
   "cell_type": "code",
   "execution_count": 206,
   "id": "c9223633-2d56-4efc-ad70-dd32d0e575c6",
   "metadata": {},
   "outputs": [
    {
     "name": "stdout",
     "output_type": "stream",
     "text": [
      "1110\n"
     ]
    }
   ],
   "source": [
    "running_total = 0 # 1a\n",
    "\n",
    "for digit in roman: # 2\n",
    "    running_total += roman_to_hindu_arabic.get(digit, 0) # 3, 4\n",
    "    \n",
    "print(running_total)"
   ]
  },
  {
   "cell_type": "code",
   "execution_count": 210,
   "id": "688a84a9-07e7-471a-9875-5a5dddbb5770",
   "metadata": {},
   "outputs": [
    {
     "name": "stdout",
     "output_type": "stream",
     "text": [
      "Roman numerals consist of these letters: M D C L X V I\n",
      "1110\n"
     ]
    }
   ],
   "source": [
    "running_total = 0 # 1a\n",
    "\n",
    "for digit in roman: # 2\n",
    "    if digit in roman_to_hindu_arabic:\n",
    "        running_total += roman_to_hindu_arabic[digit] # 3, 4\n",
    "    else:\n",
    "        print('Roman numerals consist of these letters:', end=' ')\n",
    "        print(*roman_to_hindu_arabic.keys())\n",
    "    \n",
    "print(running_total)"
   ]
  },
  {
   "cell_type": "code",
   "execution_count": null,
   "id": "09ed0bd2-6e68-4d0c-b482-625eca2e5ab2",
   "metadata": {},
   "outputs": [],
   "source": [
    "running_total = 0 # 1a\n",
    "\n",
    "for digit in roman: # 2\n",
    "    if digit in roman_to_hindu_arabic:\n",
    "        running_total += roman_to_hindu_arabic[digit] # 3, 4\n",
    "    else:\n",
    "        print('bad digit:', digit)\n",
    "    \n",
    "print(running_total)"
   ]
  },
  {
   "cell_type": "code",
   "execution_count": 213,
   "id": "4927eff3-d206-4929-9c8c-96296bd0e434",
   "metadata": {},
   "outputs": [
    {
     "name": "stdout",
     "output_type": "stream",
     "text": [
      "1160\n"
     ]
    }
   ],
   "source": [
    "running_total = 0 # 1a\n",
    "\n",
    "for digit in roman: # 2\n",
    "    if digit in roman_to_hindu_arabic:\n",
    "        running_total += roman_to_hindu_arabic[digit] # 3, 4\n",
    "    else:\n",
    "        print('Roman numerals consist of these letters:', end=' ')\n",
    "        print(*roman_to_hindu_arabic.keys())\n",
    "        break\n",
    "else: # only run if no break   \n",
    "    print(running_total)"
   ]
  },
  {
   "cell_type": "code",
   "execution_count": 216,
   "id": "683af8de-d77c-4e9e-8871-a96ee9b935c8",
   "metadata": {},
   "outputs": [
    {
     "name": "stdout",
     "output_type": "stream",
     "text": [
      "Roman numerals consist of these letters: M D C L X V I\n"
     ]
    }
   ],
   "source": [
    "running_total = 0 # 1a\n",
    "good_input = True # start by assuming user did the right thing\n",
    "\n",
    "for digit in roman: # 2\n",
    "    if digit in roman_to_hindu_arabic:\n",
    "        running_total += roman_to_hindu_arabic[digit] # 3, 4\n",
    "    else:\n",
    "        print('Roman numerals consist of these letters:', end=' ')\n",
    "        print(*roman_to_hindu_arabic.keys())\n",
    "        good_input = False # oops, user did not do right thing\n",
    "        break\n",
    "\n",
    "if good_input: # == True\n",
    "    print(running_total)"
   ]
  },
  {
   "cell_type": "code",
   "execution_count": null,
   "id": "547b9774-901b-4a8d-b18f-c4e7c38210bf",
   "metadata": {},
   "outputs": [],
   "source": [
    "# how could we handle the complication where XC means 100 - 10 = 90\n",
    "# make two passes over the number\n",
    "# MCMXCIX = 1999\n",
    "# Pass 1: just convert each digit to its Hindu-Arabic equivalent and drop it in a list\n",
    "# [1000, 100, 1000, 10, 100, 1, 10]\n",
    "# Pass 2: go thru the list\n",
    "# ...and if any value is smaller than its neighbor (to the right), make it negative\n",
    "# [1000, -100, 1000, -10, 100, -1, 10]\n",
    "# Sum up the list... 1999"
   ]
  },
  {
   "cell_type": "code",
   "execution_count": 217,
   "id": "5c0aef39-2f68-4f87-9e61-92fc1a969206",
   "metadata": {},
   "outputs": [],
   "source": [
    "# 1. get Roman\n",
    "# 1a. start w/an empty list that will hold the H-A values\n",
    "# 2. for each digit in Roman # pass 1\n",
    "# 3.    add H-A value to list\n",
    "# 4. for each H-A value in the list\n",
    "# 5.    compare with the H-A value to the right...\n",
    "#       if it's less than the one to the right\n",
    "# 6.       make it negative (multiply by -1)\n",
    "# 7. sum up the H-A values"
   ]
  },
  {
   "cell_type": "code",
   "execution_count": 223,
   "id": "4ec71e29-72b5-4107-ac6e-c8d4f53c80e3",
   "metadata": {},
   "outputs": [
    {
     "name": "stdin",
     "output_type": "stream",
     "text": [
      "Enter a Roman numeral:  mclx\n"
     ]
    },
    {
     "name": "stdout",
     "output_type": "stream",
     "text": [
      "[1000, 100, 50, 10]\n",
      "[1000, 100, 50, 10]\n",
      "1160\n"
     ]
    }
   ],
   "source": [
    "roman = input('Enter a Roman numeral: ').upper() # 1\n",
    "hindu_arabic_vals = [] # 1a\n",
    " \n",
    "# Pass 1\n",
    "for digit in roman: # 2\n",
    "    hindu_arabic_vals.append(roman_to_hindu_arabic[digit]) # 3 ... list comprehension?\n",
    "\n",
    "print(hindu_arabic_vals) # debugging\n",
    "\n",
    "# Pass 2\n",
    "for index in range(len(hindu_arabic_vals) - 1): # 4, don't fall off the end\n",
    "    if hindu_arabic_vals[index] < hindu_arabic_vals[index + 1]: # 5, less than neighbor?\n",
    "        hindu_arabic_vals[index] = -hindu_arabic_vals[index] # 6, yes, so make it negative\n",
    "    \n",
    "print(hindu_arabic_vals) # debugging\n",
    "print(sum(hindu_arabic_vals))"
   ]
  },
  {
   "cell_type": "code",
   "execution_count": 191,
   "id": "ddbd50ed-e5e8-49dd-93d0-12ee5f60ba9c",
   "metadata": {},
   "outputs": [],
   "source": [
    "nums = [1, 2, 3]\n",
    "names = 'one two three four'.split()\n",
    "\n",
    "for num, name in zip(nums, names, strict=True): # 3.10+\n",
    "    print(num, name)"
   ]
  },
  {
   "cell_type": "code",
   "execution_count": 199,
   "id": "fa274fef-90ca-4039-8d62-cdaf9925f76c",
   "metadata": {},
   "outputs": [
    {
     "name": "stdout",
     "output_type": "stream",
     "text": [
      "1 one\n",
      "2 two\n",
      "3 three\n",
      "*** four\n"
     ]
    }
   ],
   "source": [
    "import itertools\n",
    "\n",
    "for num, name in itertools.zip_longest(nums, names, fillvalue='***'):\n",
    "    print(num, name)"
   ]
  },
  {
   "cell_type": "code",
   "execution_count": 230,
   "id": "f9d0d48b-dff7-44fd-80e8-ac570e9332e4",
   "metadata": {},
   "outputs": [],
   "source": [
    "s = {'one', 'two', 'three'}"
   ]
  },
  {
   "cell_type": "code",
   "execution_count": 231,
   "id": "ecb85bb2-0306-42f6-89c5-281993033b99",
   "metadata": {},
   "outputs": [
    {
     "data": {
      "text/plain": [
       "set"
      ]
     },
     "execution_count": 231,
     "metadata": {},
     "output_type": "execute_result"
    }
   ],
   "source": [
    "type(s)"
   ]
  },
  {
   "cell_type": "code",
   "execution_count": 232,
   "id": "fc3bd899-5c7f-409f-911c-23e9486b7c93",
   "metadata": {},
   "outputs": [
    {
     "data": {
      "text/plain": [
       "{'one', 'three', 'two'}"
      ]
     },
     "execution_count": 232,
     "metadata": {},
     "output_type": "execute_result"
    }
   ],
   "source": [
    "s"
   ]
  },
  {
   "cell_type": "code",
   "execution_count": 233,
   "id": "2026a69f-5beb-4226-9bba-0415e79e6ab6",
   "metadata": {},
   "outputs": [
    {
     "name": "stdout",
     "output_type": "stream",
     "text": [
      "{'two', 'one', 'three'}\n"
     ]
    }
   ],
   "source": [
    "print(s)"
   ]
  },
  {
   "cell_type": "code",
   "execution_count": 234,
   "id": "0b89bb53-d030-40e7-8b6c-8a5bae7c849b",
   "metadata": {},
   "outputs": [
    {
     "data": {
      "text/plain": [
       "3"
      ]
     },
     "execution_count": 234,
     "metadata": {},
     "output_type": "execute_result"
    }
   ],
   "source": [
    "len(s)"
   ]
  },
  {
   "cell_type": "code",
   "execution_count": 235,
   "id": "f7c1b2d4-c8e2-453f-ba10-710ac79a070f",
   "metadata": {},
   "outputs": [
    {
     "name": "stdout",
     "output_type": "stream",
     "text": [
      "two\n",
      "one\n",
      "three\n"
     ]
    }
   ],
   "source": [
    "while len(s) > 0:\n",
    "    print(s.pop())"
   ]
  },
  {
   "cell_type": "code",
   "execution_count": 236,
   "id": "a3e9fda9-a05a-4c5b-ab10-ec801e5faa88",
   "metadata": {},
   "outputs": [
    {
     "data": {
      "text/plain": [
       "0"
      ]
     },
     "execution_count": 236,
     "metadata": {},
     "output_type": "execute_result"
    }
   ],
   "source": [
    "len(s)"
   ]
  },
  {
   "cell_type": "code",
   "execution_count": 237,
   "id": "faa19fd6-866e-481b-adeb-9a3216f521ad",
   "metadata": {},
   "outputs": [
    {
     "data": {
      "text/plain": [
       "set()"
      ]
     },
     "execution_count": 237,
     "metadata": {},
     "output_type": "execute_result"
    }
   ],
   "source": [
    "s"
   ]
  },
  {
   "cell_type": "code",
   "execution_count": 238,
   "id": "93d846b3-bf71-4932-ad88-948f1dd4e75e",
   "metadata": {},
   "outputs": [],
   "source": [
    "import random\n",
    "nums = []\n",
    "for _ in range(100):\n",
    "    nums.append(random.randint(1, 100))\n",
    "    \n",
    "#nums = [random.randint(1, 100) for _ in range(100)]"
   ]
  },
  {
   "cell_type": "code",
   "execution_count": 239,
   "id": "0174b5ed-11f3-4153-8553-598d0a1fc6e9",
   "metadata": {},
   "outputs": [
    {
     "name": "stdout",
     "output_type": "stream",
     "text": [
      "[63, 10, 91, 42, 36, 85, 34, 64, 78, 19, 8, 53, 54, 46, 77, 34, 18, 76, 99, 99, 12, 85, 23, 45, 97, 17, 40, 40, 19, 50, 40, 28, 71, 33, 35, 67, 9, 47, 61, 56, 23, 67, 50, 97, 82, 17, 17, 31, 86, 48, 73, 7, 28, 30, 5, 64, 36, 3, 77, 24, 63, 91, 54, 67, 13, 29, 90, 19, 17, 82, 57, 18, 56, 49, 100, 56, 9, 21, 85, 4, 40, 3, 30, 10, 56, 73, 38, 22, 84, 70, 85, 20, 53, 7, 97, 69, 21, 67, 72, 5]\n"
     ]
    }
   ],
   "source": [
    "print(nums)"
   ]
  },
  {
   "cell_type": "code",
   "execution_count": 240,
   "id": "494fdad5-ae0d-47ef-8583-0e253892d5a2",
   "metadata": {},
   "outputs": [
    {
     "name": "stdout",
     "output_type": "stream",
     "text": [
      "{3, 4, 5, 7, 8, 9, 10, 12, 13, 17, 18, 19, 20, 21, 22, 23, 24, 28, 29, 30, 31, 33, 34, 35, 36, 38, 40, 42, 45, 46, 47, 48, 49, 50, 53, 54, 56, 57, 61, 63, 64, 67, 69, 70, 71, 72, 73, 76, 77, 78, 82, 84, 85, 86, 90, 91, 97, 99, 100}\n"
     ]
    }
   ],
   "source": [
    "print(set(nums))"
   ]
  },
  {
   "cell_type": "code",
   "execution_count": 241,
   "id": "57227c94-24d2-4491-b9b9-f93808fae66c",
   "metadata": {},
   "outputs": [],
   "source": [
    "langs = { 'Python': 1991, 'Java': 1995, 'C': 1969, 'Go': 2009 }"
   ]
  },
  {
   "cell_type": "code",
   "execution_count": 244,
   "id": "0217dd2e-e15c-4f9b-b7cb-11029ac0c6d9",
   "metadata": {},
   "outputs": [
    {
     "data": {
      "text/plain": [
       "-8872522370535958004"
      ]
     },
     "execution_count": 244,
     "metadata": {},
     "output_type": "execute_result"
    }
   ],
   "source": [
    "hash('Python')"
   ]
  },
  {
   "cell_type": "code",
   "execution_count": 243,
   "id": "dca9c18f-5b48-420f-a98a-70350a02bf6b",
   "metadata": {},
   "outputs": [
    {
     "data": {
      "text/plain": [
       "8869225585196311272"
      ]
     },
     "execution_count": 243,
     "metadata": {},
     "output_type": "execute_result"
    }
   ],
   "source": [
    "hash('Java')"
   ]
  },
  {
   "cell_type": "code",
   "execution_count": 245,
   "id": "6ec7d9a4-7e5b-4010-b417-00c809b9384f",
   "metadata": {},
   "outputs": [
    {
     "data": {
      "text/plain": [
       "7181541367973404147"
      ]
     },
     "execution_count": 245,
     "metadata": {},
     "output_type": "execute_result"
    }
   ],
   "source": [
    "hash('JavaScript')"
   ]
  },
  {
   "cell_type": "code",
   "execution_count": 246,
   "id": "48cb2235-ffc8-42f5-ac7d-7be77673a809",
   "metadata": {},
   "outputs": [
    {
     "data": {
      "text/plain": [
       "-7083356009038934867"
      ]
     },
     "execution_count": 246,
     "metadata": {},
     "output_type": "execute_result"
    }
   ],
   "source": [
    "hash('Fortran')"
   ]
  },
  {
   "cell_type": "code",
   "execution_count": 248,
   "id": "9fe1c416-70ad-4d4e-82ec-4a56de5dccd0",
   "metadata": {},
   "outputs": [
    {
     "name": "stdout",
     "output_type": "stream",
     "text": [
      "{'Java', 'Go', 'Python', 'C'}\n"
     ]
    }
   ],
   "source": [
    "print(set(langs))"
   ]
  },
  {
   "cell_type": "code",
   "execution_count": 249,
   "id": "fb095b3a-bf06-46d3-ba1c-e0ed2b9f44fa",
   "metadata": {},
   "outputs": [
    {
     "data": {
      "text/plain": [
       "56"
      ]
     },
     "execution_count": 249,
     "metadata": {},
     "output_type": "execute_result"
    }
   ],
   "source": [
    "hash(56)"
   ]
  },
  {
   "cell_type": "code",
   "execution_count": 250,
   "id": "b6a64c15-75f2-413a-b8e8-3d3834a8108f",
   "metadata": {},
   "outputs": [
    {
     "name": "stdout",
     "output_type": "stream",
     "text": [
      "[63, 10, 91, 42, 36, 85, 34, 64, 78, 19, 8, 53, 54, 46, 77, 34, 18, 76, 99, 99, 12, 85, 23, 45, 97, 17, 40, 40, 19, 50, 40, 28, 71, 33, 35, 67, 9, 47, 61, 56, 23, 67, 50, 97, 82, 17, 17, 31, 86, 48, 73, 7, 28, 30, 5, 64, 36, 3, 77, 24, 63, 91, 54, 67, 13, 29, 90, 19, 17, 82, 57, 18, 56, 49, 100, 56, 9, 21, 85, 4, 40, 3, 30, 10, 56, 73, 38, 22, 84, 70, 85, 20, 53, 7, 97, 69, 21, 67, 72, 5]\n"
     ]
    }
   ],
   "source": [
    "print(nums)"
   ]
  },
  {
   "cell_type": "code",
   "execution_count": 251,
   "id": "b2a680e8-31a2-4de6-bf14-cc5ee7d5ddf4",
   "metadata": {},
   "outputs": [],
   "source": [
    "nums = list(set(nums))"
   ]
  },
  {
   "cell_type": "code",
   "execution_count": 252,
   "id": "19696440-2f06-4b74-b360-938e1141bb1e",
   "metadata": {},
   "outputs": [
    {
     "name": "stdout",
     "output_type": "stream",
     "text": [
      "[3, 4, 5, 7, 8, 9, 10, 12, 13, 17, 18, 19, 20, 21, 22, 23, 24, 28, 29, 30, 31, 33, 34, 35, 36, 38, 40, 42, 45, 46, 47, 48, 49, 50, 53, 54, 56, 57, 61, 63, 64, 67, 69, 70, 71, 72, 73, 76, 77, 78, 82, 84, 85, 86, 90, 91, 97, 99, 100]\n"
     ]
    }
   ],
   "source": [
    "print(nums)"
   ]
  },
  {
   "cell_type": "code",
   "execution_count": 253,
   "id": "0c0e663d-92db-4626-8019-3ab8263d1cfc",
   "metadata": {},
   "outputs": [
    {
     "name": "stdout",
     "output_type": "stream",
     "text": [
      "[3, 4, 5, 7, 8, 9, 10, 12, 13, 17, 18, 19, 20, 21, 22, 23, 24, 28, 29, 30, 31, 33, 34, 35, 36, 38, 40, 42, 45, 46, 47, 48, 49, 50, 53, 54, 56, 57, 61, 63, 64, 67, 69, 70, 71, 72, 73, 76, 77, 78, 82, 84, 85, 86, 90, 91, 97, 99, 100]\n"
     ]
    }
   ],
   "source": [
    "print(sorted(nums))"
   ]
  },
  {
   "cell_type": "code",
   "execution_count": 254,
   "id": "1de949da-4670-48e6-bfe2-7611513125cc",
   "metadata": {},
   "outputs": [
    {
     "data": {
      "text/plain": [
       "59"
      ]
     },
     "execution_count": 254,
     "metadata": {},
     "output_type": "execute_result"
    }
   ],
   "source": [
    "len(nums)"
   ]
  },
  {
   "cell_type": "markdown",
   "id": "62100621-f218-4266-9641-ca927ce219ce",
   "metadata": {},
   "source": [
    "## Lab: Sets\n",
    "* Use a set to find all of the unique words in the input and print them out in sorted order\n",
    "* If the user entered __There is no there there__, your program should print out \n",
    "   <pre><b>\n",
    "   is\n",
    "   no\n",
    "   there\n",
    "   </b></pre>\n",
    "* Note that `There` and `there` should be counted as the same word."
   ]
  },
  {
   "cell_type": "code",
   "execution_count": 261,
   "id": "b6e36c2a-9165-4e73-8739-4b217738b16d",
   "metadata": {},
   "outputs": [
    {
     "name": "stdin",
     "output_type": "stream",
     "text": [
      "Enter:  Now is THE the time to do the THINGS\n"
     ]
    }
   ],
   "source": [
    "words = input('Enter: ').lower().split() # make lower and split"
   ]
  },
  {
   "cell_type": "code",
   "execution_count": 262,
   "id": "7b479061-1f0b-4130-9eaa-e3bbc99ba81a",
   "metadata": {},
   "outputs": [
    {
     "data": {
      "text/plain": [
       "['now', 'is', 'the', 'the', 'time', 'to', 'do', 'the', 'things']"
      ]
     },
     "execution_count": 262,
     "metadata": {},
     "output_type": "execute_result"
    }
   ],
   "source": [
    "words"
   ]
  },
  {
   "cell_type": "code",
   "execution_count": 265,
   "id": "6f57c816-e0dc-45a6-99e7-147065f4f7a0",
   "metadata": {},
   "outputs": [
    {
     "data": {
      "text/plain": [
       "['do', 'is', 'now', 'the', 'things', 'time', 'to']"
      ]
     },
     "execution_count": 265,
     "metadata": {},
     "output_type": "execute_result"
    }
   ],
   "source": [
    "sorted(set(words))"
   ]
  },
  {
   "cell_type": "code",
   "execution_count": 257,
   "id": "2488fea8-bd8b-4bc0-9dde-d351705860b9",
   "metadata": {},
   "outputs": [],
   "source": [
    "words = sorted(set(words)) # set-ify to remove dupes and sort (which returns...)"
   ]
  },
  {
   "cell_type": "code",
   "execution_count": 270,
   "id": "dbdb9911-1975-4b0c-b832-22155c682b01",
   "metadata": {},
   "outputs": [
    {
     "name": "stdin",
     "output_type": "stream",
     "text": [
      "Enter:  There is no there THERE\n"
     ]
    }
   ],
   "source": [
    "words = '\\n'.join(sorted(set(input('Enter: ').lower().split()))) # make lower and split"
   ]
  },
  {
   "cell_type": "code",
   "execution_count": 271,
   "id": "ae4d725c-a7d7-47fb-a14f-3daaad9dfdd9",
   "metadata": {},
   "outputs": [
    {
     "name": "stdout",
     "output_type": "stream",
     "text": [
      "is\n",
      "no\n",
      "there\n"
     ]
    }
   ],
   "source": [
    "print(words)"
   ]
  },
  {
   "cell_type": "code",
   "execution_count": 269,
   "id": "74b31b72-ea16-482b-9452-57d004dd70a5",
   "metadata": {},
   "outputs": [
    {
     "name": "stdout",
     "output_type": "stream",
     "text": [
      "is\n",
      "no\n",
      "there\n"
     ]
    }
   ],
   "source": [
    "print(*words, sep='\\n') # or .join(...)"
   ]
  },
  {
   "cell_type": "code",
   "execution_count": 272,
   "id": "d929d3e9-6cb4-439f-8d3a-3a59dc1fc434",
   "metadata": {},
   "outputs": [],
   "source": [
    "nums = [1, 2, 3]"
   ]
  },
  {
   "cell_type": "code",
   "execution_count": 280,
   "id": "95533e34-7519-44b3-bccd-bf5023643c55",
   "metadata": {},
   "outputs": [
    {
     "name": "stdout",
     "output_type": "stream",
     "text": [
      "[1, 2, 3]\n"
     ]
    }
   ],
   "source": [
    "print(nums, sep='hdhdjkld') # sep is ignored, cuz we are printing ONE thing"
   ]
  },
  {
   "cell_type": "code",
   "execution_count": 274,
   "id": "d9833fad-4c76-499c-a572-185341f75391",
   "metadata": {},
   "outputs": [
    {
     "name": "stdout",
     "output_type": "stream",
     "text": [
      "1 2 3\n"
     ]
    }
   ],
   "source": [
    "print(nums[0], nums[1], nums[2])"
   ]
  },
  {
   "cell_type": "code",
   "execution_count": 275,
   "id": "c3161ace-36e2-4445-87c2-57e44ad26b92",
   "metadata": {},
   "outputs": [
    {
     "name": "stdout",
     "output_type": "stream",
     "text": [
      "1 2 3 "
     ]
    }
   ],
   "source": [
    "for num in nums:\n",
    "    print(num, end=' ')"
   ]
  },
  {
   "cell_type": "code",
   "execution_count": 279,
   "id": "6e675909-f05e-4a5b-81e9-10c0da93a74f",
   "metadata": {},
   "outputs": [
    {
     "name": "stdout",
     "output_type": "stream",
     "text": [
      "1\n",
      "2\n",
      "3\n"
     ]
    }
   ],
   "source": [
    "print(*nums, sep='\\n') # \"unpack\" the list into its consituent parts"
   ]
  },
  {
   "cell_type": "code",
   "execution_count": 277,
   "id": "8c3239c9-6a06-4f99-81d2-e2b9a2b891df",
   "metadata": {},
   "outputs": [],
   "source": [
    "s = {1, 2, 3}"
   ]
  },
  {
   "cell_type": "code",
   "execution_count": 278,
   "id": "dcd411ad-e00e-4831-91d0-4b4c3f9a211f",
   "metadata": {},
   "outputs": [
    {
     "name": "stdout",
     "output_type": "stream",
     "text": [
      "1 2 3\n"
     ]
    }
   ],
   "source": [
    "print(*s)"
   ]
  },
  {
   "cell_type": "code",
   "execution_count": 281,
   "id": "0aa2049a-1950-4839-a7c7-630d004c31a2",
   "metadata": {},
   "outputs": [],
   "source": [
    "fileobj = open('hamlet.txt')"
   ]
  },
  {
   "cell_type": "code",
   "execution_count": 282,
   "id": "69c64c11-5f1e-495f-8fc7-874bde38c7c0",
   "metadata": {},
   "outputs": [
    {
     "data": {
      "text/plain": [
       "140436977835120"
      ]
     },
     "execution_count": 282,
     "metadata": {},
     "output_type": "execute_result"
    }
   ],
   "source": [
    "id(fileobj)"
   ]
  },
  {
   "cell_type": "code",
   "execution_count": 283,
   "id": "ab65bd1c-b747-4fb7-a7e3-19d924db4495",
   "metadata": {},
   "outputs": [],
   "source": [
    "fileobj.close()"
   ]
  },
  {
   "cell_type": "code",
   "execution_count": 284,
   "id": "bbc56148-fb48-44a4-b8f5-cddb55d2e5ab",
   "metadata": {},
   "outputs": [],
   "source": [
    "f = open('poem.txt')"
   ]
  },
  {
   "cell_type": "code",
   "execution_count": 285,
   "id": "c462eb5e-ed04-4bc4-9584-f01e6ebe1861",
   "metadata": {},
   "outputs": [
    {
     "data": {
      "text/plain": [
       "_io.TextIOWrapper"
      ]
     },
     "execution_count": 285,
     "metadata": {},
     "output_type": "execute_result"
    }
   ],
   "source": [
    "type(f) # file object"
   ]
  },
  {
   "cell_type": "code",
   "execution_count": 286,
   "id": "b00734d5-fdde-40f3-8ec7-380f04bfb6ac",
   "metadata": {},
   "outputs": [
    {
     "name": "stdout",
     "output_type": "stream",
     "text": [
      "TWO roads diverged in a yellow wood,\n",
      "And sorry I could not travel both\n",
      "And be one traveler, long I stood\n",
      "And looked down one as far as I could\n",
      "To where it bent in the undergrowth;\n",
      "\n",
      "Then took the other, as just as fair,\n",
      "And having perhaps the better claim,\n",
      "Because it was grassy and wanted wear;\n",
      "Though as for that the passing there\n",
      "Had worn them really about the same,\n",
      "\n",
      "And both that morning equally lay\n",
      "In leaves no step had trodden black.\n",
      "Oh, I kept the first for another day!\n",
      "Yet knowing how way leads on to way,\n",
      "I doubted if I should ever come back.\n",
      "\n",
      "I shall be telling this with a sigh\n",
      "Somewhere ages and ages hence:\n",
      "Two roads diverged in a wood, and I—\n",
      "I took the one less traveled by,\n",
      "And that has made all the difference."
     ]
    }
   ],
   "source": [
    "for line_of_text in f:\n",
    "    print(line_of_text, end='')"
   ]
  },
  {
   "cell_type": "code",
   "execution_count": 287,
   "id": "6edbfd8e-2c96-4bef-973f-31dfe453ed92",
   "metadata": {},
   "outputs": [
    {
     "data": {
      "text/plain": [
       "str"
      ]
     },
     "execution_count": 287,
     "metadata": {},
     "output_type": "execute_result"
    }
   ],
   "source": [
    "type(line_of_text)"
   ]
  },
  {
   "cell_type": "code",
   "execution_count": 288,
   "id": "89f48a6e-d878-4f83-abe2-d3154e79860a",
   "metadata": {},
   "outputs": [
    {
     "data": {
      "text/plain": [
       "['False',\n",
       " 'None',\n",
       " 'True',\n",
       " '__peg_parser__',\n",
       " 'and',\n",
       " 'as',\n",
       " 'assert',\n",
       " 'async',\n",
       " 'await',\n",
       " 'break',\n",
       " 'class',\n",
       " 'continue',\n",
       " 'def',\n",
       " 'del',\n",
       " 'elif',\n",
       " 'else',\n",
       " 'except',\n",
       " 'finally',\n",
       " 'for',\n",
       " 'from',\n",
       " 'global',\n",
       " 'if',\n",
       " 'import',\n",
       " 'in',\n",
       " 'is',\n",
       " 'lambda',\n",
       " 'nonlocal',\n",
       " 'not',\n",
       " 'or',\n",
       " 'pass',\n",
       " 'raise',\n",
       " 'return',\n",
       " 'try',\n",
       " 'while',\n",
       " 'with',\n",
       " 'yield']"
      ]
     },
     "execution_count": 288,
     "metadata": {},
     "output_type": "execute_result"
    }
   ],
   "source": [
    "import keyword\n",
    "keyword.kwlist"
   ]
  },
  {
   "cell_type": "code",
   "execution_count": null,
   "id": "6355565e-82a8-4043-b93f-872ff4f8a48b",
   "metadata": {},
   "outputs": [],
   "source": [
    "# open(...)\n",
    "# deal w/file\n",
    "# ...\n",
    "#...\n",
    "#... \n",
    "# close"
   ]
  },
  {
   "cell_type": "code",
   "execution_count": 289,
   "id": "ac051e80-f144-4844-a3d9-ce9906fa245f",
   "metadata": {},
   "outputs": [
    {
     "data": {
      "text/plain": [
       "['TWO roads diverged in a yellow wood,\\n',\n",
       " 'And sorry I could not travel both\\n',\n",
       " 'And be one traveler, long I stood\\n',\n",
       " 'And looked down one as far as I could\\n',\n",
       " 'To where it bent in the undergrowth;\\n',\n",
       " '\\n',\n",
       " 'Then took the other, as just as fair,\\n',\n",
       " 'And having perhaps the better claim,\\n',\n",
       " 'Because it was grassy and wanted wear;\\n',\n",
       " 'Though as for that the passing there\\n',\n",
       " 'Had worn them really about the same,\\n',\n",
       " '\\n',\n",
       " 'And both that morning equally lay\\n',\n",
       " 'In leaves no step had trodden black.\\n',\n",
       " 'Oh, I kept the first for another day!\\n',\n",
       " 'Yet knowing how way leads on to way,\\n',\n",
       " 'I doubted if I should ever come back.\\n',\n",
       " '\\n',\n",
       " 'I shall be telling this with a sigh\\n',\n",
       " 'Somewhere ages and ages hence:\\n',\n",
       " 'Two roads diverged in a wood, and I—\\n',\n",
       " 'I took the one less traveled by,\\n',\n",
       " 'And that has made all the difference.']"
      ]
     },
     "execution_count": 289,
     "metadata": {},
     "output_type": "execute_result"
    }
   ],
   "source": [
    "f = open('poem.txt')\n",
    "f.readlines()"
   ]
  },
  {
   "cell_type": "code",
   "execution_count": 290,
   "id": "0373c54b-4db3-42d0-8694-388fb2fec165",
   "metadata": {},
   "outputs": [],
   "source": [
    "my_list = [1]"
   ]
  },
  {
   "cell_type": "markdown",
   "id": "ce7d69da-bd58-4a3d-a3cc-0b2e713bfa7f",
   "metadata": {},
   "source": [
    "## Quick Lab: File I/O\n",
    "* write a Python program which prompts the user for a filename, then opens that file and writes the contents of the file to a new file, in reverse order, i.e.,\n",
    "\n",
    "<pre><b>\n",
    "    Original file       Reversed file\n",
    "    Line 1              Line 4\n",
    "    Line 2              Line 3\n",
    "    Line 3              Line 2\n",
    "    Line 4              Line 1\n",
    "</b></pre>"
   ]
  },
  {
   "cell_type": "code",
   "execution_count": 315,
   "id": "ce8596d6-c29e-4e43-b122-94ffe3d514ba",
   "metadata": {},
   "outputs": [
    {
     "name": "stdin",
     "output_type": "stream",
     "text": [
      "Enter filename to reverse:  poem.txt\n"
     ]
    },
    {
     "name": "stdout",
     "output_type": "stream",
     "text": [
      "['TWO roads diverged in a yellow wood,\\n', 'And sorry I could not travel both\\n', 'And be one traveler, long I stood\\n', 'And looked down one as far as I could\\n', 'To where it bent in the undergrowth;\\n', '\\n', 'Then took the other, as just as fair,\\n', 'And having perhaps the better claim,\\n', 'Because it was grassy and wanted wear;\\n', 'Though as for that the passing there\\n', 'Had worn them really about the same,\\n', '\\n', 'And both that morning equally lay\\n', 'In leaves no step had trodden black.\\n', 'Oh, I kept the first for another day!\\n', 'Yet knowing how way leads on to way,\\n', 'I doubted if I should ever come back.\\n', '\\n', 'I shall be telling this with a sigh\\n', 'Somewhere ages and ages hence:\\n', 'Two roads diverged in a wood, and I—\\n', 'I took the one less traveled by,\\n', 'And that has made all the difference.\\n']\n"
     ]
    }
   ],
   "source": [
    "filename = input('Enter filename to reverse: ') # get filename\n",
    "\n",
    "with open(filename) as infile: # open for reading, no need to specify 'r'\n",
    "    lines = infile.readlines() # get ALL the lines of the file as a LIST\n",
    "    # done!\n",
    "\n",
    "print(lines)"
   ]
  },
  {
   "cell_type": "code",
   "execution_count": 304,
   "id": "56d7043b-bc5c-4dee-95b4-b1f6806f906f",
   "metadata": {},
   "outputs": [],
   "source": [
    "with open(filename + '.rev', 'x') as outfile: # create new filename by adding .rev to it, then open for writing\n",
    "    # if we really don't want to make a NEW slice/copy of the list, we could iterate through it in reverse order\n",
    "    #for line_num in range(len(lines) - 1, -1, -1):\n",
    "        #print(lines[line_num], file=outfile, end='')\n",
    "   \n",
    "    #lines.reverse() # in-place reversal of the entire list\n",
    "    \n",
    "    # how about iterate thru the lines backwards and write each line to output file\n",
    "\n",
    "    #for line in lines[::-1]:\n",
    "        #print(line, file=outfile, end='') # no \\n at end because lines already have one!\n",
    "        \n",
    "    # or .join the lines into one big string...\n",
    "    #\n",
    "    #print(''.join(lines[::-1]), file=outfile, end='')\n",
    "    \n",
    "    print(*lines[::-1], file=outfile, sep='') # make a reverse slice of the lines, and print them one by one into file"
   ]
  },
  {
   "cell_type": "code",
   "execution_count": 298,
   "id": "432876e9-f94b-4a3a-be08-46de745c31d0",
   "metadata": {},
   "outputs": [
    {
     "data": {
      "text/plain": [
       "b'hello'"
      ]
     },
     "execution_count": 298,
     "metadata": {},
     "output_type": "execute_result"
    }
   ],
   "source": [
    "'hello'.encode('utf8')"
   ]
  },
  {
   "cell_type": "code",
   "execution_count": 305,
   "id": "b50612a4-f359-49c8-8047-ac687377fff5",
   "metadata": {},
   "outputs": [
    {
     "data": {
      "text/plain": [
       "['TWO roads diverged in a yellow wood,\\n',\n",
       " 'And sorry I could not travel both\\n',\n",
       " 'And be one traveler, long I stood\\n',\n",
       " 'And looked down one as far as I could\\n',\n",
       " 'To where it bent in the undergrowth;\\n',\n",
       " '\\n',\n",
       " 'Then took the other, as just as fair,\\n',\n",
       " 'And having perhaps the better claim,\\n',\n",
       " 'Because it was grassy and wanted wear;\\n',\n",
       " 'Though as for that the passing there\\n',\n",
       " 'Had worn them really about the same,\\n',\n",
       " '\\n',\n",
       " 'And both that morning equally lay\\n',\n",
       " 'In leaves no step had trodden black.\\n',\n",
       " 'Oh, I kept the first for another day!\\n',\n",
       " 'Yet knowing how way leads on to way,\\n',\n",
       " 'I doubted if I should ever come back.\\n',\n",
       " '\\n',\n",
       " 'I shall be telling this with a sigh\\n',\n",
       " 'Somewhere ages and ages hence:\\n',\n",
       " 'Two roads diverged in a wood, and I—\\n',\n",
       " 'I took the one less traveled by,\\n',\n",
       " 'And that has made all the difference.\\n']"
      ]
     },
     "execution_count": 305,
     "metadata": {},
     "output_type": "execute_result"
    }
   ],
   "source": [
    "lines"
   ]
  },
  {
   "cell_type": "code",
   "execution_count": 306,
   "id": "df25845e-5b14-4f27-9b37-ff6a9d8b0210",
   "metadata": {},
   "outputs": [],
   "source": [
    "lines.reverse()"
   ]
  },
  {
   "cell_type": "code",
   "execution_count": 307,
   "id": "545e7724-0044-4aec-8677-56de5ca15fc6",
   "metadata": {},
   "outputs": [
    {
     "data": {
      "text/plain": [
       "['And that has made all the difference.\\n',\n",
       " 'I took the one less traveled by,\\n',\n",
       " 'Two roads diverged in a wood, and I—\\n',\n",
       " 'Somewhere ages and ages hence:\\n',\n",
       " 'I shall be telling this with a sigh\\n',\n",
       " '\\n',\n",
       " 'I doubted if I should ever come back.\\n',\n",
       " 'Yet knowing how way leads on to way,\\n',\n",
       " 'Oh, I kept the first for another day!\\n',\n",
       " 'In leaves no step had trodden black.\\n',\n",
       " 'And both that morning equally lay\\n',\n",
       " '\\n',\n",
       " 'Had worn them really about the same,\\n',\n",
       " 'Though as for that the passing there\\n',\n",
       " 'Because it was grassy and wanted wear;\\n',\n",
       " 'And having perhaps the better claim,\\n',\n",
       " 'Then took the other, as just as fair,\\n',\n",
       " '\\n',\n",
       " 'To where it bent in the undergrowth;\\n',\n",
       " 'And looked down one as far as I could\\n',\n",
       " 'And be one traveler, long I stood\\n',\n",
       " 'And sorry I could not travel both\\n',\n",
       " 'TWO roads diverged in a yellow wood,\\n']"
      ]
     },
     "execution_count": 307,
     "metadata": {},
     "output_type": "execute_result"
    }
   ],
   "source": [
    "lines"
   ]
  },
  {
   "cell_type": "code",
   "execution_count": 308,
   "id": "a2f64169-d07e-485e-817c-3c8f43a40c51",
   "metadata": {},
   "outputs": [],
   "source": [
    "nums = [1, 2, 3]"
   ]
  },
  {
   "cell_type": "code",
   "execution_count": 309,
   "id": "224b6180-192e-4de3-a799-d4749a5061d5",
   "metadata": {},
   "outputs": [],
   "source": [
    "nums.reverse()"
   ]
  },
  {
   "cell_type": "code",
   "execution_count": 310,
   "id": "fe8cfd71-b289-462c-acba-58445f1015a8",
   "metadata": {},
   "outputs": [
    {
     "data": {
      "text/plain": [
       "[3, 2, 1]"
      ]
     },
     "execution_count": 310,
     "metadata": {},
     "output_type": "execute_result"
    }
   ],
   "source": [
    "nums"
   ]
  },
  {
   "cell_type": "code",
   "execution_count": 312,
   "id": "77f1545e-7000-42a7-8903-b955f25792d0",
   "metadata": {},
   "outputs": [
    {
     "data": {
      "text/plain": [
       "['TWO roads diverged in a yellow wood,\\n',\n",
       " 'And sorry I could not travel both\\n',\n",
       " 'And be one traveler, long I stood\\n',\n",
       " 'And looked down one as far as I could\\n',\n",
       " 'To where it bent in the undergrowth;\\n',\n",
       " '\\n',\n",
       " 'Then took the other, as just as fair,\\n',\n",
       " 'And having perhaps the better claim,\\n',\n",
       " 'Because it was grassy and wanted wear;\\n',\n",
       " 'Though as for that the passing there\\n',\n",
       " 'Had worn them really about the same,\\n',\n",
       " '\\n',\n",
       " 'And both that morning equally lay\\n',\n",
       " 'In leaves no step had trodden black.\\n',\n",
       " 'Oh, I kept the first for another day!\\n',\n",
       " 'Yet knowing how way leads on to way,\\n',\n",
       " 'I doubted if I should ever come back.\\n',\n",
       " '\\n',\n",
       " 'I shall be telling this with a sigh\\n',\n",
       " 'Somewhere ages and ages hence:\\n',\n",
       " 'Two roads diverged in a wood, and I—\\n',\n",
       " 'I took the one less traveled by,\\n',\n",
       " 'And that has made all the difference.\\n']"
      ]
     },
     "execution_count": 312,
     "metadata": {},
     "output_type": "execute_result"
    }
   ],
   "source": [
    "lines"
   ]
  },
  {
   "cell_type": "code",
   "execution_count": 314,
   "id": "0c0ee76d-718c-4781-9dbb-a681c1ef4764",
   "metadata": {},
   "outputs": [
    {
     "name": "stdout",
     "output_type": "stream",
     "text": [
      "And that has made all the difference.\n",
      "I took the one less traveled by,\n",
      "Two roads diverged in a wood, and I—\n",
      "Somewhere ages and ages hence:\n",
      "I shall be telling this with a sigh\n",
      "\n",
      "I doubted if I should ever come back.\n",
      "Yet knowing how way leads on to way,\n",
      "Oh, I kept the first for another day!\n",
      "In leaves no step had trodden black.\n",
      "And both that morning equally lay\n",
      "\n",
      "Had worn them really about the same,\n",
      "Though as for that the passing there\n",
      "Because it was grassy and wanted wear;\n",
      "And having perhaps the better claim,\n",
      "Then took the other, as just as fair,\n",
      "\n",
      "To where it bent in the undergrowth;\n",
      "And looked down one as far as I could\n",
      "And be one traveler, long I stood\n",
      "And sorry I could not travel both\n",
      "TWO roads diverged in a yellow wood,\n",
      "\n"
     ]
    }
   ],
   "source": [
    "print(''.join(lines[::-1]))"
   ]
  },
  {
   "cell_type": "code",
   "execution_count": 320,
   "id": "b2ebe2fe-9271-4891-a055-44fd8bdc52bd",
   "metadata": {},
   "outputs": [
    {
     "name": "stdout",
     "output_type": "stream",
     "text": [
      "TWO roads diverged in a yellow wood,\n",
      "\n",
      "And sorry I could not travel both\n",
      "\n",
      "And be one traveler, long I stood\n",
      "\n",
      "And looked down one as far as I could\n",
      "\n",
      "To where it bent in the undergrowth;\n",
      "\n",
      "\n",
      "\n",
      "Then took the other, as just as fair,\n",
      "\n",
      "And having perhaps the better claim,\n",
      "\n",
      "Because it was grassy and wanted wear;\n",
      "\n",
      "Though as for that the passing there\n",
      "\n",
      "Had worn them really about the same,\n",
      "\n",
      "\n",
      "\n",
      "And both that morning equally lay\n",
      "\n",
      "In leaves no step had trodden black.\n",
      "\n",
      "Oh, I kept the first for another day!\n",
      "\n",
      "Yet knowing how way leads on to way,\n",
      "\n",
      "I doubted if I should ever come back.\n",
      "\n",
      "\n",
      "\n",
      "I shall be telling this with a sigh\n",
      "\n",
      "Somewhere ages and ages hence:\n",
      "\n",
      "Two roads diverged in a wood, and I—\n",
      "\n",
      "I took the one less traveled by,\n",
      "\n",
      "And that has made all the difference.\n",
      "\n"
     ]
    }
   ],
   "source": [
    "print(*lines, sep='\\n')"
   ]
  },
  {
   "cell_type": "markdown",
   "id": "5ecbe36a-948a-412f-9f23-cb5e53d4ec7c",
   "metadata": {},
   "source": [
    "## Group Lab: File I/O + dicts\n",
    "* write a Python program to read a file and count the number of occurrences of each word in the file\n",
    "* use a __`dict`__, indexed by word, to count the occurrences\n",
    "* remember __`d.get(key)`__ will return __`None`__ if there is no such key in the dict (vs. __`d[key]`__ which will throw an exception) and also the __`in`__ operator\n",
    "  * or use a __`collections.defaultdict`__ if we've covered it\n",
    "* treat __The__ and __the__ as the same word when counting\n",
    "* print out words and counts, from most common to least common\n",
    "* __EXTRA:__ remove punctuation, so __Hamlet,__ == __Hamlet__ # refer back to \"import this\"\n",
    "* The Road Not Taken and Hamlet are in your materials"
   ]
  },
  {
   "cell_type": "code",
   "execution_count": 321,
   "id": "56be23f4-6fd2-42d0-87bb-e337177d7113",
   "metadata": {},
   "outputs": [],
   "source": [
    "# 1. consider a text\n",
    "# 2. for each line\n",
    "# 3.     for each word in the line\n",
    "# 4.          increment the count for that word\n",
    "# 5. tell us words and counts by most to least (but alphabetically could be interesting)"
   ]
  },
  {
   "cell_type": "code",
   "execution_count": 322,
   "id": "8c90ab7d-cc43-4535-854c-1781564ec75c",
   "metadata": {},
   "outputs": [],
   "source": [
    "# 1. get filename from user\n",
    "# 2. open the file (use 'with' because we are lazy)\n",
    "# 2a. create an empty dict to hold words/counts\n",
    "# 3. for each line:\n",
    "# 4.    for each word in the line:\n",
    "# 5.        if it's in the dict: (we've seen it before)\n",
    "# 6.           increment the count (value)\n",
    "# 7.        else\n",
    "# 7a.          enter a key into the dict with a value of 1\n",
    "# 8. for each key in the dict sorted by value\n",
    "# 9.     print key and value"
   ]
  },
  {
   "cell_type": "code",
   "execution_count": 331,
   "id": "6f47924c-6f69-4a8d-aa74-b55c9fbc6776",
   "metadata": {},
   "outputs": [
    {
     "name": "stdin",
     "output_type": "stream",
     "text": [
      "What file to count words?  hamlet.txt\n"
     ]
    },
    {
     "name": "stdout",
     "output_type": "stream",
     "text": [
      "the 1137\n",
      "and 936\n",
      "to 728\n",
      "of 664\n",
      "a 527\n",
      "i 513\n",
      "my 513\n",
      "in 423\n",
      "you 405\n",
      "hamlet 401\n",
      "that 345\n",
      "it 325\n",
      "is 318\n",
      "his 294\n",
      "not 274\n",
      "with 263\n",
      "this 249\n",
      "your 242\n",
      "but 229\n",
      "for 228\n",
      "as 217\n",
      "be 208\n",
      "he 204\n",
      "what 187\n",
      "have 173\n",
      "king 157\n",
      "will 150\n",
      "so 141\n",
      "me 139\n",
      "we 136\n",
      "do 130\n",
      "are 127\n",
      "horatio 125\n",
      "him 118\n",
      "our 118\n",
      "by 114\n",
      "if 111\n",
      "claudius 109\n",
      "on 108\n",
      "or 108\n",
      "no 107\n",
      "polonius 107\n",
      "shall 106\n",
      "lord 106\n",
      "queen 103\n",
      "they 101\n",
      "all 100\n",
      "good 97\n",
      "let 95\n",
      "from 94\n",
      "thou 94\n",
      "at 87\n",
      "how 87\n",
      "thy 87\n",
      "lord, 84\n",
      "most 82\n",
      "you, 77\n",
      "her 76\n",
      "like 75\n",
      "more 75\n",
      "would 74\n",
      "was 73\n",
      "laertes 73\n",
      "gertrude 73\n",
      "'tis 70\n",
      "o, 65\n",
      "may 65\n",
      "rosencrantz 65\n",
      "enter 64\n",
      "ophelia 64\n",
      "very 63\n",
      "hath 60\n",
      "first 60\n",
      "did 58\n",
      "lord. 58\n",
      "give 57\n",
      "must 57\n",
      "should 57\n",
      "their 57\n",
      "an 56\n",
      "know 56\n",
      "i'll 56\n",
      "come 54\n",
      "make 54\n",
      "which 54\n",
      "some 54\n",
      "upon 53\n",
      "when 53\n",
      "where 52\n",
      "there 52\n",
      "guildenstern 52\n",
      "than 51\n",
      "such 51\n",
      "now 50\n",
      "am 50\n"
     ]
    }
   ],
   "source": [
    "filename = input('What file to count words? ') # 1\n",
    "wordcounts = {} # 2a\n",
    "with open(filename) as infile: # 2\n",
    "    for line in infile: # 3\n",
    "        for word in line.lower().split(): # 4\n",
    "            if word in wordcounts: # 5\n",
    "                wordcounts[word] += 1 # 6\n",
    "            else: # 7\n",
    "                wordcounts[word] = 1 # 7a\n",
    "\"\"\"\n",
    "  not sure what to do here, let's think about ...\n",
    "  \n",
    "  this is just an example of a multi-line comment...\n",
    "\"\"\"\n",
    "\n",
    "for word in sorted(wordcounts, key=wordcounts.get, reverse=True): # 8, sorted by key\n",
    "    if wordcounts[word] < 50:\n",
    "        break\n",
    "    print(word, wordcounts[word]) # 9"
   ]
  },
  {
   "cell_type": "code",
   "execution_count": 324,
   "id": "49760743-e853-4553-81ab-842853909672",
   "metadata": {},
   "outputs": [
    {
     "data": {
      "text/plain": [
       "{'two': 2,\n",
       " 'roads': 2,\n",
       " 'diverged': 2,\n",
       " 'in': 4,\n",
       " 'a': 3,\n",
       " 'yellow': 1,\n",
       " 'wood,': 2,\n",
       " 'and': 9,\n",
       " 'sorry': 1,\n",
       " 'i': 8,\n",
       " 'could': 2,\n",
       " 'not': 1,\n",
       " 'travel': 1,\n",
       " 'both': 2,\n",
       " 'be': 2,\n",
       " 'one': 3,\n",
       " 'traveler,': 1,\n",
       " 'long': 1,\n",
       " 'stood': 1,\n",
       " 'looked': 1,\n",
       " 'down': 1,\n",
       " 'as': 5,\n",
       " 'far': 1,\n",
       " 'to': 2,\n",
       " 'where': 1,\n",
       " 'it': 2,\n",
       " 'bent': 1,\n",
       " 'the': 8,\n",
       " 'undergrowth;': 1,\n",
       " 'then': 1,\n",
       " 'took': 2,\n",
       " 'other,': 1,\n",
       " 'just': 1,\n",
       " 'fair,': 1,\n",
       " 'having': 1,\n",
       " 'perhaps': 1,\n",
       " 'better': 1,\n",
       " 'claim,': 1,\n",
       " 'because': 1,\n",
       " 'was': 1,\n",
       " 'grassy': 1,\n",
       " 'wanted': 1,\n",
       " 'wear;': 1,\n",
       " 'though': 1,\n",
       " 'for': 2,\n",
       " 'that': 3,\n",
       " 'passing': 1,\n",
       " 'there': 1,\n",
       " 'had': 2,\n",
       " 'worn': 1,\n",
       " 'them': 1,\n",
       " 'really': 1,\n",
       " 'about': 1,\n",
       " 'same,': 1,\n",
       " 'morning': 1,\n",
       " 'equally': 1,\n",
       " 'lay': 1,\n",
       " 'leaves': 1,\n",
       " 'no': 1,\n",
       " 'step': 1,\n",
       " 'trodden': 1,\n",
       " 'black.': 1,\n",
       " 'oh,': 1,\n",
       " 'kept': 1,\n",
       " 'first': 1,\n",
       " 'another': 1,\n",
       " 'day!': 1,\n",
       " 'yet': 1,\n",
       " 'knowing': 1,\n",
       " 'how': 1,\n",
       " 'way': 1,\n",
       " 'leads': 1,\n",
       " 'on': 1,\n",
       " 'way,': 1,\n",
       " 'doubted': 1,\n",
       " 'if': 1,\n",
       " 'should': 1,\n",
       " 'ever': 1,\n",
       " 'come': 1,\n",
       " 'back.': 1,\n",
       " 'shall': 1,\n",
       " 'telling': 1,\n",
       " 'this': 1,\n",
       " 'with': 1,\n",
       " 'sigh': 1,\n",
       " 'somewhere': 1,\n",
       " 'ages': 2,\n",
       " 'hence:': 1,\n",
       " 'i—': 1,\n",
       " 'less': 1,\n",
       " 'traveled': 1,\n",
       " 'by,': 1,\n",
       " 'has': 1,\n",
       " 'made': 1,\n",
       " 'all': 1,\n",
       " 'difference.': 1}"
      ]
     },
     "execution_count": 324,
     "metadata": {},
     "output_type": "execute_result"
    }
   ],
   "source": [
    "wordcounts"
   ]
  },
  {
   "cell_type": "code",
   "execution_count": 333,
   "id": "12051fd6-7fb9-4299-a088-1a04fca1d251",
   "metadata": {},
   "outputs": [],
   "source": [
    "word = 'Hamlet,'"
   ]
  },
  {
   "cell_type": "code",
   "execution_count": 334,
   "id": "b01fc806-4d75-4045-8b7c-17c93afccc61",
   "metadata": {},
   "outputs": [
    {
     "data": {
      "text/plain": [
       "['H', 'a', 'm', 'l', 'e', 't', ',']"
      ]
     },
     "execution_count": 334,
     "metadata": {},
     "output_type": "execute_result"
    }
   ],
   "source": [
    "list(word)"
   ]
  },
  {
   "cell_type": "code",
   "execution_count": 335,
   "id": "b5a2bd5b-5636-4cc0-a47e-3dd2838d6c07",
   "metadata": {},
   "outputs": [],
   "source": [
    "import string"
   ]
  },
  {
   "cell_type": "code",
   "execution_count": 336,
   "id": "f8194b83-9731-4fd1-a056-3b6ef423ae67",
   "metadata": {},
   "outputs": [
    {
     "data": {
      "text/plain": [
       "'!\"#$%&\\'()*+,-./:;<=>?@[\\\\]^_`{|}~'"
      ]
     },
     "execution_count": 336,
     "metadata": {},
     "output_type": "execute_result"
    }
   ],
   "source": [
    "string.punctuation"
   ]
  },
  {
   "cell_type": "code",
   "execution_count": 337,
   "id": "f8f296fd-09b4-4903-a4e5-fd9a7404d70a",
   "metadata": {},
   "outputs": [
    {
     "data": {
      "text/plain": [
       "['Formatter',\n",
       " 'Template',\n",
       " '_ChainMap',\n",
       " '__all__',\n",
       " '__builtins__',\n",
       " '__cached__',\n",
       " '__doc__',\n",
       " '__file__',\n",
       " '__loader__',\n",
       " '__name__',\n",
       " '__package__',\n",
       " '__spec__',\n",
       " '_re',\n",
       " '_sentinel_dict',\n",
       " '_string',\n",
       " 'ascii_letters',\n",
       " 'ascii_lowercase',\n",
       " 'ascii_uppercase',\n",
       " 'capwords',\n",
       " 'digits',\n",
       " 'hexdigits',\n",
       " 'octdigits',\n",
       " 'printable',\n",
       " 'punctuation',\n",
       " 'whitespace']"
      ]
     },
     "execution_count": 337,
     "metadata": {},
     "output_type": "execute_result"
    }
   ],
   "source": [
    "dir(string)"
   ]
  },
  {
   "cell_type": "code",
   "execution_count": 338,
   "id": "87bc2cd9-132b-4acb-90bb-0ec21cd4fc35",
   "metadata": {},
   "outputs": [
    {
     "data": {
      "text/plain": [
       "'abcdefghijklmnopqrstuvwxyz'"
      ]
     },
     "execution_count": 338,
     "metadata": {},
     "output_type": "execute_result"
    }
   ],
   "source": [
    "string.ascii_lowercase"
   ]
  },
  {
   "cell_type": "code",
   "execution_count": 339,
   "id": "20b5cbe8-c6df-43fe-b43f-63b0a2a6ab50",
   "metadata": {},
   "outputs": [
    {
     "data": {
      "text/plain": [
       "'ABCDEFGHIJKLMNOPQRSTUVWXYZ'"
      ]
     },
     "execution_count": 339,
     "metadata": {},
     "output_type": "execute_result"
    }
   ],
   "source": [
    "string.ascii_uppercase"
   ]
  },
  {
   "cell_type": "code",
   "execution_count": 340,
   "id": "73a7e39f-8013-42eb-89b8-b47f883d2ab4",
   "metadata": {},
   "outputs": [],
   "source": [
    "punct_chars = string.punctuation\n",
    "new_word = word.strip(punct_chars)"
   ]
  },
  {
   "cell_type": "code",
   "execution_count": 342,
   "id": "7e632802-e63e-4d9a-914a-280e8cf1ef30",
   "metadata": {},
   "outputs": [
    {
     "data": {
      "text/plain": [
       "'Hamlet'"
      ]
     },
     "execution_count": 342,
     "metadata": {},
     "output_type": "execute_result"
    }
   ],
   "source": [
    "new_word"
   ]
  },
  {
   "cell_type": "code",
   "execution_count": 355,
   "id": "6efbbb0d-d01b-40f4-8681-d90c361493a1",
   "metadata": {},
   "outputs": [
    {
     "name": "stdout",
     "output_type": "stream",
     "text": [
      "1143 the\n",
      " 966 and\n",
      " 762 to\n",
      " 669 of\n",
      " 631 i\n",
      " 554 you\n",
      " 546 a\n",
      " 514 my\n",
      " 471 hamlet\n",
      " 451 in\n",
      " 419 it\n",
      " 407 that\n",
      " 358 is\n",
      " 315 not\n",
      " 311 lord\n",
      " 297 this\n",
      " 296 his\n",
      " 271 but\n",
      " 268 with\n",
      " 252 for\n",
      " 242 your\n",
      " 236 s\n",
      " 235 me\n",
      " 231 he\n",
      " 228 be\n",
      " 227 as\n",
      " 218 what\n",
      " 202 king\n",
      " 197 so\n",
      " 197 him\n",
      " 182 have\n",
      " 180 d\n",
      " 169 will\n",
      " 160 do\n",
      " 158 o\n",
      " 158 horatio\n",
      " 152 we\n",
      " 143 no\n",
      " 137 on\n",
      " 131 are\n",
      " 122 all\n",
      " 120 claudius\n",
      " 119 queen\n",
      " 119 polonius\n",
      " 119 by\n",
      " 118 our\n",
      " 116 if\n",
      " 114 shall\n",
      " 114 or\n",
      " 109 good\n",
      " 107 thou\n",
      " 106 come\n",
      " 105 let\n",
      " 105 laertes\n",
      " 104 they\n",
      "  99 now\n",
      "  96 more\n",
      "  95 there\n",
      "  95 gertrude\n",
      "  95 from\n",
      "  91 her\n",
      "  90 how\n",
      "  87 thy\n",
      "  87 t\n",
      "  87 ophelia\n",
      "  87 at\n",
      "  86 was\n",
      "  85 like\n",
      "  82 most\n",
      "  80 would\n",
      "  79 well\n",
      "  77 know\n",
      "  76 rosencrantz\n",
      "  76 ll\n",
      "  75 them\n",
      "  75 sir\n",
      "  73 tis\n",
      "  72 enter\n",
      "  70 may\n",
      "  70 go\n",
      "  70 father\n",
      "  69 us\n",
      "  68 love\n",
      "  65 very\n",
      "  65 first\n",
      "  65 did\n",
      "  64 which\n",
      "  64 then\n",
      "  64 guildenstern\n",
      "  63 speak\n",
      "  62 why\n",
      "  62 here\n",
      "  62 hath\n",
      "  61 must\n",
      "  59 thee\n",
      "  59 an\n",
      "  58 where\n",
      "  58 their\n",
      "  58 should\n",
      "  58 give\n",
      "  57 upon\n",
      "  57 such\n",
      "  57 man\n",
      "  56 say\n",
      "  56 make\n",
      "  55 out\n",
      "  54 when\n",
      "  54 some\n",
      "  53 am\n",
      "  51 too\n",
      "  51 than\n",
      "  50 she\n",
      "  50 much\n",
      "  49 think\n",
      "  49 one\n",
      "  48 these\n",
      "  48 night\n",
      "  47 see\n",
      "  47 clown\n",
      "  46 time\n",
      "  46 marcellus\n",
      "  45 mother\n",
      "  45 heaven\n",
      "  45 had\n",
      "  44 yet\n",
      "  43 who\n",
      "  43 tell\n",
      "  42 thus\n",
      "  42 play\n",
      "  40 exit\n",
      "  39 up\n",
      "  39 look\n",
      "  38 death\n",
      "  38 ay\n",
      "  37 own\n",
      "  37 nor\n",
      "  37 mine\n",
      "  37 god\n",
      "  36 take\n",
      "  36 exeunt\n",
      "  36 can\n",
      "  35 soul\n",
      "  34 life\n",
      "  33 hear\n",
      "  33 dead\n",
      "  32 might\n",
      "  32 down\n",
      "  32 could\n",
      "  32 again\n",
      "  31 whose\n",
      "  31 pray\n",
      "  31 osric\n",
      "  31 nothing\n",
      "  31 into\n",
      "  31 indeed\n",
      "  31 heart\n",
      "  31 ghost\n",
      "  30 made\n",
      "  30 hold\n",
      "  30 bernardo\n",
      "  29 nature\n",
      "  29 dear\n",
      "  28 within\n",
      "  28 were\n",
      "  28 leave\n",
      "  28 cannot\n",
      "  28 been\n",
      "  27 matter\n",
      "  27 doth\n",
      "  26 thing\n",
      "  26 never\n",
      "  26 nay\n",
      "  26 great\n",
      "  26 does\n",
      "  26 both\n",
      "  25 world\n",
      "  25 sweet\n",
      "  25 part\n",
      "  25 head\n",
      "  25 er\n",
      "  25 away\n",
      "  24 two\n",
      "  24 true\n",
      "  24 though\n",
      "  24 put\n",
      "  24 itself\n",
      "  24 even\n",
      "  24 earth\n",
      "  24 denmark\n",
      "  24 day\n",
      "  24 comes\n",
      "  23 show\n",
      "  23 second\n",
      "  23 scene\n",
      "  23 follow\n",
      "  23 eyes\n",
      "  23 call\n",
      "  23 against\n",
      "  22 set\n",
      "  22 seen\n",
      "  22 off\n",
      "  22 madness\n",
      "  22 fear\n",
      "  22 done\n",
      "  21 those\n",
      "  21 son\n",
      "  21 players\n",
      "  21 mad\n",
      "  21 himself\n",
      "  21 fortinbras\n",
      "  21 fair\n",
      "  21 england\n",
      "  21 before\n",
      "  20 words\n",
      "  20 without\n",
      "  20 till\n",
      "  20 poor\n",
      "  20 player\n",
      "  20 old\n",
      "  20 means\n",
      "  20 friends\n",
      "  19 still\n",
      "  19 once\n",
      "  19 hand\n",
      "  19 gentleman\n",
      "  19 blood\n",
      "  19 believe\n",
      "  19 act\n",
      "  18 reynaldo\n",
      "  18 many\n",
      "  18 makes\n",
      "  18 little\n",
      "  18 keep\n",
      "  18 find\n",
      "  18 else\n",
      "  18 about\n",
      "  17 young\n",
      "  17 welcome\n",
      "  17 thoughts\n",
      "  17 noble\n",
      "  17 long\n",
      "  17 grave\n",
      "  17 farewell\n",
      "  17 end\n",
      "  17 ear\n",
      "  17 cause\n",
      "  17 body\n",
      "  17 art\n",
      "  17 any\n",
      "  17 another\n",
      "  16 youth\n",
      "  16 watch\n",
      "  16 use\n",
      "  16 sword\n",
      "  16 speech\n",
      "  16 since\n",
      "  16 question\n",
      "  16 marry\n",
      "  16 majesty\n",
      "  16 hast\n",
      "  16 has\n",
      "  16 fortune\n",
      "  16 faith\n",
      "  16 brother\n",
      "  16 better\n",
      "  15 yourself\n",
      "  15 tongue\n",
      "  15 therefore\n",
      "  15 state\n",
      "  15 stand\n",
      "  15 sings\n",
      "  15 said\n",
      "  15 rest\n",
      "  15 other\n",
      "  15 murder\n",
      "  15 mark\n",
      "  15 live\n",
      "  15 last\n",
      "  15 lady\n",
      "  15 honour\n",
      "  15 eye\n",
      "  15 drink\n",
      "  15 daughter\n",
      "  15 between\n",
      "  15 bear\n",
      "  15 answer\n",
      "  14 stay\n",
      "  14 spirit\n",
      "  14 something\n",
      "  14 room\n",
      "  14 reason\n",
      "  14 mind\n",
      "  14 men\n",
      "  14 ho\n",
      "  14 heard\n",
      "  14 grief\n",
      "  14 grace\n",
      "  14 gone\n",
      "  14 ever\n",
      "  14 en\n",
      "  14 dost\n",
      "  14 bed\n",
      "  14 after\n",
      "  13 word\n",
      "  13 virtue\n",
      "  13 thine\n",
      "  13 sent\n",
      "  13 sense\n",
      "  13 saw\n",
      "  13 remember\n",
      "  13 purpose\n",
      "  13 ourselves\n",
      "  13 none\n",
      "  13 haste\n",
      "  13 goes\n",
      "  13 friend\n",
      "  13 form\n",
      "  13 ere\n",
      "  13 duty\n",
      "  13 castle\n",
      "  12 while\n",
      "  12 voice\n",
      "  12 together\n",
      "  12 thought\n",
      "  12 st\n",
      "  12 sleep\n",
      "  12 seem\n",
      "  12 same\n",
      "  12 revenge\n",
      "  12 re\n",
      "  12 please\n",
      "  12 passion\n",
      "  12 oft\n",
      "  12 norway\n",
      "  12 name\n",
      "  12 myself\n",
      "  12 madam\n",
      "  12 kind\n",
      "  12 hands\n",
      "  12 ha\n",
      "  12 further\n",
      "  12 foul\n",
      "  12 fit\n",
      "  12 fire\n",
      "  12 e\n",
      "  12 bring\n",
      "  12 being\n",
      "  12 awhile\n",
      "  12 aside\n",
      "  12 air\n",
      "  11 work\n",
      "  11 wind\n",
      "  11 way\n",
      "  11 villain\n",
      "  11 uncle\n",
      "  11 twere\n",
      "  11 turn\n",
      "  11 thousand\n",
      "  11 things\n",
      "  11 swear\n",
      "  11 right\n",
      "  11 peace\n",
      "  11 mean\n",
      "  11 honest\n",
      "  11 help\n",
      "  11 gentlemen\n",
      "  11 full\n",
      "  11 free\n",
      "  11 fellow\n",
      "  11 far\n",
      "  11 fall\n",
      "  11 face\n",
      "  11 each\n",
      "  11 doubt\n",
      "  11 deed\n",
      "  11 business\n",
      "  11 best\n",
      "  10 walk\n",
      "  10 thanks\n",
      "  10 takes\n",
      "  10 skull\n",
      "  10 pyrrhus\n",
      "  10 prince\n",
      "  10 phrase\n",
      "  10 offence\n",
      "  10 news\n",
      "  10 neither\n",
      "  10 memory\n",
      "  10 lie\n",
      "  10 late\n",
      "  10 husband\n",
      "  10 hell\n",
      "  10 ground\n",
      "  10 given\n",
      "  10 francisco\n",
      "  10 fine\n",
      "  10 excellent\n",
      "  10 every\n",
      "  10 ears\n",
      "  10 drown\n",
      "  10 command\n",
      "  10 aught\n",
      "  10 alone\n",
      "  10 almost\n",
      "  10 alas\n",
      "  10 action\n",
      "   9 wilt\n",
      "   9 through\n",
      "   9 three\n",
      "   9 thank\n",
      "   9 sure\n",
      "   9 strange\n",
      "   9 soft\n",
      "   9 sight\n",
      "   9 seek\n",
      "   9 seal\n",
      "   9 return\n",
      "   9 poison\n",
      "   9 place\n",
      "   9 pardon\n",
      "   9 near\n",
      "   9 meet\n",
      "   9 lost\n",
      "   9 light\n",
      "   9 lay\n",
      "   9 kill\n",
      "   9 judgment\n",
      "   9 hither\n",
      "   9 heavens\n",
      "   9 get\n",
      "   9 gave\n",
      "   9 fell\n",
      "   9 draw\n",
      "   9 devil\n",
      "   9 custom\n",
      "   9 captain\n",
      "   9 came\n",
      "   9 breath\n",
      "   9 behind\n",
      "   9 arms\n",
      "   9 age\n",
      "   8 wrong\n",
      "   8 woman\n",
      "   8 woe\n",
      "   8 wife\n",
      "   8 wherein\n",
      "   8 voltimand\n",
      "   8 truly\n",
      "   8 times\n",
      "   8 tears\n",
      "   8 sun\n",
      "   8 sit\n",
      "   8 shame\n",
      "   8 service\n",
      "   8 sea\n",
      "   8 says\n",
      "   8 quick\n",
      "   8 power\n",
      "   8 particular\n",
      "   8 pale\n",
      "   8 noise\n",
      "   8 music\n",
      "   8 lordship\n",
      "   8 looks\n",
      "   8 less\n",
      "   8 law\n",
      "   8 known\n",
      "   8 joy\n",
      "   8 hour\n",
      "   8 hope\n",
      "   8 grow\n",
      "   8 fashion\n",
      "   8 falls\n",
      "   8 dies\n",
      "   8 desire\n",
      "   8 conscience\n",
      "   8 charge\n",
      "   8 break\n",
      "   8 black\n",
      "   8 beseech\n",
      "   8 back\n",
      "   8 attendants\n",
      "   7 wit\n",
      "   7 wholesome\n",
      "   7 whole\n",
      "   7 whether\n",
      "   7 water\n",
      "   7 unto\n",
      "   7 understand\n",
      "   7 touch\n",
      "   7 top\n",
      "   7 soldiers\n",
      "   7 sister\n",
      "   7 shows\n",
      "   7 shot\n",
      "   7 season\n",
      "   7 receive\n",
      "   7 rank\n",
      "   7 others\n",
      "   7 obey\n",
      "   7 needs\n",
      "   7 march\n",
      "   7 maid\n",
      "   7 loves\n",
      "   7 loved\n",
      "   7 list\n",
      "   7 letters\n",
      "   7 lack\n",
      "   7 house\n",
      "   7 heavy\n",
      "   7 gives\n",
      "   7 general\n",
      "   7 fool\n",
      "   7 enough\n",
      "   7 effect\n",
      "   7 dust\n",
      "   7 die\n",
      "   7 days\n",
      "   7 common\n",
      "   7 coming\n",
      "   7 bloody\n",
      "   7 beg\n",
      "   7 arm\n",
      "   7 adieu\n",
      "   6 yours\n",
      "   6 writ\n",
      "   6 wouldst\n",
      "   6 woo\n",
      "   6 withal\n",
      "   6 wisdom\n",
      "   6 wicked\n",
      "   6 whom\n",
      "   6 wager\n",
      "   6 vows\n",
      "   6 try\n",
      "   6 truth\n",
      "   6 toward\n",
      "   6 table\n",
      "   6 struck\n",
      "   6 stood\n",
      "   6 star\n",
      "   6 speaks\n",
      "   6 sound\n",
      "   6 sorrow\n",
      "   6 slain\n",
      "   6 shape\n",
      "   6 seems\n",
      "   6 round\n",
      "   6 reads\n",
      "   6 proof\n",
      "   6 prologue\n",
      "   6 prison\n",
      "   6 point\n",
      "   6 piece\n",
      "   6 pass\n",
      "   6 only\n",
      "   6 note\n",
      "   6 move\n",
      "   6 mouth\n",
      "   6 mercy\n",
      "   6 marriage\n",
      "   6 lose\n",
      "   6 longer\n",
      "   6 lies\n",
      "   6 laugh\n",
      "   6 laid\n",
      "   6 knew\n",
      "   6 ill\n",
      "   6 ii\n",
      "   6 hot\n",
      "   6 home\n",
      "   6 herself\n",
      "   6 health\n",
      "   6 guilty\n",
      "   6 gracious\n",
      "   6 forth\n",
      "   6 foils\n",
      "   6 fly\n",
      "   6 fie\n",
      "   6 feed\n",
      "   6 fat\n",
      "   6 fare\n",
      "   6 false\n",
      "   6 elsinore\n",
      "   6 either\n",
      "   6 dull\n",
      "   6 dream\n",
      "   6 double\n",
      "   6 door\n",
      "   6 discourse\n",
      "   6 desperate\n",
      "   6 danish\n",
      "   6 dangerous\n",
      "   6 dane\n",
      "   6 damned\n",
      "   6 damn\n",
      "   6 crown\n",
      "   6 court\n",
      "   6 cornelius\n",
      "   6 confess\n",
      "   6 cold\n",
      "   6 cock\n",
      "   6 circumstance\n",
      "   6 christian\n",
      "   6 choice\n",
      "   6 cast\n",
      "   6 buried\n",
      "   6 brought\n",
      "   6 brain\n",
      "   6 bodies\n",
      "   6 bid\n",
      "   6 begin\n",
      "   6 beauty\n",
      "   6 beast\n",
      "   6 beard\n",
      "   6 bad\n",
      "   6 appear\n",
      "   6 anon\n",
      "   6 ambition\n",
      "   6 already\n",
      "   6 ah\n",
      "   5 yes\n",
      "   5 year\n",
      "   5 ye\n",
      "   5 worm\n",
      "   5 whereon\n",
      "   5 went\n",
      "   5 warlike\n",
      "   5 visit\n",
      "   5 visage\n",
      "   5 vile\n",
      "   5 twelve\n",
      "   5 twas\n",
      "   5 trumpet\n",
      "   5 treason\n",
      "   5 took\n",
      "   5 told\n",
      "   5 thyself\n",
      "   5 throw\n",
      "   5 themselves\n",
      "   5 terms\n",
      "   5 teach\n",
      "   5 sudden\n",
      "   5 stir\n",
      "   5 stands\n",
      "   5 spirits\n",
      "   5 souls\n",
      "   5 slave\n",
      "   5 sing\n",
      "   5 sick\n",
      "   5 short\n",
      "   5 shalt\n",
      "   5 save\n",
      "   5 safety\n",
      "   5 report\n",
      "   5 read\n",
      "   5 rather\n",
      "   5 quiet\n",
      "   5 puts\n",
      "   5 priam\n",
      "   5 presently\n",
      "   5 platform\n",
      "   5 perhaps\n",
      "   5 perchance\n",
      "   5 patience\n",
      "   5 over\n",
      "   5 nunnery\n",
      "   5 next\n",
      "   5 natural\n",
      "   5 motive\n",
      "   5 morrow\n",
      "   5 morning\n",
      "   5 moon\n",
      "   5 methinks\n",
      "   5 messenger\n",
      "   5 mass\n",
      "   5 making\n",
      "   5 liberty\n",
      "   5 land\n",
      "   5 knave\n",
      "   5 kingdom\n",
      "   5 keeps\n",
      "   5 impart\n",
      "   5 humbly\n",
      "   5 horse\n",
      "   5 honesty\n",
      "   5 holds\n",
      "   5 hit\n",
      "   5 hide\n",
      "   5 hearing\n",
      "   5 hard\n",
      "   5 half\n",
      "   5 grows\n",
      "   5 giving\n",
      "   5 gifts\n",
      "   5 gentle\n",
      "   5 gainst\n",
      "   5 french\n",
      "   5 france\n",
      "   5 found\n",
      "   5 forgot\n",
      "   5 flourish\n",
      "   5 flesh\n",
      "   5 figure\n",
      "   5 fault\n",
      "   5 fast\n",
      "   5 ecstasy\n",
      "   5 dumb\n",
      "   5 dread\n",
      "   5 disposition\n",
      "   5 deliver\n",
      "   5 dare\n",
      "   5 danger\n",
      "   5 cry\n",
      "   5 course\n",
      "   5 countenance\n",
      "   5 conceit\n",
      "   5 commission\n",
      "   5 colour\n",
      "   5 closet\n",
      "   5 choose\n",
      "   5 carriages\n",
      "   5 c\n",
      "   5 brief\n",
      "   5 brains\n",
      "   5 bound\n",
      "   5 blessing\n",
      "   5 bestow\n",
      "   5 beneath\n",
      "   5 base\n",
      "   5 audience\n",
      "   5 arras\n",
      "   5 alexander\n",
      "   4 yea\n",
      "   4 wretched\n",
      "   4 wonder\n",
      "   4 wittenberg\n",
      "   4 wits\n",
      "   4 wish\n",
      "   4 wild\n",
      "   4 wide\n",
      "   4 wi\n",
      "   4 white\n",
      "   4 whilst\n",
      "   4 whereto\n",
      "   4 weigh\n",
      "   4 weep\n",
      "   4 weeds\n",
      "   4 wear\n",
      "   4 warrant\n",
      "   4 violent\n",
      "   4 violence\n",
      "   4 unnatural\n",
      "   4 under\n",
      "   4 twill\n",
      "   4 twice\n",
      "   4 twenty\n",
      "   4 trick\n",
      "   4 treasure\n",
      "   4 throat\n",
      "   4 thrift\n",
      "   4 thrice\n",
      "   4 thinking\n",
      "   4 thence\n",
      "   4 tender\n",
      "   4 tend\n",
      "   4 ten\n",
      "   4 talk\n",
      "   4 tale\n",
      "   4 stronger\n",
      "   4 strong\n",
      "   4 straight\n",
      "   4 stop\n",
      "   4 stars\n",
      "   4 spring\n",
      "   4 speed\n",
      "   4 spade\n",
      "   4 sorry\n",
      "   4 sometimes\n",
      "   4 snow\n",
      "   4 sleeps\n",
      "   4 sleeping\n",
      "   4 six\n",
      "   4 sits\n",
      "   4 sith\n",
      "   4 silence\n",
      "   4 sigh\n",
      "   4 shortly\n",
      "   4 shadow\n",
      "   4 servant\n",
      "   4 sends\n",
      "   4 send\n",
      "   4 seeming\n",
      "   4 seeing\n",
      "   4 secret\n",
      "   4 rose\n",
      "   4 remembrance\n",
      "   4 ready\n",
      "   4 quite\n",
      "   4 quantity\n",
      "   4 quality\n",
      "   4 property\n",
      "   4 prithee\n",
      "   4 priest\n",
      "   4 practise\n",
      "   4 possible\n",
      "   4 polack\n",
      "   4 pleasure\n",
      "   4 pity\n",
      "   4 person\n",
      "   4 pay\n",
      "   4 pause\n",
      "   4 pate\n",
      "   4 pastoral\n",
      "   4 offer\n",
      "   4 occasion\n",
      "   4 new\n",
      "   4 need\n",
      "   4 native\n",
      "   4 motion\n",
      "   4 mortal\n",
      "   4 months\n",
      "   4 month\n",
      "   4 modesty\n",
      "   4 mock\n",
      "   4 methought\n",
      "   4 meant\n",
      "   4 maker\n",
      "   4 main\n",
      "   4 lock\n",
      "   4 lives\n",
      "   4 lights\n",
      "   4 lest\n",
      "   4 length\n",
      "   4 lend\n",
      "   4 leisure\n",
      "   4 lead\n",
      "   4 lands\n",
      "   4 kept\n",
      "   4 iv\n",
      "   4 instant\n",
      "   4 infinite\n",
      "   4 incestuous\n",
      "   4 imports\n",
      "   4 imagination\n",
      "   4 image\n",
      "   4 iii\n",
      "   4 horrible\n",
      "   4 high\n",
      "   4 herein\n",
      "   4 hence\n",
      "   4 hecuba\n",
      "   4 heat\n",
      "   4 happy\n",
      "   4 hang\n",
      "   4 hall\n",
      "   4 habit\n",
      "   4 grown\n",
      "   4 gonzago\n",
      "   4 glad\n",
      "   4 gallows\n",
      "   4 gain\n",
      "   4 funeral\n",
      "   4 freely\n",
      "   4 frame\n",
      "   4 four\n",
      "   4 forget\n",
      "   4 follows\n",
      "   4 flowers\n",
      "   4 fingers\n",
      "   4 fight\n",
      "   4 favour\n",
      "   4 fain\n",
      "   4 express\n",
      "   4 except\n",
      "   4 entertainment\n",
      "   4 encounter\n",
      "   4 eat\n",
      "   4 ease\n",
      "   4 drift\n",
      "   4 dreams\n",
      "   4 discretion\n",
      "   4 direct\n",
      "   4 died\n",
      "   4 didst\n",
      "   4 deep\n",
      "   4 danes\n",
      "   4 cursed\n",
      "   4 cup\n",
      "   4 cunning\n",
      "   4 cries\n",
      "   4 cousin\n",
      "   4 courtier\n",
      "   4 country\n",
      "   4 consequence\n",
      "   4 consent\n",
      "   4 commend\n",
      "   4 commandment\n",
      "   4 clouds\n",
      "   4 closes\n",
      "   4 change\n",
      "   4 certain\n",
      "   4 censure\n",
      "   4 cannon\n",
      "   4 calls\n",
      "   4 burial\n",
      "   4 brow\n",
      "   4 breathe\n",
      "   4 bosom\n",
      "   4 bore\n",
      "   4 bones\n",
      "   4 bless\n",
      "   4 blame\n",
      "   4 birth\n",
      "   4 begun\n",
      "   4 beggar\n",
      "   4 assume\n",
      "   4 assay\n",
      "   4 ass\n",
      "   4 argument\n",
      "   4 angel\n",
      "   4 ambassadors\n",
      "   4 affection\n",
      "   4 affair\n",
      "   4 above\n",
      "   3 years\n",
      "   3 wretch\n",
      "   3 worth\n",
      "   3 worse\n",
      "   3 wont\n",
      "   3 wondrous\n",
      "   3 withdraw\n",
      "   3 wisest\n",
      "   3 winds\n",
      "   3 win\n",
      "   3 wherefore\n",
      "   3 wheel\n",
      "   3 wed\n",
      "   3 ways\n",
      "   3 waves\n",
      "   3 wanton\n",
      "   3 vouchsafe\n",
      "   3 visitation\n",
      "   3 vice\n",
      "   3 venom\n",
      "   3 v\n",
      "   3 uses\n",
      "   3 unseen\n",
      "   3 unless\n",
      "   3 unfold\n",
      "   3 understanding\n",
      "   3 trumpets\n",
      "   3 tricks\n",
      "   3 trial\n",
      "   3 tragedy\n",
      "   3 touching\n",
      "   3 tongues\n",
      "   3 thirty\n",
      "   3 third\n",
      "   3 thick\n",
      "   3 theme\n",
      "   3 tenders\n",
      "   3 tempt\n",
      "   3 tear\n",
      "   3 tame\n",
      "   3 ta\n",
      "   3 swounds\n",
      "   3 sworn\n",
      "   3 suits\n",
      "   3 suit\n",
      "   3 suffers\n",
      "   3 suffer\n",
      "   3 subject\n",
      "   3 stuff\n",
      "   3 story\n",
      "   3 stole\n",
      "   3 stick\n",
      "   3 steel\n",
      "   3 start\n",
      "   3 stage\n",
      "   3 sport\n",
      "   3 sponge\n",
      "   3 special\n",
      "   3 sovereign\n",
      "   3 sort\n",
      "   3 sore\n",
      "   3 solemn\n",
      "   3 soldier\n",
      "   3 soil\n",
      "   3 smiling\n",
      "   3 slow\n",
      "   3 skill\n",
      "   3 sirs\n",
      "   3 sin\n",
      "   3 sides\n",
      "   3 shoulder\n",
      "   3 shell\n",
      "   3 shapes\n",
      "   3 secrecy\n",
      "   3 scope\n",
      "   3 salt\n",
      "   3 saint\n",
      "   3 sailors\n",
      "   3 sail\n",
      "   3 ruled\n",
      "   3 royal\n",
      "   3 rouse\n",
      "   3 rogue\n",
      "   3 rich\n",
      "   3 revenged\n",
      "   3 repent\n",
      "   3 remains\n",
      "   3 recover\n",
      "   3 recorders\n",
      "   3 received\n",
      "   3 rat\n",
      "   3 rash\n",
      "   3 rapiers\n",
      "   3 rapier\n",
      "   3 rage\n",
      "   3 purse\n",
      "   3 pure\n",
      "   3 proved\n",
      "   3 prove\n",
      "   3 proud\n",
      "   3 profit\n",
      "   3 proclaim\n",
      "   3 process\n",
      "   3 present\n",
      "   3 presence\n",
      "   3 prepare\n",
      "   3 powers\n",
      "   3 post\n",
      "   3 poland\n",
      "   3 pluck\n",
      "   3 placed\n",
      "   3 pith\n",
      "   3 piteous\n",
      "   3 pit\n",
      "   3 pipe\n",
      "   3 pious\n",
      "   3 perform\n",
      "   3 patient\n",
      "   3 past\n",
      "   3 passing\n",
      "   3 parts\n",
      "   3 outward\n",
      "   3 ourself\n",
      "   3 otherwise\n",
      "   3 organ\n",
      "   3 ordnance\n",
      "   3 order\n",
      "   3 open\n",
      "   3 offended\n",
      "   3 odds\n",
      "   3 observe\n",
      "   3 nonny\n",
      "   3 nine\n",
      "   3 nights\n",
      "   3 nephew\n",
      "   3 neck\n",
      "   3 ne\n",
      "   3 nation\n",
      "   3 n\n",
      "   3 murderer\n",
      "   3 mouse\n",
      "   3 mountain\n",
      "   3 morn\n",
      "   3 mobled\n",
      "   3 mistress\n",
      "   3 mere\n",
      "   3 masters\n",
      "   3 married\n",
      "   3 m\n",
      "   3 lucianus\n",
      "   3 loving\n",
      "   3 loud\n",
      "   3 loose\n",
      "   3 lo\n",
      "   3 livery\n",
      "   3 lines\n",
      "   3 likes\n",
      "   3 liest\n",
      "   3 liege\n",
      "   3 liberal\n",
      "   3 lets\n",
      "   3 left\n",
      "   3 leaves\n",
      "   3 ladies\n",
      "   3 labour\n",
      "   3 knows\n",
      "   3 kisses\n",
      "   3 justly\n",
      "   3 judgments\n",
      "   3 judge\n",
      "   3 jig\n",
      "   3 jest\n",
      "   3 jephthah\n",
      "   3 inward\n",
      "   3 indifferent\n",
      "   3 incensed\n",
      "   3 importing\n",
      "   3 ignorant\n",
      "   3 ignorance\n",
      "   3 idle\n",
      "   3 honourable\n",
      "   3 hits\n",
      "   3 historical\n",
      "   3 hill\n",
      "   3 hey\n",
      "   3 hercules\n",
      "   3 heels\n",
      "   3 heartily\n",
      "   3 hears\n",
      "   3 hat\n",
      "   3 hangers\n",
      "   3 hadst\n",
      "   3 guilt\n",
      "   3 guard\n",
      "   3 gross\n",
      "   3 green\n",
      "   3 goodly\n",
      "   3 golden\n",
      "   3 gods\n",
      "   3 generous\n",
      "   3 gather\n",
      "   3 gaming\n",
      "   3 forms\n",
      "   3 force\n",
      "   3 foot\n",
      "   3 foolish\n",
      "   3 flat\n",
      "   3 fix\n",
      "   3 five\n",
      "   3 finds\n",
      "   3 fiery\n",
      "   3 few\n",
      "   3 fellows\n",
      "   3 feeling\n",
      "   3 fee\n",
      "   3 feast\n",
      "   3 faults\n",
      "   3 fantasy\n",
      "   3 fancy\n",
      "   3 faithful\n",
      "   3 excellence\n",
      "   3 estate\n",
      "   3 envenom\n",
      "   3 entreat\n",
      "   3 enemy\n",
      "   3 election\n",
      "   3 edge\n",
      "   3 ducats\n",
      "   3 dry\n",
      "   3 dreadful\n",
      "   3 dozen\n",
      "   3 doors\n",
      "   3 doomsday\n",
      "   3 distracted\n",
      "   3 distemper\n",
      "   3 dispatch\n",
      "   3 dew\n",
      "   3 desires\n",
      "   3 delights\n",
      "   3 delight\n",
      "   3 defend\n",
      "   3 crimes\n",
      "   3 cried\n",
      "   3 creatures\n",
      "   3 count\n",
      "   3 counsel\n",
      "   3 corse\n",
      "   3 corruption\n",
      "   3 content\n",
      "   3 consider\n",
      "   3 confession\n",
      "   3 complexion\n",
      "   3 close\n",
      "   3 clay\n",
      "   3 children\n",
      "   3 chief\n",
      "   3 cheer\n",
      "   3 chaste\n",
      "   3 chamber\n",
      "   3 ceremony\n",
      "   3 carry\n",
      "   3 cap\n",
      "   3 canst\n",
      "   3 burst\n",
      "   3 brave\n",
      "   3 boy\n",
      "   3 bow\n",
      "   3 borne\n",
      "   3 born\n",
      "   3 book\n",
      "   3 bold\n",
      "   3 blow\n",
      "   3 bitter\n",
      "   3 bent\n",
      "   3 bend\n",
      "   3 below\n",
      "   3 becomes\n",
      "   3 beating\n",
      "   3 axe\n",
      "   3 avoid\n",
      "   3 armour\n",
      "   3 armed\n",
      "   3 argal\n",
      "   3 appears\n",
      "   3 angels\n",
      "   3 ambitious\n",
      "   3 along\n",
      "   3 allow\n",
      "   3 alack\n",
      "   3 affliction\n",
      "   3 advice\n",
      "   3 admiration\n",
      "   3 addition\n",
      "   3 actor\n",
      "   3 accident\n",
      "   3 aboard\n",
      "   2 yorick\n",
      "   2 yonder\n",
      "   2 yield\n",
      "   2 wrote\n",
      "   2 wounds\n",
      "   2 wounded\n",
      "   2 wormwood\n",
      "   2 working\n",
      "   2 wonted\n",
      "   2 wonderful\n",
      "   2 wittingly\n",
      "   2 witness\n",
      "   2 witchcraft\n",
      "   2 wisely\n",
      "   2 wise\n",
      "   2 wipe\n",
      "   2 wings\n",
      "   2 willingly\n",
      "   2 willing\n",
      "   2 wildly\n",
      "   2 whoreson\n",
      "   2 whips\n",
      "   2 whereof\n",
      "   2 whale\n",
      "   2 west\n",
      "   2 weasel\n",
      "   2 weary\n",
      "   2 wears\n",
      "   2 weapon\n",
      "   2 weakness\n",
      "   2 weak\n",
      "   2 waxes\n",
      "   2 wax\n",
      "   2 wash\n",
      "   2 wary\n",
      "   2 wars\n",
      "   2 war\n",
      "   2 wants\n",
      "   2 want\n",
      "   2 walks\n",
      "   2 wait\n",
      "   2 wag\n",
      "   2 vulgar\n",
      "   2 voyage\n",
      "   2 vow\n",
      "   2 vouchers\n",
      "   2 virtues\n",
      "   2 violets\n",
      "   2 view\n",
      "   2 vengeance\n",
      "   2 ve\n",
      "   2 variable\n",
      "   2 vantage\n",
      "   2 valiant\n",
      "   2 valentine\n",
      "   2 utter\n",
      "   2 usurp\n",
      "   2 used\n",
      "   2 unworthy\n",
      "   2 unknown\n",
      "   2 union\n",
      "   2 undertake\n",
      "   2 unction\n",
      "   2 unbated\n",
      "   2 twixt\n",
      "   2 twain\n",
      "   2 tush\n",
      "   2 tune\n",
      "   2 trust\n",
      "   2 truant\n",
      "   2 troubles\n",
      "   2 trouble\n",
      "   2 tribute\n",
      "   2 tremble\n",
      "   2 tree\n",
      "   2 treble\n",
      "   2 treachery\n",
      "   2 treacherous\n",
      "   2 travel\n",
      "   2 translate\n",
      "   2 trains\n",
      "   2 trail\n",
      "   2 tragical\n",
      "   2 trade\n",
      "   2 trace\n",
      "   2 toy\n",
      "   2 toe\n",
      "   2 thunder\n",
      "   2 throws\n",
      "   2 thrown\n",
      "   2 throne\n",
      "   2 thither\n",
      "   2 term\n",
      "   2 teeth\n",
      "   2 tedious\n",
      "   2 tax\n",
      "   2 tardy\n",
      "   2 taken\n",
      "   2 tables\n",
      "   2 swift\n",
      "   2 sweep\n",
      "   2 sweat\n",
      "   2 swearing\n",
      "   2 suppress\n",
      "   2 supper\n",
      "   2 summit\n",
      "   2 sum\n",
      "   2 sultry\n",
      "   2 succession\n",
      "   2 substance\n",
      "   2 strumpet\n",
      "   2 strike\n",
      "   2 strict\n",
      "   2 strew\n",
      "   2 strength\n",
      "   2 streets\n",
      "   2 straw\n",
      "   2 strangely\n",
      "   2 stops\n",
      "   2 stoops\n",
      "   2 stone\n",
      "   2 sting\n",
      "   2 step\n",
      "   2 steep\n",
      "   2 station\n",
      "   2 stamp\n",
      "   2 spurns\n",
      "   2 spread\n",
      "   2 spokes\n",
      "   2 spoken\n",
      "   2 spoke\n",
      "   2 source\n",
      "   2 sooner\n",
      "   2 songs\n",
      "   2 sometime\n",
      "   2 smooth\n",
      "   2 smile\n",
      "   2 slightly\n",
      "   2 slaughter\n",
      "   2 sized\n",
      "   2 single\n",
      "   2 sinews\n",
      "   2 signify\n",
      "   2 side\n",
      "   2 sickness\n",
      "   2 sickly\n",
      "   2 shuffling\n",
      "   2 shown\n",
      "   2 shouldst\n",
      "   2 shoes\n",
      "   2 shipwright\n",
      "   2 ship\n",
      "   2 shake\n",
      "   2 sexton\n",
      "   2 settled\n",
      "   2 sets\n",
      "   2 serves\n",
      "   2 served\n",
      "   2 serve\n",
      "   2 servants\n",
      "   2 serpent\n",
      "   2 sensible\n",
      "   2 senseless\n",
      "   2 sending\n",
      "   2 seeks\n",
      "   2 secure\n",
      "   2 seat\n",
      "   2 scripture\n",
      "   2 scourge\n",
      "   2 sconce\n",
      "   2 scholar\n",
      "   2 scarce\n",
      "   2 scape\n",
      "   2 scandal\n",
      "   2 scale\n",
      "   2 sblood\n",
      "   2 sat\n",
      "   2 salvation\n",
      "   2 sailor\n",
      "   2 safely\n",
      "   2 safe\n",
      "   2 sables\n",
      "   2 sable\n",
      "   2 runs\n",
      "   2 run\n",
      "   2 rugged\n",
      "   2 rue\n",
      "   2 rude\n",
      "   2 rub\n",
      "   2 roughly\n",
      "   2 rotten\n",
      "   2 rome\n",
      "   2 roman\n",
      "   2 roar\n",
      "   2 rites\n",
      "   2 rise\n",
      "   2 ring\n",
      "   2 rights\n",
      "   2 richer\n",
      "   2 rhenish\n",
      "   2 rewards\n",
      "   2 returns\n",
      "   2 respect\n",
      "   2 requite\n",
      "   2 reply\n",
      "   2 repair\n",
      "   2 remove\n",
      "   2 remain\n",
      "   2 relish\n",
      "   2 relieved\n",
      "   2 region\n",
      "   2 regard\n",
      "   2 red\n",
      "   2 recoveries\n",
      "   2 rebellious\n",
      "   2 reasons\n",
      "   2 reading\n",
      "   2 reaches\n",
      "   2 rate\n",
      "   2 ranker\n",
      "   2 rain\n",
      "   2 r\n",
      "   2 quit\n",
      "   2 quills\n",
      "   2 quarrel\n",
      "   2 pursue\n",
      "   2 purposes\n",
      "   2 purposed\n",
      "   2 purging\n",
      "   2 punish\n",
      "   2 puff\n",
      "   2 providence\n",
      "   2 propose\n",
      "   2 prophesy\n",
      "   2 proper\n",
      "   2 pronounced\n",
      "   2 promised\n",
      "   2 promise\n",
      "   2 profound\n",
      "   2 prodigal\n",
      "   2 proclaims\n",
      "   2 proceed\n",
      "   2 prisoner\n",
      "   2 prick\n",
      "   2 prevent\n",
      "   2 pretty\n",
      "   2 pregnant\n",
      "   2 precious\n",
      "   2 precepts\n",
      "   2 precedent\n",
      "   2 prayers\n",
      "   2 prayer\n",
      "   2 praised\n",
      "   2 praise\n",
      "   2 pours\n",
      "   2 potent\n",
      "   2 possess\n",
      "   2 pole\n",
      "   2 poisoner\n",
      "   2 pointing\n",
      "   2 plucks\n",
      "   2 plots\n",
      "   2 pleasures\n",
      "   2 pleased\n",
      "   2 playing\n",
      "   2 played\n",
      "   2 plain\n",
      "   2 plague\n",
      "   2 picture\n",
      "   2 picked\n",
      "   2 philosophy\n",
      "   2 petty\n",
      "   2 pestilent\n",
      "   2 perfume\n",
      "   2 peep\n",
      "   2 peasant\n",
      "   2 patch\n",
      "   2 pastime\n",
      "   2 passionate\n",
      "   2 passage\n",
      "   2 palm\n",
      "   2 pair\n",
      "   2 painted\n",
      "   2 pace\n",
      "   2 overdone\n",
      "   2 ours\n",
      "   2 origin\n",
      "   2 orchard\n",
      "   2 opposition\n",
      "   2 opposed\n",
      "   2 opinions\n",
      "   2 ones\n",
      "   2 often\n",
      "   2 officers\n",
      "   2 odd\n",
      "   2 obligation\n",
      "   2 obedience\n",
      "   2 oath\n",
      "   2 numbers\n",
      "   2 nose\n",
      "   2 north\n",
      "   2 norman\n",
      "   2 neptune\n",
      "   2 neighbour\n",
      "   2 neglected\n",
      "   2 needful\n",
      "   2 necessary\n",
      "   2 nearer\n",
      "   2 naught\n",
      "   2 naked\n",
      "   2 mutes\n",
      "   2 muddy\n",
      "   2 moves\n",
      "   2 mourn\n",
      "   2 mountains\n",
      "   2 mount\n",
      "   2 money\n",
      "   2 moment\n",
      "   2 mole\n",
      "   2 mischance\n",
      "   2 mirth\n",
      "   2 mirror\n",
      "   2 minds\n",
      "   2 mighty\n",
      "   2 middle\n",
      "   2 method\n",
      "   2 merry\n",
      "   2 merit\n",
      "   2 merely\n",
      "   2 melt\n",
      "   2 melancholy\n",
      "   2 meeting\n",
      "   2 matters\n",
      "   2 match\n",
      "   2 mason\n",
      "   2 marvellous\n",
      "   2 mars\n",
      "   2 manners\n",
      "   2 malicious\n",
      "   2 majesties\n",
      "   2 majestical\n",
      "   2 maids\n",
      "   2 maiden\n",
      "   2 maggots\n",
      "   2 lying\n",
      "   2 lust\n",
      "   2 lungs\n",
      "   2 lunacy\n",
      "   2 lt\n",
      "   2 lords\n",
      "   2 lobby\n",
      "   2 loam\n",
      "   2 living\n",
      "   2 lived\n",
      "   2 liquor\n",
      "   2 lips\n",
      "   2 line\n",
      "   2 limbs\n",
      "   2 likely\n",
      "   2 levies\n",
      "   2 least\n",
      "   2 leaps\n",
      "   2 laying\n",
      "   2 lawless\n",
      "   2 lasting\n",
      "   2 larded\n",
      "   2 lap\n",
      "   2 lament\n",
      "   2 knowing\n",
      "   2 knees\n",
      "   2 kneels\n",
      "   2 knavish\n",
      "   2 knavery\n",
      "   2 kissing\n",
      "   2 kings\n",
      "   2 kin\n",
      "   2 kills\n",
      "   2 killed\n",
      "   2 kettle\n",
      "   2 keen\n",
      "   2 just\n",
      "   2 jump\n",
      "   2 julius\n",
      "   2 joys\n",
      "   2 jove\n",
      "   2 jot\n",
      "   2 joint\n",
      "   2 join\n",
      "   2 jealousy\n",
      "   2 jaw\n",
      "   2 its\n",
      "   2 issue\n",
      "   2 intent\n",
      "   2 instrument\n",
      "   2 inquire\n",
      "   2 inform\n",
      "   2 inclination\n",
      "   2 imponed\n",
      "   2 imminent\n",
      "   2 immediate\n",
      "   2 ice\n",
      "   2 hyperion\n",
      "   2 hurt\n",
      "   2 hundred\n",
      "   2 hours\n",
      "   2 horses\n",
      "   2 horridly\n",
      "   2 horrid\n",
      "   2 holy\n",
      "   2 hole\n",
      "   2 hobby\n",
      "   2 hitherto\n",
      "   2 history\n",
      "   2 hillo\n",
      "   2 hideous\n",
      "   2 hid\n",
      "   2 heraldry\n",
      "   2 helps\n",
      "   2 held\n",
      "   2 heel\n",
      "   2 heed\n",
      "   2 heavenly\n",
      "   2 hearts\n",
      "   2 hearers\n",
      "   2 havior\n",
      "   2 having\n",
      "   2 hatch\n",
      "   2 harsh\n",
      "   2 harlot\n",
      "   2 happily\n",
      "   2 haply\n",
      "   2 hair\n",
      "   2 guts\n",
      "   2 guest\n",
      "   2 grieve\n",
      "   2 graves\n",
      "   2 grass\n",
      "   2 grapple\n",
      "   2 graces\n",
      "   2 got\n",
      "   2 goodness\n",
      "   2 going\n",
      "   2 glow\n",
      "   2 glass\n",
      "   2 gentry\n",
      "   2 garden\n",
      "   2 galled\n",
      "   2 gall\n",
      "   2 gait\n",
      "   2 fruit\n",
      "   2 frankly\n",
      "   2 forward\n",
      "   2 forty\n",
      "   2 fortunes\n",
      "   2 former\n",
      "   2 forgive\n",
      "   2 forged\n",
      "   2 forehead\n",
      "   2 forced\n",
      "   2 forbid\n",
      "   2 fools\n",
      "   2 food\n",
      "   2 fond\n",
      "   2 following\n",
      "   2 foil\n",
      "   2 foe\n",
      "   2 flatter\n",
      "   2 flaming\n",
      "   2 flames\n",
      "   2 flame\n",
      "   2 fits\n",
      "   2 fishmonger\n",
      "   2 fish\n",
      "   2 finger\n",
      "   2 fines\n",
      "   2 finding\n",
      "   2 fighting\n",
      "   2 fetters\n",
      "   2 fetch\n",
      "   2 fellowship\n",
      "   2 feet\n",
      "   2 fed\n",
      "   2 feature\n",
      "   2 fears\n",
      "   2 favours\n",
      "   2 fathers\n",
      "   2 fates\n",
      "   2 fate\n",
      "   2 farm\n",
      "   2 fares\n",
      "   2 fame\n",
      "   2 falling\n",
      "   2 fail\n",
      "   2 faces\n",
      "   2 extremity\n",
      "   2 expel\n",
      "   2 exercise\n",
      "   2 exchange\n",
      "   2 evil\n",
      "   2 event\n",
      "   2 eternal\n",
      "   2 especially\n",
      "   2 escape\n",
      "   2 equal\n",
      "   2 epitaph\n",
      "   2 envy\n",
      "   2 entreaty\n",
      "   2 enterprise\n",
      "   2 enemies\n",
      "   2 ends\n",
      "   2 enact\n",
      "   2 employment\n",
      "   2 empire\n",
      "   2 embrace\n",
      "   2 em\n",
      "   2 effects\n",
      "   2 eats\n",
      "   2 easy\n",
      "   2 easiness\n",
      "   2 eager\n",
      "   2 drum\n",
      "   2 drowned\n",
      "   2 drive\n",
      "   2 draws\n",
      "   2 dove\n",
      "   2 doubtful\n",
      "   2 doom\n",
      "   2 dog\n",
      "   2 divinity\n",
      "   2 divide\n",
      "   2 distrust\n",
      "   2 distraction\n",
      "   2 dismal\n",
      "   2 dishonour\n",
      "   2 disclosed\n",
      "   2 dirt\n",
      "   2 directly\n",
      "   2 dignity\n",
      "   2 dig\n",
      "   2 difference\n",
      "   2 diet\n",
      "   2 diadem\n",
      "   2 destroy\n",
      "   2 desperation\n",
      "   2 desert\n",
      "   2 deny\n",
      "   2 demands\n",
      "   2 demand\n",
      "   2 delicate\n",
      "   2 delay\n",
      "   2 defence\n",
      "   2 defect\n",
      "   2 defeat\n",
      "   2 deceived\n",
      "   2 dearly\n",
      "   2 dearest\n",
      "   2 daggers\n",
      "   2 cut\n",
      "   2 currents\n",
      "   2 cruel\n",
      "   2 crows\n",
      "   2 crowner\n",
      "   2 crew\n",
      "   2 creature\n",
      "   2 craft\n",
      "   2 coward\n",
      "   2 couch\n",
      "   2 cost\n",
      "   2 convert\n",
      "   2 contrive\n",
      "   2 continent\n",
      "   2 contagion\n",
      "   2 confound\n",
      "   2 confine\n",
      "   2 comply\n",
      "   2 comical\n",
      "   2 comest\n",
      "   2 comedy\n",
      "   2 collection\n",
      "   2 collected\n",
      "   2 coldly\n",
      "   2 clowns\n",
      "   2 clothes\n",
      "   2 city\n",
      "   2 church\n",
      "   2 choler\n",
      "   2 child\n",
      "   2 cheerfully\n",
      "   2 cheek\n",
      "   2 charitable\n",
      "   2 character\n",
      "   2 chapel\n",
      "   2 chances\n",
      "   2 chance\n",
      "   2 celestial\n",
      "   2 cease\n",
      "   2 caught\n",
      "   2 catch\n",
      "   2 cat\n",
      "   2 carpenter\n",
      "   2 card\n",
      "   2 capital\n",
      "   2 capable\n",
      "   2 canker\n",
      "   2 camel\n",
      "   2 calm\n",
      "   2 calf\n",
      "   2 caesar\n",
      "   2 buz\n",
      "   2 burns\n",
      "   2 burning\n",
      "   2 burn\n",
      "   2 bulk\n",
      "   2 builds\n",
      "   2 brothers\n",
      "   2 brook\n",
      "   2 broke\n",
      "   2 broad\n",
      "   2 breeding\n",
      "   2 breed\n",
      "   2 breathing\n",
      "   2 breaks\n",
      "   2 blush\n",
      "   2 blows\n",
      "   2 blown\n",
      "   2 bleed\n",
      "   2 blasted\n",
      "   2 blast\n",
      "   2 bird\n",
      "   2 beyond\n",
      "   2 beware\n",
      "   2 bell\n",
      "   2 belike\n",
      "   2 behavior\n",
      "   2 beguile\n",
      "   2 begins\n",
      "   2 beggars\n",
      "   2 beckons\n",
      "   2 beautified\n",
      "   2 beasts\n",
      "   2 bears\n",
      "   2 bearers\n",
      "   2 basket\n",
      "   2 baser\n",
      "   2 bark\n",
      "   2 barbary\n",
      "   2 baked\n",
      "   2 baby\n",
      "   2 awe\n",
      "   2 awake\n",
      "   2 author\n",
      "   2 attended\n",
      "   2 assured\n",
      "   2 assurance\n",
      "   2 assistant\n",
      "   2 assigns\n",
      "   2 asleep\n",
      "   2 asking\n",
      "   2 ask\n",
      "   2 article\n",
      "   2 arrows\n",
      "   2 arrant\n",
      "   2 apt\n",
      "   2 approve\n",
      "   2 apprehension\n",
      "   2 apparition\n",
      "   2 ape\n",
      "   2 apart\n",
      "   2 antique\n",
      "   2 amiss\n",
      "   2 ambassador\n",
      "   2 amazement\n",
      "   2 aloof\n",
      "   2 allowance\n",
      "   2 alarm\n",
      "   2 aim\n",
      "   2 advancement\n",
      "   2 admit\n",
      "   2 adam\n",
      "   2 acts\n",
      "   2 actors\n",
      "   2 actions\n",
      "   2 ache\n",
      "   2 according\n",
      "   2 accent\n",
      "   2 absurd\n",
      "   2 absolute\n",
      "   1 zone\n",
      "   1 yourselves\n",
      "   1 younger\n",
      "   1 yond\n",
      "   1 yon\n",
      "   1 yielding\n",
      "   1 yesty\n",
      "   1 yesternight\n",
      "   1 yesterday\n",
      "   1 yeoman\n",
      "   1 yawn\n",
      "   1 yaw\n",
      "   1 yaughan\n",
      "   1 yard\n",
      "   1 wrung\n",
      "   1 writing\n",
      "   1 writers\n",
      "   1 write\n",
      "   1 wrist\n",
      "   1 wrinkled\n",
      "   1 wringing\n",
      "   1 wring\n",
      "   1 wreck\n",
      "   1 wrath\n",
      "   1 wrap\n",
      "   1 wot\n",
      "   1 worthy\n",
      "   1 worst\n",
      "   1 worser\n",
      "   1 worn\n",
      "   1 worms\n",
      "   1 worlds\n",
      "   1 works\n",
      "   1 wore\n",
      "   1 wooes\n",
      "   1 woodcocks\n",
      "   1 woodcock\n",
      "   1 wood\n",
      "   1 won\n",
      "   1 women\n",
      "   1 womb\n",
      "   1 withers\n",
      "   1 withered\n",
      "   1 withdrew\n",
      "   1 witching\n",
      "   1 witch\n",
      "   1 wishes\n",
      "   1 wiseness\n",
      "   1 wisdoms\n",
      "   1 winter\n",
      "   1 winnowed\n",
      "   1 winner\n",
      "   1 winks\n",
      "   1 winking\n",
      "   1 wing\n",
      "   1 wine\n",
      "   1 windy\n",
      "   1 window\n",
      "   1 windlasses\n",
      "   1 wince\n",
      "   1 wills\n",
      "   1 willow\n",
      "   1 wilfully\n",
      "   1 wildness\n",
      "   1 widow\n",
      "   1 wick\n",
      "   1 whored\n",
      "   1 whore\n",
      "   1 whit\n",
      "   1 whispers\n",
      "   1 whisper\n",
      "   1 whirlwind\n",
      "   1 whirling\n",
      "   1 whipping\n",
      "   1 whipped\n",
      "   1 whine\n",
      "   1 whiles\n",
      "   1 whiff\n",
      "   1 whet\n",
      "   1 whereat\n",
      "   1 whensoever\n",
      "   1 whence\n",
      "   1 wheaten\n",
      "   1 whatsoever\n",
      "   1 wharf\n",
      "   1 westward\n",
      "   1 weight\n",
      "   1 weighing\n",
      "   1 weeps\n",
      "   1 weeping\n",
      "   1 week\n",
      "   1 weedy\n",
      "   1 weed\n",
      "   1 wedding\n",
      "   1 wearing\n",
      "   1 weapons\n",
      "   1 wealth\n",
      "   1 weal\n",
      "   1 weakest\n",
      "   1 weaker\n",
      "   1 waving\n",
      "   1 watchman\n",
      "   1 waste\n",
      "   1 wassail\n",
      "   1 wart\n",
      "   1 warrantise\n",
      "   1 warning\n",
      "   1 warms\n",
      "   1 wards\n",
      "   1 wantonness\n",
      "   1 wann\n",
      "   1 wandering\n",
      "   1 wall\n",
      "   1 wake\n",
      "   1 waits\n",
      "   1 waist\n",
      "   1 wagered\n",
      "   1 vulcan\n",
      "   1 vouch\n",
      "   1 volume\n",
      "   1 volley\n",
      "   1 vision\n",
      "   1 virtuous\n",
      "   1 virgin\n",
      "   1 violet\n",
      "   1 villany\n",
      "   1 villanous\n",
      "   1 villanies\n",
      "   1 vii\n",
      "   1 vigour\n",
      "   1 vienna\n",
      "   1 videlicet\n",
      "   1 vicious\n",
      "   1 vial\n",
      "   1 vi\n",
      "   1 verse\n",
      "   1 verity\n",
      "   1 ventages\n",
      "   1 vast\n",
      "   1 varnish\n",
      "   1 vapours\n",
      "   1 vanquisher\n",
      "   1 vanish\n",
      "   1 valour\n",
      "   1 validity\n",
      "   1 valenced\n",
      "   1 vain\n",
      "   1 vailed\n",
      "   1 vacancy\n",
      "   1 utterance\n",
      "   1 usual\n",
      "   1 upshot\n",
      "   1 uphoarded\n",
      "   1 unyoke\n",
      "   1 unwrung\n",
      "   1 unworthiest\n",
      "   1 unwilling\n",
      "   1 unwholesome\n",
      "   1 unweeded\n",
      "   1 unwatch\n",
      "   1 unvalued\n",
      "   1 unused\n",
      "   1 untimely\n",
      "   1 until\n",
      "   1 unsure\n",
      "   1 unsmirched\n",
      "   1 unskilful\n",
      "   1 unsinew\n",
      "   1 unsifted\n",
      "   1 unshaped\n",
      "   1 unshaken\n",
      "   1 unseal\n",
      "   1 unschool\n",
      "   1 unsatisfied\n",
      "   1 unsanctified\n",
      "   1 unripe\n",
      "   1 unrighteous\n",
      "   1 unreclaimed\n",
      "   1 unproportioned\n",
      "   1 unprofitable\n",
      "   1 unprevailing\n",
      "   1 unpregnant\n",
      "   1 unpolluted\n",
      "   1 unpeg\n",
      "   1 unpack\n",
      "   1 unnerved\n",
      "   1 unmix\n",
      "   1 unmatch\n",
      "   1 unmaster\n",
      "   1 unmask\n",
      "   1 unmannerly\n",
      "   1 unmanly\n",
      "   1 unlimited\n",
      "   1 unknowing\n",
      "   1 unkind\n",
      "   1 unkennel\n",
      "   1 university\n",
      "   1 unite\n",
      "   1 unimproved\n",
      "   1 unhousel\n",
      "   1 unholy\n",
      "   1 unhappily\n",
      "   1 unhand\n",
      "   1 ungracious\n",
      "   1 ungored\n",
      "   1 ungarter\n",
      "   1 ungalled\n",
      "   1 unfortified\n",
      "   1 unforced\n",
      "   1 unfledged\n",
      "   1 unfellowed\n",
      "   1 unequal\n",
      "   1 uneffectual\n",
      "   1 undo\n",
      "   1 undiscover\n",
      "   1 undertakings\n",
      "   1 undergo\n",
      "   1 uncurrent\n",
      "   1 uncharge\n",
      "   1 unbraced\n",
      "   1 unanel\n",
      "   1 umbrage\n",
      "   1 ulcerous\n",
      "   1 ulcer\n",
      "   1 ugly\n",
      "   1 ubique\n",
      "   1 tyrant\n",
      "   1 tyrannous\n",
      "   1 tyrannically\n",
      "   1 twould\n",
      "   1 twentieth\n",
      "   1 tween\n",
      "   1 tweaks\n",
      "   1 tutor\n",
      "   1 turns\n",
      "   1 turneth\n",
      "   1 turned\n",
      "   1 turk\n",
      "   1 turf\n",
      "   1 turbulent\n",
      "   1 tunes\n",
      "   1 tumbled\n",
      "   1 truster\n",
      "   1 truncheon\n",
      "   1 truepenny\n",
      "   1 tropically\n",
      "   1 trophy\n",
      "   1 trophies\n",
      "   1 trivial\n",
      "   1 triumph\n",
      "   1 tristful\n",
      "   1 trippingly\n",
      "   1 trip\n",
      "   1 trifling\n",
      "   1 trifle\n",
      "   1 tried\n",
      "   1 tributary\n",
      "   1 trespass\n",
      "   1 treads\n",
      "   1 tread\n",
      "   1 traveller\n",
      "   1 trappings\n",
      "   1 trap\n",
      "   1 transformation\n",
      "   1 transform\n",
      "   1 traitorous\n",
      "   1 tragedians\n",
      "   1 traduced\n",
      "   1 toys\n",
      "   1 town\n",
      "   1 towering\n",
      "   1 touches\n",
      "   1 total\n",
      "   1 torrent\n",
      "   1 tormenting\n",
      "   1 topp\n",
      "   1 tomb\n",
      "   1 tokens\n",
      "   1 toils\n",
      "   1 toil\n",
      "   1 tithe\n",
      "   1 tinct\n",
      "   1 timber\n",
      "   1 tickled\n",
      "   1 thunders\n",
      "   1 thumb\n",
      "   1 throwing\n",
      "   1 threats\n",
      "   1 threatening\n",
      "   1 threaten\n",
      "   1 thrall\n",
      "   1 thoroughly\n",
      "   1 thorny\n",
      "   1 thorns\n",
      "   1 thirties\n",
      "   1 thin\n",
      "   1 thieves\n",
      "   1 thicker\n",
      "   1 thews\n",
      "   1 thereunto\n",
      "   1 thereto\n",
      "   1 thereon\n",
      "   1 thereof\n",
      "   1 therein\n",
      "   1 thereabout\n",
      "   1 theft\n",
      "   1 theatre\n",
      "   1 thaw\n",
      "   1 tetter\n",
      "   1 tether\n",
      "   1 test\n",
      "   1 termagant\n",
      "   1 tenures\n",
      "   1 tent\n",
      "   1 tennis\n",
      "   1 tenants\n",
      "   1 tenantless\n",
      "   1 tenable\n",
      "   1 temple\n",
      "   1 tempest\n",
      "   1 temperately\n",
      "   1 temperance\n",
      "   1 temper\n",
      "   1 tellus\n",
      "   1 tells\n",
      "   1 teemed\n",
      "   1 tediousness\n",
      "   1 tatters\n",
      "   1 taste\n",
      "   1 task\n",
      "   1 tarre\n",
      "   1 target\n",
      "   1 tanner\n",
      "   1 tanned\n",
      "   1 taints\n",
      "   1 taint\n",
      "   1 synod\n",
      "   1 swore\n",
      "   1 swords\n",
      "   1 swoopstake\n",
      "   1 switzers\n",
      "   1 swinish\n",
      "   1 sweets\n",
      "   1 sweaty\n",
      "   1 swallowed\n",
      "   1 swaggering\n",
      "   1 swaddling\n",
      "   1 sustain\n",
      "   1 suspiration\n",
      "   1 survivor\n",
      "   1 surrender\n",
      "   1 surprised\n",
      "   1 surmise\n",
      "   1 surely\n",
      "   1 supposal\n",
      "   1 supply\n",
      "   1 suppliance\n",
      "   1 supervise\n",
      "   1 superfluous\n",
      "   1 sundays\n",
      "   1 sunday\n",
      "   1 summons\n",
      "   1 sulphurous\n",
      "   1 sullies\n",
      "   1 suiting\n",
      "   1 sugar\n",
      "   1 suffering\n",
      "   1 suffered\n",
      "   1 suddenly\n",
      "   1 sucked\n",
      "   1 suck\n",
      "   1 successive\n",
      "   1 subscribed\n",
      "   1 sty\n",
      "   1 stung\n",
      "   1 study\n",
      "   1 student\n",
      "   1 stuck\n",
      "   1 stubbornness\n",
      "   1 stubborn\n",
      "   1 strutted\n",
      "   1 struggling\n",
      "   1 strongest\n",
      "   1 strokes\n",
      "   1 strings\n",
      "   1 striking\n",
      "   1 strikes\n",
      "   1 strife\n",
      "   1 stricken\n",
      "   1 strewments\n",
      "   1 strengthen\n",
      "   1 stream\n",
      "   1 straws\n",
      "   1 stranger\n",
      "   1 stowed\n",
      "   1 stoup\n",
      "   1 storm\n",
      "   1 stopping\n",
      "   1 stooping\n",
      "   1 stones\n",
      "   1 stomach\n",
      "   1 stockings\n",
      "   1 stock\n",
      "   1 stithy\n",
      "   1 stirring\n",
      "   1 stirr\n",
      "   1 stiffly\n",
      "   1 stiff\n",
      "   1 sticks\n",
      "   1 steward\n",
      "   1 stew\n",
      "   1 stern\n",
      "   1 sterling\n",
      "   1 sterile\n",
      "   1 steps\n",
      "   1 steals\n",
      "   1 stealing\n",
      "   1 stealers\n",
      "   1 steal\n",
      "   1 stays\n",
      "   1 statutes\n",
      "   1 statists\n",
      "   1 stately\n",
      "   1 starts\n",
      "   1 started\n",
      "   1 standing\n",
      "   1 stalks\n",
      "   1 stalk\n",
      "   1 stale\n",
      "   1 stake\n",
      "   1 stairs\n",
      "   1 stain\n",
      "   1 stages\n",
      "   1 staff\n",
      "   1 stabs\n",
      "   1 squeezing\n",
      "   1 squeak\n",
      "   1 spur\n",
      "   1 sprung\n",
      "   1 sprinkle\n",
      "   1 springs\n",
      "   1 springes\n",
      "   1 springe\n",
      "   1 spots\n",
      "   1 split\n",
      "   1 splenitive\n",
      "   1 spite\n",
      "   1 spilt\n",
      "   1 spills\n",
      "   1 spies\n",
      "   1 spheres\n",
      "   1 sphere\n",
      "   1 spent\n",
      "   1 spendthrift\n",
      "   1 spend\n",
      "   1 speedy\n",
      "   1 speedier\n",
      "   1 speechless\n",
      "   1 speeches\n",
      "   1 spectators\n",
      "   1 speaking\n",
      "   1 sparrow\n",
      "   1 spark\n",
      "   1 spake\n",
      "   1 spades\n",
      "   1 spacious\n",
      "   1 space\n",
      "   1 sovereignty\n",
      "   1 southerly\n",
      "   1 sounding\n",
      "   1 sounded\n",
      "   1 sorts\n",
      "   1 sorrows\n",
      "   1 soon\n",
      "   1 sons\n",
      "   1 song\n",
      "   1 somewhat\n",
      "   1 solidity\n",
      "   1 solid\n",
      "   1 solicitings\n",
      "   1 solicited\n",
      "   1 soles\n",
      "   1 sole\n",
      "   1 sold\n",
      "   1 softly\n",
      "   1 soever\n",
      "   1 soe\n",
      "   1 society\n",
      "   1 sober\n",
      "   1 soaks\n",
      "   1 snuff\n",
      "   1 snatches\n",
      "   1 smote\n",
      "   1 smoothness\n",
      "   1 smiles\n",
      "   1 smelt\n",
      "   1 smells\n",
      "   1 smelling\n",
      "   1 smear\n",
      "   1 smart\n",
      "   1 small\n",
      "   1 sliver\n",
      "   1 slips\n",
      "   1 slings\n",
      "   1 slight\n",
      "   1 slender\n",
      "   1 sleeper\n",
      "   1 sledded\n",
      "   1 slay\n",
      "   1 slaughters\n",
      "   1 slanders\n",
      "   1 slander\n",
      "   1 skyish\n",
      "   1 skirts\n",
      "   1 skins\n",
      "   1 skin\n",
      "   1 sixteen\n",
      "   1 sitting\n",
      "   1 sirrah\n",
      "   1 sipping\n",
      "   1 sins\n",
      "   1 sinners\n",
      "   1 singeth\n",
      "   1 singeing\n",
      "   1 simples\n",
      "   1 simple\n",
      "   1 silver\n",
      "   1 signet\n",
      "   1 sighs\n",
      "   1 sift\n",
      "   1 siege\n",
      "   1 sicklied\n",
      "   1 shut\n",
      "   1 shuffled\n",
      "   1 shrunk\n",
      "   1 shrouding\n",
      "   1 shroud\n",
      "   1 shriving\n",
      "   1 shrill\n",
      "   1 shrewdly\n",
      "   1 shreds\n",
      "   1 showing\n",
      "   1 showers\n",
      "   1 shovel\n",
      "   1 shove\n",
      "   1 shortens\n",
      "   1 shoot\n",
      "   1 shoon\n",
      "   1 shook\n",
      "   1 shoe\n",
      "   1 shocks\n",
      "   1 shirt\n",
      "   1 shipwrights\n",
      "   1 shipped\n",
      "   1 shine\n",
      "   1 shift\n",
      "   1 shepherds\n",
      "   1 shent\n",
      "   1 shelf\n",
      "   1 sheets\n",
      "   1 sheeted\n",
      "   1 sheet\n",
      "   1 sheepskins\n",
      "   1 sheep\n",
      "   1 sheen\n",
      "   1 shatter\n",
      "   1 sharp\n",
      "   1 shark\n",
      "   1 share\n",
      "   1 shards\n",
      "   1 shameful\n",
      "   1 shaking\n",
      "   1 shakespeare\n",
      "   1 shadows\n",
      "   1 sewing\n",
      "   1 severally\n",
      "   1 several\n",
      "   1 seven\n",
      "   1 serious\n",
      "   1 sergeant\n",
      "   1 sere\n",
      "   1 sequent\n",
      "   1 sequel\n",
      "   1 sepulchre\n",
      "   1 seneca\n",
      "   1 semblable\n",
      "   1 self\n",
      "   1 select\n",
      "   1 seized\n",
      "   1 seest\n",
      "   1 sees\n",
      "   1 seed\n",
      "   1 seduce\n",
      "   1 secrets\n",
      "   1 seated\n",
      "   1 seasons\n",
      "   1 seas\n",
      "   1 search\n",
      "   1 seals\n",
      "   1 se\n",
      "   1 scullion\n",
      "   1 scuffling\n",
      "   1 scruple\n",
      "   1 scrimers\n",
      "   1 screen\n",
      "   1 scratch\n",
      "   1 scorns\n",
      "   1 scorn\n",
      "   1 schoolfellows\n",
      "   1 school\n",
      "   1 scholars\n",
      "   1 scent\n",
      "   1 scenes\n",
      "   1 scattering\n",
      "   1 scarf\n",
      "   1 scarcely\n",
      "   1 scapes\n",
      "   1 scanter\n",
      "   1 scant\n",
      "   1 scann\n",
      "   1 saying\n",
      "   1 saws\n",
      "   1 savoury\n",
      "   1 saviour\n",
      "   1 savageness\n",
      "   1 satyr\n",
      "   1 satisfied\n",
      "   1 satisfaction\n",
      "   1 satirical\n",
      "   1 sate\n",
      "   1 sans\n",
      "   1 sanity\n",
      "   1 sandal\n",
      "   1 sanctuarize\n",
      "   1 sanctified\n",
      "   1 sallets\n",
      "   1 sale\n",
      "   1 salary\n",
      "   1 sadness\n",
      "   1 sadly\n",
      "   1 sacred\n",
      "   1 rusty\n",
      "   1 russet\n",
      "   1 running\n",
      "   1 rule\n",
      "   1 ruin\n",
      "   1 rt\n",
      "   1 royally\n",
      "   1 row\n",
      "   1 rough\n",
      "   1 rot\n",
      "   1 roses\n",
      "   1 rosemary\n",
      "   1 roscius\n",
      "   1 roots\n",
      "   1 roof\n",
      "   1 rood\n",
      "   1 romage\n",
      "   1 rock\n",
      "   1 robustious\n",
      "   1 robin\n",
      "   1 robe\n",
      "   1 roasted\n",
      "   1 roars\n",
      "   1 rivet\n",
      "   1 river\n",
      "   1 rivals\n",
      "   1 rite\n",
      "   1 rising\n",
      "   1 rises\n",
      "   1 ripe\n",
      "   1 riotous\n",
      "   1 rims\n",
      "   1 rightly\n",
      "   1 rid\n",
      "   1 riband\n",
      "   1 rhymed\n",
      "   1 rheum\n",
      "   1 rhapsody\n",
      "   1 revolution\n",
      "   1 revisit\n",
      "   1 reverted\n",
      "   1 reverend\n",
      "   1 revenue\n",
      "   1 revengeful\n",
      "   1 revels\n",
      "   1 revel\n",
      "   1 reveal\n",
      "   1 returneth\n",
      "   1 retrograde\n",
      "   1 retiring\n",
      "   1 retires\n",
      "   1 retirement\n",
      "   1 retire\n",
      "   1 retain\n",
      "   1 rests\n",
      "   1 restrain\n",
      "   1 restore\n",
      "   1 responsive\n",
      "   1 respects\n",
      "   1 resort\n",
      "   1 resolve\n",
      "   1 resolution\n",
      "   1 resolutes\n",
      "   1 residence\n",
      "   1 reserved\n",
      "   1 reserve\n",
      "   1 resembles\n",
      "   1 resemble\n",
      "   1 requiem\n",
      "   1 request\n",
      "   1 reputation\n",
      "   1 repulsed\n",
      "   1 repugnant\n",
      "   1 repose\n",
      "   1 replies\n",
      "   1 replication\n",
      "   1 repentance\n",
      "   1 repel\n",
      "   1 repast\n",
      "   1 rendezvous\n",
      "   1 rendering\n",
      "   1 render\n",
      "   1 rend\n",
      "   1 removed\n",
      "   1 remorseless\n",
      "   1 remorse\n",
      "   1 remiss\n",
      "   1 remembrances\n",
      "   1 remedy\n",
      "   1 remainder\n",
      "   1 religious\n",
      "   1 religion\n",
      "   1 relief\n",
      "   1 relative\n",
      "   1 reigns\n",
      "   1 regards\n",
      "   1 refrain\n",
      "   1 reformed\n",
      "   1 reform\n",
      "   1 reels\n",
      "   1 reechy\n",
      "   1 rede\n",
      "   1 recovery\n",
      "   1 recount\n",
      "   1 records\n",
      "   1 reconcilement\n",
      "   1 recognizances\n",
      "   1 recks\n",
      "   1 reckoning\n",
      "   1 reckon\n",
      "   1 reckless\n",
      "   1 receives\n",
      "   1 rebuke\n",
      "   1 rebels\n",
      "   1 rebellion\n",
      "   1 rear\n",
      "   1 realm\n",
      "   1 really\n",
      "   1 readiness\n",
      "   1 reach\n",
      "   1 razed\n",
      "   1 rawer\n",
      "   1 raw\n",
      "   1 raves\n",
      "   1 raven\n",
      "   1 ravel\n",
      "   1 raught\n",
      "   1 ratifiers\n",
      "   1 ratified\n",
      "   1 rashness\n",
      "   1 rashly\n",
      "   1 rascal\n",
      "   1 rareness\n",
      "   1 rare\n",
      "   1 rant\n",
      "   1 rankly\n",
      "   1 range\n",
      "   1 raised\n",
      "   1 rags\n",
      "   1 rages\n",
      "   1 radiant\n",
      "   1 rack\n",
      "   1 rabble\n",
      "   1 quoth\n",
      "   1 quoted\n",
      "   1 quintessence\n",
      "   1 quillets\n",
      "   1 quietus\n",
      "   1 quietly\n",
      "   1 quiddities\n",
      "   1 quicksilver\n",
      "   1 quickness\n",
      "   1 quickly\n",
      "   1 questionable\n",
      "   1 quest\n",
      "   1 quarter\n",
      "   1 quarry\n",
      "   1 quarrelling\n",
      "   1 qualifies\n",
      "   1 quake\n",
      "   1 quaintly\n",
      "   1 puzzles\n",
      "   1 push\n",
      "   1 pursy\n",
      "   1 pursuest\n",
      "   1 pursued\n",
      "   1 purport\n",
      "   1 purples\n",
      "   1 purged\n",
      "   1 purgation\n",
      "   1 purer\n",
      "   1 purchases\n",
      "   1 puppets\n",
      "   1 pulse\n",
      "   1 pull\n",
      "   1 public\n",
      "   1 provoke\n",
      "   1 provincial\n",
      "   1 provided\n",
      "   1 provide\n",
      "   1 proverb\n",
      "   1 protests\n",
      "   1 protestation\n",
      "   1 prosperously\n",
      "   1 props\n",
      "   1 proposer\n",
      "   1 proportions\n",
      "   1 prophetic\n",
      "   1 pronouncing\n",
      "   1 pronounce\n",
      "   1 prompted\n",
      "   1 promontory\n",
      "   1 prolongs\n",
      "   1 project\n",
      "   1 progress\n",
      "   1 profoundest\n",
      "   1 profession\n",
      "   1 profanely\n",
      "   1 profane\n",
      "   1 procession\n",
      "   1 proceeding\n",
      "   1 proceeded\n",
      "   1 probation\n",
      "   1 prize\n",
      "   1 privy\n",
      "   1 privates\n",
      "   1 private\n",
      "   1 princes\n",
      "   1 primy\n",
      "   1 primrose\n",
      "   1 primal\n",
      "   1 pride\n",
      "   1 prey\n",
      "   1 prettiness\n",
      "   1 pressures\n",
      "   1 pressure\n",
      "   1 preserved\n",
      "   1 presentment\n",
      "   1 prepared\n",
      "   1 preparations\n",
      "   1 preparation\n",
      "   1 prenominate\n",
      "   1 precurse\n",
      "   1 precisely\n",
      "   1 preceding\n",
      "   1 preaching\n",
      "   1 praying\n",
      "   1 prating\n",
      "   1 prate\n",
      "   1 pranks\n",
      "   1 praises\n",
      "   1 practises\n",
      "   1 pox\n",
      "   1 powerfully\n",
      "   1 poured\n",
      "   1 pour\n",
      "   1 pound\n",
      "   1 potion\n",
      "   1 potently\n",
      "   1 potency\n",
      "   1 posy\n",
      "   1 postscript\n",
      "   1 posset\n",
      "   1 possession\n",
      "   1 positively\n",
      "   1 portraiture\n",
      "   1 portentous\n",
      "   1 portal\n",
      "   1 porpentine\n",
      "   1 porches\n",
      "   1 popp\n",
      "   1 pooh\n",
      "   1 poniards\n",
      "   1 ponderous\n",
      "   1 pomp\n",
      "   1 poll\n",
      "   1 politician\n",
      "   1 politic\n",
      "   1 policy\n",
      "   1 polacks\n",
      "   1 poisons\n",
      "   1 poisoning\n",
      "   1 points\n",
      "   1 poet\n",
      "   1 poem\n",
      "   1 pocky\n",
      "   1 pocket\n",
      "   1 ply\n",
      "   1 plurisy\n",
      "   1 plunge\n",
      "   1 plum\n",
      "   1 plot\n",
      "   1 plentiful\n",
      "   1 pledge\n",
      "   1 pleasing\n",
      "   1 pleasant\n",
      "   1 plays\n",
      "   1 plautus\n",
      "   1 plausive\n",
      "   1 plastering\n",
      "   1 planets\n",
      "   1 places\n",
      "   1 pitiful\n",
      "   1 pitied\n",
      "   1 pirate\n",
      "   1 pioner\n",
      "   1 pinch\n",
      "   1 pin\n",
      "   1 pile\n",
      "   1 pigeon\n",
      "   1 pierce\n",
      "   1 pictures\n",
      "   1 pickers\n",
      "   1 pick\n",
      "   1 physic\n",
      "   1 phoebus\n",
      "   1 petition\n",
      "   1 petard\n",
      "   1 pestilence\n",
      "   1 pester\n",
      "   1 peruse\n",
      "   1 perusal\n",
      "   1 perturbed\n",
      "   1 persuade\n",
      "   1 persons\n",
      "   1 personal\n",
      "   1 persever\n",
      "   1 perpend\n",
      "   1 pernicious\n",
      "   1 permanent\n",
      "   1 periwig\n",
      "   1 perilous\n",
      "   1 performance\n",
      "   1 perfections\n",
      "   1 perfect\n",
      "   1 perdy\n",
      "   1 perdition\n",
      "   1 perceived\n",
      "   1 perceive\n",
      "   1 people\n",
      "   1 penetrable\n",
      "   1 pendent\n",
      "   1 pelion\n",
      "   1 pelican\n",
      "   1 peevish\n",
      "   1 peculiar\n",
      "   1 pebbles\n",
      "   1 pearl\n",
      "   1 peal\n",
      "   1 peak\n",
      "   1 pe\n",
      "   1 pays\n",
      "   1 patrick\n",
      "   1 patiently\n",
      "   1 path\n",
      "   1 pated\n",
      "   1 patches\n",
      "   1 pat\n",
      "   1 pastors\n",
      "   1 passeth\n",
      "   1 passes\n",
      "   1 passages\n",
      "   1 party\n",
      "   1 partisan\n",
      "   1 partial\n",
      "   1 parted\n",
      "   1 parley\n",
      "   1 parle\n",
      "   1 paris\n",
      "   1 parchment\n",
      "   1 parching\n",
      "   1 paragon\n",
      "   1 paradox\n",
      "   1 paper\n",
      "   1 pansies\n",
      "   1 pangs\n",
      "   1 panders\n",
      "   1 palpable\n",
      "   1 palmy\n",
      "   1 pall\n",
      "   1 pales\n",
      "   1 pajock\n",
      "   1 paintings\n",
      "   1 painting\n",
      "   1 paint\n",
      "   1 pain\n",
      "   1 paid\n",
      "   1 pah\n",
      "   1 pagan\n",
      "   1 paddock\n",
      "   1 paddling\n",
      "   1 packing\n",
      "   1 packet\n",
      "   1 ownself\n",
      "   1 owner\n",
      "   1 owl\n",
      "   1 overthrown\n",
      "   1 overpeering\n",
      "   1 overlooked\n",
      "   1 overcome\n",
      "   1 overcame\n",
      "   1 outstretched\n",
      "   1 outrageous\n",
      "   1 outlives\n",
      "   1 outlive\n",
      "   1 outface\n",
      "   1 outbreak\n",
      "   1 ostentation\n",
      "   1 ossa\n",
      "   1 orisons\n",
      "   1 ore\n",
      "   1 ordinant\n",
      "   1 orderly\n",
      "   1 orbed\n",
      "   1 orb\n",
      "   1 oppressor\n",
      "   1 oppression\n",
      "   1 oppress\n",
      "   1 opposites\n",
      "   1 opposite\n",
      "   1 opposing\n",
      "   1 opinion\n",
      "   1 operant\n",
      "   1 oped\n",
      "   1 ope\n",
      "   1 ominous\n",
      "   1 omen\n",
      "   1 olympus\n",
      "   1 office\n",
      "   1 offends\n",
      "   1 offender\n",
      "   1 offendendo\n",
      "   1 offend\n",
      "   1 offences\n",
      "   1 offal\n",
      "   1 ocean\n",
      "   1 occurrents\n",
      "   1 occulted\n",
      "   1 occasions\n",
      "   1 obstinate\n",
      "   1 observers\n",
      "   1 observed\n",
      "   1 observation\n",
      "   1 observant\n",
      "   1 observance\n",
      "   1 obsequious\n",
      "   1 obsequies\n",
      "   1 obscure\n",
      "   1 oblivion\n",
      "   1 objects\n",
      "   1 object\n",
      "   1 obeys\n",
      "   1 oaths\n",
      "   1 nymph\n",
      "   1 nut\n",
      "   1 noyance\n",
      "   1 notes\n",
      "   1 noted\n",
      "   1 northerly\n",
      "   1 normandy\n",
      "   1 nonce\n",
      "   1 non\n",
      "   1 nomination\n",
      "   1 nods\n",
      "   1 noblest\n",
      "   1 nobler\n",
      "   1 nobility\n",
      "   1 nipping\n",
      "   1 niobe\n",
      "   1 nill\n",
      "   1 nightly\n",
      "   1 nighted\n",
      "   1 niggard\n",
      "   1 nick\n",
      "   1 newly\n",
      "   1 newborn\n",
      "   1 neutral\n",
      "   1 nettles\n",
      "   1 netted\n",
      "   1 nerve\n",
      "   1 nero\n",
      "   1 nephews\n",
      "   1 nemean\n",
      "   1 negligence\n",
      "   1 neglect\n",
      "   1 necessity\n",
      "   1 necessaries\n",
      "   1 nave\n",
      "   1 natures\n",
      "   1 natured\n",
      "   1 nations\n",
      "   1 nasty\n",
      "   1 narrow\n",
      "   1 napkin\n",
      "   1 mystery\n",
      "   1 mutines\n",
      "   1 mutine\n",
      "   1 mute\n",
      "   1 musty\n",
      "   1 murderous\n",
      "   1 murdering\n",
      "   1 multitude\n",
      "   1 mugger\n",
      "   1 muddied\n",
      "   1 mows\n",
      "   1 moving\n",
      "   1 moved\n",
      "   1 mouths\n",
      "   1 mouthed\n",
      "   1 mourning\n",
      "   1 mourners\n",
      "   1 mountebank\n",
      "   1 moult\n",
      "   1 mould\n",
      "   1 mothers\n",
      "   1 mote\n",
      "   1 mortised\n",
      "   1 moreover\n",
      "   1 moral\n",
      "   1 mope\n",
      "   1 moor\n",
      "   1 moons\n",
      "   1 moods\n",
      "   1 mood\n",
      "   1 monument\n",
      "   1 monstrous\n",
      "   1 monsters\n",
      "   1 monster\n",
      "   1 monday\n",
      "   1 monarchs\n",
      "   1 moist\n",
      "   1 moiety\n",
      "   1 modesties\n",
      "   1 moderate\n",
      "   1 model\n",
      "   1 mockery\n",
      "   1 moan\n",
      "   1 mixture\n",
      "   1 mistook\n",
      "   1 mischief\n",
      "   1 miraculous\n",
      "   1 minutes\n",
      "   1 minute\n",
      "   1 ministers\n",
      "   1 ministering\n",
      "   1 minister\n",
      "   1 mining\n",
      "   1 mines\n",
      "   1 mineral\n",
      "   1 mincing\n",
      "   1 millions\n",
      "   1 million\n",
      "   1 milky\n",
      "   1 milk\n",
      "   1 mildew\n",
      "   1 milch\n",
      "   1 mightiest\n",
      "   1 mightier\n",
      "   1 midnight\n",
      "   1 miching\n",
      "   1 mew\n",
      "   1 mettled\n",
      "   1 mettle\n",
      "   1 metals\n",
      "   1 metal\n",
      "   1 met\n",
      "   1 messengers\n",
      "   1 message\n",
      "   1 mess\n",
      "   1 merriment\n",
      "   1 mermaid\n",
      "   1 mercury\n",
      "   1 mend\n",
      "   1 melodious\n",
      "   1 mellow\n",
      "   1 meed\n",
      "   1 meditation\n",
      "   1 medicine\n",
      "   1 meats\n",
      "   1 meantime\n",
      "   1 meaning\n",
      "   1 mazzard\n",
      "   1 mayst\n",
      "   1 mattering\n",
      "   1 matron\n",
      "   1 matin\n",
      "   1 masterly\n",
      "   1 master\n",
      "   1 massy\n",
      "   1 marvel\n",
      "   1 martial\n",
      "   1 mart\n",
      "   1 marshal\n",
      "   1 marrow\n",
      "   1 marriages\n",
      "   1 market\n",
      "   1 margent\n",
      "   1 marching\n",
      "   1 marble\n",
      "   1 mantle\n",
      "   1 manner\n",
      "   1 mandate\n",
      "   1 mallecho\n",
      "   1 malefactions\n",
      "   1 makers\n",
      "   1 maintains\n",
      "   1 mainly\n",
      "   1 maimed\n",
      "   1 magic\n",
      "   1 machine\n",
      "   1 luxury\n",
      "   1 lunacies\n",
      "   1 lug\n",
      "   1 lowest\n",
      "   1 low\n",
      "   1 lovingly\n",
      "   1 lover\n",
      "   1 loudly\n",
      "   1 lot\n",
      "   1 loss\n",
      "   1 losing\n",
      "   1 loses\n",
      "   1 loser\n",
      "   1 loosed\n",
      "   1 looking\n",
      "   1 looked\n",
      "   1 longed\n",
      "   1 loneliness\n",
      "   1 loins\n",
      "   1 loggats\n",
      "   1 lofty\n",
      "   1 lodged\n",
      "   1 lodge\n",
      "   1 locks\n",
      "   1 loathsome\n",
      "   1 loath\n",
      "   1 loan\n",
      "   1 load\n",
      "   1 livest\n",
      "   1 liver\n",
      "   1 littlest\n",
      "   1 lists\n",
      "   1 lisp\n",
      "   1 liquid\n",
      "   1 lion\n",
      "   1 link\n",
      "   1 lingers\n",
      "   1 limed\n",
      "   1 likewise\n",
      "   1 likeness\n",
      "   1 likelihood\n",
      "   1 lightness\n",
      "   1 lightest\n",
      "   1 lighted\n",
      "   1 lifts\n",
      "   1 lifted\n",
      "   1 liegemen\n",
      "   1 lief\n",
      "   1 lids\n",
      "   1 lick\n",
      "   1 licence\n",
      "   1 libertine\n",
      "   1 liar\n",
      "   1 lewdness\n",
      "   1 levied\n",
      "   1 level\n",
      "   1 letter\n",
      "   1 lethe\n",
      "   1 lesson\n",
      "   1 lesser\n",
      "   1 leperous\n",
      "   1 lenten\n",
      "   1 lends\n",
      "   1 lender\n",
      "   1 legs\n",
      "   1 led\n",
      "   1 lecture\n",
      "   1 lecherous\n",
      "   1 leavens\n",
      "   1 learning\n",
      "   1 leaping\n",
      "   1 leans\n",
      "   1 lean\n",
      "   1 leads\n",
      "   1 lazar\n",
      "   1 lays\n",
      "   1 lawyer\n",
      "   1 lawful\n",
      "   1 lash\n",
      "   1 larger\n",
      "   1 large\n",
      "   1 lapwing\n",
      "   1 lapsed\n",
      "   1 lank\n",
      "   1 lamond\n",
      "   1 lain\n",
      "   1 ladyship\n",
      "   1 lads\n",
      "   1 lacks\n",
      "   1 laboursome\n",
      "   1 labourer\n",
      "   1 la\n",
      "   1 knowledge\n",
      "   1 knowest\n",
      "   1 knotted\n",
      "   1 knocking\n",
      "   1 knocked\n",
      "   1 knock\n",
      "   1 knight\n",
      "   1 knife\n",
      "   1 knee\n",
      "   1 knaves\n",
      "   1 kites\n",
      "   1 kissed\n",
      "   1 kingly\n",
      "   1 kindless\n",
      "   1 kick\n",
      "   1 kibe\n",
      "   1 key\n",
      "   1 justice\n",
      "   1 juice\n",
      "   1 juggled\n",
      "   1 judicious\n",
      "   1 judges\n",
      "   1 joyfully\n",
      "   1 jowls\n",
      "   1 journeys\n",
      "   1 journeymen\n",
      "   1 jointress\n",
      "   1 jointly\n",
      "   1 john\n",
      "   1 jocund\n",
      "   1 jester\n",
      "   1 jelly\n",
      "   1 jaws\n",
      "   1 jangled\n",
      "   1 jade\n",
      "   1 italian\n",
      "   1 israel\n",
      "   1 invulnerable\n",
      "   1 invites\n",
      "   1 invite\n",
      "   1 invisible\n",
      "   1 investments\n",
      "   1 inventors\n",
      "   1 inventorially\n",
      "   1 inurn\n",
      "   1 intruding\n",
      "   1 intil\n",
      "   1 interpret\n",
      "   1 interim\n",
      "   1 inter\n",
      "   1 intents\n",
      "   1 intend\n",
      "   1 instrumental\n",
      "   1 instructs\n",
      "   1 instantly\n",
      "   1 instances\n",
      "   1 instance\n",
      "   1 insolence\n",
      "   1 insinuation\n",
      "   1 insert\n",
      "   1 inoculate\n",
      "   1 innovation\n",
      "   1 innocent\n",
      "   1 inmost\n",
      "   1 inky\n",
      "   1 inhibition\n",
      "   1 inheritor\n",
      "   1 inheritance\n",
      "   1 ingenious\n",
      "   1 infusion\n",
      "   1 influence\n",
      "   1 infects\n",
      "   1 infected\n",
      "   1 infect\n",
      "   1 infants\n",
      "   1 infallibly\n",
      "   1 inexplicable\n",
      "   1 indued\n",
      "   1 individable\n",
      "   1 indiscretion\n",
      "   1 indirections\n",
      "   1 indifferently\n",
      "   1 indict\n",
      "   1 index\n",
      "   1 indentures\n",
      "   1 increase\n",
      "   1 incorrect\n",
      "   1 incorpsed\n",
      "   1 incorporal\n",
      "   1 incontinency\n",
      "   1 inclining\n",
      "   1 inclined\n",
      "   1 inch\n",
      "   1 incest\n",
      "   1 incapable\n",
      "   1 imputation\n",
      "   1 impression\n",
      "   1 impress\n",
      "   1 impotent\n",
      "   1 impotence\n",
      "   1 imposthume\n",
      "   1 importunity\n",
      "   1 importuned\n",
      "   1 importunate\n",
      "   1 important\n",
      "   1 implorators\n",
      "   1 implements\n",
      "   1 impious\n",
      "   1 impetuous\n",
      "   1 imperious\n",
      "   1 imperial\n",
      "   1 imperfections\n",
      "   1 impatient\n",
      "   1 impasted\n",
      "   1 impartment\n",
      "   1 immortal\n",
      "   1 immediately\n",
      "   1 imitated\n",
      "   1 imagine\n",
      "   1 imaginations\n",
      "   1 illusion\n",
      "   1 illume\n",
      "   1 ills\n",
      "   1 ilium\n",
      "   1 ild\n",
      "   1 idol\n",
      "   1 hyrcanian\n",
      "   1 hypocrites\n",
      "   1 hypocrite\n",
      "   1 hymen\n",
      "   1 hush\n",
      "   1 husbands\n",
      "   1 husbandry\n",
      "   1 hurts\n",
      "   1 hunts\n",
      "   1 hung\n",
      "   1 humourous\n",
      "   1 humble\n",
      "   1 humanity\n",
      "   1 hum\n",
      "   1 hugger\n",
      "   1 huge\n",
      "   1 hue\n",
      "   1 howsoever\n",
      "   1 howling\n",
      "   1 howe\n",
      "   1 hover\n",
      "   1 houses\n",
      "   1 hourly\n",
      "   1 host\n",
      "   1 horseback\n",
      "   1 horrors\n",
      "   1 hopes\n",
      "   1 hoped\n",
      "   1 hoops\n",
      "   1 hoodman\n",
      "   1 honours\n",
      "   1 honoured\n",
      "   1 honeying\n",
      "   1 honey\n",
      "   1 homepage\n",
      "   1 homage\n",
      "   1 hollow\n",
      "   1 holla\n",
      "   1 holding\n",
      "   1 hoist\n",
      "   1 hoar\n",
      "   1 hire\n",
      "   1 hinges\n",
      "   1 hilts\n",
      "   1 highness\n",
      "   1 highly\n",
      "   1 highest\n",
      "   1 higher\n",
      "   1 hies\n",
      "   1 hides\n",
      "   1 hic\n",
      "   1 hew\n",
      "   1 heroes\n",
      "   1 herods\n",
      "   1 herod\n",
      "   1 hereafter\n",
      "   1 herb\n",
      "   1 herald\n",
      "   1 hent\n",
      "   1 hems\n",
      "   1 helpful\n",
      "   1 hellish\n",
      "   1 heir\n",
      "   1 height\n",
      "   1 heedful\n",
      "   1 hedge\n",
      "   1 hectic\n",
      "   1 hecate\n",
      "   1 hebenon\n",
      "   1 heavily\n",
      "   1 heaves\n",
      "   1 heathen\n",
      "   1 hearsed\n",
      "   1 hearer\n",
      "   1 healthful\n",
      "   1 headshake\n",
      "   1 heads\n",
      "   1 headed\n",
      "   1 hazard\n",
      "   1 hawk\n",
      "   1 havoc\n",
      "   1 hautboys\n",
      "   1 haunt\n",
      "   1 hate\n",
      "   1 hatchment\n",
      "   1 hasty\n",
      "   1 hasten\n",
      "   1 hart\n",
      "   1 harshly\n",
      "   1 harrows\n",
      "   1 harrow\n",
      "   1 harping\n",
      "   1 harmony\n",
      "   1 hark\n",
      "   1 hardy\n",
      "   1 hardly\n",
      "   1 harbingers\n",
      "   1 haps\n",
      "   1 happiness\n",
      "   1 happen\n",
      "   1 hap\n",
      "   1 handsome\n",
      "   1 handsaw\n",
      "   1 hams\n",
      "   1 hammers\n",
      "   1 hamlets\n",
      "   1 halt\n",
      "   1 hallow\n",
      "   1 halfpenny\n",
      "   1 hail\n",
      "   1 habits\n",
      "   1 gyves\n",
      "   1 gyved\n",
      "   1 gum\n",
      "   1 gulf\n",
      "   1 gules\n",
      "   1 guiltless\n",
      "   1 guards\n",
      "   1 guarded\n",
      "   1 grunt\n",
      "   1 growing\n",
      "   1 grounds\n",
      "   1 groundlings\n",
      "   1 grossly\n",
      "   1 grosser\n",
      "   1 groped\n",
      "   1 groans\n",
      "   1 groaning\n",
      "   1 groan\n",
      "   1 grizzled\n",
      "   1 grinning\n",
      "   1 grinding\n",
      "   1 grieves\n",
      "   1 grieved\n",
      "   1 griefs\n",
      "   1 grey\n",
      "   1 grew\n",
      "   1 greetings\n",
      "   1 greeting\n",
      "   1 greeted\n",
      "   1 greet\n",
      "   1 greenly\n",
      "   1 greeks\n",
      "   1 greatness\n",
      "   1 greatly\n",
      "   1 graveness\n",
      "   1 gratis\n",
      "   1 grating\n",
      "   1 grappling\n",
      "   1 grant\n",
      "   1 grandsire\n",
      "   1 grand\n",
      "   1 grained\n",
      "   1 gown\n",
      "   1 govern\n",
      "   1 gorge\n",
      "   1 gore\n",
      "   1 goose\n",
      "   1 goodman\n",
      "   1 gold\n",
      "   1 goblins\n",
      "   1 goblin\n",
      "   1 globe\n",
      "   1 glimpses\n",
      "   1 gleaned\n",
      "   1 glean\n",
      "   1 glassy\n",
      "   1 glares\n",
      "   1 givers\n",
      "   1 gis\n",
      "   1 girl\n",
      "   1 girdle\n",
      "   1 gins\n",
      "   1 gilded\n",
      "   1 gibes\n",
      "   1 gibber\n",
      "   1 gib\n",
      "   1 giant\n",
      "   1 gets\n",
      "   1 gestures\n",
      "   1 german\n",
      "   1 gently\n",
      "   1 gentlewoman\n",
      "   1 gender\n",
      "   1 gem\n",
      "   1 gaudy\n",
      "   1 gates\n",
      "   1 garrison\n",
      "   1 garments\n",
      "   1 garlands\n",
      "   1 garland\n",
      "   1 gardeners\n",
      "   1 garbage\n",
      "   1 garb\n",
      "   1 gape\n",
      "   1 gambols\n",
      "   1 gambol\n",
      "   1 galls\n",
      "   1 gallant\n",
      "   1 gaged\n",
      "   1 gaffs\n",
      "   1 fust\n",
      "   1 furnish\n",
      "   1 functions\n",
      "   1 function\n",
      "   1 fulfill\n",
      "   1 fruits\n",
      "   1 fruitful\n",
      "   1 frowningly\n",
      "   1 frown\n",
      "   1 frost\n",
      "   1 frontier\n",
      "   1 front\n",
      "   1 frock\n",
      "   1 frighted\n",
      "   1 friendship\n",
      "   1 friending\n",
      "   1 fretted\n",
      "   1 fretful\n",
      "   1 fret\n",
      "   1 frenchman\n",
      "   1 freeze\n",
      "   1 frailty\n",
      "   1 fox\n",
      "   1 fought\n",
      "   1 forts\n",
      "   1 fortified\n",
      "   1 forthwith\n",
      "   1 formal\n",
      "   1 forgotten\n",
      "   1 forgone\n",
      "   1 forgiveness\n",
      "   1 forgetting\n",
      "   1 forgery\n",
      "   1 forgeries\n",
      "   1 forfeit\n",
      "   1 forestalled\n",
      "   1 forestall\n",
      "   1 forest\n",
      "   1 foresaid\n",
      "   1 foreknowing\n",
      "   1 foreign\n",
      "   1 fore\n",
      "   1 fordoes\n",
      "   1 fordo\n",
      "   1 forcing\n",
      "   1 forbear\n",
      "   1 footed\n",
      "   1 foolery\n",
      "   1 folly\n",
      "   1 followed\n",
      "   1 folk\n",
      "   1 folded\n",
      "   1 fold\n",
      "   1 foh\n",
      "   1 flushing\n",
      "   1 flush\n",
      "   1 flourishes\n",
      "   1 flood\n",
      "   1 flints\n",
      "   1 flights\n",
      "   1 flies\n",
      "   1 flaxen\n",
      "   1 flaw\n",
      "   1 flats\n",
      "   1 flashes\n",
      "   1 flash\n",
      "   1 flagon\n",
      "   1 fitting\n",
      "   1 fitted\n",
      "   1 fitness\n",
      "   1 firmament\n",
      "   1 firm\n",
      "   1 fires\n",
      "   1 film\n",
      "   1 fill\n",
      "   1 filial\n",
      "   1 fifty\n",
      "   1 fierce\n",
      "   1 fiends\n",
      "   1 field\n",
      "   1 fiction\n",
      "   1 fertile\n",
      "   1 fennel\n",
      "   1 fencing\n",
      "   1 female\n",
      "   1 fellies\n",
      "   1 felicity\n",
      "   1 feels\n",
      "   1 feelingly\n",
      "   1 feel\n",
      "   1 feeds\n",
      "   1 feats\n",
      "   1 feathers\n",
      "   1 feather\n",
      "   1 fearing\n",
      "   1 fearful\n",
      "   1 fay\n",
      "   1 fawning\n",
      "   1 favourite\n",
      "   1 fatted\n",
      "   1 fatness\n",
      "   1 fathoms\n",
      "   1 fardels\n",
      "   1 fantastic\n",
      "   1 fang\n",
      "   1 famous\n",
      "   1 familiar\n",
      "   1 falsely\n",
      "   1 falsehood\n",
      "   1 fallen\n",
      "   1 falconers\n",
      "   1 fairy\n",
      "   1 fairly\n",
      "   1 faded\n",
      "   1 faculty\n",
      "   1 faculties\n",
      "   1 faction\n",
      "   1 eyelids\n",
      "   1 eyases\n",
      "   1 extravagant\n",
      "   1 extorted\n",
      "   1 extolment\n",
      "   1 extinct\n",
      "   1 exterior\n",
      "   1 extent\n",
      "   1 extant\n",
      "   1 expostulate\n",
      "   1 exposing\n",
      "   1 exploit\n",
      "   1 expense\n",
      "   1 expend\n",
      "   1 expectancy\n",
      "   1 exhort\n",
      "   1 exercises\n",
      "   1 excuse\n",
      "   1 excrements\n",
      "   1 exclaim\n",
      "   1 excitements\n",
      "   1 exception\n",
      "   1 exceedingly\n",
      "   1 exceed\n",
      "   1 examples\n",
      "   1 exactly\n",
      "   1 exact\n",
      "   1 evidence\n",
      "   1 evermore\n",
      "   1 everlasting\n",
      "   1 events\n",
      "   1 eternity\n",
      "   1 eterne\n",
      "   1 et\n",
      "   1 estimation\n",
      "   1 esteem\n",
      "   1 essentially\n",
      "   1 espials\n",
      "   1 especial\n",
      "   1 escoted\n",
      "   1 es\n",
      "   1 erwhelm\n",
      "   1 erweigh\n",
      "   1 eruption\n",
      "   1 ertop\n",
      "   1 ertook\n",
      "   1 erthrown\n",
      "   1 ersways\n",
      "   1 erstep\n",
      "   1 errule\n",
      "   1 errors\n",
      "   1 erring\n",
      "   1 err\n",
      "   1 ermaster\n",
      "   1 erhear\n",
      "   1 erhasty\n",
      "   1 erhanging\n",
      "   1 ergrowth\n",
      "   1 erdoing\n",
      "   1 erbears\n",
      "   1 equivocation\n",
      "   1 enviously\n",
      "   1 envious\n",
      "   1 entreatments\n",
      "   1 entreated\n",
      "   1 entrance\n",
      "   1 entire\n",
      "   1 enters\n",
      "   1 enterprises\n",
      "   1 enseamed\n",
      "   1 enmity\n",
      "   1 enlarged\n",
      "   1 english\n",
      "   1 engineer\n",
      "   1 engaged\n",
      "   1 endure\n",
      "   1 ending\n",
      "   1 ended\n",
      "   1 endeavour\n",
      "   1 encumber\n",
      "   1 encompassment\n",
      "   1 enactures\n",
      "   1 emulate\n",
      "   1 empty\n",
      "   1 employ\n",
      "   1 emphasis\n",
      "   1 emperor\n",
      "   1 embracing\n",
      "   1 embark\n",
      "   1 eloquent\n",
      "   1 eleven\n",
      "   1 element\n",
      "   1 eldest\n",
      "   1 elder\n",
      "   1 eisel\n",
      "   1 eight\n",
      "   1 egg\n",
      "   1 edified\n",
      "   1 eclipse\n",
      "   1 eaten\n",
      "   1 eastward\n",
      "   1 east\n",
      "   1 easing\n",
      "   1 easily\n",
      "   1 easier\n",
      "   1 earthly\n",
      "   1 earnest\n",
      "   1 eale\n",
      "   1 dying\n",
      "   1 dye\n",
      "   1 dwelling\n",
      "   1 duties\n",
      "   1 dupp\n",
      "   1 dunks\n",
      "   1 dungeons\n",
      "   1 dumbshows\n",
      "   1 dulls\n",
      "   1 duller\n",
      "   1 duke\n",
      "   1 dug\n",
      "   1 due\n",
      "   1 ducat\n",
      "   1 drunkards\n",
      "   1 drunk\n",
      "   1 drugs\n",
      "   1 drowns\n",
      "   1 droppings\n",
      "   1 dropping\n",
      "   1 drop\n",
      "   1 drooping\n",
      "   1 drives\n",
      "   1 driven\n",
      "   1 drinks\n",
      "   1 drinking\n",
      "   1 dressy\n",
      "   1 dreamt\n",
      "   1 dreadfully\n",
      "   1 dreaded\n",
      "   1 drawing\n",
      "   1 draughts\n",
      "   1 dram\n",
      "   1 drains\n",
      "   1 dragging\n",
      "   1 dragg\n",
      "   1 drabbing\n",
      "   1 drab\n",
      "   1 dowry\n",
      "   1 douts\n",
      "   1 doubts\n",
      "   1 doublet\n",
      "   1 dotes\n",
      "   1 donn\n",
      "   1 dominions\n",
      "   1 dole\n",
      "   1 doing\n",
      "   1 dogs\n",
      "   1 document\n",
      "   1 doctor\n",
      "   1 dizzy\n",
      "   1 divulging\n",
      "   1 divine\n",
      "   1 divided\n",
      "   1 ditchers\n",
      "   1 distress\n",
      "   1 distract\n",
      "   1 distinguish\n",
      "   1 distilment\n",
      "   1 distilled\n",
      "   1 distempered\n",
      "   1 distant\n",
      "   1 distance\n",
      "   1 dismay\n",
      "   1 dismantled\n",
      "   1 dislike\n",
      "   1 disjoint\n",
      "   1 dishes\n",
      "   1 dish\n",
      "   1 diseases\n",
      "   1 diseased\n",
      "   1 disease\n",
      "   1 discovery\n",
      "   1 discovers\n",
      "   1 discord\n",
      "   1 discomfort\n",
      "   1 disclose\n",
      "   1 disclaiming\n",
      "   1 disasters\n",
      "   1 disappointed\n",
      "   1 dirty\n",
      "   1 dirge\n",
      "   1 directions\n",
      "   1 dire\n",
      "   1 dipping\n",
      "   1 dip\n",
      "   1 diligence\n",
      "   1 digs\n",
      "   1 digged\n",
      "   1 digested\n",
      "   1 different\n",
      "   1 differences\n",
      "   1 dido\n",
      "   1 didest\n",
      "   1 diction\n",
      "   1 dicers\n",
      "   1 dexterity\n",
      "   1 dews\n",
      "   1 devoutly\n",
      "   1 devotion\n",
      "   1 devised\n",
      "   1 devise\n",
      "   1 devices\n",
      "   1 device\n",
      "   1 determine\n",
      "   1 determination\n",
      "   1 detecting\n",
      "   1 despite\n",
      "   1 despised\n",
      "   1 desk\n",
      "   1 desirous\n",
      "   1 design\n",
      "   1 deserved\n",
      "   1 deserve\n",
      "   1 deprived\n",
      "   1 deprive\n",
      "   1 depends\n",
      "   1 depend\n",
      "   1 departed\n",
      "   1 depart\n",
      "   1 denote\n",
      "   1 denies\n",
      "   1 denied\n",
      "   1 demonstrated\n",
      "   1 demi\n",
      "   1 demanded\n",
      "   1 delver\n",
      "   1 delve\n",
      "   1 delivered\n",
      "   1 deliberate\n",
      "   1 delays\n",
      "   1 delated\n",
      "   1 dejected\n",
      "   1 deject\n",
      "   1 defy\n",
      "   1 definement\n",
      "   1 define\n",
      "   1 defective\n",
      "   1 defeats\n",
      "   1 defeated\n",
      "   1 deer\n",
      "   1 deeply\n",
      "   1 deeds\n",
      "   1 declining\n",
      "   1 declines\n",
      "   1 decline\n",
      "   1 declension\n",
      "   1 deck\n",
      "   1 decayer\n",
      "   1 debt\n",
      "   1 debatement\n",
      "   1 debate\n",
      "   1 deaths\n",
      "   1 dearth\n",
      "   1 dealt\n",
      "   1 deal\n",
      "   1 dawning\n",
      "   1 daughters\n",
      "   1 darkest\n",
      "   1 dark\n",
      "   1 darest\n",
      "   1 dares\n",
      "   1 dared\n",
      "   1 danskers\n",
      "   1 damon\n",
      "   1 damnation\n",
      "   1 damnable\n",
      "   1 dallying\n",
      "   1 dally\n",
      "   1 dalliance\n",
      "   1 daisy\n",
      "   1 daisies\n",
      "   1 daintier\n",
      "   1 daily\n",
      "   1 dagger\n",
      "   1 cyclops\n",
      "   1 cutpurse\n",
      "   1 customary\n",
      "   1 cursing\n",
      "   1 curse\n",
      "   1 curls\n",
      "   1 curiously\n",
      "   1 cure\n",
      "   1 curd\n",
      "   1 curb\n",
      "   1 cups\n",
      "   1 cunnings\n",
      "   1 cuffs\n",
      "   1 cue\n",
      "   1 cudgel\n",
      "   1 cuckold\n",
      "   1 crust\n",
      "   1 crowns\n",
      "   1 crowing\n",
      "   1 crow\n",
      "   1 cross\n",
      "   1 crook\n",
      "   1 crocodile\n",
      "   1 croaking\n",
      "   1 crimeful\n",
      "   1 crier\n",
      "   1 crib\n",
      "   1 crescent\n",
      "   1 creep\n",
      "   1 credent\n",
      "   1 creation\n",
      "   1 crawling\n",
      "   1 craves\n",
      "   1 craven\n",
      "   1 crash\n",
      "   1 crants\n",
      "   1 crammed\n",
      "   1 crafty\n",
      "   1 crafts\n",
      "   1 cracks\n",
      "   1 cracked\n",
      "   1 crack\n",
      "   1 crab\n",
      "   1 cozenage\n",
      "   1 cozen\n",
      "   1 cowards\n",
      "   1 covenant\n",
      "   1 courtiers\n",
      "   1 courtesy\n",
      "   1 courteous\n",
      "   1 courses\n",
      "   1 couplets\n",
      "   1 couple\n",
      "   1 countrymen\n",
      "   1 countries\n",
      "   1 counterfeit\n",
      "   1 counter\n",
      "   1 counsellor\n",
      "   1 couched\n",
      "   1 coted\n",
      "   1 costly\n",
      "   1 corses\n",
      "   1 corrupted\n",
      "   1 corpse\n",
      "   1 coronet\n",
      "   1 coronation\n",
      "   1 corner\n",
      "   1 core\n",
      "   1 copied\n",
      "   1 coped\n",
      "   1 cool\n",
      "   1 convoy\n",
      "   1 convocation\n",
      "   1 conveyances\n",
      "   1 conveyance\n",
      "   1 convey\n",
      "   1 converted\n",
      "   1 converse\n",
      "   1 conversation\n",
      "   1 conveniently\n",
      "   1 convenience\n",
      "   1 contumely\n",
      "   1 controversy\n",
      "   1 contriving\n",
      "   1 contrary\n",
      "   1 contraction\n",
      "   1 contracted\n",
      "   1 contract\n",
      "   1 continual\n",
      "   1 contents\n",
      "   1 contend\n",
      "   1 containing\n",
      "   1 contagious\n",
      "   1 consummation\n",
      "   1 constantly\n",
      "   1 constant\n",
      "   1 consonancy\n",
      "   1 considered\n",
      "   1 conquest\n",
      "   1 conqueror\n",
      "   1 conjures\n",
      "   1 conjure\n",
      "   1 conjuration\n",
      "   1 conjunctive\n",
      "   1 conjoin\n",
      "   1 conjectures\n",
      "   1 congruing\n",
      "   1 congregation\n",
      "   1 confusion\n",
      "   1 confront\n",
      "   1 confines\n",
      "   1 confined\n",
      "   1 conference\n",
      "   1 confederate\n",
      "   1 condolement\n",
      "   1 conclusions\n",
      "   1 concluded\n",
      "   1 concernings\n",
      "   1 concernancy\n",
      "   1 conception\n",
      "   1 conceive\n",
      "   1 conceited\n",
      "   1 conceal\n",
      "   1 comrade\n",
      "   1 compulsive\n",
      "   1 compulsatory\n",
      "   1 compounded\n",
      "   1 compound\n",
      "   1 compost\n",
      "   1 composed\n",
      "   1 complete\n",
      "   1 competent\n",
      "   1 compelled\n",
      "   1 compell\n",
      "   1 compass\n",
      "   1 compare\n",
      "   1 company\n",
      "   1 companions\n",
      "   1 companies\n",
      "   1 compact\n",
      "   1 commutual\n",
      "   1 commune\n",
      "   1 commingled\n",
      "   1 commerce\n",
      "   1 comment\n",
      "   1 commended\n",
      "   1 commendable\n",
      "   1 commencement\n",
      "   1 commands\n",
      "   1 commanded\n",
      "   1 comma\n",
      "   1 comfort\n",
      "   1 combined\n",
      "   1 combination\n",
      "   1 combated\n",
      "   1 combat\n",
      "   1 columbines\n",
      "   1 colleagued\n",
      "   1 collateral\n",
      "   1 coinage\n",
      "   1 coil\n",
      "   1 cockle\n",
      "   1 coagulate\n",
      "   1 coach\n",
      "   1 clutch\n",
      "   1 clouts\n",
      "   1 clout\n",
      "   1 cloud\n",
      "   1 clothe\n",
      "   1 closely\n",
      "   1 cloak\n",
      "   1 climatures\n",
      "   1 cliff\n",
      "   1 clepe\n",
      "   1 clemency\n",
      "   1 cleft\n",
      "   1 cleave\n",
      "   1 clearly\n",
      "   1 clear\n",
      "   1 claw\n",
      "   1 claudio\n",
      "   1 clapped\n",
      "   1 clamour\n",
      "   1 clambering\n",
      "   1 claim\n",
      "   1 clad\n",
      "   1 circumvent\n",
      "   1 circumstances\n",
      "   1 circumscribed\n",
      "   1 cicatrice\n",
      "   1 churlish\n",
      "   1 churchyards\n",
      "   1 churchyard\n",
      "   1 churches\n",
      "   1 chronicles\n",
      "   1 christians\n",
      "   1 chough\n",
      "   1 chorus\n",
      "   1 chopine\n",
      "   1 chiefly\n",
      "   1 chiefest\n",
      "   1 chide\n",
      "   1 cherub\n",
      "   1 checking\n",
      "   1 chase\n",
      "   1 charm\n",
      "   1 charity\n",
      "   1 chariest\n",
      "   1 chapless\n",
      "   1 chap\n",
      "   1 chanted\n",
      "   1 chanson\n",
      "   1 changes\n",
      "   1 changeling\n",
      "   1 changed\n",
      "   1 chameleon\n",
      "   1 challenger\n",
      "   1 chalice\n",
      "   1 certainty\n",
      "   1 cerements\n",
      "   1 centre\n",
      "   1 cellarage\n",
      "   1 cell\n",
      "   1 celebrated\n",
      "   1 caviare\n",
      "   1 caution\n",
      "   1 cautel\n",
      "   1 cataplasm\n",
      "   1 casual\n",
      "   1 cases\n",
      "   1 case\n",
      "   1 carve\n",
      "   1 carters\n",
      "   1 cart\n",
      "   1 carrying\n",
      "   1 carrion\n",
      "   1 carries\n",
      "   1 carried\n",
      "   1 carriage\n",
      "   1 carp\n",
      "   1 carouses\n",
      "   1 carnal\n",
      "   1 careless\n",
      "   1 carefully\n",
      "   1 carbuncles\n",
      "   1 captains\n",
      "   1 caps\n",
      "   1 capons\n",
      "   1 capitol\n",
      "   1 capability\n",
      "   1 canopy\n",
      "   1 canonized\n",
      "   1 canon\n",
      "   1 cannons\n",
      "   1 cannoneer\n",
      "   1 candied\n",
      "   1 calves\n",
      "   1 calumny\n",
      "   1 calumnious\n",
      "   1 calmly\n",
      "   1 called\n",
      "   1 calendar\n",
      "   1 calamity\n",
      "   1 cain\n",
      "   1 cabin\n",
      "   1 buzzers\n",
      "   1 buys\n",
      "   1 buyer\n",
      "   1 buy\n",
      "   1 buttons\n",
      "   1 button\n",
      "   1 busy\n",
      "   1 burthen\n",
      "   1 burnt\n",
      "   1 bung\n",
      "   1 bulwark\n",
      "   1 built\n",
      "   1 build\n",
      "   1 bugs\n",
      "   1 buffets\n",
      "   1 budge\n",
      "   1 bubbles\n",
      "   1 brutus\n",
      "   1 brute\n",
      "   1 bruit\n",
      "   1 brows\n",
      "   1 brothel\n",
      "   1 brood\n",
      "   1 brooch\n",
      "   1 brokers\n",
      "   1 broken\n",
      "   1 brings\n",
      "   1 bringing\n",
      "   1 bride\n",
      "   1 brevity\n",
      "   1 breeder\n",
      "   1 breathes\n",
      "   1 breast\n",
      "   1 breaking\n",
      "   1 breadth\n",
      "   1 bread\n",
      "   1 breach\n",
      "   1 brazen\n",
      "   1 bray\n",
      "   1 bravery\n",
      "   1 brass\n",
      "   1 brands\n",
      "   1 branches\n",
      "   1 brainish\n",
      "   1 boys\n",
      "   1 box\n",
      "   1 bowl\n",
      "   1 bouts\n",
      "   1 bout\n",
      "   1 bourn\n",
      "   1 bounty\n",
      "   1 bounteous\n",
      "   1 bounds\n",
      "   1 bounded\n",
      "   1 bought\n",
      "   1 boughs\n",
      "   1 botch\n",
      "   1 borrowing\n",
      "   1 borrower\n",
      "   1 borrow\n",
      "   1 books\n",
      "   1 bonny\n",
      "   1 bonnet\n",
      "   1 bone\n",
      "   1 bonds\n",
      "   1 boisterous\n",
      "   1 bodykins\n",
      "   1 bodkin\n",
      "   1 bodiless\n",
      "   1 bodes\n",
      "   1 boarded\n",
      "   1 board\n",
      "   1 blurs\n",
      "   1 blunted\n",
      "   1 blue\n",
      "   1 blossoms\n",
      "   1 bloodily\n",
      "   1 bloat\n",
      "   1 blister\n",
      "   1 blind\n",
      "   1 blest\n",
      "   1 blench\n",
      "   1 bleeding\n",
      "   1 blazon\n",
      "   1 blazes\n",
      "   1 blaze\n",
      "   1 blasts\n",
      "   1 blastments\n",
      "   1 blasting\n",
      "   1 blanks\n",
      "   1 blanket\n",
      "   1 blank\n",
      "   1 blackest\n",
      "   1 bites\n",
      "   1 bisson\n",
      "   1 birds\n",
      "   1 bilboes\n",
      "   1 bier\n",
      "   1 bias\n",
      "   1 bewept\n",
      "   1 bevy\n",
      "   1 betoken\n",
      "   1 betimes\n",
      "   1 betime\n",
      "   1 bethought\n",
      "   1 beteem\n",
      "   1 bet\n",
      "   1 bestowed\n",
      "   1 bestial\n",
      "   1 bespeak\n",
      "   1 besmirch\n",
      "   1 besides\n",
      "   1 beshrew\n",
      "   1 berattle\n",
      "   1 benefit\n",
      "   1 bended\n",
      "   1 beloved\n",
      "   1 bells\n",
      "   1 bellowed\n",
      "   1 bellow\n",
      "   1 believed\n",
      "   1 belief\n",
      "   1 behoves\n",
      "   1 behove\n",
      "   1 behold\n",
      "   1 behaved\n",
      "   1 beget\n",
      "   1 befitted\n",
      "   1 befall\n",
      "   1 beetles\n",
      "   1 beer\n",
      "   1 beds\n",
      "   1 bedded\n",
      "   1 beck\n",
      "   1 because\n",
      "   1 became\n",
      "   1 beaver\n",
      "   1 beauties\n",
      "   1 beautied\n",
      "   1 beauteous\n",
      "   1 beats\n",
      "   1 beaten\n",
      "   1 bearing\n",
      "   1 beards\n",
      "   1 beam\n",
      "   1 bawdy\n",
      "   1 bawds\n",
      "   1 bawdry\n",
      "   1 bawd\n",
      "   1 battlements\n",
      "   1 battery\n",
      "   1 batten\n",
      "   1 battalions\n",
      "   1 bated\n",
      "   1 bat\n",
      "   1 bastard\n",
      "   1 baseness\n",
      "   1 barren\n",
      "   1 barrel\n",
      "   1 barr\n",
      "   1 barefoot\n",
      "   1 barefaced\n",
      "   1 bare\n",
      "   1 barber\n",
      "   1 bar\n",
      "   1 baptista\n",
      "   1 bank\n",
      "   1 bands\n",
      "   1 ban\n",
      "   1 baker\n",
      "   1 bait\n",
      "   1 bade\n",
      "   1 backward\n",
      "   1 backed\n",
      "   1 babe\n",
      "   1 aye\n",
      "   1 awry\n",
      "   1 avouch\n",
      "   1 authorities\n",
      "   1 auspicious\n",
      "   1 aunt\n",
      "   1 augury\n",
      "   1 audit\n",
      "   1 attribute\n",
      "   1 attractive\n",
      "   1 attent\n",
      "   1 attends\n",
      "   1 attend\n",
      "   1 asunder\n",
      "   1 astonish\n",
      "   1 assure\n",
      "   1 associates\n",
      "   1 assays\n",
      "   1 assault\n",
      "   1 assail\n",
      "   1 aspect\n",
      "   1 aslant\n",
      "   1 asked\n",
      "   1 ashamed\n",
      "   1 artless\n",
      "   1 articles\n",
      "   1 artery\n",
      "   1 arrow\n",
      "   1 arrived\n",
      "   1 arrests\n",
      "   1 arrest\n",
      "   1 array\n",
      "   1 arraign\n",
      "   1 aroused\n",
      "   1 army\n",
      "   1 arithmetic\n",
      "   1 aright\n",
      "   1 argues\n",
      "   1 ardour\n",
      "   1 aptly\n",
      "   1 appurtenance\n",
      "   1 appointment\n",
      "   1 appliance\n",
      "   1 applaud\n",
      "   1 appetite\n",
      "   1 apparel\n",
      "   1 appal\n",
      "   1 apoplex\n",
      "   1 apiece\n",
      "   1 antiquity\n",
      "   1 anticipation\n",
      "   1 antic\n",
      "   1 answerest\n",
      "   1 anoint\n",
      "   1 annual\n",
      "   1 annexment\n",
      "   1 animals\n",
      "   1 angry\n",
      "   1 angle\n",
      "   1 anger\n",
      "   1 ancle\n",
      "   1 ancient\n",
      "   1 anchor\n",
      "   1 among\n",
      "   1 amities\n",
      "   1 amen\n",
      "   1 amble\n",
      "   1 ambiguous\n",
      "   1 amber\n",
      "   1 amazed\n",
      "   1 amaze\n",
      "   1 always\n",
      "   1 altogether\n",
      "   1 altitude\n",
      "   1 also\n",
      "   1 alleys\n",
      "   1 allegiance\n",
      "   1 airy\n",
      "   1 airs\n",
      "   1 aid\n",
      "   1 agreeing\n",
      "   1 ago\n",
      "   1 afterwards\n",
      "   1 afternoon\n",
      "   1 afraid\n",
      "   1 afoot\n",
      "   1 affront\n",
      "   1 affrighted\n",
      "   1 afflicts\n",
      "   1 afflict\n",
      "   1 affections\n",
      "   1 affectation\n",
      "   1 affairs\n",
      "   1 afeard\n",
      "   1 afar\n",
      "   1 aery\n",
      "   1 aeneas\n",
      "   1 advise\n",
      "   1 adventurous\n",
      "   1 advantage\n",
      "   1 advancing\n",
      "   1 advanced\n",
      "   1 adulterate\n",
      "   1 adoption\n",
      "   1 admittance\n",
      "   1 admirable\n",
      "   1 adjoin\n",
      "   1 adheres\n",
      "   1 address\n",
      "   1 addicted\n",
      "   1 adders\n",
      "   1 actively\n",
      "   1 acting\n",
      "   1 acted\n",
      "   1 across\n",
      "   1 acres\n",
      "   1 acquire\n",
      "   1 acquaintance\n",
      "   1 acquaint\n",
      "   1 achievements\n",
      "   1 accuse\n",
      "   1 accurst\n",
      "   1 accounted\n",
      "   1 account\n",
      "   1 accord\n",
      "   1 accidents\n",
      "   1 accidental\n",
      "   1 access\n",
      "   1 accepts\n",
      "   1 abuses\n",
      "   1 abused\n",
      "   1 abuse\n",
      "   1 abstract\n",
      "   1 abstinence\n",
      "   1 absent\n",
      "   1 abroad\n",
      "   1 abridgement\n",
      "   1 abominably\n",
      "   1 able\n",
      "   1 ability\n",
      "   1 abhorred\n",
      "   1 abatements\n",
      "   1 abate\n"
     ]
    }
   ],
   "source": [
    "!tr A-Z a-z < hamlet.txt | tr -sc 'a-z' '\\n' | sort | uniq -c | sort -rn"
   ]
  },
  {
   "cell_type": "code",
   "execution_count": 362,
   "id": "14ceb88f-7956-4774-9953-72ae09f996ce",
   "metadata": {},
   "outputs": [],
   "source": [
    "def pickle():\n",
    "    print('hello from f!')"
   ]
  },
  {
   "cell_type": "code",
   "execution_count": 364,
   "id": "9807b37c-a205-4509-961e-ce4dd352a268",
   "metadata": {},
   "outputs": [
    {
     "data": {
      "text/plain": [
       "140436844928448"
      ]
     },
     "execution_count": 364,
     "metadata": {},
     "output_type": "execute_result"
    }
   ],
   "source": [
    "id(pickle)"
   ]
  },
  {
   "cell_type": "code",
   "execution_count": 363,
   "id": "0fcfa476-cbf8-43a7-98d5-f21c02fc4576",
   "metadata": {},
   "outputs": [
    {
     "name": "stdout",
     "output_type": "stream",
     "text": [
      "hello from f!\n"
     ]
    }
   ],
   "source": [
    "pickle()"
   ]
  },
  {
   "cell_type": "code",
   "execution_count": 365,
   "id": "0aa32721-d5a5-458b-a505-85f1b7195fdb",
   "metadata": {},
   "outputs": [],
   "source": [
    "number = 1"
   ]
  },
  {
   "cell_type": "code",
   "execution_count": 368,
   "id": "de76ecbf-23ac-43d1-b962-7f4de3f82a8b",
   "metadata": {},
   "outputs": [],
   "source": [
    "number: int = 1 # a change to Python 3.6+ (\"type hints\") ... "
   ]
  },
  {
   "cell_type": "code",
   "execution_count": 369,
   "id": "5235a5bb-249a-4c7f-9e9f-f8c79a9f1c24",
   "metadata": {},
   "outputs": [],
   "source": [
    "number = 1.3"
   ]
  },
  {
   "cell_type": "code",
   "execution_count": 370,
   "id": "586adf31-d220-4029-ab90-2830db709f29",
   "metadata": {},
   "outputs": [],
   "source": [
    "import math"
   ]
  },
  {
   "cell_type": "code",
   "execution_count": 371,
   "id": "4145ca76-ef16-4d50-a0fc-c9060cf1fe97",
   "metadata": {},
   "outputs": [
    {
     "name": "stdout",
     "output_type": "stream",
     "text": [
      "Help on built-in function gamma in module math:\n",
      "\n",
      "gamma(x, /)\n",
      "    Gamma function at x.\n",
      "\n"
     ]
    }
   ],
   "source": [
    "help(math.gamma)"
   ]
  },
  {
   "cell_type": "code",
   "execution_count": 379,
   "id": "f171d2e0-acc8-46bf-afb2-5cb22ec80833",
   "metadata": {},
   "outputs": [],
   "source": [
    "def new_func():\n",
    "    \"\"\"docstring\"\"\"\n",
    "    print('line 1')\n",
    "    \n",
    "    return 5"
   ]
  },
  {
   "cell_type": "code",
   "execution_count": 373,
   "id": "80510b59-8c8f-44f3-a729-47a41f49e710",
   "metadata": {},
   "outputs": [
    {
     "name": "stdout",
     "output_type": "stream",
     "text": [
      "Help on function new_func in module __main__:\n",
      "\n",
      "new_func()\n",
      "    docstring\n",
      "\n"
     ]
    }
   ],
   "source": [
    "help(new_func)"
   ]
  },
  {
   "cell_type": "code",
   "execution_count": 376,
   "id": "28119bca-2ec8-4fc4-914c-a18fd6b65fb9",
   "metadata": {},
   "outputs": [
    {
     "name": "stdout",
     "output_type": "stream",
     "text": [
      "line 1\n"
     ]
    }
   ],
   "source": [
    "return_val = new_func()"
   ]
  },
  {
   "cell_type": "code",
   "execution_count": 377,
   "id": "b811fade-2018-4b1a-bb61-ef459f76a168",
   "metadata": {},
   "outputs": [
    {
     "data": {
      "text/plain": [
       "5"
      ]
     },
     "execution_count": 377,
     "metadata": {},
     "output_type": "execute_result"
    }
   ],
   "source": [
    "return_val"
   ]
  },
  {
   "cell_type": "code",
   "execution_count": 380,
   "id": "46d2ca01-f10d-4a9c-99a0-1969ef0209b5",
   "metadata": {},
   "outputs": [
    {
     "name": "stdout",
     "output_type": "stream",
     "text": [
      "Help on built-in function sin in module math:\n",
      "\n",
      "sin(x, /)\n",
      "    Return the sine of x (measured in radians).\n",
      "\n"
     ]
    }
   ],
   "source": [
    "help(math.sin)"
   ]
  },
  {
   "cell_type": "code",
   "execution_count": 381,
   "id": "b8e08c2f-0236-4768-be3b-d8e519c8609c",
   "metadata": {},
   "outputs": [
    {
     "data": {
      "text/plain": [
       "4376398816"
      ]
     },
     "execution_count": 381,
     "metadata": {},
     "output_type": "execute_result"
    }
   ],
   "source": [
    "id(None)"
   ]
  },
  {
   "cell_type": "code",
   "execution_count": 382,
   "id": "38ea1eb5-313b-4a46-866a-c0c17cdc2eff",
   "metadata": {},
   "outputs": [
    {
     "data": {
      "text/plain": [
       "4376319280"
      ]
     },
     "execution_count": 382,
     "metadata": {},
     "output_type": "execute_result"
    }
   ],
   "source": [
    "id(True)"
   ]
  },
  {
   "cell_type": "code",
   "execution_count": 383,
   "id": "261f630e-a39b-4da5-8eb7-1a7c24029e1d",
   "metadata": {},
   "outputs": [
    {
     "data": {
      "text/plain": [
       "4376320008"
      ]
     },
     "execution_count": 383,
     "metadata": {},
     "output_type": "execute_result"
    }
   ],
   "source": [
    "id(False)"
   ]
  },
  {
   "cell_type": "code",
   "execution_count": 385,
   "id": "7fde2bfa-53e4-4860-9344-d45379dd594e",
   "metadata": {},
   "outputs": [],
   "source": [
    "num = 1"
   ]
  },
  {
   "cell_type": "code",
   "execution_count": 386,
   "id": "59844ff8-83d3-4be4-a3e1-b262cb36a31d",
   "metadata": {},
   "outputs": [],
   "source": [
    "def rounder25(amount):\n",
    "    \"\"\"Return the amount rounded UP to nearest\n",
    "       quarter dollar.\n",
    "       \n",
    "           ...$1.89 becomes $2.00\n",
    "           ...but $1.00/$1.25/$1.75/etc.\n",
    "           remain unchanged\n",
    "    \"\"\"\n",
    "    dollars = int(amount) # 1\n",
    "    cents = round((amount - dollars) * 100) # 89\n",
    "    quarters = cents // 25 # 3\n",
    "    if cents % 25: # 14\n",
    "        quarters += 1 # 4\n",
    "    amount = dollars + 0.25 * quarters # 2.00\n",
    "\n",
    "    return amount"
   ]
  },
  {
   "cell_type": "code",
   "execution_count": 389,
   "id": "33411909-828e-41a4-b9fe-30cf2114fe07",
   "metadata": {},
   "outputs": [],
   "source": [
    "def menu(wine, entree, dessert):\n",
    "    \"\"\"eat food\"\"\"\n",
    "    return { 'wine': wine, 'entree': entree, 'dessert': dessert }"
   ]
  },
  {
   "cell_type": "code",
   "execution_count": 391,
   "id": "85f9342b-d7f4-4e18-b47b-f9205b3b8988",
   "metadata": {},
   "outputs": [
    {
     "data": {
      "text/plain": [
       "\u001b[0;31mSignature:\u001b[0m \u001b[0mmenu\u001b[0m\u001b[0;34m(\u001b[0m\u001b[0mwine\u001b[0m\u001b[0;34m,\u001b[0m \u001b[0mentree\u001b[0m\u001b[0;34m,\u001b[0m \u001b[0mdessert\u001b[0m\u001b[0;34m)\u001b[0m\u001b[0;34m\u001b[0m\u001b[0;34m\u001b[0m\u001b[0m\n",
       "\u001b[0;31mDocstring:\u001b[0m eat food\n",
       "\u001b[0;31mFile:\u001b[0m      /var/folders/3s/4t11x_ds0nv6myvw9jnxc3q00000gq/T/ipykernel_4901/1480739798.py\n",
       "\u001b[0;31mType:\u001b[0m      function\n"
      ]
     },
     "metadata": {},
     "output_type": "display_data"
    }
   ],
   "source": [
    "menu?"
   ]
  },
  {
   "cell_type": "code",
   "execution_count": null,
   "id": "9bbb70d6-b624-45c8-b06b-c5d1d269f3d5",
   "metadata": {},
   "outputs": [],
   "source": [
    "# pangram: a string which contains all the letters of the alphabet\n",
    "# The wizard quickly jinxed the gnomes before they vaporized\n",
    "# The quick brown fox jumps over the lazy dog"
   ]
  },
  {
   "cell_type": "code",
   "execution_count": 392,
   "id": "2d859e07-03c4-444a-8335-7524eb0d04c6",
   "metadata": {},
   "outputs": [
    {
     "data": {
      "text/plain": [
       "{'a',\n",
       " 'b',\n",
       " 'c',\n",
       " 'd',\n",
       " 'e',\n",
       " 'f',\n",
       " 'g',\n",
       " 'h',\n",
       " 'i',\n",
       " 'j',\n",
       " 'k',\n",
       " 'l',\n",
       " 'm',\n",
       " 'n',\n",
       " 'o',\n",
       " 'p',\n",
       " 'q',\n",
       " 'r',\n",
       " 's',\n",
       " 't',\n",
       " 'u',\n",
       " 'v',\n",
       " 'w',\n",
       " 'x',\n",
       " 'y',\n",
       " 'z'}"
      ]
     },
     "execution_count": 392,
     "metadata": {},
     "output_type": "execute_result"
    }
   ],
   "source": [
    "set(string.ascii_lowercase)"
   ]
  },
  {
   "cell_type": "markdown",
   "id": "fe3577cd-1ccc-4089-aeef-0679df79aea8",
   "metadata": {},
   "source": [
    "## Lab: functions\n",
    "* write at least one of these functions, take your pick...\n",
    "  * __`calculate`__ which is passed two operands and an operator and returns the calculated result, e.g., __`calculate(2, 4, '+')`__ would return 6\n",
    "  * Given a string, the function returns True or False whether the string is a pangram\n",
    "  * Given an integer as a parameter, the function sums up its digits. If the resulting sum contains more than 1 digit, the function should sum the digits again, e.g., __`sumdigits(1235)`__ should compute the sum of 1, 2, 3, and 5 (11), then compute the sum of 1 and 1, returning 2.\n",
    "  * Given a number as a parameter and returns a string version of the number with commas representing thousands, e.g., __`add_commas(12345)`__ would return \"12,345\"\n",
    "  * Demonstrate the Collatz Conjecture:\n",
    "    * for integer n > 1\n",
    "      * if n is even, then __`n = n // 2`__\n",
    "      * if n is odd, then __`n = n * 3 + 1`__\n",
    "    * ...will always converge to 1\n",
    "    * your function should take n and keep printing new value of n until n is 1 and then return\n",
    "  * given a 4-digit number where not all digits are the same, demonstrate __Kaprekar's Constant__ <pre>(6174)</pre>\n",
    "    * sort the digits of the number into descending and ascending order...\n",
    "    * then calculate the difference between the two new numbers\n",
    "    * keep doing the above until you get to 6174 (you always will)\n",
    "    * e.g., starting with the number 8991:\n",
    "    <br/><br/>\n",
    "    <pre>\n",
    "      9981 – 1899 = 8082\n",
    "      8820 – 0288 = 8532\n",
    "      8532 – 2358 = 6174\n",
    "      7641 – 1467 = 6174\n",
    "    </pre>\n"
   ]
  },
  {
   "cell_type": "code",
   "execution_count": 419,
   "id": "f122a6df-414d-4491-850b-b4e0231483b9",
   "metadata": {},
   "outputs": [],
   "source": [
    "def calculate(operand1, operand2, operator):\n",
    "    \"\"\"Calculate operand1 operator operand2 and return result.\n",
    "    2 + 3 = 5\n",
    "    2 * 8 = 16\n",
    "    Valid operators are +, -, *, /\n",
    "    \"\"\"\n",
    "    #print('calculate received these args:', operand1, operand2, operator)\n",
    "    if operator == '+': # add!\n",
    "        return operand1 + operand2\n",
    "    if operator == '-': # subtract!\n",
    "        return operand1 - operand2\n",
    "    if operator == '*': # multiply!\n",
    "        return operand1 * operand2 \n",
    "    if operator == '/': # divide! (integer division, perhaps?)\n",
    "        return operand1 // operand2"
   ]
  },
  {
   "cell_type": "code",
   "execution_count": 405,
   "id": "7ecd5cf1-6680-4602-95a6-dcfb0782bf27",
   "metadata": {},
   "outputs": [
    {
     "name": "stdout",
     "output_type": "stream",
     "text": [
      "calculate received these args: 7 2 +\n",
      "the sum is 9\n"
     ]
    }
   ],
   "source": [
    "print('the sum is', calculate(7, 2, '+'))"
   ]
  },
  {
   "cell_type": "code",
   "execution_count": 411,
   "id": "d4e91739-f418-4d22-b167-3f717a975a6c",
   "metadata": {},
   "outputs": [
    {
     "name": "stdout",
     "output_type": "stream",
     "text": [
      "Help on function calculate in module __main__:\n",
      "\n",
      "calculate(operand1, operand2, operator)\n",
      "    Calculate operand1 operator operand2 and return result.\n",
      "    2 + 3 = 5\n",
      "    2 * 8 = 16\n",
      "    Valid operators are +, -, *. /\n",
      "\n"
     ]
    }
   ],
   "source": [
    "help(calculate)"
   ]
  },
  {
   "cell_type": "code",
   "execution_count": 413,
   "id": "d5eed14f-5947-41d4-852f-fa51004b8d4b",
   "metadata": {},
   "outputs": [
    {
     "data": {
      "text/plain": [
       "14"
      ]
     },
     "execution_count": 413,
     "metadata": {},
     "output_type": "execute_result"
    }
   ],
   "source": [
    "calculate(2, 7, '*')"
   ]
  },
  {
   "cell_type": "code",
   "execution_count": 414,
   "id": "475347a0-b576-4634-892a-bae4e1cb59da",
   "metadata": {},
   "outputs": [
    {
     "data": {
      "text/plain": [
       "'12'"
      ]
     },
     "execution_count": 414,
     "metadata": {},
     "output_type": "execute_result"
    }
   ],
   "source": [
    "'1' + '2'"
   ]
  },
  {
   "cell_type": "code",
   "execution_count": 418,
   "id": "5bdbcfc8-49ad-48aa-bc0a-3fd3f124b53a",
   "metadata": {},
   "outputs": [
    {
     "data": {
      "text/plain": [
       "'12'"
      ]
     },
     "execution_count": 418,
     "metadata": {},
     "output_type": "execute_result"
    }
   ],
   "source": [
    "calculate(2, 7, '+')"
   ]
  },
  {
   "cell_type": "code",
   "execution_count": 421,
   "id": "f91e578b-ad06-4305-b13e-224c4684ce45",
   "metadata": {},
   "outputs": [],
   "source": [
    "def divmod(numerator, denominator):\n",
    "    \"\"\"Return numerator // denominator AND numerator % denominator.\"\"\"\n",
    "    return numerator // denominator, numerator % denominator"
   ]
  },
  {
   "cell_type": "code",
   "execution_count": 422,
   "id": "2083b273-d785-4c78-9743-eea22c60b5f5",
   "metadata": {},
   "outputs": [
    {
     "name": "stdout",
     "output_type": "stream",
     "text": [
      "Help on function divmod in module __main__:\n",
      "\n",
      "divmod(numerator, denominator)\n",
      "    Return numerator // denominator AND numerator % denominator.\n",
      "\n"
     ]
    }
   ],
   "source": [
    "help(divmod)"
   ]
  },
  {
   "cell_type": "code",
   "execution_count": 423,
   "id": "d6c9af63-6216-49b1-a21a-6456d4b08800",
   "metadata": {},
   "outputs": [
    {
     "data": {
      "text/plain": [
       "(2, 1)"
      ]
     },
     "execution_count": 423,
     "metadata": {},
     "output_type": "execute_result"
    }
   ],
   "source": [
    "divmod(9, 4)"
   ]
  },
  {
   "cell_type": "code",
   "execution_count": 424,
   "id": "05270b2f-3b56-46ff-ac8f-ca3812a52985",
   "metadata": {},
   "outputs": [],
   "source": [
    "num, den = divmod(9, 4)"
   ]
  },
  {
   "cell_type": "code",
   "execution_count": 425,
   "id": "b80d28b9-aa7e-4f05-90ce-e097fccb437d",
   "metadata": {},
   "outputs": [
    {
     "data": {
      "text/plain": [
       "2"
      ]
     },
     "execution_count": 425,
     "metadata": {},
     "output_type": "execute_result"
    }
   ],
   "source": [
    "num"
   ]
  },
  {
   "cell_type": "code",
   "execution_count": 426,
   "id": "b8a2d945-17c4-4a1e-a6ab-2a94ef86e2cf",
   "metadata": {},
   "outputs": [
    {
     "data": {
      "text/plain": [
       "1"
      ]
     },
     "execution_count": 426,
     "metadata": {},
     "output_type": "execute_result"
    }
   ],
   "source": [
    "den"
   ]
  },
  {
   "cell_type": "code",
   "execution_count": 427,
   "id": "b8238468-c3ee-46ec-8770-bf83fc7cc74e",
   "metadata": {},
   "outputs": [],
   "source": [
    "def weird(num):\n",
    "    return num ** 2, None"
   ]
  },
  {
   "cell_type": "code",
   "execution_count": 428,
   "id": "ce02b73f-87dc-4eba-8126-4d1a3ea7ea01",
   "metadata": {},
   "outputs": [],
   "source": [
    "val1, val2 = weird(5)"
   ]
  },
  {
   "cell_type": "code",
   "execution_count": 429,
   "id": "b0012d73-f133-4bfd-891a-6b8e71b5a898",
   "metadata": {},
   "outputs": [
    {
     "data": {
      "text/plain": [
       "25"
      ]
     },
     "execution_count": 429,
     "metadata": {},
     "output_type": "execute_result"
    }
   ],
   "source": [
    "val1"
   ]
  },
  {
   "cell_type": "code",
   "execution_count": 431,
   "id": "067e5978-8ddf-48d2-a796-6d6a6e31921c",
   "metadata": {},
   "outputs": [],
   "source": [
    "val2"
   ]
  },
  {
   "cell_type": "code",
   "execution_count": 435,
   "id": "9b8f35ae-0d6e-45a1-ad61-3693b570e3c4",
   "metadata": {},
   "outputs": [],
   "source": [
    "def is_pangram(sentence):\n",
    "    \"\"\"Return True if sentence is a pangram.\"\"\"\n",
    "    from string import ascii_lowercase # get lowercase letters\n",
    "    letters = set(ascii_lowercase) # put letters into a set\n",
    "    \n",
    "    for char in sentence.lower(): # for each character in the sentence\n",
    "        letters.discard(char) # discard it from the set (if it's not a letter, no problem)\n",
    "    \n",
    "    return not letters # return True is there are no letters left (i.e., set is empty)"
   ]
  },
  {
   "cell_type": "code",
   "execution_count": 433,
   "id": "9e9fc9fc-2276-4032-bd4d-471c2c4a5b8a",
   "metadata": {},
   "outputs": [
    {
     "data": {
      "text/plain": [
       "True"
      ]
     },
     "execution_count": 433,
     "metadata": {},
     "output_type": "execute_result"
    }
   ],
   "source": [
    "is_pangram('The quick brown fox jumps over the lazy dog!')"
   ]
  },
  {
   "cell_type": "code",
   "execution_count": 434,
   "id": "878c3d60-772d-474f-a266-46aac08bc34f",
   "metadata": {},
   "outputs": [
    {
     "data": {
      "text/plain": [
       "False"
      ]
     },
     "execution_count": 434,
     "metadata": {},
     "output_type": "execute_result"
    }
   ],
   "source": [
    "is_pangram('The quick brown fob jumps over the lazy dog!')"
   ]
  },
  {
   "cell_type": "code",
   "execution_count": 436,
   "id": "8fab6788-99f7-4c36-a13b-33827f506c91",
   "metadata": {},
   "outputs": [],
   "source": [
    "def is_pangram2(sentence):\n",
    "    \"\"\"Return True if sentence is a pangram.\"\"\"\n",
    "    from string import ascii_lowercase # get lowercase letters\n",
    "    \n",
    "    letters = set() # letters seen so far\n",
    "    \n",
    "    for char in sentence.lower(): # for each character in the sentence\n",
    "        if char in ascii_lowercase:\n",
    "            letters.add(char) # discard it from the set (if it's not a letter, no problem)\n",
    "    \n",
    "    return len(letters) == 26 # return True if all letters are in the set"
   ]
  },
  {
   "cell_type": "code",
   "execution_count": 437,
   "id": "5f0458bc-b5fc-4b7c-8b3f-6fe0a95137bc",
   "metadata": {},
   "outputs": [
    {
     "data": {
      "text/plain": [
       "True"
      ]
     },
     "execution_count": 437,
     "metadata": {},
     "output_type": "execute_result"
    }
   ],
   "source": [
    "is_pangram2('The quick brown fox jumps over the lazy dog!')"
   ]
  },
  {
   "cell_type": "code",
   "execution_count": 438,
   "id": "5e345db6-64c6-47c7-a9d5-066a3602a2a1",
   "metadata": {},
   "outputs": [
    {
     "data": {
      "text/plain": [
       "False"
      ]
     },
     "execution_count": 438,
     "metadata": {},
     "output_type": "execute_result"
    }
   ],
   "source": [
    "is_pangram('The quick brown fob jumps over the lazy dog!')"
   ]
  },
  {
   "cell_type": "code",
   "execution_count": 456,
   "id": "04659312-50a6-4c3c-ba53-9872c3579fd6",
   "metadata": {},
   "outputs": [],
   "source": [
    "def kaprekar(number):\n",
    "    \"\"\"Do Kaprekar!\"\"\" # hard to describe in a docstring!\n",
    "    KAPREKAR_CONSTANT = 6174 # use uppercase when creating a \"constant\"\n",
    "    \n",
    "    while number != KAPREKAR_CONSTANT: # will always converge to this value\n",
    "        high_to_low = sorted(list(str(number)), reverse=True)\n",
    "        low_to_high = sorted(list(str(number)))\n",
    "        print(''.join(high_to_low), '-', ''.join(low_to_high), '=', end=' ')\n",
    "        number = int(''.join(high_to_low)) - int(''.join(low_to_high))\n",
    "        print(number)"
   ]
  },
  {
   "cell_type": "code",
   "execution_count": 457,
   "id": "a8f763f8-76f5-4ed2-b9fe-37066cb1e38f",
   "metadata": {},
   "outputs": [
    {
     "name": "stdout",
     "output_type": "stream",
     "text": [
      "8731 - 1378 = 7353\n",
      "7533 - 3357 = 4176\n",
      "7641 - 1467 = 6174\n"
     ]
    }
   ],
   "source": [
    "kaprekar(8371)"
   ]
  },
  {
   "cell_type": "code",
   "execution_count": 446,
   "id": "32400279-80e5-4166-82c1-19d05385f533",
   "metadata": {},
   "outputs": [
    {
     "data": {
      "text/plain": [
       "2"
      ]
     },
     "execution_count": 446,
     "metadata": {},
     "output_type": "execute_result"
    }
   ],
   "source": [
    "global_var"
   ]
  },
  {
   "cell_type": "code",
   "execution_count": 447,
   "id": "ee59c39e-9811-4420-9dbf-b7090afc75ae",
   "metadata": {},
   "outputs": [],
   "source": [
    "import globals"
   ]
  },
  {
   "cell_type": "code",
   "execution_count": 448,
   "id": "8491d785-054b-4302-894a-d059dcb5d6d7",
   "metadata": {},
   "outputs": [
    {
     "data": {
      "text/plain": [
       "['__builtins__',\n",
       " '__cached__',\n",
       " '__doc__',\n",
       " '__file__',\n",
       " '__loader__',\n",
       " '__name__',\n",
       " '__package__',\n",
       " '__spec__',\n",
       " 'blah',\n",
       " 'foo']"
      ]
     },
     "execution_count": 448,
     "metadata": {},
     "output_type": "execute_result"
    }
   ],
   "source": [
    "dir(globals)"
   ]
  },
  {
   "cell_type": "code",
   "execution_count": 449,
   "id": "718723a1-ac21-47a7-a786-36f40b9b90ac",
   "metadata": {},
   "outputs": [
    {
     "data": {
      "text/plain": [
       "'bar'"
      ]
     },
     "execution_count": 449,
     "metadata": {},
     "output_type": "execute_result"
    }
   ],
   "source": [
    "globals.foo"
   ]
  },
  {
   "cell_type": "code",
   "execution_count": 450,
   "id": "8be8d98b-96c9-4dcb-b013-3cfa8fb1f738",
   "metadata": {},
   "outputs": [],
   "source": [
    "def gazornin(): # stub\n",
    "    pass"
   ]
  },
  {
   "cell_type": "code",
   "execution_count": 451,
   "id": "81aa6227-de54-4e69-b935-3c3fb47b8c64",
   "metadata": {},
   "outputs": [],
   "source": [
    "gazornin()"
   ]
  },
  {
   "cell_type": "code",
   "execution_count": 458,
   "id": "4bba772c-f07c-49aa-8602-2c5d8248e1e4",
   "metadata": {},
   "outputs": [
    {
     "data": {
      "text/plain": [
       "'1'"
      ]
     },
     "execution_count": 458,
     "metadata": {},
     "output_type": "execute_result"
    }
   ],
   "source": [
    "str(1)"
   ]
  },
  {
   "cell_type": "code",
   "execution_count": 459,
   "id": "5b4cca18-abf8-4806-9c19-097ce8339265",
   "metadata": {},
   "outputs": [
    {
     "data": {
      "text/plain": [
       "'1.1'"
      ]
     },
     "execution_count": 459,
     "metadata": {},
     "output_type": "execute_result"
    }
   ],
   "source": [
    "str(1.1)"
   ]
  },
  {
   "cell_type": "code",
   "execution_count": 460,
   "id": "091b8cbf-1c09-4a78-a6eb-424adbe3363a",
   "metadata": {},
   "outputs": [
    {
     "data": {
      "text/plain": [
       "'tring'"
      ]
     },
     "execution_count": 460,
     "metadata": {},
     "output_type": "execute_result"
    }
   ],
   "source": [
    "str('tring')"
   ]
  },
  {
   "cell_type": "code",
   "execution_count": 461,
   "id": "4101fddd-092d-448b-9e05-b2d2dcd60596",
   "metadata": {},
   "outputs": [
    {
     "data": {
      "text/plain": [
       "True"
      ]
     },
     "execution_count": 461,
     "metadata": {},
     "output_type": "execute_result"
    }
   ],
   "source": [
    "'Starbucks'.startswith('Star')"
   ]
  },
  {
   "cell_type": "code",
   "execution_count": 462,
   "id": "9282dc92-f302-47a3-8620-26e3202833ae",
   "metadata": {},
   "outputs": [
    {
     "ename": "SyntaxError",
     "evalue": "invalid syntax (3097581006.py, line 1)",
     "output_type": "error",
     "traceback": [
      "\u001b[0;36m  Input \u001b[0;32mIn [462]\u001b[0;36m\u001b[0m\n\u001b[0;31m    123.startswith(1)\u001b[0m\n\u001b[0m        ^\u001b[0m\n\u001b[0;31mSyntaxError\u001b[0m\u001b[0;31m:\u001b[0m invalid syntax\n"
     ]
    }
   ],
   "source": [
    "123.startswith(1)"
   ]
  },
  {
   "cell_type": "code",
   "execution_count": 463,
   "id": "6755e2dd-51ca-47b6-981f-9e19530b2eff",
   "metadata": {},
   "outputs": [
    {
     "data": {
      "text/plain": [
       "True"
      ]
     },
     "execution_count": 463,
     "metadata": {},
     "output_type": "execute_result"
    }
   ],
   "source": [
    "'123'.startswith('1')"
   ]
  },
  {
   "cell_type": "code",
   "execution_count": 464,
   "id": "65a7b6df-972c-4e49-a562-ee28e37cd793",
   "metadata": {},
   "outputs": [],
   "source": [
    "s = 'hi'"
   ]
  },
  {
   "cell_type": "code",
   "execution_count": 465,
   "id": "2b7c4ead-764c-405d-9bf4-6328e92e8497",
   "metadata": {},
   "outputs": [],
   "source": [
    "# how are modules found by Python"
   ]
  },
  {
   "cell_type": "code",
   "execution_count": 466,
   "id": "803cb455-18a3-40d2-8347-7c91ea4ae241",
   "metadata": {},
   "outputs": [
    {
     "data": {
      "text/plain": [
       "['/Users/dave-wadestein/Downloads/Python-Fundamentals-main 2',\n",
       " '/Users/dave-wadestein/opt/anaconda3/lib/python39.zip',\n",
       " '/Users/dave-wadestein/opt/anaconda3/lib/python3.9',\n",
       " '/Users/dave-wadestein/opt/anaconda3/lib/python3.9/lib-dynload',\n",
       " '',\n",
       " '/Users/dave-wadestein/opt/anaconda3/lib/python3.9/site-packages',\n",
       " '/Users/dave-wadestein/opt/anaconda3/lib/python3.9/site-packages/aeosa']"
      ]
     },
     "execution_count": 466,
     "metadata": {},
     "output_type": "execute_result"
    }
   ],
   "source": [
    "import sys\n",
    "sys.path"
   ]
  },
  {
   "cell_type": "code",
   "execution_count": 467,
   "id": "888cd85b-a3f1-4ff6-80f8-2fb94cc2e914",
   "metadata": {},
   "outputs": [
    {
     "ename": "ModuleNotFoundError",
     "evalue": "No module named 'module'",
     "output_type": "error",
     "traceback": [
      "\u001b[0;31m---------------------------------------------------------------------------\u001b[0m",
      "\u001b[0;31mModuleNotFoundError\u001b[0m                       Traceback (most recent call last)",
      "Input \u001b[0;32mIn [467]\u001b[0m, in \u001b[0;36m<cell line: 1>\u001b[0;34m()\u001b[0m\n\u001b[0;32m----> 1\u001b[0m \u001b[38;5;28;01mimport\u001b[39;00m \u001b[38;5;21;01mmodule\u001b[39;00m\n",
      "\u001b[0;31mModuleNotFoundError\u001b[0m: No module named 'module'"
     ]
    }
   ],
   "source": [
    "import module"
   ]
  },
  {
   "cell_type": "code",
   "execution_count": 468,
   "id": "19a3103d-809a-45ac-a5c1-5913f53b8d5d",
   "metadata": {},
   "outputs": [],
   "source": [
    "sys.path.append('/Users/dave-wadestein/Downloads/Starbucks-Python-TDD-main/')"
   ]
  },
  {
   "cell_type": "code",
   "execution_count": 469,
   "id": "4c243559-238a-439b-91da-b0fcbd0c9d3c",
   "metadata": {},
   "outputs": [
    {
     "data": {
      "text/plain": [
       "['/Users/dave-wadestein/Downloads/Python-Fundamentals-main 2',\n",
       " '/Users/dave-wadestein/opt/anaconda3/lib/python39.zip',\n",
       " '/Users/dave-wadestein/opt/anaconda3/lib/python3.9',\n",
       " '/Users/dave-wadestein/opt/anaconda3/lib/python3.9/lib-dynload',\n",
       " '',\n",
       " '/Users/dave-wadestein/opt/anaconda3/lib/python3.9/site-packages',\n",
       " '/Users/dave-wadestein/opt/anaconda3/lib/python3.9/site-packages/aeosa',\n",
       " '/Users/dave-wadestein/Downloads/Starbucks-Python-TDD-main/']"
      ]
     },
     "execution_count": 469,
     "metadata": {},
     "output_type": "execute_result"
    }
   ],
   "source": [
    "sys.path"
   ]
  },
  {
   "cell_type": "code",
   "execution_count": 470,
   "id": "3ebfab54-705e-4c5e-8ceb-595fa638666a",
   "metadata": {},
   "outputs": [],
   "source": [
    "import module"
   ]
  },
  {
   "cell_type": "code",
   "execution_count": 471,
   "id": "76353b5f-aa5d-4f1e-b0dc-d11751d1f2dc",
   "metadata": {},
   "outputs": [
    {
     "data": {
      "text/plain": [
       "'/Users/dave-wadestein/Downloads/Starbucks-Python-TDD-main/module.py'"
      ]
     },
     "execution_count": 471,
     "metadata": {},
     "output_type": "execute_result"
    }
   ],
   "source": [
    "module.__file__"
   ]
  },
  {
   "cell_type": "code",
   "execution_count": 472,
   "id": "b53d0bb6-3600-49aa-b5a9-99f9cf1f9950",
   "metadata": {},
   "outputs": [],
   "source": [
    "sys.path.append('/starbucks-specific-shared-dir')"
   ]
  },
  {
   "cell_type": "code",
   "execution_count": 473,
   "id": "905e2018-4cab-47b4-b0ea-d2cb3486aa92",
   "metadata": {},
   "outputs": [
    {
     "data": {
      "text/plain": [
       "['/Users/dave-wadestein/Downloads/Python-Fundamentals-main 2',\n",
       " '/Users/dave-wadestein/opt/anaconda3/lib/python39.zip',\n",
       " '/Users/dave-wadestein/opt/anaconda3/lib/python3.9',\n",
       " '/Users/dave-wadestein/opt/anaconda3/lib/python3.9/lib-dynload',\n",
       " '',\n",
       " '/Users/dave-wadestein/opt/anaconda3/lib/python3.9/site-packages',\n",
       " '/Users/dave-wadestein/opt/anaconda3/lib/python3.9/site-packages/aeosa',\n",
       " '/Users/dave-wadestein/Downloads/Starbucks-Python-TDD-main/',\n",
       " '/starbucks-specific-shared-dir']"
      ]
     },
     "execution_count": 473,
     "metadata": {},
     "output_type": "execute_result"
    }
   ],
   "source": [
    "sys.path"
   ]
  },
  {
   "cell_type": "code",
   "execution_count": 474,
   "id": "11869faf-3e74-4fc4-8d92-71cb5b204821",
   "metadata": {},
   "outputs": [
    {
     "data": {
      "text/plain": [
       "['__builtins__',\n",
       " '__cached__',\n",
       " '__doc__',\n",
       " '__file__',\n",
       " '__loader__',\n",
       " '__name__',\n",
       " '__package__',\n",
       " '__spec__',\n",
       " 'doubler']"
      ]
     },
     "execution_count": 474,
     "metadata": {},
     "output_type": "execute_result"
    }
   ],
   "source": [
    "dir(module)"
   ]
  },
  {
   "cell_type": "code",
   "execution_count": 476,
   "id": "801b0a0f-cd6c-476c-a211-677b064a31eb",
   "metadata": {},
   "outputs": [
    {
     "name": "stdout",
     "output_type": "stream",
     "text": [
      "Help on function doubler in module module:\n",
      "\n",
      "doubler(x)\n",
      "\n"
     ]
    }
   ],
   "source": [
    "help(module.doubler)"
   ]
  },
  {
   "cell_type": "code",
   "execution_count": 477,
   "id": "c917ed34-42f0-4c5a-88e5-84c627032f7c",
   "metadata": {},
   "outputs": [
    {
     "data": {
      "text/plain": [
       "140436847659824"
      ]
     },
     "execution_count": 477,
     "metadata": {},
     "output_type": "execute_result"
    }
   ],
   "source": [
    "id(module)"
   ]
  },
  {
   "cell_type": "code",
   "execution_count": 478,
   "id": "8aafb677-12e0-4e09-a5f4-2875ccc18318",
   "metadata": {},
   "outputs": [
    {
     "ename": "TypeError",
     "evalue": "doubler() missing 1 required positional argument: 'x'",
     "output_type": "error",
     "traceback": [
      "\u001b[0;31m---------------------------------------------------------------------------\u001b[0m",
      "\u001b[0;31mTypeError\u001b[0m                                 Traceback (most recent call last)",
      "Input \u001b[0;32mIn [478]\u001b[0m, in \u001b[0;36m<cell line: 1>\u001b[0;34m()\u001b[0m\n\u001b[0;32m----> 1\u001b[0m \u001b[43mmodule\u001b[49m\u001b[38;5;241;43m.\u001b[39;49m\u001b[43mdoubler\u001b[49m\u001b[43m(\u001b[49m\u001b[43m)\u001b[49m\n",
      "\u001b[0;31mTypeError\u001b[0m: doubler() missing 1 required positional argument: 'x'"
     ]
    }
   ],
   "source": [
    "module.doubler()"
   ]
  },
  {
   "cell_type": "code",
   "execution_count": null,
   "id": "c96814bb-688e-4ea0-8df6-9a14b92aff79",
   "metadata": {},
   "outputs": [],
   "source": []
  }
 ],
 "metadata": {
  "kernelspec": {
   "display_name": "Python 3 (ipykernel)",
   "language": "python",
   "name": "python3"
  },
  "language_info": {
   "codemirror_mode": {
    "name": "ipython",
    "version": 3
   },
   "file_extension": ".py",
   "mimetype": "text/x-python",
   "name": "python",
   "nbconvert_exporter": "python",
   "pygments_lexer": "ipython3",
   "version": "3.9.12"
  }
 },
 "nbformat": 4,
 "nbformat_minor": 5
}
